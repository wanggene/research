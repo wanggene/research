{
 "cells": [
  {
   "cell_type": "markdown",
   "metadata": {},
   "source": [
    "## Kaggle: PML_03_Medical Appointment"
   ]
  },
  {
   "cell_type": "code",
   "execution_count": 1,
   "metadata": {
    "collapsed": true
   },
   "outputs": [],
   "source": [
    "import numpy as np\n",
    "import pandas as pd\n",
    "import matplotlib.pyplot as plt\n",
    "import seaborn as sns\n",
    "import missingno as msno\n",
    "import re\n",
    "%matplotlib inline"
   ]
  },
  {
   "cell_type": "markdown",
   "metadata": {},
   "source": [
    "*raw data link: https://www.kaggle.com/joniarroba/noshowappointments*"
   ]
  },
  {
   "cell_type": "markdown",
   "metadata": {},
   "source": [
    "## 1. Load data"
   ]
  },
  {
   "cell_type": "markdown",
   "metadata": {},
   "source": [
    "### 1.1 load csv file"
   ]
  },
  {
   "cell_type": "code",
   "execution_count": 2,
   "metadata": {
    "scrolled": false
   },
   "outputs": [
    {
     "data": {
      "text/html": [
       "<div>\n",
       "<style>\n",
       "    .dataframe thead tr:only-child th {\n",
       "        text-align: right;\n",
       "    }\n",
       "\n",
       "    .dataframe thead th {\n",
       "        text-align: left;\n",
       "    }\n",
       "\n",
       "    .dataframe tbody tr th {\n",
       "        vertical-align: top;\n",
       "    }\n",
       "</style>\n",
       "<table border=\"1\" class=\"dataframe\">\n",
       "  <thead>\n",
       "    <tr style=\"text-align: right;\">\n",
       "      <th></th>\n",
       "      <th>Gender</th>\n",
       "      <th>ScheduledDay</th>\n",
       "      <th>AppointmentDay</th>\n",
       "      <th>Age</th>\n",
       "      <th>Neighbourhood</th>\n",
       "      <th>Scholarship</th>\n",
       "      <th>Hipertension</th>\n",
       "      <th>Diabetes</th>\n",
       "      <th>Alcoholism</th>\n",
       "      <th>Handcap</th>\n",
       "      <th>SMS_received</th>\n",
       "      <th>No-show</th>\n",
       "    </tr>\n",
       "    <tr>\n",
       "      <th>AppointmentID</th>\n",
       "      <th></th>\n",
       "      <th></th>\n",
       "      <th></th>\n",
       "      <th></th>\n",
       "      <th></th>\n",
       "      <th></th>\n",
       "      <th></th>\n",
       "      <th></th>\n",
       "      <th></th>\n",
       "      <th></th>\n",
       "      <th></th>\n",
       "      <th></th>\n",
       "    </tr>\n",
       "  </thead>\n",
       "  <tbody>\n",
       "    <tr>\n",
       "      <th>5642903</th>\n",
       "      <td>F</td>\n",
       "      <td>2016-04-29 18:38:08</td>\n",
       "      <td>2016-04-29</td>\n",
       "      <td>62</td>\n",
       "      <td>JARDIM DA PENHA</td>\n",
       "      <td>0</td>\n",
       "      <td>1</td>\n",
       "      <td>0</td>\n",
       "      <td>0</td>\n",
       "      <td>0</td>\n",
       "      <td>0</td>\n",
       "      <td>No</td>\n",
       "    </tr>\n",
       "    <tr>\n",
       "      <th>5642503</th>\n",
       "      <td>M</td>\n",
       "      <td>2016-04-29 16:08:27</td>\n",
       "      <td>2016-04-29</td>\n",
       "      <td>56</td>\n",
       "      <td>JARDIM DA PENHA</td>\n",
       "      <td>0</td>\n",
       "      <td>0</td>\n",
       "      <td>0</td>\n",
       "      <td>0</td>\n",
       "      <td>0</td>\n",
       "      <td>0</td>\n",
       "      <td>No</td>\n",
       "    </tr>\n",
       "    <tr>\n",
       "      <th>5642549</th>\n",
       "      <td>F</td>\n",
       "      <td>2016-04-29 16:19:04</td>\n",
       "      <td>2016-04-29</td>\n",
       "      <td>62</td>\n",
       "      <td>MATA DA PRAIA</td>\n",
       "      <td>0</td>\n",
       "      <td>0</td>\n",
       "      <td>0</td>\n",
       "      <td>0</td>\n",
       "      <td>0</td>\n",
       "      <td>0</td>\n",
       "      <td>No</td>\n",
       "    </tr>\n",
       "    <tr>\n",
       "      <th>5642828</th>\n",
       "      <td>F</td>\n",
       "      <td>2016-04-29 17:29:31</td>\n",
       "      <td>2016-04-29</td>\n",
       "      <td>8</td>\n",
       "      <td>PONTAL DE CAMBURI</td>\n",
       "      <td>0</td>\n",
       "      <td>0</td>\n",
       "      <td>0</td>\n",
       "      <td>0</td>\n",
       "      <td>0</td>\n",
       "      <td>0</td>\n",
       "      <td>No</td>\n",
       "    </tr>\n",
       "    <tr>\n",
       "      <th>5642494</th>\n",
       "      <td>F</td>\n",
       "      <td>2016-04-29 16:07:23</td>\n",
       "      <td>2016-04-29</td>\n",
       "      <td>56</td>\n",
       "      <td>JARDIM DA PENHA</td>\n",
       "      <td>0</td>\n",
       "      <td>1</td>\n",
       "      <td>1</td>\n",
       "      <td>0</td>\n",
       "      <td>0</td>\n",
       "      <td>0</td>\n",
       "      <td>No</td>\n",
       "    </tr>\n",
       "  </tbody>\n",
       "</table>\n",
       "</div>"
      ],
      "text/plain": [
       "              Gender        ScheduledDay AppointmentDay  Age  \\\n",
       "AppointmentID                                                  \n",
       "5642903            F 2016-04-29 18:38:08     2016-04-29   62   \n",
       "5642503            M 2016-04-29 16:08:27     2016-04-29   56   \n",
       "5642549            F 2016-04-29 16:19:04     2016-04-29   62   \n",
       "5642828            F 2016-04-29 17:29:31     2016-04-29    8   \n",
       "5642494            F 2016-04-29 16:07:23     2016-04-29   56   \n",
       "\n",
       "                   Neighbourhood  Scholarship  Hipertension  Diabetes  \\\n",
       "AppointmentID                                                           \n",
       "5642903          JARDIM DA PENHA            0             1         0   \n",
       "5642503          JARDIM DA PENHA            0             0         0   \n",
       "5642549            MATA DA PRAIA            0             0         0   \n",
       "5642828        PONTAL DE CAMBURI            0             0         0   \n",
       "5642494          JARDIM DA PENHA            0             1         1   \n",
       "\n",
       "               Alcoholism  Handcap  SMS_received No-show  \n",
       "AppointmentID                                             \n",
       "5642903                 0        0             0      No  \n",
       "5642503                 0        0             0      No  \n",
       "5642549                 0        0             0      No  \n",
       "5642828                 0        0             0      No  \n",
       "5642494                 0        0             0      No  "
      ]
     },
     "execution_count": 2,
     "metadata": {},
     "output_type": "execute_result"
    }
   ],
   "source": [
    "appoint = pd.read_csv(\"./data/KaggleV2-May-2016.csv\", parse_dates = ['ScheduledDay','AppointmentDay'], \\\n",
    "                  index_col='AppointmentID',  infer_datetime_format=True)\n",
    "\n",
    "# drop PatientId \n",
    "appoint.drop('PatientId', axis=1, inplace=True)\n",
    "appoint.head()"
   ]
  },
  {
   "cell_type": "code",
   "execution_count": 3,
   "metadata": {},
   "outputs": [
    {
     "data": {
      "text/plain": [
       "(110527, 12)"
      ]
     },
     "execution_count": 3,
     "metadata": {},
     "output_type": "execute_result"
    }
   ],
   "source": [
    "appoint.shape"
   ]
  },
  {
   "cell_type": "markdown",
   "metadata": {},
   "source": [
    "### 1.2 Discriptive Statistics"
   ]
  },
  {
   "cell_type": "markdown",
   "metadata": {},
   "source": [
    "#### 1.2.1 Overall of dataset"
   ]
  },
  {
   "cell_type": "code",
   "execution_count": 4,
   "metadata": {
    "scrolled": false
   },
   "outputs": [
    {
     "name": "stdout",
     "output_type": "stream",
     "text": [
      "<class 'pandas.core.frame.DataFrame'>\n",
      "Int64Index: 110527 entries, 5642903 to 5629448\n",
      "Data columns (total 12 columns):\n",
      "Gender            110527 non-null object\n",
      "ScheduledDay      110527 non-null datetime64[ns]\n",
      "AppointmentDay    110527 non-null datetime64[ns]\n",
      "Age               110527 non-null int64\n",
      "Neighbourhood     110527 non-null object\n",
      "Scholarship       110527 non-null int64\n",
      "Hipertension      110527 non-null int64\n",
      "Diabetes          110527 non-null int64\n",
      "Alcoholism        110527 non-null int64\n",
      "Handcap           110527 non-null int64\n",
      "SMS_received      110527 non-null int64\n",
      "No-show           110527 non-null object\n",
      "dtypes: datetime64[ns](2), int64(7), object(3)\n",
      "memory usage: 11.0+ MB\n"
     ]
    }
   ],
   "source": [
    "appoint.info()"
   ]
  },
  {
   "cell_type": "code",
   "execution_count": 5,
   "metadata": {},
   "outputs": [
    {
     "name": "stdout",
     "output_type": "stream",
     "text": [
      "Age Scholarship Hipertension Diabetes Alcoholism Handcap SMS_received \n",
      " Gender Neighbourhood No-show \n",
      " ScheduledDay AppointmentDay\n"
     ]
    }
   ],
   "source": [
    "num_lst = appoint.columns[appoint.dtypes == 'int64']\n",
    "cat_lst = appoint.columns[appoint.dtypes == 'object']\n",
    "dat_lst = appoint.columns[appoint.dtypes == 'datetime64[ns]']\n",
    "print(*num_lst, '\\n', *cat_lst, '\\n', *dat_lst)"
   ]
  },
  {
   "cell_type": "markdown",
   "metadata": {},
   "source": [
    "#### 1.2.2 check missing values\n",
    "*These is no missing values in the dataset*"
   ]
  },
  {
   "cell_type": "code",
   "execution_count": 6,
   "metadata": {
    "scrolled": true
   },
   "outputs": [
    {
     "data": {
      "text/plain": [
       "Gender            1.0\n",
       "ScheduledDay      1.0\n",
       "AppointmentDay    1.0\n",
       "Age               1.0\n",
       "Neighbourhood     1.0\n",
       "Scholarship       1.0\n",
       "Hipertension      1.0\n",
       "Diabetes          1.0\n",
       "Alcoholism        1.0\n",
       "Handcap           1.0\n",
       "SMS_received      1.0\n",
       "No-show           1.0\n",
       "dtype: float64"
      ]
     },
     "execution_count": 6,
     "metadata": {},
     "output_type": "execute_result"
    }
   ],
   "source": [
    "appoint.count().sort_values() / appoint.shape[0] "
   ]
  },
  {
   "cell_type": "code",
   "execution_count": null,
   "metadata": {
    "collapsed": true
   },
   "outputs": [],
   "source": []
  },
  {
   "cell_type": "markdown",
   "metadata": {},
   "source": [
    "## 2. EDA"
   ]
  },
  {
   "cell_type": "markdown",
   "metadata": {},
   "source": [
    "#### 2.1 check numeric columns"
   ]
  },
  {
   "cell_type": "code",
   "execution_count": 7,
   "metadata": {},
   "outputs": [
    {
     "data": {
      "text/html": [
       "<div>\n",
       "<style>\n",
       "    .dataframe thead tr:only-child th {\n",
       "        text-align: right;\n",
       "    }\n",
       "\n",
       "    .dataframe thead th {\n",
       "        text-align: left;\n",
       "    }\n",
       "\n",
       "    .dataframe tbody tr th {\n",
       "        vertical-align: top;\n",
       "    }\n",
       "</style>\n",
       "<table border=\"1\" class=\"dataframe\">\n",
       "  <thead>\n",
       "    <tr style=\"text-align: right;\">\n",
       "      <th></th>\n",
       "      <th>Age</th>\n",
       "      <th>Scholarship</th>\n",
       "      <th>Hipertension</th>\n",
       "      <th>Diabetes</th>\n",
       "      <th>Alcoholism</th>\n",
       "      <th>Handcap</th>\n",
       "      <th>SMS_received</th>\n",
       "    </tr>\n",
       "  </thead>\n",
       "  <tbody>\n",
       "    <tr>\n",
       "      <th>count</th>\n",
       "      <td>110527.000000</td>\n",
       "      <td>110527.000000</td>\n",
       "      <td>110527.000000</td>\n",
       "      <td>110527.000000</td>\n",
       "      <td>110527.000000</td>\n",
       "      <td>110527.000000</td>\n",
       "      <td>110527.000000</td>\n",
       "    </tr>\n",
       "    <tr>\n",
       "      <th>mean</th>\n",
       "      <td>37.088874</td>\n",
       "      <td>0.098266</td>\n",
       "      <td>0.197246</td>\n",
       "      <td>0.071865</td>\n",
       "      <td>0.030400</td>\n",
       "      <td>0.022248</td>\n",
       "      <td>0.321026</td>\n",
       "    </tr>\n",
       "    <tr>\n",
       "      <th>std</th>\n",
       "      <td>23.110205</td>\n",
       "      <td>0.297675</td>\n",
       "      <td>0.397921</td>\n",
       "      <td>0.258265</td>\n",
       "      <td>0.171686</td>\n",
       "      <td>0.161543</td>\n",
       "      <td>0.466873</td>\n",
       "    </tr>\n",
       "    <tr>\n",
       "      <th>min</th>\n",
       "      <td>-1.000000</td>\n",
       "      <td>0.000000</td>\n",
       "      <td>0.000000</td>\n",
       "      <td>0.000000</td>\n",
       "      <td>0.000000</td>\n",
       "      <td>0.000000</td>\n",
       "      <td>0.000000</td>\n",
       "    </tr>\n",
       "    <tr>\n",
       "      <th>25%</th>\n",
       "      <td>18.000000</td>\n",
       "      <td>0.000000</td>\n",
       "      <td>0.000000</td>\n",
       "      <td>0.000000</td>\n",
       "      <td>0.000000</td>\n",
       "      <td>0.000000</td>\n",
       "      <td>0.000000</td>\n",
       "    </tr>\n",
       "    <tr>\n",
       "      <th>50%</th>\n",
       "      <td>37.000000</td>\n",
       "      <td>0.000000</td>\n",
       "      <td>0.000000</td>\n",
       "      <td>0.000000</td>\n",
       "      <td>0.000000</td>\n",
       "      <td>0.000000</td>\n",
       "      <td>0.000000</td>\n",
       "    </tr>\n",
       "    <tr>\n",
       "      <th>75%</th>\n",
       "      <td>55.000000</td>\n",
       "      <td>0.000000</td>\n",
       "      <td>0.000000</td>\n",
       "      <td>0.000000</td>\n",
       "      <td>0.000000</td>\n",
       "      <td>0.000000</td>\n",
       "      <td>1.000000</td>\n",
       "    </tr>\n",
       "    <tr>\n",
       "      <th>max</th>\n",
       "      <td>115.000000</td>\n",
       "      <td>1.000000</td>\n",
       "      <td>1.000000</td>\n",
       "      <td>1.000000</td>\n",
       "      <td>1.000000</td>\n",
       "      <td>4.000000</td>\n",
       "      <td>1.000000</td>\n",
       "    </tr>\n",
       "  </tbody>\n",
       "</table>\n",
       "</div>"
      ],
      "text/plain": [
       "                 Age    Scholarship   Hipertension       Diabetes  \\\n",
       "count  110527.000000  110527.000000  110527.000000  110527.000000   \n",
       "mean       37.088874       0.098266       0.197246       0.071865   \n",
       "std        23.110205       0.297675       0.397921       0.258265   \n",
       "min        -1.000000       0.000000       0.000000       0.000000   \n",
       "25%        18.000000       0.000000       0.000000       0.000000   \n",
       "50%        37.000000       0.000000       0.000000       0.000000   \n",
       "75%        55.000000       0.000000       0.000000       0.000000   \n",
       "max       115.000000       1.000000       1.000000       1.000000   \n",
       "\n",
       "          Alcoholism        Handcap   SMS_received  \n",
       "count  110527.000000  110527.000000  110527.000000  \n",
       "mean        0.030400       0.022248       0.321026  \n",
       "std         0.171686       0.161543       0.466873  \n",
       "min         0.000000       0.000000       0.000000  \n",
       "25%         0.000000       0.000000       0.000000  \n",
       "50%         0.000000       0.000000       0.000000  \n",
       "75%         0.000000       0.000000       1.000000  \n",
       "max         1.000000       4.000000       1.000000  "
      ]
     },
     "execution_count": 7,
     "metadata": {},
     "output_type": "execute_result"
    }
   ],
   "source": [
    "appoint.describe()"
   ]
  },
  {
   "cell_type": "code",
   "execution_count": 28,
   "metadata": {
    "scrolled": false
   },
   "outputs": [
    {
     "data": {
      "text/plain": [
       "array([[<matplotlib.axes._subplots.AxesSubplot object at 0x11745b2e8>,\n",
       "        <matplotlib.axes._subplots.AxesSubplot object at 0x113b2c8d0>,\n",
       "        <matplotlib.axes._subplots.AxesSubplot object at 0x1174cbba8>],\n",
       "       [<matplotlib.axes._subplots.AxesSubplot object at 0x1195bb9e8>,\n",
       "        <matplotlib.axes._subplots.AxesSubplot object at 0x1195669e8>,\n",
       "        <matplotlib.axes._subplots.AxesSubplot object at 0x119566b00>],\n",
       "       [<matplotlib.axes._subplots.AxesSubplot object at 0x11962a898>,\n",
       "        <matplotlib.axes._subplots.AxesSubplot object at 0x119742f28>,\n",
       "        <matplotlib.axes._subplots.AxesSubplot object at 0x119797a20>],\n",
       "       [<matplotlib.axes._subplots.AxesSubplot object at 0x1198117b8>,\n",
       "        <matplotlib.axes._subplots.AxesSubplot object at 0x1198760b8>,\n",
       "        <matplotlib.axes._subplots.AxesSubplot object at 0x1198f0390>]], dtype=object)"
      ]
     },
     "execution_count": 28,
     "metadata": {},
     "output_type": "execute_result"
    },
    {
     "data": {
      "image/png": "[encoded data removed]",
      "text/plain": [
       "<matplotlib.figure.Figure at 0x11389a320>"
      ]
     },
     "metadata": {},
     "output_type": "display_data"
    }
   ],
   "source": [
    "appoint.hist(bins = 40, figsize =(20,15))"
   ]
  },
  {
   "cell_type": "markdown",
   "metadata": {},
   "source": [
    "*seems many variables are binary, so need stritified samples splitting*"
   ]
  },
  {
   "cell_type": "code",
   "execution_count": null,
   "metadata": {
    "collapsed": true
   },
   "outputs": [],
   "source": []
  },
  {
   "cell_type": "markdown",
   "metadata": {},
   "source": [
    "#### 2.2 check categorical variables"
   ]
  },
  {
   "cell_type": "code",
   "execution_count": 9,
   "metadata": {},
   "outputs": [
    {
     "data": {
      "text/plain": [
       "0    108286\n",
       "1      2042\n",
       "2       183\n",
       "3        13\n",
       "4         3\n",
       "Name: Handcap, dtype: int64"
      ]
     },
     "execution_count": 9,
     "metadata": {},
     "output_type": "execute_result"
    }
   ],
   "source": [
    "# 1. binary handcap \n",
    "appoint.Handcap.value_counts()"
   ]
  },
  {
   "cell_type": "code",
   "execution_count": 20,
   "metadata": {
    "collapsed": true
   },
   "outputs": [],
   "source": [
    "# add new col Handcap_bin, 1 has handcap, 0 has no handcap.\n",
    "appoint.loc[appoint.Handcap == 0, 'Handcap_bin'] = 0\n",
    "appoint.loc[appoint.Handcap != 0, 'Handcap_bin'] = 1\n",
    "appoint.Handcap_bin.value_counts()\n",
    "appoint.Handcap_bin = appoint.Handcap_bin.astype(int)"
   ]
  },
  {
   "cell_type": "code",
   "execution_count": 25,
   "metadata": {
    "scrolled": true
   },
   "outputs": [
    {
     "name": "stdout",
     "output_type": "stream",
     "text": [
      "F    0.649977\n",
      "M    0.350023\n",
      "Name: Gender, dtype: float64\n",
      "No     0.798067\n",
      "Yes    0.201933\n",
      "Name: No-show, dtype: float64\n"
     ]
    }
   ],
   "source": [
    "# 2. Gender & no-show\n",
    "print(appoint.Gender.value_counts()/len(appoint))\n",
    "print(appoint['No-show'].value_counts()/len(appoint))"
   ]
  },
  {
   "cell_type": "code",
   "execution_count": 16,
   "metadata": {},
   "outputs": [
    {
     "name": "stdout",
     "output_type": "stream",
     "text": [
      "0    71840\n",
      "1    38687\n",
      "Name: gender_bin, dtype: int64\n",
      "0    88208\n",
      "1    22319\n",
      "Name: no_show_bin, dtype: int64\n"
     ]
    }
   ],
   "source": [
    "# 3. binary of gender and no-show\n",
    "from sklearn.preprocessing import LabelBinarizer\n",
    "lb = LabelBinarizer()\n",
    "appoint['gender_bin'] = lb.fit_transform(appoint.Gender)\n",
    "appoint['no_show_bin'] = lb.fit_transform(appoint['No-show'])\n",
    "\n",
    "print(appoint.gender_bin.value_counts())\n",
    "print(appoint.no_show_bin.value_counts())"
   ]
  },
  {
   "cell_type": "code",
   "execution_count": 21,
   "metadata": {},
   "outputs": [
    {
     "data": {
      "text/html": [
       "<div>\n",
       "<style>\n",
       "    .dataframe thead tr:only-child th {\n",
       "        text-align: right;\n",
       "    }\n",
       "\n",
       "    .dataframe thead th {\n",
       "        text-align: left;\n",
       "    }\n",
       "\n",
       "    .dataframe tbody tr th {\n",
       "        vertical-align: top;\n",
       "    }\n",
       "</style>\n",
       "<table border=\"1\" class=\"dataframe\">\n",
       "  <thead>\n",
       "    <tr style=\"text-align: right;\">\n",
       "      <th></th>\n",
       "      <th>Gender</th>\n",
       "      <th>ScheduledDay</th>\n",
       "      <th>AppointmentDay</th>\n",
       "      <th>Age</th>\n",
       "      <th>Neighbourhood</th>\n",
       "      <th>Scholarship</th>\n",
       "      <th>Hipertension</th>\n",
       "      <th>Diabetes</th>\n",
       "      <th>Alcoholism</th>\n",
       "      <th>Handcap</th>\n",
       "      <th>SMS_received</th>\n",
       "      <th>No-show</th>\n",
       "      <th>Handcap_bin</th>\n",
       "      <th>no_show_bin</th>\n",
       "      <th>gender_bin</th>\n",
       "    </tr>\n",
       "    <tr>\n",
       "      <th>AppointmentID</th>\n",
       "      <th></th>\n",
       "      <th></th>\n",
       "      <th></th>\n",
       "      <th></th>\n",
       "      <th></th>\n",
       "      <th></th>\n",
       "      <th></th>\n",
       "      <th></th>\n",
       "      <th></th>\n",
       "      <th></th>\n",
       "      <th></th>\n",
       "      <th></th>\n",
       "      <th></th>\n",
       "      <th></th>\n",
       "      <th></th>\n",
       "    </tr>\n",
       "  </thead>\n",
       "  <tbody>\n",
       "    <tr>\n",
       "      <th>5642903</th>\n",
       "      <td>F</td>\n",
       "      <td>2016-04-29 18:38:08</td>\n",
       "      <td>2016-04-29</td>\n",
       "      <td>62</td>\n",
       "      <td>JARDIM DA PENHA</td>\n",
       "      <td>0</td>\n",
       "      <td>1</td>\n",
       "      <td>0</td>\n",
       "      <td>0</td>\n",
       "      <td>0</td>\n",
       "      <td>0</td>\n",
       "      <td>No</td>\n",
       "      <td>0</td>\n",
       "      <td>0</td>\n",
       "      <td>0</td>\n",
       "    </tr>\n",
       "    <tr>\n",
       "      <th>5642503</th>\n",
       "      <td>M</td>\n",
       "      <td>2016-04-29 16:08:27</td>\n",
       "      <td>2016-04-29</td>\n",
       "      <td>56</td>\n",
       "      <td>JARDIM DA PENHA</td>\n",
       "      <td>0</td>\n",
       "      <td>0</td>\n",
       "      <td>0</td>\n",
       "      <td>0</td>\n",
       "      <td>0</td>\n",
       "      <td>0</td>\n",
       "      <td>No</td>\n",
       "      <td>0</td>\n",
       "      <td>0</td>\n",
       "      <td>1</td>\n",
       "    </tr>\n",
       "    <tr>\n",
       "      <th>5642549</th>\n",
       "      <td>F</td>\n",
       "      <td>2016-04-29 16:19:04</td>\n",
       "      <td>2016-04-29</td>\n",
       "      <td>62</td>\n",
       "      <td>MATA DA PRAIA</td>\n",
       "      <td>0</td>\n",
       "      <td>0</td>\n",
       "      <td>0</td>\n",
       "      <td>0</td>\n",
       "      <td>0</td>\n",
       "      <td>0</td>\n",
       "      <td>No</td>\n",
       "      <td>0</td>\n",
       "      <td>0</td>\n",
       "      <td>0</td>\n",
       "    </tr>\n",
       "    <tr>\n",
       "      <th>5642828</th>\n",
       "      <td>F</td>\n",
       "      <td>2016-04-29 17:29:31</td>\n",
       "      <td>2016-04-29</td>\n",
       "      <td>8</td>\n",
       "      <td>PONTAL DE CAMBURI</td>\n",
       "      <td>0</td>\n",
       "      <td>0</td>\n",
       "      <td>0</td>\n",
       "      <td>0</td>\n",
       "      <td>0</td>\n",
       "      <td>0</td>\n",
       "      <td>No</td>\n",
       "      <td>0</td>\n",
       "      <td>0</td>\n",
       "      <td>0</td>\n",
       "    </tr>\n",
       "    <tr>\n",
       "      <th>5642494</th>\n",
       "      <td>F</td>\n",
       "      <td>2016-04-29 16:07:23</td>\n",
       "      <td>2016-04-29</td>\n",
       "      <td>56</td>\n",
       "      <td>JARDIM DA PENHA</td>\n",
       "      <td>0</td>\n",
       "      <td>1</td>\n",
       "      <td>1</td>\n",
       "      <td>0</td>\n",
       "      <td>0</td>\n",
       "      <td>0</td>\n",
       "      <td>No</td>\n",
       "      <td>0</td>\n",
       "      <td>0</td>\n",
       "      <td>0</td>\n",
       "    </tr>\n",
       "  </tbody>\n",
       "</table>\n",
       "</div>"
      ],
      "text/plain": [
       "              Gender        ScheduledDay AppointmentDay  Age  \\\n",
       "AppointmentID                                                  \n",
       "5642903            F 2016-04-29 18:38:08     2016-04-29   62   \n",
       "5642503            M 2016-04-29 16:08:27     2016-04-29   56   \n",
       "5642549            F 2016-04-29 16:19:04     2016-04-29   62   \n",
       "5642828            F 2016-04-29 17:29:31     2016-04-29    8   \n",
       "5642494            F 2016-04-29 16:07:23     2016-04-29   56   \n",
       "\n",
       "                   Neighbourhood  Scholarship  Hipertension  Diabetes  \\\n",
       "AppointmentID                                                           \n",
       "5642903          JARDIM DA PENHA            0             1         0   \n",
       "5642503          JARDIM DA PENHA            0             0         0   \n",
       "5642549            MATA DA PRAIA            0             0         0   \n",
       "5642828        PONTAL DE CAMBURI            0             0         0   \n",
       "5642494          JARDIM DA PENHA            0             1         1   \n",
       "\n",
       "               Alcoholism  Handcap  SMS_received No-show  Handcap_bin  \\\n",
       "AppointmentID                                                           \n",
       "5642903                 0        0             0      No            0   \n",
       "5642503                 0        0             0      No            0   \n",
       "5642549                 0        0             0      No            0   \n",
       "5642828                 0        0             0      No            0   \n",
       "5642494                 0        0             0      No            0   \n",
       "\n",
       "               no_show_bin  gender_bin  \n",
       "AppointmentID                           \n",
       "5642903                  0           0  \n",
       "5642503                  0           1  \n",
       "5642549                  0           0  \n",
       "5642828                  0           0  \n",
       "5642494                  0           0  "
      ]
     },
     "execution_count": 21,
     "metadata": {},
     "output_type": "execute_result"
    }
   ],
   "source": [
    "appoint.head()"
   ]
  },
  {
   "cell_type": "code",
   "execution_count": 27,
   "metadata": {
    "scrolled": false
   },
   "outputs": [
    {
     "name": "stdout",
     "output_type": "stream",
     "text": [
      "(81,)\n",
      "JARDIM CAMBURI     7717\n",
      "MARIA ORTIZ        5805\n",
      "RESISTÊNCIA        4431\n",
      "JARDIM DA PENHA    3877\n",
      "ITARARÉ            3514\n",
      "Name: Neighbourhood, dtype: int64\n"
     ]
    }
   ],
   "source": [
    "# 4. Neighboourhood\n",
    "neigh = appoint.Neighbourhood.value_counts()\n",
    "print(neigh.shape)\n",
    "print(neigh.head())"
   ]
  },
  {
   "cell_type": "code",
   "execution_count": 350,
   "metadata": {},
   "outputs": [
    {
     "name": "stdout",
     "output_type": "stream",
     "text": [
      "0    0.678974\n",
      "1    0.321026\n",
      "Name: SMS_received, dtype: float64\n"
     ]
    }
   ],
   "source": [
    "print(appoint.SMS_received.value_counts()/len(appoint))"
   ]
  },
  {
   "cell_type": "code",
   "execution_count": null,
   "metadata": {
    "collapsed": true
   },
   "outputs": [],
   "source": []
  },
  {
   "cell_type": "markdown",
   "metadata": {
    "collapsed": true
   },
   "source": [
    "#### 2.3 check the correlations"
   ]
  },
  {
   "cell_type": "code",
   "execution_count": 39,
   "metadata": {},
   "outputs": [
    {
     "data": {
      "text/html": [
       "<div>\n",
       "<style>\n",
       "    .dataframe thead tr:only-child th {\n",
       "        text-align: right;\n",
       "    }\n",
       "\n",
       "    .dataframe thead th {\n",
       "        text-align: left;\n",
       "    }\n",
       "\n",
       "    .dataframe tbody tr th {\n",
       "        vertical-align: top;\n",
       "    }\n",
       "</style>\n",
       "<table border=\"1\" class=\"dataframe\">\n",
       "  <thead>\n",
       "    <tr style=\"text-align: right;\">\n",
       "      <th></th>\n",
       "      <th>no_show_bin</th>\n",
       "      <th>Age</th>\n",
       "      <th>Scholarship</th>\n",
       "      <th>Hipertension</th>\n",
       "      <th>Diabetes</th>\n",
       "      <th>Alcoholism</th>\n",
       "      <th>SMS_received</th>\n",
       "      <th>Handcap_bin</th>\n",
       "      <th>gender_bin</th>\n",
       "    </tr>\n",
       "  </thead>\n",
       "  <tbody>\n",
       "    <tr>\n",
       "      <th>no_show_bin</th>\n",
       "      <td>1.000000</td>\n",
       "      <td>-0.060319</td>\n",
       "      <td>0.029135</td>\n",
       "      <td>-0.035701</td>\n",
       "      <td>-0.015180</td>\n",
       "      <td>-0.000196</td>\n",
       "      <td>0.126431</td>\n",
       "      <td>-0.007281</td>\n",
       "      <td>-0.004119</td>\n",
       "    </tr>\n",
       "    <tr>\n",
       "      <th>Age</th>\n",
       "      <td>-0.060319</td>\n",
       "      <td>1.000000</td>\n",
       "      <td>-0.092457</td>\n",
       "      <td>0.504586</td>\n",
       "      <td>0.292391</td>\n",
       "      <td>0.095811</td>\n",
       "      <td>0.012643</td>\n",
       "      <td>0.083743</td>\n",
       "      <td>-0.106440</td>\n",
       "    </tr>\n",
       "    <tr>\n",
       "      <th>Scholarship</th>\n",
       "      <td>0.029135</td>\n",
       "      <td>-0.092457</td>\n",
       "      <td>1.000000</td>\n",
       "      <td>-0.019729</td>\n",
       "      <td>-0.024894</td>\n",
       "      <td>0.035022</td>\n",
       "      <td>0.001194</td>\n",
       "      <td>-0.009103</td>\n",
       "      <td>-0.114293</td>\n",
       "    </tr>\n",
       "    <tr>\n",
       "      <th>Hipertension</th>\n",
       "      <td>-0.035701</td>\n",
       "      <td>0.504586</td>\n",
       "      <td>-0.019729</td>\n",
       "      <td>1.000000</td>\n",
       "      <td>0.433086</td>\n",
       "      <td>0.087971</td>\n",
       "      <td>-0.006267</td>\n",
       "      <td>0.084852</td>\n",
       "      <td>-0.055718</td>\n",
       "    </tr>\n",
       "    <tr>\n",
       "      <th>Diabetes</th>\n",
       "      <td>-0.015180</td>\n",
       "      <td>0.292391</td>\n",
       "      <td>-0.024894</td>\n",
       "      <td>0.433086</td>\n",
       "      <td>1.000000</td>\n",
       "      <td>0.018474</td>\n",
       "      <td>-0.014550</td>\n",
       "      <td>0.059145</td>\n",
       "      <td>-0.032554</td>\n",
       "    </tr>\n",
       "    <tr>\n",
       "      <th>Alcoholism</th>\n",
       "      <td>-0.000196</td>\n",
       "      <td>0.095811</td>\n",
       "      <td>0.035022</td>\n",
       "      <td>0.087971</td>\n",
       "      <td>0.018474</td>\n",
       "      <td>1.000000</td>\n",
       "      <td>-0.026147</td>\n",
       "      <td>0.003692</td>\n",
       "      <td>0.106167</td>\n",
       "    </tr>\n",
       "    <tr>\n",
       "      <th>SMS_received</th>\n",
       "      <td>0.126431</td>\n",
       "      <td>0.012643</td>\n",
       "      <td>0.001194</td>\n",
       "      <td>-0.006267</td>\n",
       "      <td>-0.014550</td>\n",
       "      <td>-0.026147</td>\n",
       "      <td>1.000000</td>\n",
       "      <td>-0.025220</td>\n",
       "      <td>-0.046298</td>\n",
       "    </tr>\n",
       "    <tr>\n",
       "      <th>Handcap_bin</th>\n",
       "      <td>-0.007281</td>\n",
       "      <td>0.083743</td>\n",
       "      <td>-0.009103</td>\n",
       "      <td>0.084852</td>\n",
       "      <td>0.059145</td>\n",
       "      <td>0.003692</td>\n",
       "      <td>-0.025220</td>\n",
       "      <td>1.000000</td>\n",
       "      <td>0.022422</td>\n",
       "    </tr>\n",
       "    <tr>\n",
       "      <th>gender_bin</th>\n",
       "      <td>-0.004119</td>\n",
       "      <td>-0.106440</td>\n",
       "      <td>-0.114293</td>\n",
       "      <td>-0.055718</td>\n",
       "      <td>-0.032554</td>\n",
       "      <td>0.106167</td>\n",
       "      <td>-0.046298</td>\n",
       "      <td>0.022422</td>\n",
       "      <td>1.000000</td>\n",
       "    </tr>\n",
       "  </tbody>\n",
       "</table>\n",
       "</div>"
      ],
      "text/plain": [
       "              no_show_bin       Age  Scholarship  Hipertension  Diabetes  \\\n",
       "no_show_bin      1.000000 -0.060319     0.029135     -0.035701 -0.015180   \n",
       "Age             -0.060319  1.000000    -0.092457      0.504586  0.292391   \n",
       "Scholarship      0.029135 -0.092457     1.000000     -0.019729 -0.024894   \n",
       "Hipertension    -0.035701  0.504586    -0.019729      1.000000  0.433086   \n",
       "Diabetes        -0.015180  0.292391    -0.024894      0.433086  1.000000   \n",
       "Alcoholism      -0.000196  0.095811     0.035022      0.087971  0.018474   \n",
       "SMS_received     0.126431  0.012643     0.001194     -0.006267 -0.014550   \n",
       "Handcap_bin     -0.007281  0.083743    -0.009103      0.084852  0.059145   \n",
       "gender_bin      -0.004119 -0.106440    -0.114293     -0.055718 -0.032554   \n",
       "\n",
       "              Alcoholism  SMS_received  Handcap_bin  gender_bin  \n",
       "no_show_bin    -0.000196      0.126431    -0.007281   -0.004119  \n",
       "Age             0.095811      0.012643     0.083743   -0.106440  \n",
       "Scholarship     0.035022      0.001194    -0.009103   -0.114293  \n",
       "Hipertension    0.087971     -0.006267     0.084852   -0.055718  \n",
       "Diabetes        0.018474     -0.014550     0.059145   -0.032554  \n",
       "Alcoholism      1.000000     -0.026147     0.003692    0.106167  \n",
       "SMS_received   -0.026147      1.000000    -0.025220   -0.046298  \n",
       "Handcap_bin     0.003692     -0.025220     1.000000    0.022422  \n",
       "gender_bin      0.106167     -0.046298     0.022422    1.000000  "
      ]
     },
     "execution_count": 39,
     "metadata": {},
     "output_type": "execute_result"
    }
   ],
   "source": [
    "feature_cor = [13, 0,3,5,6,7,8,10,12,14]\n",
    "appoint_cor = appoint.ix[:, feature_cor]\n",
    "appoint_cor.corr()"
   ]
  },
  {
   "cell_type": "code",
   "execution_count": 49,
   "metadata": {},
   "outputs": [
    {
     "data": {
      "text/plain": [
       "<matplotlib.axes._subplots.AxesSubplot at 0x12dd9c518>"
      ]
     },
     "execution_count": 49,
     "metadata": {},
     "output_type": "execute_result"
    },
    {
     "data": {
      "image/png": "[encoded data removed]",
      "text/plain": [
       "<matplotlib.figure.Figure at 0x12ddc6f28>"
      ]
     },
     "metadata": {},
     "output_type": "display_data"
    }
   ],
   "source": [
    "appoint.corr().no_show_bin.sort_values(ascending=False)[1:].plot(kind='bar')"
   ]
  },
  {
   "cell_type": "markdown",
   "metadata": {},
   "source": [
    "*SMS_received has high positive correlation with no_show, while age has negative correlation*"
   ]
  },
  {
   "cell_type": "code",
   "execution_count": 8,
   "metadata": {},
   "outputs": [
    {
     "data": {
      "text/plain": [
       "Index(['Gender', 'ScheduledDay', 'AppointmentDay', 'Age', 'Neighbourhood',\n",
       "       'Scholarship', 'Hipertension', 'Diabetes', 'Alcoholism', 'Handcap',\n",
       "       'SMS_received', 'No-show', 'Handcap_bin', 'gender_bin', 'no_show_bin',\n",
       "       'dt_year', 'dt_month', 'dt_day', 'dt_week', 'dt_weekday', 'day_diff'],\n",
       "      dtype='object')"
      ]
     },
     "execution_count": 8,
     "metadata": {},
     "output_type": "execute_result"
    }
   ],
   "source": [
    "appoint.columns"
   ]
  },
  {
   "cell_type": "markdown",
   "metadata": {},
   "source": [
    "##### visualization regarding the age and no_show"
   ]
  },
  {
   "cell_type": "code",
   "execution_count": 40,
   "metadata": {
    "scrolled": false
   },
   "outputs": [
    {
     "data": {
      "text/plain": [
       "<matplotlib.axes._subplots.AxesSubplot at 0x121350ac8>"
      ]
     },
     "execution_count": 40,
     "metadata": {},
     "output_type": "execute_result"
    },
    {
     "data": {
      "image/png": "[encoded data removed]",
      "text/plain": [
       "<matplotlib.figure.Figure at 0x121534128>"
      ]
     },
     "metadata": {},
     "output_type": "display_data"
    }
   ],
   "source": [
    "#sns.kdeplot(appoint.Age, shade=True)\n",
    "sns.distplot(appoint.Age)"
   ]
  },
  {
   "cell_type": "code",
   "execution_count": 45,
   "metadata": {
    "scrolled": true
   },
   "outputs": [
    {
     "data": {
      "text/plain": [
       "<matplotlib.axes._subplots.AxesSubplot at 0x1219b5080>"
      ]
     },
     "execution_count": 45,
     "metadata": {},
     "output_type": "execute_result"
    },
    {
     "data": {
      "image/png": "[encoded data removed]",
      "text/plain": [
       "<matplotlib.figure.Figure at 0x1219ae048>"
      ]
     },
     "metadata": {},
     "output_type": "display_data"
    }
   ],
   "source": [
    "sns.kdeplot(appoint.loc[appoint.no_show_bin==1, 'Age'], cumulative=True )\n",
    "sns.kdeplot(appoint.loc[appoint.no_show_bin==0, 'Age'], cumulative=True )"
   ]
  },
  {
   "cell_type": "code",
   "execution_count": 36,
   "metadata": {
    "scrolled": true
   },
   "outputs": [
    {
     "data": {
      "text/plain": [
       "<matplotlib.axes._subplots.AxesSubplot at 0x120e14400>"
      ]
     },
     "execution_count": 36,
     "metadata": {},
     "output_type": "execute_result"
    },
    {
     "data": {
      "image/png": "[encoded data removed]",
      "text/plain": [
       "<matplotlib.figure.Figure at 0x119ea69b0>"
      ]
     },
     "metadata": {},
     "output_type": "display_data"
    }
   ],
   "source": [
    "sns.boxplot(appoint.Age, appoint['No-show'])"
   ]
  },
  {
   "cell_type": "code",
   "execution_count": null,
   "metadata": {
    "collapsed": true
   },
   "outputs": [],
   "source": []
  },
  {
   "cell_type": "code",
   "execution_count": 28,
   "metadata": {
    "scrolled": false
   },
   "outputs": [
    {
     "data": {
      "text/plain": [
       "<matplotlib.axes._subplots.AxesSubplot at 0x11fec6710>"
      ]
     },
     "execution_count": 28,
     "metadata": {},
     "output_type": "execute_result"
    },
    {
     "data": {
      "image/png": "[encoded data removed]",
      "text/plain": [
       "<matplotlib.figure.Figure at 0x11fa37828>"
      ]
     },
     "metadata": {},
     "output_type": "display_data"
    }
   ],
   "source": [
    "sns.boxplot(appoint.Age,  appoint['No-show'], hue =appoint.Gender)"
   ]
  },
  {
   "cell_type": "code",
   "execution_count": 29,
   "metadata": {},
   "outputs": [
    {
     "data": {
      "text/plain": [
       "<matplotlib.axes._subplots.AxesSubplot at 0x11b741b38>"
      ]
     },
     "execution_count": 29,
     "metadata": {},
     "output_type": "execute_result"
    },
    {
     "data": {
      "image/png": "[encoded data removed]",
      "text/plain": [
       "<matplotlib.figure.Figure at 0x11a6cacc0>"
      ]
     },
     "metadata": {},
     "output_type": "display_data"
    }
   ],
   "source": [
    "sns.boxplot(appoint.Age, appoint['No-show'], hue = appoint.Scholarship)"
   ]
  },
  {
   "cell_type": "code",
   "execution_count": 30,
   "metadata": {},
   "outputs": [
    {
     "data": {
      "text/plain": [
       "<matplotlib.axes._subplots.AxesSubplot at 0x120190c50>"
      ]
     },
     "execution_count": 30,
     "metadata": {},
     "output_type": "execute_result"
    },
    {
     "data": {
      "image/png": "[encoded data removed]",
      "text/plain": [
       "<matplotlib.figure.Figure at 0x11e2c7b38>"
      ]
     },
     "metadata": {},
     "output_type": "display_data"
    }
   ],
   "source": [
    "sns.boxplot(appoint.Age, appoint['No-show'], hue = appoint.Hipertension)"
   ]
  },
  {
   "cell_type": "code",
   "execution_count": 27,
   "metadata": {},
   "outputs": [
    {
     "data": {
      "text/plain": [
       "<matplotlib.axes._subplots.AxesSubplot at 0x11fa37588>"
      ]
     },
     "execution_count": 27,
     "metadata": {},
     "output_type": "execute_result"
    },
    {
     "data": {
      "image/png": "[encoded data removed]",
      "text/plain": [
       "<matplotlib.figure.Figure at 0x11fb91f28>"
      ]
     },
     "metadata": {},
     "output_type": "display_data"
    }
   ],
   "source": [
    "sns.boxplot(appoint.Age, appoint['No-show'], hue = appoint.Handcap)"
   ]
  },
  {
   "cell_type": "markdown",
   "metadata": {},
   "source": [
    "##### visualization regarding the SMS_received and no_show"
   ]
  },
  {
   "cell_type": "code",
   "execution_count": 49,
   "metadata": {},
   "outputs": [
    {
     "data": {
      "text/plain": [
       "<matplotlib.axes._subplots.AxesSubplot at 0x121e2d438>"
      ]
     },
     "execution_count": 49,
     "metadata": {},
     "output_type": "execute_result"
    },
    {
     "data": {
      "image/png": "[encoded data removed]",
      "text/plain": [
       "<matplotlib.figure.Figure at 0x121e46cc0>"
      ]
     },
     "metadata": {},
     "output_type": "display_data"
    }
   ],
   "source": [
    "sns.kdeplot(appoint.loc[appoint.no_show_bin==1, 'SMS_received'], cumulative=True )\n",
    "sns.kdeplot(appoint.loc[appoint.no_show_bin==0, 'SMS_received'], cumulative=True )"
   ]
  },
  {
   "cell_type": "code",
   "execution_count": null,
   "metadata": {
    "collapsed": true
   },
   "outputs": [],
   "source": []
  },
  {
   "cell_type": "markdown",
   "metadata": {},
   "source": [
    "#### 2.4 check datetime variable\n",
    "*sometime wrong with record at 2015-5-14"
   ]
  },
  {
   "cell_type": "code",
   "execution_count": 53,
   "metadata": {
    "scrolled": false
   },
   "outputs": [
    {
     "name": "stdout",
     "output_type": "stream",
     "text": [
      "2016-05-25    3909\n",
      "2016-05-06    3879\n",
      "2016-05-20    3828\n",
      "2016-04-29    3235\n",
      "2016-05-14      39\n",
      "Name: AppointmentDay, dtype: int64\n"
     ]
    },
    {
     "data": {
      "text/plain": [
       "<matplotlib.axes._subplots.AxesSubplot at 0x12df68780>"
      ]
     },
     "execution_count": 53,
     "metadata": {},
     "output_type": "execute_result"
    },
    {
     "data": {
      "image/png": "[encoded data removed]",
      "text/plain": [
       "<matplotlib.figure.Figure at 0x12dfcc668>"
      ]
     },
     "metadata": {},
     "output_type": "display_data"
    }
   ],
   "source": [
    "p = appoint.AppointmentDay.value_counts()\n",
    "print(p.tail())\n",
    "p.plot()"
   ]
  },
  {
   "cell_type": "code",
   "execution_count": 76,
   "metadata": {},
   "outputs": [
    {
     "data": {
      "image/png": "[encoded data removed]",
      "text/plain": [
       "<matplotlib.figure.Figure at 0x1459b9b00>"
      ]
     },
     "metadata": {},
     "output_type": "display_data"
    }
   ],
   "source": [
    "# remove the 2015-05-14\n",
    "'no_show_bin', .loc[(appoint.No_show == 0) & (appoint.AppointmentDay != '2016-05-14')].AppointmentDay.value_counts().plot(label='show')\n",
    "appoint.loc[(appoint.No_show == 1) & (appoint.AppointmentDay != '2016-05-14')].AppointmentDay.value_counts().plot(label='no show')\n",
    "plt.legend(loc=\"lower right\", fontsize=10)\n",
    "plt.ylim(0,4000)\n",
    "plt.show()"
   ]
  },
  {
   "cell_type": "code",
   "execution_count": 134,
   "metadata": {
    "collapsed": true,
    "scrolled": false
   },
   "outputs": [],
   "source": [
    "# create weekday column\n",
    "import datetime as dt\n",
    "appoint_date = appoint[['ScheduledDay','AppointmentDay', 'no_show_bin']].copy()\n",
    "#ad = appoint_date['AppointmentDay'].dt.strftime('%Y-%m-%d')\n",
    "\n",
    "appoint['dt_year'] = appoint_date.AppointmentDay.dt.year\n",
    "appoint['dt_month'] = appoint_date.AppointmentDay.dt.month\n",
    "appoint['dt_day'] = appoint_date.AppointmentDay.dt.day\n",
    "appoint['dt_week'] = appoint_date.AppointmentDay.dt.week\n",
    "appoint['dt_weekday'] = appoint_date.AppointmentDay.dt.weekday"
   ]
  },
  {
   "cell_type": "code",
   "execution_count": 135,
   "metadata": {},
   "outputs": [
    {
     "data": {
      "text/html": [
       "<div>\n",
       "<style>\n",
       "    .dataframe thead tr:only-child th {\n",
       "        text-align: right;\n",
       "    }\n",
       "\n",
       "    .dataframe thead th {\n",
       "        text-align: left;\n",
       "    }\n",
       "\n",
       "    .dataframe tbody tr th {\n",
       "        vertical-align: top;\n",
       "    }\n",
       "</style>\n",
       "<table border=\"1\" class=\"dataframe\">\n",
       "  <thead>\n",
       "    <tr style=\"text-align: right;\">\n",
       "      <th></th>\n",
       "      <th>Gender</th>\n",
       "      <th>ScheduledDay</th>\n",
       "      <th>AppointmentDay</th>\n",
       "      <th>Age</th>\n",
       "      <th>Neighbourhood</th>\n",
       "      <th>Scholarship</th>\n",
       "      <th>Hipertension</th>\n",
       "      <th>Diabetes</th>\n",
       "      <th>Alcoholism</th>\n",
       "      <th>Handcap</th>\n",
       "      <th>SMS_received</th>\n",
       "      <th>No-show</th>\n",
       "      <th>Handcap_bin</th>\n",
       "      <th>no_show_bin</th>\n",
       "      <th>gender_bin</th>\n",
       "      <th>dt_year</th>\n",
       "      <th>dt_month</th>\n",
       "      <th>dt_day</th>\n",
       "      <th>dt_week</th>\n",
       "      <th>dt_weekday</th>\n",
       "    </tr>\n",
       "    <tr>\n",
       "      <th>AppointmentID</th>\n",
       "      <th></th>\n",
       "      <th></th>\n",
       "      <th></th>\n",
       "      <th></th>\n",
       "      <th></th>\n",
       "      <th></th>\n",
       "      <th></th>\n",
       "      <th></th>\n",
       "      <th></th>\n",
       "      <th></th>\n",
       "      <th></th>\n",
       "      <th></th>\n",
       "      <th></th>\n",
       "      <th></th>\n",
       "      <th></th>\n",
       "      <th></th>\n",
       "      <th></th>\n",
       "      <th></th>\n",
       "      <th></th>\n",
       "      <th></th>\n",
       "    </tr>\n",
       "  </thead>\n",
       "  <tbody>\n",
       "    <tr>\n",
       "      <th>5642903</th>\n",
       "      <td>F</td>\n",
       "      <td>2016-04-29 18:38:08</td>\n",
       "      <td>2016-04-29</td>\n",
       "      <td>62</td>\n",
       "      <td>JARDIM DA PENHA</td>\n",
       "      <td>0</td>\n",
       "      <td>1</td>\n",
       "      <td>0</td>\n",
       "      <td>0</td>\n",
       "      <td>0</td>\n",
       "      <td>0</td>\n",
       "      <td>No</td>\n",
       "      <td>0</td>\n",
       "      <td>0</td>\n",
       "      <td>0</td>\n",
       "      <td>2016</td>\n",
       "      <td>4</td>\n",
       "      <td>29</td>\n",
       "      <td>17</td>\n",
       "      <td>4</td>\n",
       "    </tr>\n",
       "    <tr>\n",
       "      <th>5642503</th>\n",
       "      <td>M</td>\n",
       "      <td>2016-04-29 16:08:27</td>\n",
       "      <td>2016-04-29</td>\n",
       "      <td>56</td>\n",
       "      <td>JARDIM DA PENHA</td>\n",
       "      <td>0</td>\n",
       "      <td>0</td>\n",
       "      <td>0</td>\n",
       "      <td>0</td>\n",
       "      <td>0</td>\n",
       "      <td>0</td>\n",
       "      <td>No</td>\n",
       "      <td>0</td>\n",
       "      <td>0</td>\n",
       "      <td>1</td>\n",
       "      <td>2016</td>\n",
       "      <td>4</td>\n",
       "      <td>29</td>\n",
       "      <td>17</td>\n",
       "      <td>4</td>\n",
       "    </tr>\n",
       "    <tr>\n",
       "      <th>5642549</th>\n",
       "      <td>F</td>\n",
       "      <td>2016-04-29 16:19:04</td>\n",
       "      <td>2016-04-29</td>\n",
       "      <td>62</td>\n",
       "      <td>MATA DA PRAIA</td>\n",
       "      <td>0</td>\n",
       "      <td>0</td>\n",
       "      <td>0</td>\n",
       "      <td>0</td>\n",
       "      <td>0</td>\n",
       "      <td>0</td>\n",
       "      <td>No</td>\n",
       "      <td>0</td>\n",
       "      <td>0</td>\n",
       "      <td>0</td>\n",
       "      <td>2016</td>\n",
       "      <td>4</td>\n",
       "      <td>29</td>\n",
       "      <td>17</td>\n",
       "      <td>4</td>\n",
       "    </tr>\n",
       "    <tr>\n",
       "      <th>5642828</th>\n",
       "      <td>F</td>\n",
       "      <td>2016-04-29 17:29:31</td>\n",
       "      <td>2016-04-29</td>\n",
       "      <td>8</td>\n",
       "      <td>PONTAL DE CAMBURI</td>\n",
       "      <td>0</td>\n",
       "      <td>0</td>\n",
       "      <td>0</td>\n",
       "      <td>0</td>\n",
       "      <td>0</td>\n",
       "      <td>0</td>\n",
       "      <td>No</td>\n",
       "      <td>0</td>\n",
       "      <td>0</td>\n",
       "      <td>0</td>\n",
       "      <td>2016</td>\n",
       "      <td>4</td>\n",
       "      <td>29</td>\n",
       "      <td>17</td>\n",
       "      <td>4</td>\n",
       "    </tr>\n",
       "    <tr>\n",
       "      <th>5642494</th>\n",
       "      <td>F</td>\n",
       "      <td>2016-04-29 16:07:23</td>\n",
       "      <td>2016-04-29</td>\n",
       "      <td>56</td>\n",
       "      <td>JARDIM DA PENHA</td>\n",
       "      <td>0</td>\n",
       "      <td>1</td>\n",
       "      <td>1</td>\n",
       "      <td>0</td>\n",
       "      <td>0</td>\n",
       "      <td>0</td>\n",
       "      <td>No</td>\n",
       "      <td>0</td>\n",
       "      <td>0</td>\n",
       "      <td>0</td>\n",
       "      <td>2016</td>\n",
       "      <td>4</td>\n",
       "      <td>29</td>\n",
       "      <td>17</td>\n",
       "      <td>4</td>\n",
       "    </tr>\n",
       "  </tbody>\n",
       "</table>\n",
       "</div>"
      ],
      "text/plain": [
       "              Gender        ScheduledDay AppointmentDay  Age  \\\n",
       "AppointmentID                                                  \n",
       "5642903            F 2016-04-29 18:38:08     2016-04-29   62   \n",
       "5642503            M 2016-04-29 16:08:27     2016-04-29   56   \n",
       "5642549            F 2016-04-29 16:19:04     2016-04-29   62   \n",
       "5642828            F 2016-04-29 17:29:31     2016-04-29    8   \n",
       "5642494            F 2016-04-29 16:07:23     2016-04-29   56   \n",
       "\n",
       "                   Neighbourhood  Scholarship  Hipertension  Diabetes  \\\n",
       "AppointmentID                                                           \n",
       "5642903          JARDIM DA PENHA            0             1         0   \n",
       "5642503          JARDIM DA PENHA            0             0         0   \n",
       "5642549            MATA DA PRAIA            0             0         0   \n",
       "5642828        PONTAL DE CAMBURI            0             0         0   \n",
       "5642494          JARDIM DA PENHA            0             1         1   \n",
       "\n",
       "               Alcoholism  Handcap  SMS_received No-show  Handcap_bin  \\\n",
       "AppointmentID                                                           \n",
       "5642903                 0        0             0      No            0   \n",
       "5642503                 0        0             0      No            0   \n",
       "5642549                 0        0             0      No            0   \n",
       "5642828                 0        0             0      No            0   \n",
       "5642494                 0        0             0      No            0   \n",
       "\n",
       "               no_show_bin  gender_bin  dt_year  dt_month  dt_day  dt_week  \\\n",
       "AppointmentID                                                                \n",
       "5642903                  0           0     2016         4      29       17   \n",
       "5642503                  0           1     2016         4      29       17   \n",
       "5642549                  0           0     2016         4      29       17   \n",
       "5642828                  0           0     2016         4      29       17   \n",
       "5642494                  0           0     2016         4      29       17   \n",
       "\n",
       "               dt_weekday  \n",
       "AppointmentID              \n",
       "5642903                 4  \n",
       "5642503                 4  \n",
       "5642549                 4  \n",
       "5642828                 4  \n",
       "5642494                 4  "
      ]
     },
     "execution_count": 135,
     "metadata": {},
     "output_type": "execute_result"
    }
   ],
   "source": [
    "appoint.head()"
   ]
  },
  {
   "cell_type": "code",
   "execution_count": 217,
   "metadata": {
    "scrolled": true
   },
   "outputs": [
    {
     "data": {
      "text/html": [
       "<div>\n",
       "<style>\n",
       "    .dataframe thead tr:only-child th {\n",
       "        text-align: right;\n",
       "    }\n",
       "\n",
       "    .dataframe thead th {\n",
       "        text-align: left;\n",
       "    }\n",
       "\n",
       "    .dataframe tbody tr th {\n",
       "        vertical-align: top;\n",
       "    }\n",
       "</style>\n",
       "<table border=\"1\" class=\"dataframe\">\n",
       "  <thead>\n",
       "    <tr style=\"text-align: right;\">\n",
       "      <th>no_show_bin</th>\n",
       "      <th>dt_weekday</th>\n",
       "      <th>0</th>\n",
       "      <th>1</th>\n",
       "      <th>total</th>\n",
       "    </tr>\n",
       "  </thead>\n",
       "  <tbody>\n",
       "    <tr>\n",
       "      <th>0</th>\n",
       "      <td>0</td>\n",
       "      <td>18025</td>\n",
       "      <td>4690</td>\n",
       "      <td>22715</td>\n",
       "    </tr>\n",
       "    <tr>\n",
       "      <th>1</th>\n",
       "      <td>1</td>\n",
       "      <td>20488</td>\n",
       "      <td>5152</td>\n",
       "      <td>25640</td>\n",
       "    </tr>\n",
       "    <tr>\n",
       "      <th>2</th>\n",
       "      <td>2</td>\n",
       "      <td>20774</td>\n",
       "      <td>5093</td>\n",
       "      <td>25867</td>\n",
       "    </tr>\n",
       "    <tr>\n",
       "      <th>3</th>\n",
       "      <td>3</td>\n",
       "      <td>13909</td>\n",
       "      <td>3338</td>\n",
       "      <td>17247</td>\n",
       "    </tr>\n",
       "    <tr>\n",
       "      <th>4</th>\n",
       "      <td>4</td>\n",
       "      <td>14982</td>\n",
       "      <td>4037</td>\n",
       "      <td>19019</td>\n",
       "    </tr>\n",
       "    <tr>\n",
       "      <th>5</th>\n",
       "      <td>5</td>\n",
       "      <td>30</td>\n",
       "      <td>9</td>\n",
       "      <td>39</td>\n",
       "    </tr>\n",
       "  </tbody>\n",
       "</table>\n",
       "</div>"
      ],
      "text/plain": [
       "no_show_bin  dt_weekday      0     1  total\n",
       "0                     0  18025  4690  22715\n",
       "1                     1  20488  5152  25640\n",
       "2                     2  20774  5093  25867\n",
       "3                     3  13909  3338  17247\n",
       "4                     4  14982  4037  19019\n",
       "5                     5     30     9     39"
      ]
     },
     "execution_count": 217,
     "metadata": {},
     "output_type": "execute_result"
    }
   ],
   "source": [
    "df = appoint.groupby(['dt_weekday', 'no_show_bin']).count().Age.unstack()\n",
    "df['total'] = df.sum(axis=1)\n",
    "df.reset_index()"
   ]
  },
  {
   "cell_type": "code",
   "execution_count": 153,
   "metadata": {},
   "outputs": [
    {
     "data": {
      "text/html": [
       "<div>\n",
       "<style>\n",
       "    .dataframe thead tr:only-child th {\n",
       "        text-align: right;\n",
       "    }\n",
       "\n",
       "    .dataframe thead th {\n",
       "        text-align: left;\n",
       "    }\n",
       "\n",
       "    .dataframe tbody tr th {\n",
       "        vertical-align: top;\n",
       "    }\n",
       "</style>\n",
       "<table border=\"1\" class=\"dataframe\">\n",
       "  <thead>\n",
       "    <tr style=\"text-align: right;\">\n",
       "      <th></th>\n",
       "      <th>Gender</th>\n",
       "      <th>ScheduledDay</th>\n",
       "      <th>AppointmentDay</th>\n",
       "      <th>Age</th>\n",
       "      <th>Neighbourhood</th>\n",
       "      <th>Scholarship</th>\n",
       "      <th>Hipertension</th>\n",
       "      <th>Diabetes</th>\n",
       "      <th>Alcoholism</th>\n",
       "      <th>Handcap</th>\n",
       "      <th>...</th>\n",
       "      <th>No-show</th>\n",
       "      <th>Handcap_bin</th>\n",
       "      <th>no_show_bin</th>\n",
       "      <th>gender_bin</th>\n",
       "      <th>dt_year</th>\n",
       "      <th>dt_month</th>\n",
       "      <th>dt_day</th>\n",
       "      <th>dt_week</th>\n",
       "      <th>dt_weekday</th>\n",
       "      <th>day_diff</th>\n",
       "    </tr>\n",
       "    <tr>\n",
       "      <th>AppointmentID</th>\n",
       "      <th></th>\n",
       "      <th></th>\n",
       "      <th></th>\n",
       "      <th></th>\n",
       "      <th></th>\n",
       "      <th></th>\n",
       "      <th></th>\n",
       "      <th></th>\n",
       "      <th></th>\n",
       "      <th></th>\n",
       "      <th></th>\n",
       "      <th></th>\n",
       "      <th></th>\n",
       "      <th></th>\n",
       "      <th></th>\n",
       "      <th></th>\n",
       "      <th></th>\n",
       "      <th></th>\n",
       "      <th></th>\n",
       "      <th></th>\n",
       "      <th></th>\n",
       "    </tr>\n",
       "  </thead>\n",
       "  <tbody>\n",
       "    <tr>\n",
       "      <th>5642903</th>\n",
       "      <td>F</td>\n",
       "      <td>2016-04-29 18:38:08</td>\n",
       "      <td>2016-04-29</td>\n",
       "      <td>62</td>\n",
       "      <td>JARDIM DA PENHA</td>\n",
       "      <td>0</td>\n",
       "      <td>1</td>\n",
       "      <td>0</td>\n",
       "      <td>0</td>\n",
       "      <td>0</td>\n",
       "      <td>...</td>\n",
       "      <td>No</td>\n",
       "      <td>0</td>\n",
       "      <td>0</td>\n",
       "      <td>0</td>\n",
       "      <td>2016</td>\n",
       "      <td>4</td>\n",
       "      <td>29</td>\n",
       "      <td>17</td>\n",
       "      <td>4</td>\n",
       "      <td>0</td>\n",
       "    </tr>\n",
       "    <tr>\n",
       "      <th>5642503</th>\n",
       "      <td>M</td>\n",
       "      <td>2016-04-29 16:08:27</td>\n",
       "      <td>2016-04-29</td>\n",
       "      <td>56</td>\n",
       "      <td>JARDIM DA PENHA</td>\n",
       "      <td>0</td>\n",
       "      <td>0</td>\n",
       "      <td>0</td>\n",
       "      <td>0</td>\n",
       "      <td>0</td>\n",
       "      <td>...</td>\n",
       "      <td>No</td>\n",
       "      <td>0</td>\n",
       "      <td>0</td>\n",
       "      <td>1</td>\n",
       "      <td>2016</td>\n",
       "      <td>4</td>\n",
       "      <td>29</td>\n",
       "      <td>17</td>\n",
       "      <td>4</td>\n",
       "      <td>0</td>\n",
       "    </tr>\n",
       "    <tr>\n",
       "      <th>5642549</th>\n",
       "      <td>F</td>\n",
       "      <td>2016-04-29 16:19:04</td>\n",
       "      <td>2016-04-29</td>\n",
       "      <td>62</td>\n",
       "      <td>MATA DA PRAIA</td>\n",
       "      <td>0</td>\n",
       "      <td>0</td>\n",
       "      <td>0</td>\n",
       "      <td>0</td>\n",
       "      <td>0</td>\n",
       "      <td>...</td>\n",
       "      <td>No</td>\n",
       "      <td>0</td>\n",
       "      <td>0</td>\n",
       "      <td>0</td>\n",
       "      <td>2016</td>\n",
       "      <td>4</td>\n",
       "      <td>29</td>\n",
       "      <td>17</td>\n",
       "      <td>4</td>\n",
       "      <td>0</td>\n",
       "    </tr>\n",
       "    <tr>\n",
       "      <th>5642828</th>\n",
       "      <td>F</td>\n",
       "      <td>2016-04-29 17:29:31</td>\n",
       "      <td>2016-04-29</td>\n",
       "      <td>8</td>\n",
       "      <td>PONTAL DE CAMBURI</td>\n",
       "      <td>0</td>\n",
       "      <td>0</td>\n",
       "      <td>0</td>\n",
       "      <td>0</td>\n",
       "      <td>0</td>\n",
       "      <td>...</td>\n",
       "      <td>No</td>\n",
       "      <td>0</td>\n",
       "      <td>0</td>\n",
       "      <td>0</td>\n",
       "      <td>2016</td>\n",
       "      <td>4</td>\n",
       "      <td>29</td>\n",
       "      <td>17</td>\n",
       "      <td>4</td>\n",
       "      <td>0</td>\n",
       "    </tr>\n",
       "    <tr>\n",
       "      <th>5642494</th>\n",
       "      <td>F</td>\n",
       "      <td>2016-04-29 16:07:23</td>\n",
       "      <td>2016-04-29</td>\n",
       "      <td>56</td>\n",
       "      <td>JARDIM DA PENHA</td>\n",
       "      <td>0</td>\n",
       "      <td>1</td>\n",
       "      <td>1</td>\n",
       "      <td>0</td>\n",
       "      <td>0</td>\n",
       "      <td>...</td>\n",
       "      <td>No</td>\n",
       "      <td>0</td>\n",
       "      <td>0</td>\n",
       "      <td>0</td>\n",
       "      <td>2016</td>\n",
       "      <td>4</td>\n",
       "      <td>29</td>\n",
       "      <td>17</td>\n",
       "      <td>4</td>\n",
       "      <td>0</td>\n",
       "    </tr>\n",
       "  </tbody>\n",
       "</table>\n",
       "<p>5 rows × 21 columns</p>\n",
       "</div>"
      ],
      "text/plain": [
       "              Gender        ScheduledDay AppointmentDay  Age  \\\n",
       "AppointmentID                                                  \n",
       "5642903            F 2016-04-29 18:38:08     2016-04-29   62   \n",
       "5642503            M 2016-04-29 16:08:27     2016-04-29   56   \n",
       "5642549            F 2016-04-29 16:19:04     2016-04-29   62   \n",
       "5642828            F 2016-04-29 17:29:31     2016-04-29    8   \n",
       "5642494            F 2016-04-29 16:07:23     2016-04-29   56   \n",
       "\n",
       "                   Neighbourhood  Scholarship  Hipertension  Diabetes  \\\n",
       "AppointmentID                                                           \n",
       "5642903          JARDIM DA PENHA            0             1         0   \n",
       "5642503          JARDIM DA PENHA            0             0         0   \n",
       "5642549            MATA DA PRAIA            0             0         0   \n",
       "5642828        PONTAL DE CAMBURI            0             0         0   \n",
       "5642494          JARDIM DA PENHA            0             1         1   \n",
       "\n",
       "               Alcoholism  Handcap    ...     No-show Handcap_bin  \\\n",
       "AppointmentID                         ...                           \n",
       "5642903                 0        0    ...          No           0   \n",
       "5642503                 0        0    ...          No           0   \n",
       "5642549                 0        0    ...          No           0   \n",
       "5642828                 0        0    ...          No           0   \n",
       "5642494                 0        0    ...          No           0   \n",
       "\n",
       "               no_show_bin  gender_bin  dt_year  dt_month  dt_day  dt_week  \\\n",
       "AppointmentID                                                                \n",
       "5642903                  0           0     2016         4      29       17   \n",
       "5642503                  0           1     2016         4      29       17   \n",
       "5642549                  0           0     2016         4      29       17   \n",
       "5642828                  0           0     2016         4      29       17   \n",
       "5642494                  0           0     2016         4      29       17   \n",
       "\n",
       "               dt_weekday  day_diff  \n",
       "AppointmentID                        \n",
       "5642903                 4         0  \n",
       "5642503                 4         0  \n",
       "5642549                 4         0  \n",
       "5642828                 4         0  \n",
       "5642494                 4         0  \n",
       "\n",
       "[5 rows x 21 columns]"
      ]
     },
     "execution_count": 153,
     "metadata": {},
     "output_type": "execute_result"
    }
   ],
   "source": [
    "appoint['day_diff'] = appoint_date.AppointmentDay.dt.day - appoint_date.ScheduledDay.dt.day\n",
    "appoint.head()"
   ]
  },
  {
   "cell_type": "code",
   "execution_count": 151,
   "metadata": {
    "collapsed": true
   },
   "outputs": [],
   "source": [
    "#appoint.drop(['diff', 'day_diff'], axis=1, inplace=True)"
   ]
  },
  {
   "cell_type": "code",
   "execution_count": 186,
   "metadata": {
    "scrolled": true
   },
   "outputs": [
    {
     "data": {
      "image/png": "[encoded data removed]",
      "text/plain": [
       "<matplotlib.figure.Figure at 0x133b4a4e0>"
      ]
     },
     "metadata": {},
     "output_type": "display_data"
    }
   ],
   "source": [
    "appoint.loc[appoint.no_show_bin == 0, 'day_diff'].hist()\n",
    "appoint.loc[appoint.no_show_bin == 1, 'day_diff'].hist()\n",
    "plt.show()"
   ]
  },
  {
   "cell_type": "code",
   "execution_count": 56,
   "metadata": {},
   "outputs": [
    {
     "data": {
      "text/plain": [
       "<matplotlib.axes._subplots.AxesSubplot at 0x122c46f60>"
      ]
     },
     "execution_count": 56,
     "metadata": {},
     "output_type": "execute_result"
    },
    {
     "data": {
      "image/png": "[encoded data removed]",
      "text/plain": [
       "<matplotlib.figure.Figure at 0x12288f4a8>"
      ]
     },
     "metadata": {},
     "output_type": "display_data"
    }
   ],
   "source": [
    "sns.boxplot(appoint.day_diff, appoint['No-show'])"
   ]
  },
  {
   "cell_type": "code",
   "execution_count": 57,
   "metadata": {
    "scrolled": false
   },
   "outputs": [
    {
     "data": {
      "text/plain": [
       "<matplotlib.axes._subplots.AxesSubplot at 0x122c5f6a0>"
      ]
     },
     "execution_count": 57,
     "metadata": {},
     "output_type": "execute_result"
    },
    {
     "data": {
      "image/png": "[encoded data removed]",
      "text/plain": [
       "<matplotlib.figure.Figure at 0x122d89780>"
      ]
     },
     "metadata": {},
     "output_type": "display_data"
    }
   ],
   "source": [
    "sns.kdeplot(appoint.loc[appoint.no_show_bin==1, 'day_diff'], cumulative=True )\n",
    "sns.kdeplot(appoint.loc[appoint.no_show_bin==0, 'day_diff'], cumulative=True )"
   ]
  },
  {
   "cell_type": "code",
   "execution_count": null,
   "metadata": {
    "collapsed": true
   },
   "outputs": [],
   "source": []
  },
  {
   "cell_type": "markdown",
   "metadata": {},
   "source": [
    "##### more visualization regarding the  date and no_show"
   ]
  },
  {
   "cell_type": "code",
   "execution_count": 60,
   "metadata": {},
   "outputs": [
    {
     "data": {
      "text/plain": [
       "<matplotlib.axes._subplots.AxesSubplot at 0x12323b2e8>"
      ]
     },
     "execution_count": 60,
     "metadata": {},
     "output_type": "execute_result"
    },
    {
     "data": {
      "image/png": "[encoded data removed]",
      "text/plain": [
       "<matplotlib.figure.Figure at 0x12288f240>"
      ]
     },
     "metadata": {},
     "output_type": "display_data"
    }
   ],
   "source": [
    "sns.kdeplot(appoint.loc[appoint.no_show_bin==1, 'dt_day'], cumulative=True )\n",
    "sns.kdeplot(appoint.loc[appoint.no_show_bin==0, 'dt_day'], cumulative=True )"
   ]
  },
  {
   "cell_type": "code",
   "execution_count": 61,
   "metadata": {},
   "outputs": [
    {
     "data": {
      "text/plain": [
       "<matplotlib.axes._subplots.AxesSubplot at 0x1236c8208>"
      ]
     },
     "execution_count": 61,
     "metadata": {},
     "output_type": "execute_result"
    },
    {
     "data": {
      "image/png": "[encoded data removed]",
      "text/plain": [
       "<matplotlib.figure.Figure at 0x1232089e8>"
      ]
     },
     "metadata": {},
     "output_type": "display_data"
    }
   ],
   "source": [
    "sns.kdeplot(appoint.loc[appoint.no_show_bin==1, 'dt_week'], cumulative=True )\n",
    "sns.kdeplot(appoint.loc[appoint.no_show_bin==0, 'dt_week'], cumulative=True )"
   ]
  },
  {
   "cell_type": "code",
   "execution_count": 62,
   "metadata": {},
   "outputs": [
    {
     "data": {
      "text/plain": [
       "<matplotlib.axes._subplots.AxesSubplot at 0x123922470>"
      ]
     },
     "execution_count": 62,
     "metadata": {},
     "output_type": "execute_result"
    },
    {
     "data": {
      "image/png": "[encoded data removed]",
      "text/plain": [
       "<matplotlib.figure.Figure at 0x1238f28d0>"
      ]
     },
     "metadata": {},
     "output_type": "display_data"
    }
   ],
   "source": [
    "sns.kdeplot(appoint.loc[appoint.no_show_bin==1, 'dt_weekday'], cumulative=True )\n",
    "sns.kdeplot(appoint.loc[appoint.no_show_bin==0, 'dt_weekday'], cumulative=True )"
   ]
  },
  {
   "cell_type": "code",
   "execution_count": null,
   "metadata": {
    "collapsed": true
   },
   "outputs": [],
   "source": []
  },
  {
   "cell_type": "markdown",
   "metadata": {},
   "source": [
    "## 3. Prepare the data for modeling"
   ]
  },
  {
   "cell_type": "markdown",
   "metadata": {},
   "source": [
    "#### 3.1 preprocessing and select the attributes"
   ]
  },
  {
   "cell_type": "code",
   "execution_count": 2,
   "metadata": {
    "collapsed": true
   },
   "outputs": [],
   "source": [
    "def preproc_attr(data):\n",
    "    # handcap binary\n",
    "    data.loc[appoint.Handcap == 0, 'Handcap_bin'] = 0\n",
    "    data.loc[appoint.Handcap != 0, 'Handcap_bin'] = 1\n",
    "    data.Handcap_bin = appoint.Handcap_bin.astype(int)\n",
    "    \n",
    "    # gender, no_show binary\n",
    "    from sklearn.preprocessing import LabelBinarizer\n",
    "    lb = LabelBinarizer()\n",
    "    data['gender_bin'] = lb.fit_transform(data.Gender)\n",
    "    data['no_show_bin'] = lb.fit_transform(data['No-show'])\n",
    "    \n",
    "    # convert date\n",
    "    import datetime as dt\n",
    "    data['dt_year'] = data.AppointmentDay.dt.year\n",
    "    data['dt_month'] = data.AppointmentDay.dt.month\n",
    "    data['dt_day'] = data.AppointmentDay.dt.day\n",
    "    data['dt_week'] = data.AppointmentDay.dt.week\n",
    "    data['dt_weekday'] = data.AppointmentDay.dt.weekday\n",
    "    \n",
    "    # add day_diff\n",
    "    data['day_diff'] = data.AppointmentDay.dt.day - data.ScheduledDay.dt.day\n",
    "    \n",
    "    return data\n",
    "\n",
    "\n"
   ]
  },
  {
   "cell_type": "code",
   "execution_count": 3,
   "metadata": {},
   "outputs": [
    {
     "data": {
      "text/html": [
       "<div>\n",
       "<style>\n",
       "    .dataframe thead tr:only-child th {\n",
       "        text-align: right;\n",
       "    }\n",
       "\n",
       "    .dataframe thead th {\n",
       "        text-align: left;\n",
       "    }\n",
       "\n",
       "    .dataframe tbody tr th {\n",
       "        vertical-align: top;\n",
       "    }\n",
       "</style>\n",
       "<table border=\"1\" class=\"dataframe\">\n",
       "  <thead>\n",
       "    <tr style=\"text-align: right;\">\n",
       "      <th></th>\n",
       "      <th>Gender</th>\n",
       "      <th>ScheduledDay</th>\n",
       "      <th>AppointmentDay</th>\n",
       "      <th>Age</th>\n",
       "      <th>Neighbourhood</th>\n",
       "      <th>Scholarship</th>\n",
       "      <th>Hipertension</th>\n",
       "      <th>Diabetes</th>\n",
       "      <th>Alcoholism</th>\n",
       "      <th>Handcap</th>\n",
       "      <th>...</th>\n",
       "      <th>No-show</th>\n",
       "      <th>Handcap_bin</th>\n",
       "      <th>gender_bin</th>\n",
       "      <th>no_show_bin</th>\n",
       "      <th>dt_year</th>\n",
       "      <th>dt_month</th>\n",
       "      <th>dt_day</th>\n",
       "      <th>dt_week</th>\n",
       "      <th>dt_weekday</th>\n",
       "      <th>day_diff</th>\n",
       "    </tr>\n",
       "    <tr>\n",
       "      <th>AppointmentID</th>\n",
       "      <th></th>\n",
       "      <th></th>\n",
       "      <th></th>\n",
       "      <th></th>\n",
       "      <th></th>\n",
       "      <th></th>\n",
       "      <th></th>\n",
       "      <th></th>\n",
       "      <th></th>\n",
       "      <th></th>\n",
       "      <th></th>\n",
       "      <th></th>\n",
       "      <th></th>\n",
       "      <th></th>\n",
       "      <th></th>\n",
       "      <th></th>\n",
       "      <th></th>\n",
       "      <th></th>\n",
       "      <th></th>\n",
       "      <th></th>\n",
       "      <th></th>\n",
       "    </tr>\n",
       "  </thead>\n",
       "  <tbody>\n",
       "    <tr>\n",
       "      <th>5642903</th>\n",
       "      <td>F</td>\n",
       "      <td>2016-04-29 18:38:08</td>\n",
       "      <td>2016-04-29</td>\n",
       "      <td>62</td>\n",
       "      <td>JARDIM DA PENHA</td>\n",
       "      <td>0</td>\n",
       "      <td>1</td>\n",
       "      <td>0</td>\n",
       "      <td>0</td>\n",
       "      <td>0</td>\n",
       "      <td>...</td>\n",
       "      <td>No</td>\n",
       "      <td>0</td>\n",
       "      <td>0</td>\n",
       "      <td>0</td>\n",
       "      <td>2016</td>\n",
       "      <td>4</td>\n",
       "      <td>29</td>\n",
       "      <td>17</td>\n",
       "      <td>4</td>\n",
       "      <td>0</td>\n",
       "    </tr>\n",
       "    <tr>\n",
       "      <th>5642503</th>\n",
       "      <td>M</td>\n",
       "      <td>2016-04-29 16:08:27</td>\n",
       "      <td>2016-04-29</td>\n",
       "      <td>56</td>\n",
       "      <td>JARDIM DA PENHA</td>\n",
       "      <td>0</td>\n",
       "      <td>0</td>\n",
       "      <td>0</td>\n",
       "      <td>0</td>\n",
       "      <td>0</td>\n",
       "      <td>...</td>\n",
       "      <td>No</td>\n",
       "      <td>0</td>\n",
       "      <td>1</td>\n",
       "      <td>0</td>\n",
       "      <td>2016</td>\n",
       "      <td>4</td>\n",
       "      <td>29</td>\n",
       "      <td>17</td>\n",
       "      <td>4</td>\n",
       "      <td>0</td>\n",
       "    </tr>\n",
       "    <tr>\n",
       "      <th>5642549</th>\n",
       "      <td>F</td>\n",
       "      <td>2016-04-29 16:19:04</td>\n",
       "      <td>2016-04-29</td>\n",
       "      <td>62</td>\n",
       "      <td>MATA DA PRAIA</td>\n",
       "      <td>0</td>\n",
       "      <td>0</td>\n",
       "      <td>0</td>\n",
       "      <td>0</td>\n",
       "      <td>0</td>\n",
       "      <td>...</td>\n",
       "      <td>No</td>\n",
       "      <td>0</td>\n",
       "      <td>0</td>\n",
       "      <td>0</td>\n",
       "      <td>2016</td>\n",
       "      <td>4</td>\n",
       "      <td>29</td>\n",
       "      <td>17</td>\n",
       "      <td>4</td>\n",
       "      <td>0</td>\n",
       "    </tr>\n",
       "  </tbody>\n",
       "</table>\n",
       "<p>3 rows × 21 columns</p>\n",
       "</div>"
      ],
      "text/plain": [
       "              Gender        ScheduledDay AppointmentDay  Age    Neighbourhood  \\\n",
       "AppointmentID                                                                   \n",
       "5642903            F 2016-04-29 18:38:08     2016-04-29   62  JARDIM DA PENHA   \n",
       "5642503            M 2016-04-29 16:08:27     2016-04-29   56  JARDIM DA PENHA   \n",
       "5642549            F 2016-04-29 16:19:04     2016-04-29   62    MATA DA PRAIA   \n",
       "\n",
       "               Scholarship  Hipertension  Diabetes  Alcoholism  Handcap  \\\n",
       "AppointmentID                                                             \n",
       "5642903                  0             1         0           0        0   \n",
       "5642503                  0             0         0           0        0   \n",
       "5642549                  0             0         0           0        0   \n",
       "\n",
       "                 ...     No-show Handcap_bin  gender_bin  no_show_bin  \\\n",
       "AppointmentID    ...                                                    \n",
       "5642903          ...          No           0           0            0   \n",
       "5642503          ...          No           0           1            0   \n",
       "5642549          ...          No           0           0            0   \n",
       "\n",
       "               dt_year  dt_month  dt_day  dt_week  dt_weekday  day_diff  \n",
       "AppointmentID                                                            \n",
       "5642903           2016         4      29       17           4         0  \n",
       "5642503           2016         4      29       17           4         0  \n",
       "5642549           2016         4      29       17           4         0  \n",
       "\n",
       "[3 rows x 21 columns]"
      ]
     },
     "execution_count": 3,
     "metadata": {},
     "output_type": "execute_result"
    }
   ],
   "source": [
    "appoint = pd.read_csv(\"./data/KaggleV2-May-2016.csv\", parse_dates = ['ScheduledDay','AppointmentDay'], \\\n",
    "                  index_col='AppointmentID',  infer_datetime_format=True)\n",
    "\n",
    "# drop PatientId \n",
    "appoint.drop('PatientId', axis=1, inplace=True)\n",
    "appoint = preproc_attr(appoint)\n",
    "appoint.head(3)"
   ]
  },
  {
   "cell_type": "code",
   "execution_count": 4,
   "metadata": {
    "scrolled": true
   },
   "outputs": [
    {
     "data": {
      "text/plain": [
       "Index(['Gender', 'ScheduledDay', 'AppointmentDay', 'Age', 'Neighbourhood',\n",
       "       'Scholarship', 'Hipertension', 'Diabetes', 'Alcoholism', 'Handcap',\n",
       "       'SMS_received', 'No-show', 'Handcap_bin', 'gender_bin', 'no_show_bin',\n",
       "       'dt_year', 'dt_month', 'dt_day', 'dt_week', 'dt_weekday', 'day_diff'],\n",
       "      dtype='object')"
      ]
     },
     "execution_count": 4,
     "metadata": {},
     "output_type": "execute_result"
    }
   ],
   "source": [
    "appoint.columns"
   ]
  },
  {
   "cell_type": "code",
   "execution_count": 150,
   "metadata": {
    "collapsed": true
   },
   "outputs": [],
   "source": [
    "X = ['Age', 'Scholarship', 'Hipertension', 'Diabetes', 'Alcoholism', 'SMS_received', \n",
    "         'Handcap_bin', 'gender_bin', 'day_diff']\n",
    "\n",
    "\n",
    "#X = ['Age', 'Scholarship',  'SMS_received', 'Hipertension','day_diff']\n",
    "y = 'no_show_bin'"
   ]
  },
  {
   "cell_type": "markdown",
   "metadata": {},
   "source": [
    "#### 3.2 Train_test_split"
   ]
  },
  {
   "cell_type": "code",
   "execution_count": 151,
   "metadata": {},
   "outputs": [
    {
     "name": "stdout",
     "output_type": "stream",
     "text": [
      "(88421, 9) (22106, 9) (88421,) (22106,)\n"
     ]
    }
   ],
   "source": [
    "from sklearn.model_selection import train_test_split\n",
    "\n",
    "# define the test_size, setup the random_state\n",
    "X_train, X_test, y_train, y_test = train_test_split(appoint[X], appoint[y], test_size=0.2, random_state=42)\n",
    "print(X_train.shape, X_test.shape, y_train.shape, y_test.shape)\n"
   ]
  },
  {
   "cell_type": "code",
   "execution_count": 152,
   "metadata": {
    "scrolled": true
   },
   "outputs": [
    {
     "data": {
      "text/html": [
       "<div>\n",
       "<style>\n",
       "    .dataframe thead tr:only-child th {\n",
       "        text-align: right;\n",
       "    }\n",
       "\n",
       "    .dataframe thead th {\n",
       "        text-align: left;\n",
       "    }\n",
       "\n",
       "    .dataframe tbody tr th {\n",
       "        vertical-align: top;\n",
       "    }\n",
       "</style>\n",
       "<table border=\"1\" class=\"dataframe\">\n",
       "  <thead>\n",
       "    <tr style=\"text-align: right;\">\n",
       "      <th></th>\n",
       "      <th>Age</th>\n",
       "      <th>Scholarship</th>\n",
       "      <th>Hipertension</th>\n",
       "      <th>Diabetes</th>\n",
       "      <th>Alcoholism</th>\n",
       "      <th>SMS_received</th>\n",
       "      <th>Handcap_bin</th>\n",
       "      <th>gender_bin</th>\n",
       "      <th>day_diff</th>\n",
       "    </tr>\n",
       "    <tr>\n",
       "      <th>AppointmentID</th>\n",
       "      <th></th>\n",
       "      <th></th>\n",
       "      <th></th>\n",
       "      <th></th>\n",
       "      <th></th>\n",
       "      <th></th>\n",
       "      <th></th>\n",
       "      <th></th>\n",
       "      <th></th>\n",
       "    </tr>\n",
       "  </thead>\n",
       "  <tbody>\n",
       "    <tr>\n",
       "      <th>5687610</th>\n",
       "      <td>25</td>\n",
       "      <td>0</td>\n",
       "      <td>0</td>\n",
       "      <td>0</td>\n",
       "      <td>0</td>\n",
       "      <td>0</td>\n",
       "      <td>0</td>\n",
       "      <td>0</td>\n",
       "      <td>8</td>\n",
       "    </tr>\n",
       "    <tr>\n",
       "      <th>5694484</th>\n",
       "      <td>62</td>\n",
       "      <td>0</td>\n",
       "      <td>0</td>\n",
       "      <td>0</td>\n",
       "      <td>0</td>\n",
       "      <td>0</td>\n",
       "      <td>0</td>\n",
       "      <td>1</td>\n",
       "      <td>4</td>\n",
       "    </tr>\n",
       "    <tr>\n",
       "      <th>5500939</th>\n",
       "      <td>65</td>\n",
       "      <td>0</td>\n",
       "      <td>0</td>\n",
       "      <td>0</td>\n",
       "      <td>0</td>\n",
       "      <td>0</td>\n",
       "      <td>0</td>\n",
       "      <td>0</td>\n",
       "      <td>-13</td>\n",
       "    </tr>\n",
       "    <tr>\n",
       "      <th>5639080</th>\n",
       "      <td>41</td>\n",
       "      <td>0</td>\n",
       "      <td>0</td>\n",
       "      <td>0</td>\n",
       "      <td>0</td>\n",
       "      <td>0</td>\n",
       "      <td>0</td>\n",
       "      <td>1</td>\n",
       "      <td>0</td>\n",
       "    </tr>\n",
       "    <tr>\n",
       "      <th>5671566</th>\n",
       "      <td>61</td>\n",
       "      <td>0</td>\n",
       "      <td>1</td>\n",
       "      <td>0</td>\n",
       "      <td>1</td>\n",
       "      <td>0</td>\n",
       "      <td>0</td>\n",
       "      <td>1</td>\n",
       "      <td>3</td>\n",
       "    </tr>\n",
       "    <tr>\n",
       "      <th>5600056</th>\n",
       "      <td>11</td>\n",
       "      <td>1</td>\n",
       "      <td>0</td>\n",
       "      <td>0</td>\n",
       "      <td>0</td>\n",
       "      <td>0</td>\n",
       "      <td>0</td>\n",
       "      <td>0</td>\n",
       "      <td>-3</td>\n",
       "    </tr>\n",
       "    <tr>\n",
       "      <th>5640931</th>\n",
       "      <td>45</td>\n",
       "      <td>0</td>\n",
       "      <td>0</td>\n",
       "      <td>0</td>\n",
       "      <td>0</td>\n",
       "      <td>1</td>\n",
       "      <td>0</td>\n",
       "      <td>1</td>\n",
       "      <td>-25</td>\n",
       "    </tr>\n",
       "    <tr>\n",
       "      <th>5730450</th>\n",
       "      <td>9</td>\n",
       "      <td>0</td>\n",
       "      <td>0</td>\n",
       "      <td>0</td>\n",
       "      <td>0</td>\n",
       "      <td>1</td>\n",
       "      <td>0</td>\n",
       "      <td>1</td>\n",
       "      <td>-17</td>\n",
       "    </tr>\n",
       "    <tr>\n",
       "      <th>5771325</th>\n",
       "      <td>79</td>\n",
       "      <td>0</td>\n",
       "      <td>0</td>\n",
       "      <td>0</td>\n",
       "      <td>0</td>\n",
       "      <td>0</td>\n",
       "      <td>0</td>\n",
       "      <td>1</td>\n",
       "      <td>0</td>\n",
       "    </tr>\n",
       "    <tr>\n",
       "      <th>5671279</th>\n",
       "      <td>60</td>\n",
       "      <td>0</td>\n",
       "      <td>1</td>\n",
       "      <td>0</td>\n",
       "      <td>0</td>\n",
       "      <td>1</td>\n",
       "      <td>0</td>\n",
       "      <td>1</td>\n",
       "      <td>4</td>\n",
       "    </tr>\n",
       "  </tbody>\n",
       "</table>\n",
       "</div>"
      ],
      "text/plain": [
       "               Age  Scholarship  Hipertension  Diabetes  Alcoholism  \\\n",
       "AppointmentID                                                         \n",
       "5687610         25            0             0         0           0   \n",
       "5694484         62            0             0         0           0   \n",
       "5500939         65            0             0         0           0   \n",
       "5639080         41            0             0         0           0   \n",
       "5671566         61            0             1         0           1   \n",
       "5600056         11            1             0         0           0   \n",
       "5640931         45            0             0         0           0   \n",
       "5730450          9            0             0         0           0   \n",
       "5771325         79            0             0         0           0   \n",
       "5671279         60            0             1         0           0   \n",
       "\n",
       "               SMS_received  Handcap_bin  gender_bin  day_diff  \n",
       "AppointmentID                                                   \n",
       "5687610                   0            0           0         8  \n",
       "5694484                   0            0           1         4  \n",
       "5500939                   0            0           0       -13  \n",
       "5639080                   0            0           1         0  \n",
       "5671566                   0            0           1         3  \n",
       "5600056                   0            0           0        -3  \n",
       "5640931                   1            0           1       -25  \n",
       "5730450                   1            0           1       -17  \n",
       "5771325                   0            0           1         0  \n",
       "5671279                   1            0           1         4  "
      ]
     },
     "execution_count": 152,
     "metadata": {},
     "output_type": "execute_result"
    }
   ],
   "source": [
    "X_train.head(10)"
   ]
  },
  {
   "cell_type": "markdown",
   "metadata": {
    "collapsed": true
   },
   "source": [
    "#### 3.3 Feature selection"
   ]
  },
  {
   "cell_type": "markdown",
   "metadata": {},
   "source": [
    "##### check overall the variance in dataset"
   ]
  },
  {
   "cell_type": "code",
   "execution_count": 153,
   "metadata": {},
   "outputs": [
    {
     "data": {
      "text/plain": [
       "Age             533.803605\n",
       "Scholarship       0.089383\n",
       "Hipertension      0.158835\n",
       "Diabetes          0.067094\n",
       "Alcoholism        0.029699\n",
       "SMS_received      0.218157\n",
       "Handcap_bin       0.019943\n",
       "gender_bin        0.227590\n",
       "day_diff        106.687153\n",
       "dtype: float64"
      ]
     },
     "execution_count": 153,
     "metadata": {},
     "output_type": "execute_result"
    }
   ],
   "source": [
    "np.var(X_train, 0)"
   ]
  },
  {
   "cell_type": "markdown",
   "metadata": {},
   "source": [
    "##### Removing Features with Low Variance"
   ]
  },
  {
   "cell_type": "code",
   "execution_count": 154,
   "metadata": {},
   "outputs": [
    {
     "name": "stdout",
     "output_type": "stream",
     "text": [
      "[25  8]\n",
      "Age             25\n",
      "Scholarship      0\n",
      "Hipertension     0\n",
      "Diabetes         0\n",
      "Alcoholism       0\n",
      "SMS_received     0\n",
      "Handcap_bin      0\n",
      "gender_bin       0\n",
      "day_diff         8\n",
      "Name: 5687610, dtype: int64\n",
      "select Age and day_diff\n"
     ]
    }
   ],
   "source": [
    "import sklearn.feature_selection as fs\n",
    "X_train_new = fs.VarianceThreshold(threshold = 1).fit_transform(X_train)\n",
    "\n",
    "print(X_train_new[0])\n",
    "print(X_train.iloc[0])\n",
    "print('select Age and day_diff')"
   ]
  },
  {
   "cell_type": "code",
   "execution_count": null,
   "metadata": {
    "collapsed": true
   },
   "outputs": [],
   "source": []
  },
  {
   "cell_type": "markdown",
   "metadata": {},
   "source": [
    "##### Univariate Feature Selection\n",
    "\n",
    "- Function chi2 is used to perform a  $χ^2$  test\n",
    "- Function f_classifier is used to perform an  F  test for classification problems"
   ]
  },
  {
   "cell_type": "code",
   "execution_count": 155,
   "metadata": {
    "collapsed": true
   },
   "outputs": [],
   "source": [
    "X_train.day_diff = X_train.day_diff + 30\n"
   ]
  },
  {
   "cell_type": "code",
   "execution_count": 161,
   "metadata": {
    "scrolled": true
   },
   "outputs": [
    {
     "data": {
      "text/html": [
       "<div>\n",
       "<style>\n",
       "    .dataframe thead tr:only-child th {\n",
       "        text-align: right;\n",
       "    }\n",
       "\n",
       "    .dataframe thead th {\n",
       "        text-align: left;\n",
       "    }\n",
       "\n",
       "    .dataframe tbody tr th {\n",
       "        vertical-align: top;\n",
       "    }\n",
       "</style>\n",
       "<table border=\"1\" class=\"dataframe\">\n",
       "  <thead>\n",
       "    <tr style=\"text-align: right;\">\n",
       "      <th></th>\n",
       "      <th>Chi_2</th>\n",
       "      <th>p_value</th>\n",
       "    </tr>\n",
       "  </thead>\n",
       "  <tbody>\n",
       "    <tr>\n",
       "      <th>Age</th>\n",
       "      <td>4373.581623</td>\n",
       "      <td>0.000000e+00</td>\n",
       "    </tr>\n",
       "    <tr>\n",
       "      <th>SMS_received</th>\n",
       "      <td>1012.398155</td>\n",
       "      <td>3.625521e-222</td>\n",
       "    </tr>\n",
       "    <tr>\n",
       "      <th>day_diff</th>\n",
       "      <td>507.504570</td>\n",
       "      <td>2.213867e-112</td>\n",
       "    </tr>\n",
       "    <tr>\n",
       "      <th>Hipertension</th>\n",
       "      <td>84.898833</td>\n",
       "      <td>3.140285e-20</td>\n",
       "    </tr>\n",
       "    <tr>\n",
       "      <th>Scholarship</th>\n",
       "      <td>70.796822</td>\n",
       "      <td>3.959744e-17</td>\n",
       "    </tr>\n",
       "    <tr>\n",
       "      <th>Diabetes</th>\n",
       "      <td>24.907105</td>\n",
       "      <td>6.016030e-07</td>\n",
       "    </tr>\n",
       "    <tr>\n",
       "      <th>Handcap_bin</th>\n",
       "      <td>3.755968</td>\n",
       "      <td>5.261932e-02</td>\n",
       "    </tr>\n",
       "    <tr>\n",
       "      <th>gender_bin</th>\n",
       "      <td>1.517752</td>\n",
       "      <td>2.179599e-01</td>\n",
       "    </tr>\n",
       "    <tr>\n",
       "      <th>Alcoholism</th>\n",
       "      <td>0.505243</td>\n",
       "      <td>4.772056e-01</td>\n",
       "    </tr>\n",
       "  </tbody>\n",
       "</table>\n",
       "</div>"
      ],
      "text/plain": [
       "                    Chi_2        p_value\n",
       "Age           4373.581623   0.000000e+00\n",
       "SMS_received  1012.398155  3.625521e-222\n",
       "day_diff       507.504570  2.213867e-112\n",
       "Hipertension    84.898833   3.140285e-20\n",
       "Scholarship     70.796822   3.959744e-17\n",
       "Diabetes        24.907105   6.016030e-07\n",
       "Handcap_bin      3.755968   5.261932e-02\n",
       "gender_bin       1.517752   2.179599e-01\n",
       "Alcoholism       0.505243   4.772056e-01"
      ]
     },
     "execution_count": 161,
     "metadata": {},
     "output_type": "execute_result"
    }
   ],
   "source": [
    "\n",
    "chi_2 = fs.chi2(X_train, y_train)\n",
    "chi_2_df = pd.DataFrame(chi_2[0], X , columns=['Chi_2'])\n",
    "chi_2_df['p_value'] = chi_2[1]\n",
    "chi_2_df.sort_values('Chi_2', ascending=False, inplace=True)\n",
    "chi_2_df"
   ]
  },
  {
   "cell_type": "code",
   "execution_count": 167,
   "metadata": {},
   "outputs": [
    {
     "data": {
      "text/plain": [
       "['Age', 'SMS_received', 'day_diff', 'Hipertension']"
      ]
     },
     "execution_count": 167,
     "metadata": {},
     "output_type": "execute_result"
    }
   ],
   "source": [
    "X2 = chi_2_df.iloc[:4].index\n",
    "X2 = list(X2)\n",
    "X2"
   ]
  },
  {
   "cell_type": "markdown",
   "metadata": {},
   "source": [
    "##### SelectKBest"
   ]
  },
  {
   "cell_type": "code",
   "execution_count": 157,
   "metadata": {
    "scrolled": false
   },
   "outputs": [
    {
     "name": "stdout",
     "output_type": "stream",
     "text": [
      "[[25  0  0 38]\n",
      " [62  0  0 34]\n",
      " [65  0  0 17]\n",
      " [41  0  0 30]\n",
      " [61  1  0 33]\n",
      " [11  0  0 27]\n",
      " [45  0  1  5]\n",
      " [ 9  0  1 13]\n",
      " [79  0  0 30]\n",
      " [60  1  1 34]]\n"
     ]
    },
    {
     "data": {
      "text/html": [
       "<div>\n",
       "<style>\n",
       "    .dataframe thead tr:only-child th {\n",
       "        text-align: right;\n",
       "    }\n",
       "\n",
       "    .dataframe thead th {\n",
       "        text-align: left;\n",
       "    }\n",
       "\n",
       "    .dataframe tbody tr th {\n",
       "        vertical-align: top;\n",
       "    }\n",
       "</style>\n",
       "<table border=\"1\" class=\"dataframe\">\n",
       "  <thead>\n",
       "    <tr style=\"text-align: right;\">\n",
       "      <th></th>\n",
       "      <th>Age</th>\n",
       "      <th>Scholarship</th>\n",
       "      <th>Hipertension</th>\n",
       "      <th>Diabetes</th>\n",
       "      <th>Alcoholism</th>\n",
       "      <th>SMS_received</th>\n",
       "      <th>Handcap_bin</th>\n",
       "      <th>gender_bin</th>\n",
       "      <th>day_diff</th>\n",
       "    </tr>\n",
       "    <tr>\n",
       "      <th>AppointmentID</th>\n",
       "      <th></th>\n",
       "      <th></th>\n",
       "      <th></th>\n",
       "      <th></th>\n",
       "      <th></th>\n",
       "      <th></th>\n",
       "      <th></th>\n",
       "      <th></th>\n",
       "      <th></th>\n",
       "    </tr>\n",
       "  </thead>\n",
       "  <tbody>\n",
       "    <tr>\n",
       "      <th>5687610</th>\n",
       "      <td>25</td>\n",
       "      <td>0</td>\n",
       "      <td>0</td>\n",
       "      <td>0</td>\n",
       "      <td>0</td>\n",
       "      <td>0</td>\n",
       "      <td>0</td>\n",
       "      <td>0</td>\n",
       "      <td>38</td>\n",
       "    </tr>\n",
       "    <tr>\n",
       "      <th>5694484</th>\n",
       "      <td>62</td>\n",
       "      <td>0</td>\n",
       "      <td>0</td>\n",
       "      <td>0</td>\n",
       "      <td>0</td>\n",
       "      <td>0</td>\n",
       "      <td>0</td>\n",
       "      <td>1</td>\n",
       "      <td>34</td>\n",
       "    </tr>\n",
       "    <tr>\n",
       "      <th>5500939</th>\n",
       "      <td>65</td>\n",
       "      <td>0</td>\n",
       "      <td>0</td>\n",
       "      <td>0</td>\n",
       "      <td>0</td>\n",
       "      <td>0</td>\n",
       "      <td>0</td>\n",
       "      <td>0</td>\n",
       "      <td>17</td>\n",
       "    </tr>\n",
       "    <tr>\n",
       "      <th>5639080</th>\n",
       "      <td>41</td>\n",
       "      <td>0</td>\n",
       "      <td>0</td>\n",
       "      <td>0</td>\n",
       "      <td>0</td>\n",
       "      <td>0</td>\n",
       "      <td>0</td>\n",
       "      <td>1</td>\n",
       "      <td>30</td>\n",
       "    </tr>\n",
       "    <tr>\n",
       "      <th>5671566</th>\n",
       "      <td>61</td>\n",
       "      <td>0</td>\n",
       "      <td>1</td>\n",
       "      <td>0</td>\n",
       "      <td>1</td>\n",
       "      <td>0</td>\n",
       "      <td>0</td>\n",
       "      <td>1</td>\n",
       "      <td>33</td>\n",
       "    </tr>\n",
       "    <tr>\n",
       "      <th>5600056</th>\n",
       "      <td>11</td>\n",
       "      <td>1</td>\n",
       "      <td>0</td>\n",
       "      <td>0</td>\n",
       "      <td>0</td>\n",
       "      <td>0</td>\n",
       "      <td>0</td>\n",
       "      <td>0</td>\n",
       "      <td>27</td>\n",
       "    </tr>\n",
       "    <tr>\n",
       "      <th>5640931</th>\n",
       "      <td>45</td>\n",
       "      <td>0</td>\n",
       "      <td>0</td>\n",
       "      <td>0</td>\n",
       "      <td>0</td>\n",
       "      <td>1</td>\n",
       "      <td>0</td>\n",
       "      <td>1</td>\n",
       "      <td>5</td>\n",
       "    </tr>\n",
       "    <tr>\n",
       "      <th>5730450</th>\n",
       "      <td>9</td>\n",
       "      <td>0</td>\n",
       "      <td>0</td>\n",
       "      <td>0</td>\n",
       "      <td>0</td>\n",
       "      <td>1</td>\n",
       "      <td>0</td>\n",
       "      <td>1</td>\n",
       "      <td>13</td>\n",
       "    </tr>\n",
       "    <tr>\n",
       "      <th>5771325</th>\n",
       "      <td>79</td>\n",
       "      <td>0</td>\n",
       "      <td>0</td>\n",
       "      <td>0</td>\n",
       "      <td>0</td>\n",
       "      <td>0</td>\n",
       "      <td>0</td>\n",
       "      <td>1</td>\n",
       "      <td>30</td>\n",
       "    </tr>\n",
       "    <tr>\n",
       "      <th>5671279</th>\n",
       "      <td>60</td>\n",
       "      <td>0</td>\n",
       "      <td>1</td>\n",
       "      <td>0</td>\n",
       "      <td>0</td>\n",
       "      <td>1</td>\n",
       "      <td>0</td>\n",
       "      <td>1</td>\n",
       "      <td>34</td>\n",
       "    </tr>\n",
       "  </tbody>\n",
       "</table>\n",
       "</div>"
      ],
      "text/plain": [
       "               Age  Scholarship  Hipertension  Diabetes  Alcoholism  \\\n",
       "AppointmentID                                                         \n",
       "5687610         25            0             0         0           0   \n",
       "5694484         62            0             0         0           0   \n",
       "5500939         65            0             0         0           0   \n",
       "5639080         41            0             0         0           0   \n",
       "5671566         61            0             1         0           1   \n",
       "5600056         11            1             0         0           0   \n",
       "5640931         45            0             0         0           0   \n",
       "5730450          9            0             0         0           0   \n",
       "5771325         79            0             0         0           0   \n",
       "5671279         60            0             1         0           0   \n",
       "\n",
       "               SMS_received  Handcap_bin  gender_bin  day_diff  \n",
       "AppointmentID                                                   \n",
       "5687610                   0            0           0        38  \n",
       "5694484                   0            0           1        34  \n",
       "5500939                   0            0           0        17  \n",
       "5639080                   0            0           1        30  \n",
       "5671566                   0            0           1        33  \n",
       "5600056                   0            0           0        27  \n",
       "5640931                   1            0           1         5  \n",
       "5730450                   1            0           1        13  \n",
       "5771325                   0            0           1        30  \n",
       "5671279                   1            0           1        34  "
      ]
     },
     "execution_count": 157,
     "metadata": {},
     "output_type": "execute_result"
    }
   ],
   "source": [
    "import sklearn.feature_selection as fs\n",
    "\n",
    "best4 = fs.SelectKBest(fs.chi2, k=4).fit_transform(X_train, y_train) \n",
    "print(best4[:10, ])\n",
    "X_train.iloc[:10, ]"
   ]
  },
  {
   "cell_type": "code",
   "execution_count": null,
   "metadata": {
    "collapsed": true
   },
   "outputs": [],
   "source": []
  },
  {
   "cell_type": "code",
   "execution_count": 158,
   "metadata": {},
   "outputs": [
    {
     "data": {
      "text/plain": [
       "(88421, 7)"
      ]
     },
     "execution_count": 158,
     "metadata": {},
     "output_type": "execute_result"
    }
   ],
   "source": [
    "# \n",
    "percent80 = fs.SelectPercentile(fs.chi2, 80).fit_transform(X_train, y_train) \n",
    "percent80.shape"
   ]
  },
  {
   "cell_type": "code",
   "execution_count": 159,
   "metadata": {
    "scrolled": false
   },
   "outputs": [
    {
     "name": "stdout",
     "output_type": "stream",
     "text": [
      "[[25  0  0  0  0  0 38]\n",
      " [62  0  0  0  0  0 34]\n",
      " [65  0  0  0  0  0 17]\n",
      " [41  0  0  0  0  0 30]\n",
      " [61  0  1  0  0  0 33]\n",
      " [11  1  0  0  0  0 27]\n",
      " [45  0  0  0  1  0  5]\n",
      " [ 9  0  0  0  1  0 13]\n",
      " [79  0  0  0  0  0 30]\n",
      " [60  0  1  0  1  0 34]]\n"
     ]
    },
    {
     "data": {
      "text/html": [
       "<div>\n",
       "<style>\n",
       "    .dataframe thead tr:only-child th {\n",
       "        text-align: right;\n",
       "    }\n",
       "\n",
       "    .dataframe thead th {\n",
       "        text-align: left;\n",
       "    }\n",
       "\n",
       "    .dataframe tbody tr th {\n",
       "        vertical-align: top;\n",
       "    }\n",
       "</style>\n",
       "<table border=\"1\" class=\"dataframe\">\n",
       "  <thead>\n",
       "    <tr style=\"text-align: right;\">\n",
       "      <th></th>\n",
       "      <th>Age</th>\n",
       "      <th>Scholarship</th>\n",
       "      <th>Hipertension</th>\n",
       "      <th>Diabetes</th>\n",
       "      <th>Alcoholism</th>\n",
       "      <th>SMS_received</th>\n",
       "      <th>Handcap_bin</th>\n",
       "      <th>gender_bin</th>\n",
       "      <th>day_diff</th>\n",
       "    </tr>\n",
       "    <tr>\n",
       "      <th>AppointmentID</th>\n",
       "      <th></th>\n",
       "      <th></th>\n",
       "      <th></th>\n",
       "      <th></th>\n",
       "      <th></th>\n",
       "      <th></th>\n",
       "      <th></th>\n",
       "      <th></th>\n",
       "      <th></th>\n",
       "    </tr>\n",
       "  </thead>\n",
       "  <tbody>\n",
       "    <tr>\n",
       "      <th>5687610</th>\n",
       "      <td>25</td>\n",
       "      <td>0</td>\n",
       "      <td>0</td>\n",
       "      <td>0</td>\n",
       "      <td>0</td>\n",
       "      <td>0</td>\n",
       "      <td>0</td>\n",
       "      <td>0</td>\n",
       "      <td>38</td>\n",
       "    </tr>\n",
       "    <tr>\n",
       "      <th>5694484</th>\n",
       "      <td>62</td>\n",
       "      <td>0</td>\n",
       "      <td>0</td>\n",
       "      <td>0</td>\n",
       "      <td>0</td>\n",
       "      <td>0</td>\n",
       "      <td>0</td>\n",
       "      <td>1</td>\n",
       "      <td>34</td>\n",
       "    </tr>\n",
       "    <tr>\n",
       "      <th>5500939</th>\n",
       "      <td>65</td>\n",
       "      <td>0</td>\n",
       "      <td>0</td>\n",
       "      <td>0</td>\n",
       "      <td>0</td>\n",
       "      <td>0</td>\n",
       "      <td>0</td>\n",
       "      <td>0</td>\n",
       "      <td>17</td>\n",
       "    </tr>\n",
       "    <tr>\n",
       "      <th>5639080</th>\n",
       "      <td>41</td>\n",
       "      <td>0</td>\n",
       "      <td>0</td>\n",
       "      <td>0</td>\n",
       "      <td>0</td>\n",
       "      <td>0</td>\n",
       "      <td>0</td>\n",
       "      <td>1</td>\n",
       "      <td>30</td>\n",
       "    </tr>\n",
       "    <tr>\n",
       "      <th>5671566</th>\n",
       "      <td>61</td>\n",
       "      <td>0</td>\n",
       "      <td>1</td>\n",
       "      <td>0</td>\n",
       "      <td>1</td>\n",
       "      <td>0</td>\n",
       "      <td>0</td>\n",
       "      <td>1</td>\n",
       "      <td>33</td>\n",
       "    </tr>\n",
       "    <tr>\n",
       "      <th>5600056</th>\n",
       "      <td>11</td>\n",
       "      <td>1</td>\n",
       "      <td>0</td>\n",
       "      <td>0</td>\n",
       "      <td>0</td>\n",
       "      <td>0</td>\n",
       "      <td>0</td>\n",
       "      <td>0</td>\n",
       "      <td>27</td>\n",
       "    </tr>\n",
       "    <tr>\n",
       "      <th>5640931</th>\n",
       "      <td>45</td>\n",
       "      <td>0</td>\n",
       "      <td>0</td>\n",
       "      <td>0</td>\n",
       "      <td>0</td>\n",
       "      <td>1</td>\n",
       "      <td>0</td>\n",
       "      <td>1</td>\n",
       "      <td>5</td>\n",
       "    </tr>\n",
       "    <tr>\n",
       "      <th>5730450</th>\n",
       "      <td>9</td>\n",
       "      <td>0</td>\n",
       "      <td>0</td>\n",
       "      <td>0</td>\n",
       "      <td>0</td>\n",
       "      <td>1</td>\n",
       "      <td>0</td>\n",
       "      <td>1</td>\n",
       "      <td>13</td>\n",
       "    </tr>\n",
       "    <tr>\n",
       "      <th>5771325</th>\n",
       "      <td>79</td>\n",
       "      <td>0</td>\n",
       "      <td>0</td>\n",
       "      <td>0</td>\n",
       "      <td>0</td>\n",
       "      <td>0</td>\n",
       "      <td>0</td>\n",
       "      <td>1</td>\n",
       "      <td>30</td>\n",
       "    </tr>\n",
       "    <tr>\n",
       "      <th>5671279</th>\n",
       "      <td>60</td>\n",
       "      <td>0</td>\n",
       "      <td>1</td>\n",
       "      <td>0</td>\n",
       "      <td>0</td>\n",
       "      <td>1</td>\n",
       "      <td>0</td>\n",
       "      <td>1</td>\n",
       "      <td>34</td>\n",
       "    </tr>\n",
       "  </tbody>\n",
       "</table>\n",
       "</div>"
      ],
      "text/plain": [
       "               Age  Scholarship  Hipertension  Diabetes  Alcoholism  \\\n",
       "AppointmentID                                                         \n",
       "5687610         25            0             0         0           0   \n",
       "5694484         62            0             0         0           0   \n",
       "5500939         65            0             0         0           0   \n",
       "5639080         41            0             0         0           0   \n",
       "5671566         61            0             1         0           1   \n",
       "5600056         11            1             0         0           0   \n",
       "5640931         45            0             0         0           0   \n",
       "5730450          9            0             0         0           0   \n",
       "5771325         79            0             0         0           0   \n",
       "5671279         60            0             1         0           0   \n",
       "\n",
       "               SMS_received  Handcap_bin  gender_bin  day_diff  \n",
       "AppointmentID                                                   \n",
       "5687610                   0            0           0        38  \n",
       "5694484                   0            0           1        34  \n",
       "5500939                   0            0           0        17  \n",
       "5639080                   0            0           1        30  \n",
       "5671566                   0            0           1        33  \n",
       "5600056                   0            0           0        27  \n",
       "5640931                   1            0           1         5  \n",
       "5730450                   1            0           1        13  \n",
       "5771325                   0            0           1        30  \n",
       "5671279                   1            0           1        34  "
      ]
     },
     "execution_count": 159,
     "metadata": {},
     "output_type": "execute_result"
    }
   ],
   "source": [
    "print(percent80[:10, ])\n",
    "X_train.iloc[:10, ]"
   ]
  },
  {
   "cell_type": "code",
   "execution_count": null,
   "metadata": {
    "collapsed": true
   },
   "outputs": [],
   "source": []
  },
  {
   "cell_type": "markdown",
   "metadata": {},
   "source": [
    "#### 3.4 Regularization"
   ]
  },
  {
   "cell_type": "markdown",
   "metadata": {},
   "source": [
    "##### Ridge Classifier"
   ]
  },
  {
   "cell_type": "code",
   "execution_count": 136,
   "metadata": {},
   "outputs": [
    {
     "data": {
      "text/plain": [
       "(array([[-0.00196409,  0.06416983, -0.01596244,  0.01527865,  0.03094182,\n",
       "          0.08285589,  0.22023778, -0.08013187, -0.00621131, -0.00101227]]),\n",
       " array([-0.56813487]))"
      ]
     },
     "execution_count": 136,
     "metadata": {},
     "output_type": "execute_result"
    }
   ],
   "source": [
    "from sklearn.linear_model import RidgeClassifier\n",
    "ridge_clf = RidgeClassifier(alpha = 1)          # create a ridge regression instance\n",
    "ridge_clf.fit(X_train, y_train)                 # fit data\n",
    "ridge_clf.coef_, ridge_clf.intercept_               # print out the coefficients"
   ]
  },
  {
   "cell_type": "markdown",
   "metadata": {},
   "source": [
    "##### Lasso"
   ]
  },
  {
   "cell_type": "code",
   "execution_count": 147,
   "metadata": {},
   "outputs": [
    {
     "data": {
      "text/plain": [
       "(array([-0.,  0., -0., -0., -0., -0.,  0., -0., -0., -0.]),\n",
       " 0.20223702514108641)"
      ]
     },
     "execution_count": 147,
     "metadata": {},
     "output_type": "execute_result"
    }
   ],
   "source": [
    "## coefficients\n",
    "from sklearn.linear_model import Lasso\n",
    "lasso_clf = Lasso(alpha=1) # create a lasso instance\n",
    "lasso_clf.fit(X_train, y_train) # fit data\n",
    "lasso_clf.coef_, lasso_clf.intercept_ # print out the coefficients"
   ]
  },
  {
   "cell_type": "code",
   "execution_count": null,
   "metadata": {
    "collapsed": true
   },
   "outputs": [],
   "source": []
  },
  {
   "cell_type": "markdown",
   "metadata": {},
   "source": [
    "## 4. GridSearch"
   ]
  },
  {
   "cell_type": "code",
   "execution_count": 168,
   "metadata": {},
   "outputs": [
    {
     "name": "stdout",
     "output_type": "stream",
     "text": [
      "(88421, 4) (22106, 4) (88421,) (22106,)\n"
     ]
    }
   ],
   "source": [
    "from sklearn.model_selection import train_test_split\n",
    "\n",
    "# define the test_size, setup the random_state\n",
    "X_train, X_test, y_train, y_test = train_test_split(appoint[X2], appoint[y], test_size=0.2, random_state=42)\n",
    "print(X_train.shape, X_test.shape, y_train.shape, y_test.shape)\n"
   ]
  },
  {
   "cell_type": "markdown",
   "metadata": {},
   "source": [
    "#### 4.1 use SGDClassifier"
   ]
  },
  {
   "cell_type": "code",
   "execution_count": 169,
   "metadata": {
    "scrolled": true
   },
   "outputs": [
    {
     "data": {
      "text/plain": [
       "SGDClassifier(alpha=0.0001, average=False, class_weight=None, epsilon=0.1,\n",
       "       eta0=0.0, fit_intercept=True, l1_ratio=0.15,\n",
       "       learning_rate='optimal', loss='hinge', n_iter=5, n_jobs=1,\n",
       "       penalty='l2', power_t=0.5, random_state=42, shuffle=True, verbose=0,\n",
       "       warm_start=False)"
      ]
     },
     "execution_count": 169,
     "metadata": {},
     "output_type": "execute_result"
    }
   ],
   "source": [
    "from sklearn.linear_model import SGDClassifier\n",
    "\n",
    "sgd_clf = SGDClassifier(random_state=42)\n",
    "sgd_clf.fit(X_train, y_train)"
   ]
  },
  {
   "cell_type": "code",
   "execution_count": 170,
   "metadata": {},
   "outputs": [
    {
     "data": {
      "text/plain": [
       "array([ 0.77767726,  0.78084361,  0.78737842,  0.7881701 ,  0.7881701 ,\n",
       "        0.78217598,  0.78421172,  0.78070572,  0.22743723,  0.78350865])"
      ]
     },
     "execution_count": 170,
     "metadata": {},
     "output_type": "execute_result"
    }
   ],
   "source": [
    "from sklearn.model_selection import cross_val_score\n",
    "cross_val_score(sgd_clf, X_train, y_train, cv=10, scoring=\"accuracy\")  "
   ]
  },
  {
   "cell_type": "code",
   "execution_count": 171,
   "metadata": {
    "collapsed": true
   },
   "outputs": [],
   "source": [
    "from sklearn.model_selection import cross_val_predict\n",
    "y_train_pred = cross_val_predict(sgd_clf, X_train, y_train, cv=10)"
   ]
  },
  {
   "cell_type": "code",
   "execution_count": 172,
   "metadata": {},
   "outputs": [
    {
     "data": {
      "text/plain": [
       "array([[61698,  8841],\n",
       "       [15207,  2675]])"
      ]
     },
     "execution_count": 172,
     "metadata": {},
     "output_type": "execute_result"
    }
   ],
   "source": [
    "from sklearn.metrics import confusion_matrix\n",
    "confusion_matrix(y_train, y_train_pred)"
   ]
  },
  {
   "cell_type": "code",
   "execution_count": 173,
   "metadata": {},
   "outputs": [
    {
     "data": {
      "text/plain": [
       "0.23228551580409865"
      ]
     },
     "execution_count": 173,
     "metadata": {},
     "output_type": "execute_result"
    }
   ],
   "source": [
    "from sklearn.metrics import precision_score, recall_score\n",
    "\n",
    "precision_score(y_train, y_train_pred)"
   ]
  },
  {
   "cell_type": "code",
   "execution_count": 174,
   "metadata": {},
   "outputs": [
    {
     "data": {
      "text/plain": [
       "0.14959176825858406"
      ]
     },
     "execution_count": 174,
     "metadata": {},
     "output_type": "execute_result"
    }
   ],
   "source": [
    "recall_score(y_train, y_train_pred)"
   ]
  },
  {
   "cell_type": "markdown",
   "metadata": {},
   "source": [
    "#### 4.2 use emsumble.RandomRorestClassifier"
   ]
  },
  {
   "cell_type": "code",
   "execution_count": 175,
   "metadata": {
    "collapsed": true
   },
   "outputs": [],
   "source": [
    "# 1. Build the forest_elf model\n",
    "from sklearn.ensemble import RandomForestClassifier\n",
    "forest_clf = RandomForestClassifier(random_state=42)\n",
    "y_probas_forest = cross_val_predict(forest_clf, X_train, y_train, cv=5,\n",
    "                                    method=\"predict_proba\")"
   ]
  },
  {
   "cell_type": "code",
   "execution_count": 176,
   "metadata": {
    "collapsed": true
   },
   "outputs": [],
   "source": [
    "# 2. get the fpr, tpr and thresholds with roc_curve()\n",
    "from sklearn.metrics import roc_curve\n",
    "\n",
    "y_scores_forest = y_probas_forest[:, 1] # score = proba of positive class\n",
    "fpr_forest, tpr_forest, thresholds_forest = roc_curve(y_train,y_scores_forest)"
   ]
  },
  {
   "cell_type": "code",
   "execution_count": 177,
   "metadata": {
    "collapsed": true
   },
   "outputs": [],
   "source": [
    "# 2. plot ROC curve of SGD model\n",
    "def plot_roc_curve(fpr, tpr, label=None):\n",
    "    plt.plot(fpr, tpr, linewidth=2, label=label)\n",
    "    plt.plot([0, 1], [0, 1], 'k--')\n",
    "    plt.axis([0, 1, 0, 1])\n",
    "    plt.xlabel('False Positive Rate', fontsize=16)\n",
    "    plt.ylabel('True Positive Rate', fontsize=16)"
   ]
  },
  {
   "cell_type": "code",
   "execution_count": 178,
   "metadata": {},
   "outputs": [
    {
     "data": {
      "image/png": "[encoded data removed]",
      "text/plain": [
       "<matplotlib.figure.Figure at 0x12188c400>"
      ]
     },
     "metadata": {},
     "output_type": "display_data"
    }
   ],
   "source": [
    "# 3. plot the roc_curve\n",
    "plt.figure(figsize=(8, 6))\n",
    "plot_roc_curve(fpr_forest, tpr_forest, \"Random Forest\")\n",
    "plt.legend(loc=\"lower right\", fontsize=16)\n",
    "plt.show()"
   ]
  },
  {
   "cell_type": "markdown",
   "metadata": {
    "collapsed": true
   },
   "source": [
    "#### 4.3. Tuning hyperparameters using gridsearch"
   ]
  },
  {
   "cell_type": "code",
   "execution_count": 179,
   "metadata": {
    "scrolled": true
   },
   "outputs": [
    {
     "name": "stdout",
     "output_type": "stream",
     "text": [
      "Fitting 5 folds for each of 10 candidates, totalling 50 fits\n",
      "[CV] bootstrap=False, criterion=entropy, max_depth=None, max_features=4, min_samples_leaf=5, min_samples_split=9 \n",
      "[CV]  bootstrap=False, criterion=entropy, max_depth=None, max_features=4, min_samples_leaf=5, min_samples_split=9, score=0.776590, total=   0.9s\n",
      "[CV] bootstrap=False, criterion=entropy, max_depth=None, max_features=4, min_samples_leaf=5, min_samples_split=9 \n"
     ]
    },
    {
     "name": "stderr",
     "output_type": "stream",
     "text": [
      "[Parallel(n_jobs=1)]: Done   1 out of   1 | elapsed:    1.1s remaining:    0.0s\n"
     ]
    },
    {
     "name": "stdout",
     "output_type": "stream",
     "text": [
      "[CV]  bootstrap=False, criterion=entropy, max_depth=None, max_features=4, min_samples_leaf=5, min_samples_split=9, score=0.773424, total=   0.9s\n",
      "[CV] bootstrap=False, criterion=entropy, max_depth=None, max_features=4, min_samples_leaf=5, min_samples_split=9 \n"
     ]
    },
    {
     "name": "stderr",
     "output_type": "stream",
     "text": [
      "[Parallel(n_jobs=1)]: Done   2 out of   2 | elapsed:    2.2s remaining:    0.0s\n"
     ]
    },
    {
     "name": "stdout",
     "output_type": "stream",
     "text": [
      "[CV]  bootstrap=False, criterion=entropy, max_depth=None, max_features=4, min_samples_leaf=5, min_samples_split=9, score=0.778953, total=   1.1s\n",
      "[CV] bootstrap=False, criterion=entropy, max_depth=None, max_features=4, min_samples_leaf=5, min_samples_split=9 \n",
      "[CV]  bootstrap=False, criterion=entropy, max_depth=None, max_features=4, min_samples_leaf=5, min_samples_split=9, score=0.776521, total=   0.9s\n",
      "[CV] bootstrap=False, criterion=entropy, max_depth=None, max_features=4, min_samples_leaf=5, min_samples_split=9 \n",
      "[CV]  bootstrap=False, criterion=entropy, max_depth=None, max_features=4, min_samples_leaf=5, min_samples_split=9, score=0.776904, total=   0.9s\n",
      "[CV] bootstrap=False, criterion=gini, max_depth=3, max_features=3, min_samples_leaf=2, min_samples_split=5 \n",
      "[CV]  bootstrap=False, criterion=gini, max_depth=3, max_features=3, min_samples_leaf=2, min_samples_split=5, score=0.797738, total=   0.3s\n",
      "[CV] bootstrap=False, criterion=gini, max_depth=3, max_features=3, min_samples_leaf=2, min_samples_split=5 \n",
      "[CV]  bootstrap=False, criterion=gini, max_depth=3, max_features=3, min_samples_leaf=2, min_samples_split=5, score=0.797738, total=   0.3s\n",
      "[CV] bootstrap=False, criterion=gini, max_depth=3, max_features=3, min_samples_leaf=2, min_samples_split=5 \n",
      "[CV]  bootstrap=False, criterion=gini, max_depth=3, max_features=3, min_samples_leaf=2, min_samples_split=5, score=0.797783, total=   0.3s\n",
      "[CV] bootstrap=False, criterion=gini, max_depth=3, max_features=3, min_samples_leaf=2, min_samples_split=5 \n",
      "[CV]  bootstrap=False, criterion=gini, max_depth=3, max_features=3, min_samples_leaf=2, min_samples_split=5, score=0.797783, total=   0.3s\n",
      "[CV] bootstrap=False, criterion=gini, max_depth=3, max_features=3, min_samples_leaf=2, min_samples_split=5 \n",
      "[CV]  bootstrap=False, criterion=gini, max_depth=3, max_features=3, min_samples_leaf=2, min_samples_split=5, score=0.797772, total=   0.3s\n",
      "[CV] bootstrap=True, criterion=gini, max_depth=3, max_features=2, min_samples_leaf=6, min_samples_split=3 \n",
      "[CV]  bootstrap=True, criterion=gini, max_depth=3, max_features=2, min_samples_leaf=6, min_samples_split=3, score=0.797738, total=   0.2s\n",
      "[CV] bootstrap=True, criterion=gini, max_depth=3, max_features=2, min_samples_leaf=6, min_samples_split=3 \n",
      "[CV]  bootstrap=True, criterion=gini, max_depth=3, max_features=2, min_samples_leaf=6, min_samples_split=3, score=0.797738, total=   0.2s\n",
      "[CV] bootstrap=True, criterion=gini, max_depth=3, max_features=2, min_samples_leaf=6, min_samples_split=3 \n",
      "[CV]  bootstrap=True, criterion=gini, max_depth=3, max_features=2, min_samples_leaf=6, min_samples_split=3, score=0.797783, total=   0.2s\n",
      "[CV] bootstrap=True, criterion=gini, max_depth=3, max_features=2, min_samples_leaf=6, min_samples_split=3 \n",
      "[CV]  bootstrap=True, criterion=gini, max_depth=3, max_features=2, min_samples_leaf=6, min_samples_split=3, score=0.797783, total=   0.2s\n",
      "[CV] bootstrap=True, criterion=gini, max_depth=3, max_features=2, min_samples_leaf=6, min_samples_split=3 \n",
      "[CV]  bootstrap=True, criterion=gini, max_depth=3, max_features=2, min_samples_leaf=6, min_samples_split=3, score=0.797772, total=   0.2s\n",
      "[CV] bootstrap=False, criterion=gini, max_depth=3, max_features=2, min_samples_leaf=6, min_samples_split=5 \n",
      "[CV]  bootstrap=False, criterion=gini, max_depth=3, max_features=2, min_samples_leaf=6, min_samples_split=5, score=0.797738, total=   0.2s\n",
      "[CV] bootstrap=False, criterion=gini, max_depth=3, max_features=2, min_samples_leaf=6, min_samples_split=5 \n",
      "[CV]  bootstrap=False, criterion=gini, max_depth=3, max_features=2, min_samples_leaf=6, min_samples_split=5, score=0.797738, total=   0.2s\n",
      "[CV] bootstrap=False, criterion=gini, max_depth=3, max_features=2, min_samples_leaf=6, min_samples_split=5 \n",
      "[CV]  bootstrap=False, criterion=gini, max_depth=3, max_features=2, min_samples_leaf=6, min_samples_split=5, score=0.797783, total=   0.2s\n",
      "[CV] bootstrap=False, criterion=gini, max_depth=3, max_features=2, min_samples_leaf=6, min_samples_split=5 \n",
      "[CV]  bootstrap=False, criterion=gini, max_depth=3, max_features=2, min_samples_leaf=6, min_samples_split=5, score=0.797783, total=   0.2s\n",
      "[CV] bootstrap=False, criterion=gini, max_depth=3, max_features=2, min_samples_leaf=6, min_samples_split=5 \n",
      "[CV]  bootstrap=False, criterion=gini, max_depth=3, max_features=2, min_samples_leaf=6, min_samples_split=5, score=0.797772, total=   0.2s\n",
      "[CV] bootstrap=False, criterion=entropy, max_depth=3, max_features=1, min_samples_leaf=9, min_samples_split=9 \n",
      "[CV]  bootstrap=False, criterion=entropy, max_depth=3, max_features=1, min_samples_leaf=9, min_samples_split=9, score=0.797738, total=   0.2s\n",
      "[CV] bootstrap=False, criterion=entropy, max_depth=3, max_features=1, min_samples_leaf=9, min_samples_split=9 \n",
      "[CV]  bootstrap=False, criterion=entropy, max_depth=3, max_features=1, min_samples_leaf=9, min_samples_split=9, score=0.797738, total=   0.2s\n",
      "[CV] bootstrap=False, criterion=entropy, max_depth=3, max_features=1, min_samples_leaf=9, min_samples_split=9 \n",
      "[CV]  bootstrap=False, criterion=entropy, max_depth=3, max_features=1, min_samples_leaf=9, min_samples_split=9, score=0.797783, total=   0.2s\n",
      "[CV] bootstrap=False, criterion=entropy, max_depth=3, max_features=1, min_samples_leaf=9, min_samples_split=9 \n",
      "[CV]  bootstrap=False, criterion=entropy, max_depth=3, max_features=1, min_samples_leaf=9, min_samples_split=9, score=0.797783, total=   0.2s\n",
      "[CV] bootstrap=False, criterion=entropy, max_depth=3, max_features=1, min_samples_leaf=9, min_samples_split=9 \n",
      "[CV]  bootstrap=False, criterion=entropy, max_depth=3, max_features=1, min_samples_leaf=9, min_samples_split=9, score=0.797772, total=   0.2s\n",
      "[CV] bootstrap=False, criterion=gini, max_depth=3, max_features=2, min_samples_leaf=9, min_samples_split=10 \n",
      "[CV]  bootstrap=False, criterion=gini, max_depth=3, max_features=2, min_samples_leaf=9, min_samples_split=10, score=0.797738, total=   0.2s\n",
      "[CV] bootstrap=False, criterion=gini, max_depth=3, max_features=2, min_samples_leaf=9, min_samples_split=10 \n",
      "[CV]  bootstrap=False, criterion=gini, max_depth=3, max_features=2, min_samples_leaf=9, min_samples_split=10, score=0.797738, total=   0.2s\n",
      "[CV] bootstrap=False, criterion=gini, max_depth=3, max_features=2, min_samples_leaf=9, min_samples_split=10 \n",
      "[CV]  bootstrap=False, criterion=gini, max_depth=3, max_features=2, min_samples_leaf=9, min_samples_split=10, score=0.797783, total=   0.2s\n",
      "[CV] bootstrap=False, criterion=gini, max_depth=3, max_features=2, min_samples_leaf=9, min_samples_split=10 \n",
      "[CV]  bootstrap=False, criterion=gini, max_depth=3, max_features=2, min_samples_leaf=9, min_samples_split=10, score=0.797783, total=   0.3s\n",
      "[CV] bootstrap=False, criterion=gini, max_depth=3, max_features=2, min_samples_leaf=9, min_samples_split=10 \n",
      "[CV]  bootstrap=False, criterion=gini, max_depth=3, max_features=2, min_samples_leaf=9, min_samples_split=10, score=0.797772, total=   0.3s\n",
      "[CV] bootstrap=False, criterion=entropy, max_depth=None, max_features=2, min_samples_leaf=6, min_samples_split=6 \n",
      "[CV]  bootstrap=False, criterion=entropy, max_depth=None, max_features=2, min_samples_leaf=6, min_samples_split=6, score=0.782245, total=   0.6s\n",
      "[CV] bootstrap=False, criterion=entropy, max_depth=None, max_features=2, min_samples_leaf=6, min_samples_split=6 \n",
      "[CV]  bootstrap=False, criterion=entropy, max_depth=None, max_features=2, min_samples_leaf=6, min_samples_split=6, score=0.781001, total=   0.7s\n",
      "[CV] bootstrap=False, criterion=entropy, max_depth=None, max_features=2, min_samples_leaf=6, min_samples_split=6 \n",
      "[CV]  bootstrap=False, criterion=entropy, max_depth=None, max_features=2, min_samples_leaf=6, min_samples_split=6, score=0.784155, total=   0.7s\n",
      "[CV] bootstrap=False, criterion=entropy, max_depth=None, max_features=2, min_samples_leaf=6, min_samples_split=6 \n",
      "[CV]  bootstrap=False, criterion=entropy, max_depth=None, max_features=2, min_samples_leaf=6, min_samples_split=6, score=0.781893, total=   0.7s\n",
      "[CV] bootstrap=False, criterion=entropy, max_depth=None, max_features=2, min_samples_leaf=6, min_samples_split=6 \n",
      "[CV]  bootstrap=False, criterion=entropy, max_depth=None, max_features=2, min_samples_leaf=6, min_samples_split=6, score=0.783068, total=   0.5s\n",
      "[CV] bootstrap=True, criterion=gini, max_depth=None, max_features=3, min_samples_leaf=5, min_samples_split=3 \n"
     ]
    },
    {
     "name": "stdout",
     "output_type": "stream",
     "text": [
      "[CV]  bootstrap=True, criterion=gini, max_depth=None, max_features=3, min_samples_leaf=5, min_samples_split=3, score=0.784450, total=   0.5s\n",
      "[CV] bootstrap=True, criterion=gini, max_depth=None, max_features=3, min_samples_leaf=5, min_samples_split=3 \n",
      "[CV]  bootstrap=True, criterion=gini, max_depth=None, max_features=3, min_samples_leaf=5, min_samples_split=3, score=0.782754, total=   0.5s\n",
      "[CV] bootstrap=True, criterion=gini, max_depth=None, max_features=3, min_samples_leaf=5, min_samples_split=3 \n",
      "[CV]  bootstrap=True, criterion=gini, max_depth=None, max_features=3, min_samples_leaf=5, min_samples_split=3, score=0.783194, total=   0.5s\n",
      "[CV] bootstrap=True, criterion=gini, max_depth=None, max_features=3, min_samples_leaf=5, min_samples_split=3 \n",
      "[CV]  bootstrap=True, criterion=gini, max_depth=None, max_features=3, min_samples_leaf=5, min_samples_split=3, score=0.784155, total=   0.5s\n",
      "[CV] bootstrap=True, criterion=gini, max_depth=None, max_features=3, min_samples_leaf=5, min_samples_split=3 \n",
      "[CV]  bootstrap=True, criterion=gini, max_depth=None, max_features=3, min_samples_leaf=5, min_samples_split=3, score=0.784200, total=   0.5s\n",
      "[CV] bootstrap=False, criterion=entropy, max_depth=None, max_features=3, min_samples_leaf=3, min_samples_split=2 \n",
      "[CV]  bootstrap=False, criterion=entropy, max_depth=None, max_features=3, min_samples_leaf=3, min_samples_split=2, score=0.776817, total=   0.7s\n",
      "[CV] bootstrap=False, criterion=entropy, max_depth=None, max_features=3, min_samples_leaf=3, min_samples_split=2 \n",
      "[CV]  bootstrap=False, criterion=entropy, max_depth=None, max_features=3, min_samples_leaf=3, min_samples_split=2, score=0.773989, total=   0.7s\n",
      "[CV] bootstrap=False, criterion=entropy, max_depth=None, max_features=3, min_samples_leaf=3, min_samples_split=2 \n",
      "[CV]  bootstrap=False, criterion=entropy, max_depth=None, max_features=3, min_samples_leaf=3, min_samples_split=2, score=0.776578, total=   0.7s\n",
      "[CV] bootstrap=False, criterion=entropy, max_depth=None, max_features=3, min_samples_leaf=3, min_samples_split=2 \n",
      "[CV]  bootstrap=False, criterion=entropy, max_depth=None, max_features=3, min_samples_leaf=3, min_samples_split=2, score=0.774768, total=   0.7s\n",
      "[CV] bootstrap=False, criterion=entropy, max_depth=None, max_features=3, min_samples_leaf=3, min_samples_split=2 \n",
      "[CV]  bootstrap=False, criterion=entropy, max_depth=None, max_features=3, min_samples_leaf=3, min_samples_split=2, score=0.775604, total=   0.7s\n",
      "[CV] bootstrap=True, criterion=entropy, max_depth=3, max_features=1, min_samples_leaf=6, min_samples_split=6 \n",
      "[CV]  bootstrap=True, criterion=entropy, max_depth=3, max_features=1, min_samples_leaf=6, min_samples_split=6, score=0.797738, total=   0.2s\n",
      "[CV] bootstrap=True, criterion=entropy, max_depth=3, max_features=1, min_samples_leaf=6, min_samples_split=6 \n",
      "[CV]  bootstrap=True, criterion=entropy, max_depth=3, max_features=1, min_samples_leaf=6, min_samples_split=6, score=0.797738, total=   0.2s\n",
      "[CV] bootstrap=True, criterion=entropy, max_depth=3, max_features=1, min_samples_leaf=6, min_samples_split=6 \n",
      "[CV]  bootstrap=True, criterion=entropy, max_depth=3, max_features=1, min_samples_leaf=6, min_samples_split=6, score=0.797783, total=   0.2s\n",
      "[CV] bootstrap=True, criterion=entropy, max_depth=3, max_features=1, min_samples_leaf=6, min_samples_split=6 \n",
      "[CV]  bootstrap=True, criterion=entropy, max_depth=3, max_features=1, min_samples_leaf=6, min_samples_split=6, score=0.797783, total=   0.2s\n",
      "[CV] bootstrap=True, criterion=entropy, max_depth=3, max_features=1, min_samples_leaf=6, min_samples_split=6 \n",
      "[CV]  bootstrap=True, criterion=entropy, max_depth=3, max_features=1, min_samples_leaf=6, min_samples_split=6, score=0.797772, total=   0.2s\n"
     ]
    },
    {
     "name": "stderr",
     "output_type": "stream",
     "text": [
      "[Parallel(n_jobs=1)]: Done  50 out of  50 | elapsed:   25.1s finished\n"
     ]
    },
    {
     "data": {
      "text/plain": [
       "RandomizedSearchCV(cv=5, error_score='raise',\n",
       "          estimator=RandomForestClassifier(bootstrap=True, class_weight=None, criterion='gini',\n",
       "            max_depth=None, max_features='auto', max_leaf_nodes=None,\n",
       "            min_impurity_split=1e-07, min_samples_leaf=1,\n",
       "            min_samples_split=2, min_weight_fraction_leaf=0.0,\n",
       "            n_estimators=10, n_jobs=1, oob_score=False, random_state=42,\n",
       "            verbose=0, warm_start=False),\n",
       "          fit_params={}, iid=True, n_iter=10, n_jobs=1,\n",
       "          param_distributions={'max_depth': [3, None], 'max_features': <scipy.stats._distn_infrastructure.rv_frozen object at 0x11d0a3400>, 'min_samples_split': <scipy.stats._distn_infrastructure.rv_frozen object at 0x11d0a3b70>, 'min_samples_leaf': <scipy.stats._distn_infrastructure.rv_frozen object at 0x11d0a3048>, 'bootstrap': [True, False], 'criterion': ['gini', 'entropy']},\n",
       "          pre_dispatch='2*n_jobs', random_state=None, refit=True,\n",
       "          return_train_score=True, scoring=None, verbose=3)"
      ]
     },
     "execution_count": 179,
     "metadata": {},
     "output_type": "execute_result"
    }
   ],
   "source": [
    "from sklearn.model_selection import RandomizedSearchCV\n",
    "from time import time\n",
    "from scipy.stats import randint as sp_randint\n",
    "\n",
    "\n",
    "param_dist = {\"max_depth\": [3, None],\n",
    "              \"max_features\": sp_randint(1, 5),\n",
    "              \"min_samples_split\": sp_randint(2, 11),\n",
    "              \"min_samples_leaf\": sp_randint(1, 11),\n",
    "              \"bootstrap\": [True, False],\n",
    "              \"criterion\": [\"gini\", \"entropy\"]}\n",
    "\n",
    "forest_clf = RandomForestClassifier(random_state=42)\n",
    "random_search = RandomizedSearchCV(forest_clf, param_distributions = param_dist, cv=5, verbose=3)\n",
    "random_search.fit(X_train, y_train)"
   ]
  },
  {
   "cell_type": "code",
   "execution_count": 180,
   "metadata": {},
   "outputs": [
    {
     "data": {
      "text/plain": [
       "{'bootstrap': False,\n",
       " 'criterion': 'gini',\n",
       " 'max_depth': 3,\n",
       " 'max_features': 3,\n",
       " 'min_samples_leaf': 2,\n",
       " 'min_samples_split': 5}"
      ]
     },
     "execution_count": 180,
     "metadata": {},
     "output_type": "execute_result"
    }
   ],
   "source": [
    "random_search.best_params_"
   ]
  },
  {
   "cell_type": "code",
   "execution_count": 181,
   "metadata": {},
   "outputs": [
    {
     "data": {
      "text/plain": [
       "0.79776297485891356"
      ]
     },
     "execution_count": 181,
     "metadata": {},
     "output_type": "execute_result"
    }
   ],
   "source": [
    "random_search.best_score_"
   ]
  },
  {
   "cell_type": "code",
   "execution_count": 182,
   "metadata": {},
   "outputs": [
    {
     "data": {
      "text/plain": [
       "0.79928526191984073"
      ]
     },
     "execution_count": 182,
     "metadata": {},
     "output_type": "execute_result"
    }
   ],
   "source": [
    "from sklearn.metrics import accuracy_score\n",
    "\n",
    "y_pred = random_search.predict(X_test)\n",
    "accuracy_score(y_test, y_pred)              # very poor model"
   ]
  },
  {
   "cell_type": "markdown",
   "metadata": {
    "collapsed": true
   },
   "source": [
    "#### 4.4 Naive Bayes Classifier"
   ]
  },
  {
   "cell_type": "code",
   "execution_count": 183,
   "metadata": {
    "collapsed": true
   },
   "outputs": [],
   "source": [
    "# 1. Build the Naive bayes model\n",
    "from sklearn.naive_bayes import GaussianNB\n",
    "nb_clf = GaussianNB()\n",
    "y_probas_nb = cross_val_predict(nb_clf, X_train, y_train, cv=5,\n",
    "                                    method=\"predict_proba\")"
   ]
  },
  {
   "cell_type": "code",
   "execution_count": 184,
   "metadata": {},
   "outputs": [
    {
     "data": {
      "text/plain": [
       "array([ 0.77745109,  0.77428474,  0.77957476,  0.78047953,  0.78081882,\n",
       "        0.77968785,  0.78025334,  0.77527709,  0.78115811,  0.77762697])"
      ]
     },
     "execution_count": 184,
     "metadata": {},
     "output_type": "execute_result"
    }
   ],
   "source": [
    "from sklearn.model_selection import cross_val_score\n",
    "cross_val_score(nb_clf , X_train, y_train, cv=10, scoring=\"accuracy\") "
   ]
  },
  {
   "cell_type": "code",
   "execution_count": 185,
   "metadata": {
    "collapsed": true
   },
   "outputs": [],
   "source": [
    "from sklearn.model_selection import cross_val_predict\n",
    "y_train_pred = cross_val_predict(nb_clf , X_train, y_train, cv=10)"
   ]
  },
  {
   "cell_type": "code",
   "execution_count": 186,
   "metadata": {},
   "outputs": [
    {
     "data": {
      "text/plain": [
       "array([[67683,  2856],\n",
       "       [16715,  1167]])"
      ]
     },
     "execution_count": 186,
     "metadata": {},
     "output_type": "execute_result"
    }
   ],
   "source": [
    "from sklearn.metrics import confusion_matrix\n",
    "confusion_matrix(y_train, y_train_pred)"
   ]
  },
  {
   "cell_type": "code",
   "execution_count": 187,
   "metadata": {
    "collapsed": true
   },
   "outputs": [],
   "source": [
    "y_scores_nb = y_probas_nb[:, 1] # score = proba of positive class\n",
    "fpr_nb, tpr_nb, thresholds_nb = roc_curve(y_train,y_scores_nb)"
   ]
  },
  {
   "cell_type": "code",
   "execution_count": 188,
   "metadata": {},
   "outputs": [
    {
     "data": {
      "image/png": "[encoded data removed]",
      "text/plain": [
       "<matplotlib.figure.Figure at 0x11d0f5fd0>"
      ]
     },
     "metadata": {},
     "output_type": "display_data"
    }
   ],
   "source": [
    "plt.figure(figsize=(8, 6))\n",
    "plot_roc_curve(fpr_nb, tpr_nb, \"Naive bayes\")\n",
    "plt.legend(loc=\"lower right\", fontsize=16)\n",
    "plt.show()"
   ]
  },
  {
   "cell_type": "markdown",
   "metadata": {},
   "source": [
    "#### 4.5 SVM"
   ]
  },
  {
   "cell_type": "code",
   "execution_count": 189,
   "metadata": {
    "collapsed": true
   },
   "outputs": [],
   "source": [
    "from sklearn.svm import SVC\n",
    "\n",
    "svm_clf = SVC(kernel='linear')\n",
    "#y_probas_svm = cross_val_predict(svm_clf, X_train, y_train, cv=5, method=\"predict_proba\")"
   ]
  },
  {
   "cell_type": "code",
   "execution_count": 190,
   "metadata": {},
   "outputs": [
    {
     "data": {
      "text/plain": [
       "(100, 4)"
      ]
     },
     "execution_count": 190,
     "metadata": {},
     "output_type": "execute_result"
    }
   ],
   "source": [
    "X_train2 = X_train.iloc[:100]\n",
    "X_train2.shape"
   ]
  },
  {
   "cell_type": "code",
   "execution_count": null,
   "metadata": {
    "collapsed": true
   },
   "outputs": [],
   "source": [
    "cross_val_score(svm_clf , X_train.iloc[:100], y_train[:100], cv=3, scoring=\"accuracy\") \n",
    "# y_train_pred = cross_val_predict(svm_clf , X_train, y_train, cv=3)\n"
   ]
  },
  {
   "cell_type": "code",
   "execution_count": null,
   "metadata": {
    "collapsed": true
   },
   "outputs": [],
   "source": [
    "confusion_matrix(y_train, y_train_pred)\n",
    "y_scores_svm = y_probas_svm[:, 1] # score = proba of positive class\n",
    "\n"
   ]
  },
  {
   "cell_type": "code",
   "execution_count": null,
   "metadata": {
    "collapsed": true
   },
   "outputs": [],
   "source": [
    "fpr_svm, tpr_svm, thresholds_svm = roc_curve(y_train,y_scores_svm)\n",
    "\n",
    "plt.figure(figsize=(8, 6))\n",
    "plot_roc_curve(fpr_svm, tpr_svm, \"SVM\")\n",
    "plt.legend(loc=\"lower right\", fontsize=16)\n",
    "plt.show()"
   ]
  },
  {
   "cell_type": "code",
   "execution_count": null,
   "metadata": {
    "collapsed": true
   },
   "outputs": [],
   "source": []
  },
  {
   "cell_type": "code",
   "execution_count": null,
   "metadata": {
    "collapsed": true
   },
   "outputs": [],
   "source": []
  },
  {
   "cell_type": "code",
   "execution_count": null,
   "metadata": {
    "collapsed": true
   },
   "outputs": [],
   "source": []
  },
  {
   "cell_type": "code",
   "execution_count": null,
   "metadata": {
    "collapsed": true
   },
   "outputs": [],
   "source": []
  }
 ],
 "metadata": {
  "kernelspec": {
   "display_name": "Python 3",
   "language": "python",
   "name": "python3"
  },
  "language_info": {
   "codemirror_mode": {
    "name": "ipython",
    "version": 3
   },
   "file_extension": ".py",
   "mimetype": "text/x-python",
   "name": "python",
   "nbconvert_exporter": "python",
   "pygments_lexer": "ipython3",
   "version": "3.6.1"
  }
 },
 "nbformat": 4,
 "nbformat_minor": 2
}
