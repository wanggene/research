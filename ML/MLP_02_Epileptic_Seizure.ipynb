{
 "cells": [
  {
   "cell_type": "markdown",
   "metadata": {},
   "source": [
    "##  Python ML Practice 2: Epileptic Seizure Recognition\n",
    "\n",
    "*NYC Data Science Academy,  Jing Wang,  2017-08*"
   ]
  },
  {
   "cell_type": "code",
   "execution_count": 1,
   "metadata": {
    "collapsed": true
   },
   "outputs": [],
   "source": [
    "import numpy as np\n",
    "import pandas as pd\n",
    "import matplotlib.pyplot as plt\n",
    "import seaborn as sns\n",
    "import re\n",
    "%matplotlib inline\n"
   ]
  },
  {
   "cell_type": "markdown",
   "metadata": {},
   "source": [
    "** raw data link: https://archive.ics.uci.edu/ml/datasets/Epileptic+Seizure+Recognition **"
   ]
  },
  {
   "cell_type": "markdown",
   "metadata": {},
   "source": [
    "## I.Get data"
   ]
  },
  {
   "cell_type": "markdown",
   "metadata": {},
   "source": [
    "#### 1.1 load the data"
   ]
  },
  {
   "cell_type": "code",
   "execution_count": 2,
   "metadata": {
    "scrolled": true
   },
   "outputs": [
    {
     "data": {
      "text/plain": [
       "2.8069319013912617"
      ]
     },
     "execution_count": 2,
     "metadata": {},
     "output_type": "execute_result"
    }
   ],
   "source": [
    "url = 'https://archive.ics.uci.edu/ml/machine-learning-databases/00388/data.csv'\n",
    "data = pd.read_csv(url, na_values='?')\n",
    "data = data.iloc[:,1:]\n",
    "data.shape[0]/4097"
   ]
  },
  {
   "cell_type": "code",
   "execution_count": 3,
   "metadata": {},
   "outputs": [
    {
     "data": {
      "text/html": [
       "<div>\n",
       "<style>\n",
       "    .dataframe thead tr:only-child th {\n",
       "        text-align: right;\n",
       "    }\n",
       "\n",
       "    .dataframe thead th {\n",
       "        text-align: left;\n",
       "    }\n",
       "\n",
       "    .dataframe tbody tr th {\n",
       "        vertical-align: top;\n",
       "    }\n",
       "</style>\n",
       "<table border=\"1\" class=\"dataframe\">\n",
       "  <thead>\n",
       "    <tr style=\"text-align: right;\">\n",
       "      <th></th>\n",
       "      <th>X1</th>\n",
       "      <th>X2</th>\n",
       "      <th>X3</th>\n",
       "      <th>X4</th>\n",
       "      <th>X5</th>\n",
       "      <th>X6</th>\n",
       "      <th>X7</th>\n",
       "      <th>X8</th>\n",
       "      <th>X9</th>\n",
       "      <th>X10</th>\n",
       "      <th>...</th>\n",
       "      <th>X170</th>\n",
       "      <th>X171</th>\n",
       "      <th>X172</th>\n",
       "      <th>X173</th>\n",
       "      <th>X174</th>\n",
       "      <th>X175</th>\n",
       "      <th>X176</th>\n",
       "      <th>X177</th>\n",
       "      <th>X178</th>\n",
       "      <th>y</th>\n",
       "    </tr>\n",
       "  </thead>\n",
       "  <tbody>\n",
       "    <tr>\n",
       "      <th>0</th>\n",
       "      <td>135</td>\n",
       "      <td>190</td>\n",
       "      <td>229</td>\n",
       "      <td>223</td>\n",
       "      <td>192</td>\n",
       "      <td>125</td>\n",
       "      <td>55</td>\n",
       "      <td>-9</td>\n",
       "      <td>-33</td>\n",
       "      <td>-38</td>\n",
       "      <td>...</td>\n",
       "      <td>-17</td>\n",
       "      <td>-15</td>\n",
       "      <td>-31</td>\n",
       "      <td>-77</td>\n",
       "      <td>-103</td>\n",
       "      <td>-127</td>\n",
       "      <td>-116</td>\n",
       "      <td>-83</td>\n",
       "      <td>-51</td>\n",
       "      <td>4</td>\n",
       "    </tr>\n",
       "    <tr>\n",
       "      <th>1</th>\n",
       "      <td>386</td>\n",
       "      <td>382</td>\n",
       "      <td>356</td>\n",
       "      <td>331</td>\n",
       "      <td>320</td>\n",
       "      <td>315</td>\n",
       "      <td>307</td>\n",
       "      <td>272</td>\n",
       "      <td>244</td>\n",
       "      <td>232</td>\n",
       "      <td>...</td>\n",
       "      <td>164</td>\n",
       "      <td>150</td>\n",
       "      <td>146</td>\n",
       "      <td>152</td>\n",
       "      <td>157</td>\n",
       "      <td>156</td>\n",
       "      <td>154</td>\n",
       "      <td>143</td>\n",
       "      <td>129</td>\n",
       "      <td>1</td>\n",
       "    </tr>\n",
       "    <tr>\n",
       "      <th>2</th>\n",
       "      <td>-32</td>\n",
       "      <td>-39</td>\n",
       "      <td>-47</td>\n",
       "      <td>-37</td>\n",
       "      <td>-32</td>\n",
       "      <td>-36</td>\n",
       "      <td>-57</td>\n",
       "      <td>-73</td>\n",
       "      <td>-85</td>\n",
       "      <td>-94</td>\n",
       "      <td>...</td>\n",
       "      <td>57</td>\n",
       "      <td>64</td>\n",
       "      <td>48</td>\n",
       "      <td>19</td>\n",
       "      <td>-12</td>\n",
       "      <td>-30</td>\n",
       "      <td>-35</td>\n",
       "      <td>-35</td>\n",
       "      <td>-36</td>\n",
       "      <td>5</td>\n",
       "    </tr>\n",
       "  </tbody>\n",
       "</table>\n",
       "<p>3 rows × 179 columns</p>\n",
       "</div>"
      ],
      "text/plain": [
       "    X1   X2   X3   X4   X5   X6   X7   X8   X9  X10 ...  X170  X171  X172  \\\n",
       "0  135  190  229  223  192  125   55   -9  -33  -38 ...   -17   -15   -31   \n",
       "1  386  382  356  331  320  315  307  272  244  232 ...   164   150   146   \n",
       "2  -32  -39  -47  -37  -32  -36  -57  -73  -85  -94 ...    57    64    48   \n",
       "\n",
       "   X173  X174  X175  X176  X177  X178  y  \n",
       "0   -77  -103  -127  -116   -83   -51  4  \n",
       "1   152   157   156   154   143   129  1  \n",
       "2    19   -12   -30   -35   -35   -36  5  \n",
       "\n",
       "[3 rows x 179 columns]"
      ]
     },
     "execution_count": 3,
     "metadata": {},
     "output_type": "execute_result"
    }
   ],
   "source": [
    "data.head(3)"
   ]
  },
  {
   "cell_type": "code",
   "execution_count": 4,
   "metadata": {},
   "outputs": [
    {
     "data": {
      "text/plain": [
       "(11500, 179)"
      ]
     },
     "execution_count": 4,
     "metadata": {},
     "output_type": "execute_result"
    }
   ],
   "source": [
    "data.shape"
   ]
  },
  {
   "cell_type": "code",
   "execution_count": 5,
   "metadata": {
    "collapsed": true,
    "scrolled": false
   },
   "outputs": [],
   "source": [
    "# combine all y >2 into 0, negative result\n",
    "data['y1'] = 0\n",
    "data.loc[data.y==1 , 'y1'] = 1"
   ]
  },
  {
   "cell_type": "code",
   "execution_count": 6,
   "metadata": {
    "scrolled": false
   },
   "outputs": [
    {
     "data": {
      "text/plain": [
       "0    9200\n",
       "1    2300\n",
       "Name: y1, dtype: int64"
      ]
     },
     "execution_count": 6,
     "metadata": {},
     "output_type": "execute_result"
    }
   ],
   "source": [
    "data.y1.value_counts()"
   ]
  },
  {
   "cell_type": "markdown",
   "metadata": {},
   "source": [
    "#### 1.2 dataset.info() to exam all variable len and type"
   ]
  },
  {
   "cell_type": "code",
   "execution_count": 7,
   "metadata": {},
   "outputs": [
    {
     "name": "stdout",
     "output_type": "stream",
     "text": [
      "<class 'pandas.core.frame.DataFrame'>\n",
      "RangeIndex: 11500 entries, 0 to 11499\n",
      "Columns: 180 entries, X1 to y1\n",
      "dtypes: int64(180)\n",
      "memory usage: 15.8 MB\n"
     ]
    }
   ],
   "source": [
    "data.info()"
   ]
  },
  {
   "cell_type": "markdown",
   "metadata": {},
   "source": [
    "#### 1.3 use data[columne].value_counts() to check categorical variable"
   ]
  },
  {
   "cell_type": "markdown",
   "metadata": {},
   "source": [
    "#### 1.4 use dataset.describe() to get general descriptive statistics"
   ]
  },
  {
   "cell_type": "code",
   "execution_count": 8,
   "metadata": {},
   "outputs": [
    {
     "data": {
      "text/html": [
       "<div>\n",
       "<style>\n",
       "    .dataframe thead tr:only-child th {\n",
       "        text-align: right;\n",
       "    }\n",
       "\n",
       "    .dataframe thead th {\n",
       "        text-align: left;\n",
       "    }\n",
       "\n",
       "    .dataframe tbody tr th {\n",
       "        vertical-align: top;\n",
       "    }\n",
       "</style>\n",
       "<table border=\"1\" class=\"dataframe\">\n",
       "  <thead>\n",
       "    <tr style=\"text-align: right;\">\n",
       "      <th></th>\n",
       "      <th>X1</th>\n",
       "      <th>X2</th>\n",
       "      <th>X3</th>\n",
       "      <th>X4</th>\n",
       "      <th>X5</th>\n",
       "      <th>X6</th>\n",
       "      <th>X7</th>\n",
       "      <th>X8</th>\n",
       "      <th>X9</th>\n",
       "      <th>X10</th>\n",
       "      <th>...</th>\n",
       "      <th>X171</th>\n",
       "      <th>X172</th>\n",
       "      <th>X173</th>\n",
       "      <th>X174</th>\n",
       "      <th>X175</th>\n",
       "      <th>X176</th>\n",
       "      <th>X177</th>\n",
       "      <th>X178</th>\n",
       "      <th>y</th>\n",
       "      <th>y1</th>\n",
       "    </tr>\n",
       "  </thead>\n",
       "  <tbody>\n",
       "    <tr>\n",
       "      <th>count</th>\n",
       "      <td>11500.000000</td>\n",
       "      <td>11500.000000</td>\n",
       "      <td>11500.000000</td>\n",
       "      <td>11500.000000</td>\n",
       "      <td>11500.000000</td>\n",
       "      <td>11500.000000</td>\n",
       "      <td>11500.000000</td>\n",
       "      <td>11500.00000</td>\n",
       "      <td>11500.00000</td>\n",
       "      <td>11500.000000</td>\n",
       "      <td>...</td>\n",
       "      <td>11500.000000</td>\n",
       "      <td>11500.000000</td>\n",
       "      <td>11500.000000</td>\n",
       "      <td>11500.000000</td>\n",
       "      <td>11500.000000</td>\n",
       "      <td>11500.000000</td>\n",
       "      <td>11500.000000</td>\n",
       "      <td>11500.000000</td>\n",
       "      <td>11500.000000</td>\n",
       "      <td>11500.000000</td>\n",
       "    </tr>\n",
       "    <tr>\n",
       "      <th>mean</th>\n",
       "      <td>-11.581391</td>\n",
       "      <td>-10.911565</td>\n",
       "      <td>-10.187130</td>\n",
       "      <td>-9.143043</td>\n",
       "      <td>-8.009739</td>\n",
       "      <td>-7.003478</td>\n",
       "      <td>-6.502087</td>\n",
       "      <td>-6.68713</td>\n",
       "      <td>-6.55800</td>\n",
       "      <td>-6.168435</td>\n",
       "      <td>...</td>\n",
       "      <td>-11.630348</td>\n",
       "      <td>-12.943478</td>\n",
       "      <td>-13.668870</td>\n",
       "      <td>-13.363304</td>\n",
       "      <td>-13.045043</td>\n",
       "      <td>-12.705130</td>\n",
       "      <td>-12.426000</td>\n",
       "      <td>-12.195652</td>\n",
       "      <td>3.000000</td>\n",
       "      <td>0.200000</td>\n",
       "    </tr>\n",
       "    <tr>\n",
       "      <th>std</th>\n",
       "      <td>165.626284</td>\n",
       "      <td>166.059609</td>\n",
       "      <td>163.524317</td>\n",
       "      <td>161.269041</td>\n",
       "      <td>160.998007</td>\n",
       "      <td>161.328725</td>\n",
       "      <td>161.467837</td>\n",
       "      <td>162.11912</td>\n",
       "      <td>162.03336</td>\n",
       "      <td>160.436352</td>\n",
       "      <td>...</td>\n",
       "      <td>166.149790</td>\n",
       "      <td>168.554058</td>\n",
       "      <td>168.556486</td>\n",
       "      <td>167.257290</td>\n",
       "      <td>164.241019</td>\n",
       "      <td>162.895832</td>\n",
       "      <td>162.886311</td>\n",
       "      <td>164.852015</td>\n",
       "      <td>1.414275</td>\n",
       "      <td>0.400017</td>\n",
       "    </tr>\n",
       "    <tr>\n",
       "      <th>min</th>\n",
       "      <td>-1839.000000</td>\n",
       "      <td>-1838.000000</td>\n",
       "      <td>-1835.000000</td>\n",
       "      <td>-1845.000000</td>\n",
       "      <td>-1791.000000</td>\n",
       "      <td>-1757.000000</td>\n",
       "      <td>-1832.000000</td>\n",
       "      <td>-1778.00000</td>\n",
       "      <td>-1840.00000</td>\n",
       "      <td>-1867.000000</td>\n",
       "      <td>...</td>\n",
       "      <td>-1865.000000</td>\n",
       "      <td>-1642.000000</td>\n",
       "      <td>-1723.000000</td>\n",
       "      <td>-1866.000000</td>\n",
       "      <td>-1863.000000</td>\n",
       "      <td>-1781.000000</td>\n",
       "      <td>-1727.000000</td>\n",
       "      <td>-1829.000000</td>\n",
       "      <td>1.000000</td>\n",
       "      <td>0.000000</td>\n",
       "    </tr>\n",
       "    <tr>\n",
       "      <th>25%</th>\n",
       "      <td>-54.000000</td>\n",
       "      <td>-55.000000</td>\n",
       "      <td>-54.000000</td>\n",
       "      <td>-54.000000</td>\n",
       "      <td>-54.000000</td>\n",
       "      <td>-54.000000</td>\n",
       "      <td>-54.000000</td>\n",
       "      <td>-55.00000</td>\n",
       "      <td>-55.00000</td>\n",
       "      <td>-54.000000</td>\n",
       "      <td>...</td>\n",
       "      <td>-56.000000</td>\n",
       "      <td>-56.000000</td>\n",
       "      <td>-56.000000</td>\n",
       "      <td>-55.000000</td>\n",
       "      <td>-56.000000</td>\n",
       "      <td>-55.000000</td>\n",
       "      <td>-55.000000</td>\n",
       "      <td>-55.000000</td>\n",
       "      <td>2.000000</td>\n",
       "      <td>0.000000</td>\n",
       "    </tr>\n",
       "    <tr>\n",
       "      <th>50%</th>\n",
       "      <td>-8.000000</td>\n",
       "      <td>-8.000000</td>\n",
       "      <td>-7.000000</td>\n",
       "      <td>-8.000000</td>\n",
       "      <td>-8.000000</td>\n",
       "      <td>-8.000000</td>\n",
       "      <td>-8.000000</td>\n",
       "      <td>-8.00000</td>\n",
       "      <td>-7.00000</td>\n",
       "      <td>-7.000000</td>\n",
       "      <td>...</td>\n",
       "      <td>-10.000000</td>\n",
       "      <td>-10.000000</td>\n",
       "      <td>-10.000000</td>\n",
       "      <td>-10.000000</td>\n",
       "      <td>-9.000000</td>\n",
       "      <td>-9.000000</td>\n",
       "      <td>-9.000000</td>\n",
       "      <td>-9.000000</td>\n",
       "      <td>3.000000</td>\n",
       "      <td>0.000000</td>\n",
       "    </tr>\n",
       "    <tr>\n",
       "      <th>75%</th>\n",
       "      <td>34.000000</td>\n",
       "      <td>35.000000</td>\n",
       "      <td>36.000000</td>\n",
       "      <td>36.000000</td>\n",
       "      <td>35.000000</td>\n",
       "      <td>36.000000</td>\n",
       "      <td>35.000000</td>\n",
       "      <td>36.00000</td>\n",
       "      <td>36.00000</td>\n",
       "      <td>35.250000</td>\n",
       "      <td>...</td>\n",
       "      <td>34.000000</td>\n",
       "      <td>33.000000</td>\n",
       "      <td>33.000000</td>\n",
       "      <td>34.000000</td>\n",
       "      <td>34.000000</td>\n",
       "      <td>34.000000</td>\n",
       "      <td>34.000000</td>\n",
       "      <td>34.000000</td>\n",
       "      <td>4.000000</td>\n",
       "      <td>0.000000</td>\n",
       "    </tr>\n",
       "    <tr>\n",
       "      <th>max</th>\n",
       "      <td>1726.000000</td>\n",
       "      <td>1713.000000</td>\n",
       "      <td>1697.000000</td>\n",
       "      <td>1612.000000</td>\n",
       "      <td>1518.000000</td>\n",
       "      <td>1816.000000</td>\n",
       "      <td>2047.000000</td>\n",
       "      <td>2047.00000</td>\n",
       "      <td>2047.00000</td>\n",
       "      <td>2047.000000</td>\n",
       "      <td>...</td>\n",
       "      <td>1472.000000</td>\n",
       "      <td>1319.000000</td>\n",
       "      <td>1436.000000</td>\n",
       "      <td>1733.000000</td>\n",
       "      <td>1958.000000</td>\n",
       "      <td>2047.000000</td>\n",
       "      <td>2047.000000</td>\n",
       "      <td>1915.000000</td>\n",
       "      <td>5.000000</td>\n",
       "      <td>1.000000</td>\n",
       "    </tr>\n",
       "  </tbody>\n",
       "</table>\n",
       "<p>8 rows × 180 columns</p>\n",
       "</div>"
      ],
      "text/plain": [
       "                 X1            X2            X3            X4            X5  \\\n",
       "count  11500.000000  11500.000000  11500.000000  11500.000000  11500.000000   \n",
       "mean     -11.581391    -10.911565    -10.187130     -9.143043     -8.009739   \n",
       "std      165.626284    166.059609    163.524317    161.269041    160.998007   \n",
       "min    -1839.000000  -1838.000000  -1835.000000  -1845.000000  -1791.000000   \n",
       "25%      -54.000000    -55.000000    -54.000000    -54.000000    -54.000000   \n",
       "50%       -8.000000     -8.000000     -7.000000     -8.000000     -8.000000   \n",
       "75%       34.000000     35.000000     36.000000     36.000000     35.000000   \n",
       "max     1726.000000   1713.000000   1697.000000   1612.000000   1518.000000   \n",
       "\n",
       "                 X6            X7           X8           X9           X10  \\\n",
       "count  11500.000000  11500.000000  11500.00000  11500.00000  11500.000000   \n",
       "mean      -7.003478     -6.502087     -6.68713     -6.55800     -6.168435   \n",
       "std      161.328725    161.467837    162.11912    162.03336    160.436352   \n",
       "min    -1757.000000  -1832.000000  -1778.00000  -1840.00000  -1867.000000   \n",
       "25%      -54.000000    -54.000000    -55.00000    -55.00000    -54.000000   \n",
       "50%       -8.000000     -8.000000     -8.00000     -7.00000     -7.000000   \n",
       "75%       36.000000     35.000000     36.00000     36.00000     35.250000   \n",
       "max     1816.000000   2047.000000   2047.00000   2047.00000   2047.000000   \n",
       "\n",
       "           ...               X171          X172          X173          X174  \\\n",
       "count      ...       11500.000000  11500.000000  11500.000000  11500.000000   \n",
       "mean       ...         -11.630348    -12.943478    -13.668870    -13.363304   \n",
       "std        ...         166.149790    168.554058    168.556486    167.257290   \n",
       "min        ...       -1865.000000  -1642.000000  -1723.000000  -1866.000000   \n",
       "25%        ...         -56.000000    -56.000000    -56.000000    -55.000000   \n",
       "50%        ...         -10.000000    -10.000000    -10.000000    -10.000000   \n",
       "75%        ...          34.000000     33.000000     33.000000     34.000000   \n",
       "max        ...        1472.000000   1319.000000   1436.000000   1733.000000   \n",
       "\n",
       "               X175          X176          X177          X178             y  \\\n",
       "count  11500.000000  11500.000000  11500.000000  11500.000000  11500.000000   \n",
       "mean     -13.045043    -12.705130    -12.426000    -12.195652      3.000000   \n",
       "std      164.241019    162.895832    162.886311    164.852015      1.414275   \n",
       "min    -1863.000000  -1781.000000  -1727.000000  -1829.000000      1.000000   \n",
       "25%      -56.000000    -55.000000    -55.000000    -55.000000      2.000000   \n",
       "50%       -9.000000     -9.000000     -9.000000     -9.000000      3.000000   \n",
       "75%       34.000000     34.000000     34.000000     34.000000      4.000000   \n",
       "max     1958.000000   2047.000000   2047.000000   1915.000000      5.000000   \n",
       "\n",
       "                 y1  \n",
       "count  11500.000000  \n",
       "mean       0.200000  \n",
       "std        0.400017  \n",
       "min        0.000000  \n",
       "25%        0.000000  \n",
       "50%        0.000000  \n",
       "75%        0.000000  \n",
       "max        1.000000  \n",
       "\n",
       "[8 rows x 180 columns]"
      ]
     },
     "execution_count": 8,
     "metadata": {},
     "output_type": "execute_result"
    }
   ],
   "source": [
    "data.describe()"
   ]
  },
  {
   "cell_type": "markdown",
   "metadata": {},
   "source": [
    "#### 1.5 dataset.hist(bins=50, figsize=(20,15)) to check histogram of all numeric variables"
   ]
  },
  {
   "cell_type": "code",
   "execution_count": 9,
   "metadata": {},
   "outputs": [
    {
     "data": {
      "text/plain": [
       "array([[<matplotlib.axes._subplots.AxesSubplot object at 0x11a4b4550>,\n",
       "        <matplotlib.axes._subplots.AxesSubplot object at 0x116d36828>,\n",
       "        <matplotlib.axes._subplots.AxesSubplot object at 0x119a7b080>,\n",
       "        <matplotlib.axes._subplots.AxesSubplot object at 0x119ae2dd8>],\n",
       "       [<matplotlib.axes._subplots.AxesSubplot object at 0x119b456d8>,\n",
       "        <matplotlib.axes._subplots.AxesSubplot object at 0x119b45710>,\n",
       "        <matplotlib.axes._subplots.AxesSubplot object at 0x11a764940>,\n",
       "        <matplotlib.axes._subplots.AxesSubplot object at 0x11a9232b0>],\n",
       "       [<matplotlib.axes._subplots.AxesSubplot object at 0x11a9aaef0>,\n",
       "        <matplotlib.axes._subplots.AxesSubplot object at 0x11a9bb668>,\n",
       "        <matplotlib.axes._subplots.AxesSubplot object at 0x11aa769b0>,\n",
       "        <matplotlib.axes._subplots.AxesSubplot object at 0x1231fd6d8>],\n",
       "       [<matplotlib.axes._subplots.AxesSubplot object at 0x12326d470>,\n",
       "        <matplotlib.axes._subplots.AxesSubplot object at 0x1232c8d30>,\n",
       "        <matplotlib.axes._subplots.AxesSubplot object at 0x12334a048>,\n",
       "        <matplotlib.axes._subplots.AxesSubplot object at 0x1233a4f98>]], dtype=object)"
      ]
     },
     "execution_count": 9,
     "metadata": {},
     "output_type": "execute_result"
    },
    {
     "data": {
      "image/png": "[encoded data removed]",
      "text/plain": [
       "<matplotlib.figure.Figure at 0x11a4bea20>"
      ]
     },
     "metadata": {},
     "output_type": "display_data"
    }
   ],
   "source": [
    "cols= data.columns[:16]\n",
    "data[cols].hist(bins=50, figsize=(20,15))"
   ]
  },
  {
   "cell_type": "code",
   "execution_count": null,
   "metadata": {
    "collapsed": true
   },
   "outputs": [],
   "source": []
  },
  {
   "cell_type": "markdown",
   "metadata": {},
   "source": [
    "## II. Subset of data "
   ]
  },
  {
   "cell_type": "code",
   "execution_count": 10,
   "metadata": {
    "collapsed": true
   },
   "outputs": [],
   "source": [
    "# to make this notebook's output identical at every run\n",
    "np.random.seed(42)"
   ]
  },
  {
   "cell_type": "markdown",
   "metadata": {},
   "source": [
    "#### 2.1 Use sklearn.model_selection module to split the dataset"
   ]
  },
  {
   "cell_type": "code",
   "execution_count": 11,
   "metadata": {
    "collapsed": true
   },
   "outputs": [],
   "source": [
    "from sklearn.model_selection import train_test_split\n",
    "\n",
    "# define the test_size, setup the random_state\n",
    "train_set, test_set = train_test_split(data, test_size=0.2, random_state=42)"
   ]
  },
  {
   "cell_type": "markdown",
   "metadata": {},
   "source": [
    "#### 2.2 define X and y"
   ]
  },
  {
   "cell_type": "code",
   "execution_count": 12,
   "metadata": {},
   "outputs": [
    {
     "name": "stdout",
     "output_type": "stream",
     "text": [
      "(11500, 180)\n",
      "(9200, 178) (9200,) (2300, 178) (2300,)\n"
     ]
    }
   ],
   "source": [
    "X_train = train_set.iloc[:,:-2].copy() \n",
    "y_train = train_set.iloc[:,-1].copy()\n",
    "\n",
    "X_test = test_set.iloc[:,:-2].copy() \n",
    "y_test = test_set.iloc[:,-1].copy()\n",
    "\n",
    "\n",
    "print(data.shape)\n",
    "print(X_train.shape, y_train.shape, X_test.shape, y_test.shape)\n"
   ]
  },
  {
   "cell_type": "code",
   "execution_count": 13,
   "metadata": {
    "scrolled": false
   },
   "outputs": [
    {
     "name": "stdout",
     "output_type": "stream",
     "text": [
      "0    0.800543\n",
      "1    0.199457\n",
      "Name: y1, dtype: float64\n",
      "0    0.797826\n",
      "1    0.202174\n",
      "Name: y1, dtype: float64\n"
     ]
    }
   ],
   "source": [
    "# check the weight of y\n",
    "print(y_train.value_counts()/len(y_train))\n",
    "print(y_test.value_counts()/len(y_test))"
   ]
  },
  {
   "cell_type": "markdown",
   "metadata": {},
   "source": []
  },
  {
   "cell_type": "markdown",
   "metadata": {},
   "source": [
    "## III. Discover and visualize the data to gain insights¶"
   ]
  },
  {
   "cell_type": "code",
   "execution_count": 14,
   "metadata": {
    "collapsed": true
   },
   "outputs": [],
   "source": [
    "train_set2 = train_set.drop('y', 1)"
   ]
  },
  {
   "cell_type": "code",
   "execution_count": 95,
   "metadata": {
    "scrolled": false
   },
   "outputs": [
    {
     "data": {
      "text/plain": [
       "<matplotlib.axes._subplots.AxesSubplot at 0x126a21828>"
      ]
     },
     "execution_count": 95,
     "metadata": {},
     "output_type": "execute_result"
    },
    {
     "data": {
      "image/png": "[encoded data removed]",
      "text/plain": [
       "<matplotlib.figure.Figure at 0x126a9fcc0>"
      ]
     },
     "metadata": {},
     "output_type": "display_data"
    }
   ],
   "source": [
    "train_set2.corr()['y1'].sort_values()[:-1].plot(kind='bar', figsize=(20,6))"
   ]
  },
  {
   "cell_type": "code",
   "execution_count": 94,
   "metadata": {},
   "outputs": [
    {
     "data": {
      "text/plain": [
       "<matplotlib.axes._subplots.AxesSubplot at 0x1199eb518>"
      ]
     },
     "execution_count": 94,
     "metadata": {},
     "output_type": "execute_result"
    },
    {
     "data": {
      "image/png": "[encoded data removed]",
      "text/plain": [
       "<matplotlib.figure.Figure at 0x119d2c710>"
      ]
     },
     "metadata": {},
     "output_type": "display_data"
    }
   ],
   "source": [
    "train_set2.corr()['y1'][:-1].plot(kind='bar', figsize=(20,6))"
   ]
  },
  {
   "cell_type": "markdown",
   "metadata": {},
   "source": [
    "## IV. Prepare the data for Machine Learning algorithms"
   ]
  },
  {
   "cell_type": "code",
   "execution_count": null,
   "metadata": {
    "collapsed": true
   },
   "outputs": [],
   "source": []
  },
  {
   "cell_type": "markdown",
   "metadata": {},
   "source": [
    "## V. Select and train a model: SGD, RF, KNN"
   ]
  },
  {
   "cell_type": "markdown",
   "metadata": {},
   "source": [
    "#### 5.1  Try on binary classifier first with SGDClassifier + CV"
   ]
  },
  {
   "cell_type": "code",
   "execution_count": 75,
   "metadata": {},
   "outputs": [
    {
     "data": {
      "text/plain": [
       "SGDClassifier(alpha=0.0001, average=False, class_weight=None, epsilon=0.1,\n",
       "       eta0=0.0, fit_intercept=True, l1_ratio=0.15,\n",
       "       learning_rate='optimal', loss='hinge', n_iter=5, n_jobs=1,\n",
       "       penalty='l2', power_t=0.5, random_state=42, shuffle=True, verbose=0,\n",
       "       warm_start=False)"
      ]
     },
     "execution_count": 75,
     "metadata": {},
     "output_type": "execute_result"
    }
   ],
   "source": [
    "from sklearn.linear_model import SGDClassifier\n",
    "\n",
    "sgd_clf = SGDClassifier(random_state=42)\n",
    "sgd_clf.fit(X_train, y_train)"
   ]
  },
  {
   "cell_type": "code",
   "execution_count": 76,
   "metadata": {},
   "outputs": [
    {
     "name": "stdout",
     "output_type": "stream",
     "text": [
      "[1]\n",
      "1\n"
     ]
    }
   ],
   "source": [
    "some_row = X_train.loc[10000]\n",
    "print(sgd_clf.predict([some_row]) )\n",
    "print(y_train[10000])"
   ]
  },
  {
   "cell_type": "code",
   "execution_count": 77,
   "metadata": {},
   "outputs": [
    {
     "data": {
      "text/plain": [
       "array([ 0.53244213,  0.55265732,  0.53163731])"
      ]
     },
     "execution_count": 77,
     "metadata": {},
     "output_type": "execute_result"
    }
   ],
   "source": [
    "#evaluate with CV\n",
    "from sklearn.model_selection import cross_val_score\n",
    "cross_val_score(sgd_clf, X_train, y_train, cv=3, scoring=\"accuracy\") "
   ]
  },
  {
   "cell_type": "markdown",
   "metadata": {},
   "source": [
    "#### 5.2 Evaluate with confusion_matrix"
   ]
  },
  {
   "cell_type": "code",
   "execution_count": 78,
   "metadata": {
    "collapsed": true
   },
   "outputs": [],
   "source": [
    "# 2. confusion matrix to check the accuracy\n",
    "from sklearn.model_selection import cross_val_predict\n",
    "\n",
    "y_train_pred = cross_val_predict(sgd_clf, X_train, y_train, cv=3)"
   ]
  },
  {
   "cell_type": "code",
   "execution_count": 79,
   "metadata": {},
   "outputs": [
    {
     "data": {
      "text/plain": [
       "array([[4052, 3313],\n",
       "       [ 929,  906]])"
      ]
     },
     "execution_count": 79,
     "metadata": {},
     "output_type": "execute_result"
    }
   ],
   "source": [
    "from sklearn.metrics import confusion_matrix\n",
    "\n",
    "confusion_matrix(y_train, y_train_pred)"
   ]
  },
  {
   "cell_type": "markdown",
   "metadata": {},
   "source": [
    "#### 5.3 Based on Confusion Matrix, check precision and recall"
   ]
  },
  {
   "cell_type": "code",
   "execution_count": 80,
   "metadata": {},
   "outputs": [
    {
     "name": "stdout",
     "output_type": "stream",
     "text": [
      "0.214742830055\n",
      "0.493732970027\n"
     ]
    }
   ],
   "source": [
    "from sklearn.metrics import precision_score, recall_score\n",
    "\n",
    "print(precision_score(y_train, y_train_pred))\n",
    "print(recall_score(y_train, y_train_pred))"
   ]
  },
  {
   "cell_type": "markdown",
   "metadata": {},
   "source": [
    "#### 5.4 check f1_socre"
   ]
  },
  {
   "cell_type": "code",
   "execution_count": 81,
   "metadata": {},
   "outputs": [
    {
     "data": {
      "text/plain": [
       "0.29930624380574827"
      ]
     },
     "execution_count": 81,
     "metadata": {},
     "output_type": "execute_result"
    }
   ],
   "source": [
    "from sklearn.metrics import f1_score\n",
    "f1_score(y_train, y_train_pred)"
   ]
  },
  {
   "cell_type": "code",
   "execution_count": 82,
   "metadata": {},
   "outputs": [
    {
     "data": {
      "text/plain": [
       "0.49739130434782608"
      ]
     },
     "execution_count": 82,
     "metadata": {},
     "output_type": "execute_result"
    }
   ],
   "source": [
    "y_pred = sgd_clf.predict(X_test)\n",
    "accuracy_score(y_test, y_pred)"
   ]
  },
  {
   "cell_type": "markdown",
   "metadata": {},
   "source": [
    "#### 6.1 Use ensemble.RandomForestClassifier"
   ]
  },
  {
   "cell_type": "code",
   "execution_count": 88,
   "metadata": {},
   "outputs": [
    {
     "data": {
      "text/plain": [
       "RandomForestClassifier(bootstrap=True, class_weight=None, criterion='gini',\n",
       "            max_depth=None, max_features='auto', max_leaf_nodes=None,\n",
       "            min_impurity_split=1e-07, min_samples_leaf=1,\n",
       "            min_samples_split=2, min_weight_fraction_leaf=0.0,\n",
       "            n_estimators=10, n_jobs=1, oob_score=False, random_state=42,\n",
       "            verbose=0, warm_start=False)"
      ]
     },
     "execution_count": 88,
     "metadata": {},
     "output_type": "execute_result"
    }
   ],
   "source": [
    "# 1. Build the forest_elf model\n",
    "from sklearn.ensemble import RandomForestClassifier\n",
    "forest_clf = RandomForestClassifier(random_state=42)\n",
    "forest_clf.fit(X_train, y_train)"
   ]
  },
  {
   "cell_type": "code",
   "execution_count": 89,
   "metadata": {},
   "outputs": [
    {
     "name": "stdout",
     "output_type": "stream",
     "text": [
      "0.925287356322\n",
      "0.877384196185\n"
     ]
    }
   ],
   "source": [
    "y_train_pred = cross_val_predict(forest_clf, X_train, y_train, cv=3)\n",
    "\n",
    "print(precision_score(y_train, y_train_pred))\n",
    "print(recall_score(y_train, y_train_pred))"
   ]
  },
  {
   "cell_type": "code",
   "execution_count": 90,
   "metadata": {},
   "outputs": [
    {
     "data": {
      "text/plain": [
       "array([ 0.96152592,  0.96315618,  0.95955643])"
      ]
     },
     "execution_count": 90,
     "metadata": {},
     "output_type": "execute_result"
    }
   ],
   "source": [
    "cross_val_score(forest_clf, X_train, y_train, cv=3, scoring=\"accuracy\") "
   ]
  },
  {
   "cell_type": "code",
   "execution_count": 91,
   "metadata": {},
   "outputs": [
    {
     "data": {
      "text/plain": [
       "array([[7235,  130],\n",
       "       [ 225, 1610]])"
      ]
     },
     "execution_count": 91,
     "metadata": {},
     "output_type": "execute_result"
    }
   ],
   "source": [
    "y_train_pred = cross_val_predict(forest_clf, X_train, y_train, cv=3)\n",
    "confusion_matrix(y_train, y_train_pred)"
   ]
  },
  {
   "cell_type": "code",
   "execution_count": 92,
   "metadata": {},
   "outputs": [
    {
     "data": {
      "text/plain": [
       "0.9682608695652174"
      ]
     },
     "execution_count": 92,
     "metadata": {},
     "output_type": "execute_result"
    }
   ],
   "source": [
    "y_pred = forest_clf.predict(X_test)\n",
    "accuracy_score(y_test, y_pred)"
   ]
  },
  {
   "cell_type": "markdown",
   "metadata": {},
   "source": [
    "#### 6.2 Plot the ROC curve"
   ]
  },
  {
   "cell_type": "code",
   "execution_count": 29,
   "metadata": {
    "collapsed": true
   },
   "outputs": [],
   "source": [
    "y_probas_forest = cross_val_predict(forest_clf, X_train, y_train, cv=3,\n",
    "                                    method=\"predict_proba\")\n"
   ]
  },
  {
   "cell_type": "code",
   "execution_count": 30,
   "metadata": {
    "collapsed": true
   },
   "outputs": [],
   "source": [
    "from sklearn.metrics import roc_curve\n",
    "\n",
    "y_scores_forest = y_probas_forest[:, 1] # score = proba of positive class\n",
    "fpr_forest, tpr_forest, thresholds_forest = roc_curve(y_train, y_scores_forest)"
   ]
  },
  {
   "cell_type": "code",
   "execution_count": 31,
   "metadata": {},
   "outputs": [
    {
     "data": {
      "image/png": "[encoded data removed]",
      "text/plain": [
       "<matplotlib.figure.Figure at 0x1278a6978>"
      ]
     },
     "metadata": {},
     "output_type": "display_data"
    }
   ],
   "source": [
    "# 2. plot ROC curve of forest model\n",
    "def plot_roc_curve(fpr, tpr, label=None):\n",
    "    plt.plot(fpr, tpr, linewidth=2, label=label)\n",
    "    plt.plot([0, 1], [0, 1], 'k--')\n",
    "    plt.axis([0, 1, 0, 1])\n",
    "    plt.xlabel('False Positive Rate', fontsize=16)\n",
    "    plt.ylabel('True Positive Rate', fontsize=16)\n",
    "\n",
    "plt.figure(figsize=(8, 6))\n",
    "plot_roc_curve(fpr_forest, tpr_forest)\n",
    "plt.show()"
   ]
  },
  {
   "cell_type": "markdown",
   "metadata": {},
   "source": [
    "#### 7.1 use KNN classifier"
   ]
  },
  {
   "cell_type": "code",
   "execution_count": 32,
   "metadata": {},
   "outputs": [
    {
     "data": {
      "text/plain": [
       "KNeighborsClassifier(algorithm='auto', leaf_size=30, metric='minkowski',\n",
       "           metric_params=None, n_jobs=-1, n_neighbors=4, p=2,\n",
       "           weights='distance')"
      ]
     },
     "execution_count": 32,
     "metadata": {},
     "output_type": "execute_result"
    }
   ],
   "source": [
    "from sklearn.neighbors import KNeighborsClassifier\n",
    "knn_clf = KNeighborsClassifier(n_jobs=-1, weights='distance', n_neighbors=4)\n",
    "knn_clf.fit(X_train, y_train)"
   ]
  },
  {
   "cell_type": "code",
   "execution_count": 33,
   "metadata": {},
   "outputs": [
    {
     "name": "stdout",
     "output_type": "stream",
     "text": [
      "0.988304093567\n",
      "0.644686648501\n"
     ]
    }
   ],
   "source": [
    "y_train_pred = cross_val_predict(knn_clf, X_train, y_train, cv=3)\n",
    "\n",
    "print(precision_score(y_train, y_train_pred))\n",
    "print(recall_score(y_train, y_train_pred))"
   ]
  },
  {
   "cell_type": "code",
   "execution_count": 34,
   "metadata": {},
   "outputs": [
    {
     "data": {
      "text/plain": [
       "array([ 0.92794261,  0.93348549,  0.92139596])"
      ]
     },
     "execution_count": 34,
     "metadata": {},
     "output_type": "execute_result"
    }
   ],
   "source": [
    "cross_val_score(knn_clf, X_train, y_train, cv=3, scoring=\"accuracy\") "
   ]
  },
  {
   "cell_type": "code",
   "execution_count": 35,
   "metadata": {},
   "outputs": [
    {
     "data": {
      "text/plain": [
       "array([[7351,   14],\n",
       "       [ 652, 1183]])"
      ]
     },
     "execution_count": 35,
     "metadata": {},
     "output_type": "execute_result"
    }
   ],
   "source": [
    "y_train_pred = cross_val_predict(knn_clf, X_train, y_train, cv=3)\n",
    "confusion_matrix(y_train, y_train_pred)"
   ]
  },
  {
   "cell_type": "markdown",
   "metadata": {},
   "source": [
    "#### 7.2 Plot the ROC curve"
   ]
  },
  {
   "cell_type": "code",
   "execution_count": 36,
   "metadata": {
    "collapsed": true
   },
   "outputs": [],
   "source": [
    "y_probas_knn = cross_val_predict(knn_clf, X_train, y_train, cv=3,\n",
    "                                    method=\"predict_proba\")"
   ]
  },
  {
   "cell_type": "code",
   "execution_count": 37,
   "metadata": {
    "collapsed": true
   },
   "outputs": [],
   "source": [
    "y_scores_knn = y_probas_knn[:, 1] # score = proba of positive class\n",
    "fpr_knn, tpr_knn, thresholds_knn = roc_curve(y_train, y_scores_knn)\n"
   ]
  },
  {
   "cell_type": "code",
   "execution_count": 38,
   "metadata": {},
   "outputs": [
    {
     "data": {
      "image/png": "[encoded data removed]",
      "text/plain": [
       "<matplotlib.figure.Figure at 0x1278bfb38>"
      ]
     },
     "metadata": {},
     "output_type": "display_data"
    }
   ],
   "source": [
    "plt.figure(figsize=(8, 6))\n",
    "plot_roc_curve(fpr_forest, tpr_forest)\n",
    "plot_roc_curve(fpr_knn, tpr_knn)\n",
    "plt.show()"
   ]
  },
  {
   "cell_type": "markdown",
   "metadata": {},
   "source": [
    "#### 8.1 use Logistic Regression"
   ]
  },
  {
   "cell_type": "code",
   "execution_count": 39,
   "metadata": {},
   "outputs": [
    {
     "data": {
      "text/plain": [
       "LogisticRegression(C=1.0, class_weight=None, dual=False, fit_intercept=True,\n",
       "          intercept_scaling=1, max_iter=100, multi_class='ovr', n_jobs=1,\n",
       "          penalty='l2', random_state=None, solver='liblinear', tol=0.0001,\n",
       "          verbose=0, warm_start=False)"
      ]
     },
     "execution_count": 39,
     "metadata": {},
     "output_type": "execute_result"
    }
   ],
   "source": [
    "from sklearn.linear_model import LogisticRegression\n",
    "\n",
    "logit = LogisticRegression()\n",
    "logit.fit(X_train, y_train)"
   ]
  },
  {
   "cell_type": "code",
   "execution_count": 40,
   "metadata": {},
   "outputs": [
    {
     "name": "stdout",
     "output_type": "stream",
     "text": [
      "0.857566765579\n",
      "0.157493188011\n"
     ]
    }
   ],
   "source": [
    "y_train_pred = cross_val_predict(logit, X_train, y_train, cv=3)\n",
    "\n",
    "print(precision_score(y_train, y_train_pred))\n",
    "print(recall_score(y_train, y_train_pred))"
   ]
  },
  {
   "cell_type": "code",
   "execution_count": 41,
   "metadata": {},
   "outputs": [
    {
     "data": {
      "text/plain": [
       "array([ 0.82621454,  0.82425823,  0.8297456 ])"
      ]
     },
     "execution_count": 41,
     "metadata": {},
     "output_type": "execute_result"
    }
   ],
   "source": [
    "cross_val_score(logit, X_train, y_train, cv=3, scoring=\"accuracy\") "
   ]
  },
  {
   "cell_type": "code",
   "execution_count": 42,
   "metadata": {},
   "outputs": [
    {
     "data": {
      "text/plain": [
       "array([[7317,   48],\n",
       "       [1546,  289]])"
      ]
     },
     "execution_count": 42,
     "metadata": {},
     "output_type": "execute_result"
    }
   ],
   "source": [
    "y_train_pred = cross_val_predict(logit, X_train, y_train, cv=3)\n",
    "confusion_matrix(y_train, y_train_pred)"
   ]
  },
  {
   "cell_type": "code",
   "execution_count": 43,
   "metadata": {},
   "outputs": [
    {
     "data": {
      "image/png": "[encoded data removed]",
      "text/plain": [
       "<matplotlib.figure.Figure at 0x127b6f7f0>"
      ]
     },
     "metadata": {},
     "output_type": "display_data"
    }
   ],
   "source": [
    "y_probas_logit = cross_val_predict(logit, X_train, y_train, cv=3,\n",
    "                                    method=\"predict_proba\")\n",
    "y_scores_logit = y_probas_logit[:, 1] # score = proba of positive class\n",
    "fpr_logit, tpr_logit, thresholds_logit = roc_curve(y_train, y_scores_logit)\n",
    "\n",
    "\n",
    "plt.figure(figsize=(8, 6))\n",
    "plot_roc_curve(fpr_logit, tpr_logit)\n",
    "plt.show()"
   ]
  },
  {
   "cell_type": "code",
   "execution_count": null,
   "metadata": {
    "collapsed": true
   },
   "outputs": [],
   "source": []
  },
  {
   "cell_type": "markdown",
   "metadata": {},
   "source": [
    "## VI. Hyperparameter tuning"
   ]
  },
  {
   "cell_type": "markdown",
   "metadata": {},
   "source": [
    "#### 9.1 GridSearchCV with KNN"
   ]
  },
  {
   "cell_type": "code",
   "execution_count": 44,
   "metadata": {
    "scrolled": true
   },
   "outputs": [
    {
     "name": "stdout",
     "output_type": "stream",
     "text": [
      "Fitting 5 folds for each of 6 candidates, totalling 30 fits\n",
      "[CV] n_neighbors=3, weights=uniform ..................................\n",
      "[CV] ... n_neighbors=3, weights=uniform, score=0.930978, total=   5.6s\n",
      "[CV] n_neighbors=3, weights=uniform ..................................\n"
     ]
    },
    {
     "name": "stderr",
     "output_type": "stream",
     "text": [
      "[Parallel(n_jobs=1)]: Done   1 out of   1 | elapsed:   29.0s remaining:    0.0s\n"
     ]
    },
    {
     "name": "stdout",
     "output_type": "stream",
     "text": [
      "[CV] ... n_neighbors=3, weights=uniform, score=0.933152, total=   6.0s\n",
      "[CV] n_neighbors=3, weights=uniform ..................................\n"
     ]
    },
    {
     "name": "stderr",
     "output_type": "stream",
     "text": [
      "[Parallel(n_jobs=1)]: Done   2 out of   2 | elapsed:   57.2s remaining:    0.0s\n"
     ]
    },
    {
     "name": "stdout",
     "output_type": "stream",
     "text": [
      "[CV] ... n_neighbors=3, weights=uniform, score=0.931522, total=   5.4s\n",
      "[CV] n_neighbors=3, weights=uniform ..................................\n",
      "[CV] ... n_neighbors=3, weights=uniform, score=0.924457, total=   5.7s\n",
      "[CV] n_neighbors=3, weights=uniform ..................................\n",
      "[CV] ... n_neighbors=3, weights=uniform, score=0.927717, total=   5.5s\n",
      "[CV] n_neighbors=3, weights=distance .................................\n",
      "[CV] .. n_neighbors=3, weights=distance, score=0.930978, total=   5.4s\n",
      "[CV] n_neighbors=3, weights=distance .................................\n",
      "[CV] .. n_neighbors=3, weights=distance, score=0.933152, total=   5.8s\n",
      "[CV] n_neighbors=3, weights=distance .................................\n",
      "[CV] .. n_neighbors=3, weights=distance, score=0.932065, total=   6.2s\n",
      "[CV] n_neighbors=3, weights=distance .................................\n",
      "[CV] .. n_neighbors=3, weights=distance, score=0.925000, total=   6.1s\n",
      "[CV] n_neighbors=3, weights=distance .................................\n",
      "[CV] .. n_neighbors=3, weights=distance, score=0.927717, total=   5.6s\n",
      "[CV] n_neighbors=4, weights=uniform ..................................\n",
      "[CV] ... n_neighbors=4, weights=uniform, score=0.915761, total=   5.5s\n",
      "[CV] n_neighbors=4, weights=uniform ..................................\n",
      "[CV] ... n_neighbors=4, weights=uniform, score=0.920109, total=   6.0s\n",
      "[CV] n_neighbors=4, weights=uniform ..................................\n",
      "[CV] ... n_neighbors=4, weights=uniform, score=0.913043, total=   7.2s\n",
      "[CV] n_neighbors=4, weights=uniform ..................................\n",
      "[CV] ... n_neighbors=4, weights=uniform, score=0.912500, total=   5.7s\n",
      "[CV] n_neighbors=4, weights=uniform ..................................\n",
      "[CV] ... n_neighbors=4, weights=uniform, score=0.912500, total=   5.7s\n",
      "[CV] n_neighbors=4, weights=distance .................................\n",
      "[CV] .. n_neighbors=4, weights=distance, score=0.933696, total=   6.1s\n",
      "[CV] n_neighbors=4, weights=distance .................................\n",
      "[CV] .. n_neighbors=4, weights=distance, score=0.933696, total=   6.0s\n",
      "[CV] n_neighbors=4, weights=distance .................................\n",
      "[CV] .. n_neighbors=4, weights=distance, score=0.935870, total=   5.6s\n",
      "[CV] n_neighbors=4, weights=distance .................................\n",
      "[CV] .. n_neighbors=4, weights=distance, score=0.925543, total=   5.7s\n",
      "[CV] n_neighbors=4, weights=distance .................................\n",
      "[CV] .. n_neighbors=4, weights=distance, score=0.928804, total=   6.2s\n",
      "[CV] n_neighbors=5, weights=uniform ..................................\n",
      "[CV] ... n_neighbors=5, weights=uniform, score=0.922283, total=   5.7s\n",
      "[CV] n_neighbors=5, weights=uniform ..................................\n",
      "[CV] ... n_neighbors=5, weights=uniform, score=0.922283, total=   6.2s\n",
      "[CV] n_neighbors=5, weights=uniform ..................................\n",
      "[CV] ... n_neighbors=5, weights=uniform, score=0.924457, total=   5.9s\n",
      "[CV] n_neighbors=5, weights=uniform ..................................\n",
      "[CV] ... n_neighbors=5, weights=uniform, score=0.918478, total=   5.5s\n",
      "[CV] n_neighbors=5, weights=uniform ..................................\n",
      "[CV] ... n_neighbors=5, weights=uniform, score=0.919565, total=   5.3s\n",
      "[CV] n_neighbors=5, weights=distance .................................\n",
      "[CV] .. n_neighbors=5, weights=distance, score=0.922826, total=   5.4s\n",
      "[CV] n_neighbors=5, weights=distance .................................\n",
      "[CV] .. n_neighbors=5, weights=distance, score=0.922283, total=   5.5s\n",
      "[CV] n_neighbors=5, weights=distance .................................\n",
      "[CV] .. n_neighbors=5, weights=distance, score=0.925543, total=   5.8s\n",
      "[CV] n_neighbors=5, weights=distance .................................\n",
      "[CV] .. n_neighbors=5, weights=distance, score=0.919565, total=   5.7s\n",
      "[CV] n_neighbors=5, weights=distance .................................\n",
      "[CV] .. n_neighbors=5, weights=distance, score=0.920109, total=   5.5s\n"
     ]
    },
    {
     "name": "stderr",
     "output_type": "stream",
     "text": [
      "[Parallel(n_jobs=1)]: Done  30 out of  30 | elapsed: 14.3min finished\n"
     ]
    },
    {
     "data": {
      "text/plain": [
       "GridSearchCV(cv=5, error_score='raise',\n",
       "       estimator=KNeighborsClassifier(algorithm='auto', leaf_size=30, metric='minkowski',\n",
       "           metric_params=None, n_jobs=1, n_neighbors=5, p=2,\n",
       "           weights='uniform'),\n",
       "       fit_params={}, iid=True, n_jobs=1,\n",
       "       param_grid=[{'weights': ['uniform', 'distance'], 'n_neighbors': [3, 4, 5]}],\n",
       "       pre_dispatch='2*n_jobs', refit=True, return_train_score=True,\n",
       "       scoring=None, verbose=3)"
      ]
     },
     "execution_count": 44,
     "metadata": {},
     "output_type": "execute_result"
    }
   ],
   "source": [
    "from sklearn.model_selection import GridSearchCV\n",
    "\n",
    "param_grid = [{'weights': [\"uniform\", \"distance\"], 'n_neighbors': [3, 4, 5]}]\n",
    "\n",
    "knn_clf = KNeighborsClassifier(random_state=42)\n",
    "grid_search = GridSearchCV(knn_clf, param_grid, cv=5, verbose=3)\n",
    "grid_search.fit(X_train, y_train)"
   ]
  },
  {
   "cell_type": "code",
   "execution_count": 45,
   "metadata": {},
   "outputs": [
    {
     "data": {
      "text/plain": [
       "{'n_neighbors': 4, 'weights': 'distance'}"
      ]
     },
     "execution_count": 45,
     "metadata": {},
     "output_type": "execute_result"
    }
   ],
   "source": [
    "grid_search.best_params_"
   ]
  },
  {
   "cell_type": "code",
   "execution_count": 46,
   "metadata": {},
   "outputs": [
    {
     "data": {
      "text/plain": [
       "0.93152173913043479"
      ]
     },
     "execution_count": 46,
     "metadata": {},
     "output_type": "execute_result"
    }
   ],
   "source": [
    "grid_search.best_score_"
   ]
  },
  {
   "cell_type": "code",
   "execution_count": 49,
   "metadata": {},
   "outputs": [
    {
     "data": {
      "text/plain": [
       "0.93304347826086953"
      ]
     },
     "execution_count": 49,
     "metadata": {},
     "output_type": "execute_result"
    }
   ],
   "source": [
    "from sklearn.metrics import accuracy_score\n",
    "\n",
    "y_pred = grid_search.predict(X_test)\n",
    "accuracy_score(y_test, y_pred)"
   ]
  },
  {
   "cell_type": "code",
   "execution_count": 73,
   "metadata": {},
   "outputs": [
    {
     "name": "stdout",
     "output_type": "stream",
     "text": [
      "0.988304093567\n",
      "0.644686648501\n"
     ]
    }
   ],
   "source": [
    "y_train_pred = cross_val_predict(grid_search.best_estimator_, X_train, y_train, cv=3)\n",
    "\n",
    "print(precision_score(y_train, y_train_pred))\n",
    "print(recall_score(y_train, y_train_pred))"
   ]
  },
  {
   "cell_type": "code",
   "execution_count": null,
   "metadata": {
    "collapsed": true
   },
   "outputs": [],
   "source": []
  },
  {
   "cell_type": "markdown",
   "metadata": {},
   "source": [
    "#### 9.2 RandomizedSearchCV with RandomForest"
   ]
  },
  {
   "cell_type": "code",
   "execution_count": 52,
   "metadata": {
    "scrolled": true
   },
   "outputs": [
    {
     "name": "stdout",
     "output_type": "stream",
     "text": [
      "Fitting 5 folds for each of 10 candidates, totalling 50 fits\n",
      "[CV] bootstrap=False, criterion=gini, max_depth=None, max_features=8, min_samples_leaf=6, min_samples_split=3 \n",
      "[CV]  bootstrap=False, criterion=gini, max_depth=None, max_features=8, min_samples_leaf=6, min_samples_split=3, score=0.958696, total=   1.1s\n",
      "[CV] bootstrap=False, criterion=gini, max_depth=None, max_features=8, min_samples_leaf=6, min_samples_split=3 \n"
     ]
    },
    {
     "name": "stderr",
     "output_type": "stream",
     "text": [
      "[Parallel(n_jobs=1)]: Done   1 out of   1 | elapsed:    1.2s remaining:    0.0s\n"
     ]
    },
    {
     "name": "stdout",
     "output_type": "stream",
     "text": [
      "[CV]  bootstrap=False, criterion=gini, max_depth=None, max_features=8, min_samples_leaf=6, min_samples_split=3, score=0.969022, total=   1.1s\n",
      "[CV] bootstrap=False, criterion=gini, max_depth=None, max_features=8, min_samples_leaf=6, min_samples_split=3 \n"
     ]
    },
    {
     "name": "stderr",
     "output_type": "stream",
     "text": [
      "[Parallel(n_jobs=1)]: Done   2 out of   2 | elapsed:    2.3s remaining:    0.0s\n"
     ]
    },
    {
     "name": "stdout",
     "output_type": "stream",
     "text": [
      "[CV]  bootstrap=False, criterion=gini, max_depth=None, max_features=8, min_samples_leaf=6, min_samples_split=3, score=0.966304, total=   1.0s\n",
      "[CV] bootstrap=False, criterion=gini, max_depth=None, max_features=8, min_samples_leaf=6, min_samples_split=3 \n",
      "[CV]  bootstrap=False, criterion=gini, max_depth=None, max_features=8, min_samples_leaf=6, min_samples_split=3, score=0.961957, total=   1.0s\n",
      "[CV] bootstrap=False, criterion=gini, max_depth=None, max_features=8, min_samples_leaf=6, min_samples_split=3 \n",
      "[CV]  bootstrap=False, criterion=gini, max_depth=None, max_features=8, min_samples_leaf=6, min_samples_split=3, score=0.963587, total=   1.0s\n",
      "[CV] bootstrap=False, criterion=entropy, max_depth=3, max_features=1, min_samples_leaf=10, min_samples_split=7 \n",
      "[CV]  bootstrap=False, criterion=entropy, max_depth=3, max_features=1, min_samples_leaf=10, min_samples_split=7, score=0.916848, total=   0.1s\n",
      "[CV] bootstrap=False, criterion=entropy, max_depth=3, max_features=1, min_samples_leaf=10, min_samples_split=7 \n",
      "[CV]  bootstrap=False, criterion=entropy, max_depth=3, max_features=1, min_samples_leaf=10, min_samples_split=7, score=0.916848, total=   0.1s\n",
      "[CV] bootstrap=False, criterion=entropy, max_depth=3, max_features=1, min_samples_leaf=10, min_samples_split=7 \n",
      "[CV]  bootstrap=False, criterion=entropy, max_depth=3, max_features=1, min_samples_leaf=10, min_samples_split=7, score=0.913587, total=   0.0s\n",
      "[CV] bootstrap=False, criterion=entropy, max_depth=3, max_features=1, min_samples_leaf=10, min_samples_split=7 \n",
      "[CV]  bootstrap=False, criterion=entropy, max_depth=3, max_features=1, min_samples_leaf=10, min_samples_split=7, score=0.911413, total=   0.1s\n",
      "[CV] bootstrap=False, criterion=entropy, max_depth=3, max_features=1, min_samples_leaf=10, min_samples_split=7 \n",
      "[CV]  bootstrap=False, criterion=entropy, max_depth=3, max_features=1, min_samples_leaf=10, min_samples_split=7, score=0.913043, total=   0.0s\n",
      "[CV] bootstrap=True, criterion=entropy, max_depth=3, max_features=1, min_samples_leaf=10, min_samples_split=4 \n",
      "[CV]  bootstrap=True, criterion=entropy, max_depth=3, max_features=1, min_samples_leaf=10, min_samples_split=4, score=0.911413, total=   0.0s\n",
      "[CV] bootstrap=True, criterion=entropy, max_depth=3, max_features=1, min_samples_leaf=10, min_samples_split=4 \n",
      "[CV]  bootstrap=True, criterion=entropy, max_depth=3, max_features=1, min_samples_leaf=10, min_samples_split=4, score=0.921739, total=   0.0s\n",
      "[CV] bootstrap=True, criterion=entropy, max_depth=3, max_features=1, min_samples_leaf=10, min_samples_split=4 \n",
      "[CV]  bootstrap=True, criterion=entropy, max_depth=3, max_features=1, min_samples_leaf=10, min_samples_split=4, score=0.914674, total=   0.0s\n",
      "[CV] bootstrap=True, criterion=entropy, max_depth=3, max_features=1, min_samples_leaf=10, min_samples_split=4 \n",
      "[CV]  bootstrap=True, criterion=entropy, max_depth=3, max_features=1, min_samples_leaf=10, min_samples_split=4, score=0.919022, total=   0.1s\n",
      "[CV] bootstrap=True, criterion=entropy, max_depth=3, max_features=1, min_samples_leaf=10, min_samples_split=4 \n",
      "[CV]  bootstrap=True, criterion=entropy, max_depth=3, max_features=1, min_samples_leaf=10, min_samples_split=4, score=0.910870, total=   0.0s\n",
      "[CV] bootstrap=False, criterion=gini, max_depth=None, max_features=9, min_samples_leaf=3, min_samples_split=6 \n",
      "[CV]  bootstrap=False, criterion=gini, max_depth=None, max_features=9, min_samples_leaf=3, min_samples_split=6, score=0.963043, total=   1.3s\n",
      "[CV] bootstrap=False, criterion=gini, max_depth=None, max_features=9, min_samples_leaf=3, min_samples_split=6 \n",
      "[CV]  bootstrap=False, criterion=gini, max_depth=None, max_features=9, min_samples_leaf=3, min_samples_split=6, score=0.966848, total=   1.2s\n",
      "[CV] bootstrap=False, criterion=gini, max_depth=None, max_features=9, min_samples_leaf=3, min_samples_split=6 \n",
      "[CV]  bootstrap=False, criterion=gini, max_depth=None, max_features=9, min_samples_leaf=3, min_samples_split=6, score=0.965217, total=   1.2s\n",
      "[CV] bootstrap=False, criterion=gini, max_depth=None, max_features=9, min_samples_leaf=3, min_samples_split=6 \n",
      "[CV]  bootstrap=False, criterion=gini, max_depth=None, max_features=9, min_samples_leaf=3, min_samples_split=6, score=0.961413, total=   1.2s\n",
      "[CV] bootstrap=False, criterion=gini, max_depth=None, max_features=9, min_samples_leaf=3, min_samples_split=6 \n",
      "[CV]  bootstrap=False, criterion=gini, max_depth=None, max_features=9, min_samples_leaf=3, min_samples_split=6, score=0.970652, total=   1.3s\n",
      "[CV] bootstrap=True, criterion=gini, max_depth=3, max_features=9, min_samples_leaf=7, min_samples_split=3 \n",
      "[CV]  bootstrap=True, criterion=gini, max_depth=3, max_features=9, min_samples_leaf=7, min_samples_split=3, score=0.917391, total=   0.1s\n",
      "[CV] bootstrap=True, criterion=gini, max_depth=3, max_features=9, min_samples_leaf=7, min_samples_split=3 \n",
      "[CV]  bootstrap=True, criterion=gini, max_depth=3, max_features=9, min_samples_leaf=7, min_samples_split=3, score=0.925000, total=   0.1s\n",
      "[CV] bootstrap=True, criterion=gini, max_depth=3, max_features=9, min_samples_leaf=7, min_samples_split=3 \n",
      "[CV]  bootstrap=True, criterion=gini, max_depth=3, max_features=9, min_samples_leaf=7, min_samples_split=3, score=0.922826, total=   0.1s\n",
      "[CV] bootstrap=True, criterion=gini, max_depth=3, max_features=9, min_samples_leaf=7, min_samples_split=3 \n",
      "[CV]  bootstrap=True, criterion=gini, max_depth=3, max_features=9, min_samples_leaf=7, min_samples_split=3, score=0.921196, total=   0.1s\n",
      "[CV] bootstrap=True, criterion=gini, max_depth=3, max_features=9, min_samples_leaf=7, min_samples_split=3 \n",
      "[CV]  bootstrap=True, criterion=gini, max_depth=3, max_features=9, min_samples_leaf=7, min_samples_split=3, score=0.929348, total=   0.1s\n",
      "[CV] bootstrap=False, criterion=gini, max_depth=None, max_features=2, min_samples_leaf=10, min_samples_split=10 \n",
      "[CV]  bootstrap=False, criterion=gini, max_depth=None, max_features=2, min_samples_leaf=10, min_samples_split=10, score=0.957609, total=   0.3s\n",
      "[CV] bootstrap=False, criterion=gini, max_depth=None, max_features=2, min_samples_leaf=10, min_samples_split=10 \n",
      "[CV]  bootstrap=False, criterion=gini, max_depth=None, max_features=2, min_samples_leaf=10, min_samples_split=10, score=0.964130, total=   0.3s\n",
      "[CV] bootstrap=False, criterion=gini, max_depth=None, max_features=2, min_samples_leaf=10, min_samples_split=10 \n",
      "[CV]  bootstrap=False, criterion=gini, max_depth=None, max_features=2, min_samples_leaf=10, min_samples_split=10, score=0.955978, total=   0.3s\n",
      "[CV] bootstrap=False, criterion=gini, max_depth=None, max_features=2, min_samples_leaf=10, min_samples_split=10 \n",
      "[CV]  bootstrap=False, criterion=gini, max_depth=None, max_features=2, min_samples_leaf=10, min_samples_split=10, score=0.961957, total=   0.3s\n",
      "[CV] bootstrap=False, criterion=gini, max_depth=None, max_features=2, min_samples_leaf=10, min_samples_split=10 \n",
      "[CV]  bootstrap=False, criterion=gini, max_depth=None, max_features=2, min_samples_leaf=10, min_samples_split=10, score=0.964130, total=   0.3s\n",
      "[CV] bootstrap=False, criterion=gini, max_depth=None, max_features=4, min_samples_leaf=7, min_samples_split=9 \n",
      "[CV]  bootstrap=False, criterion=gini, max_depth=None, max_features=4, min_samples_leaf=7, min_samples_split=9, score=0.961957, total=   0.5s\n",
      "[CV] bootstrap=False, criterion=gini, max_depth=None, max_features=4, min_samples_leaf=7, min_samples_split=9 \n",
      "[CV]  bootstrap=False, criterion=gini, max_depth=None, max_features=4, min_samples_leaf=7, min_samples_split=9, score=0.964130, total=   0.5s\n",
      "[CV] bootstrap=False, criterion=gini, max_depth=None, max_features=4, min_samples_leaf=7, min_samples_split=9 \n",
      "[CV]  bootstrap=False, criterion=gini, max_depth=None, max_features=4, min_samples_leaf=7, min_samples_split=9, score=0.963587, total=   0.6s\n",
      "[CV] bootstrap=False, criterion=gini, max_depth=None, max_features=4, min_samples_leaf=7, min_samples_split=9 \n",
      "[CV]  bootstrap=False, criterion=gini, max_depth=None, max_features=4, min_samples_leaf=7, min_samples_split=9, score=0.961413, total=   0.5s\n",
      "[CV] bootstrap=False, criterion=gini, max_depth=None, max_features=4, min_samples_leaf=7, min_samples_split=9 \n",
      "[CV]  bootstrap=False, criterion=gini, max_depth=None, max_features=4, min_samples_leaf=7, min_samples_split=9, score=0.967391, total=   0.6s\n",
      "[CV] bootstrap=True, criterion=gini, max_depth=None, max_features=1, min_samples_leaf=4, min_samples_split=3 \n",
      "[CV]  bootstrap=True, criterion=gini, max_depth=None, max_features=1, min_samples_leaf=4, min_samples_split=3, score=0.954891, total=   0.1s\n",
      "[CV] bootstrap=True, criterion=gini, max_depth=None, max_features=1, min_samples_leaf=4, min_samples_split=3 \n"
     ]
    },
    {
     "name": "stdout",
     "output_type": "stream",
     "text": [
      "[CV]  bootstrap=True, criterion=gini, max_depth=None, max_features=1, min_samples_leaf=4, min_samples_split=3, score=0.963587, total=   0.1s\n",
      "[CV] bootstrap=True, criterion=gini, max_depth=None, max_features=1, min_samples_leaf=4, min_samples_split=3 \n",
      "[CV]  bootstrap=True, criterion=gini, max_depth=None, max_features=1, min_samples_leaf=4, min_samples_split=3, score=0.956522, total=   0.1s\n",
      "[CV] bootstrap=True, criterion=gini, max_depth=None, max_features=1, min_samples_leaf=4, min_samples_split=3 \n",
      "[CV]  bootstrap=True, criterion=gini, max_depth=None, max_features=1, min_samples_leaf=4, min_samples_split=3, score=0.963043, total=   0.1s\n",
      "[CV] bootstrap=True, criterion=gini, max_depth=None, max_features=1, min_samples_leaf=4, min_samples_split=3 \n",
      "[CV]  bootstrap=True, criterion=gini, max_depth=None, max_features=1, min_samples_leaf=4, min_samples_split=3, score=0.962500, total=   0.1s\n",
      "[CV] bootstrap=False, criterion=entropy, max_depth=None, max_features=6, min_samples_leaf=6, min_samples_split=5 \n",
      "[CV]  bootstrap=False, criterion=entropy, max_depth=None, max_features=6, min_samples_leaf=6, min_samples_split=5, score=0.959239, total=   0.6s\n",
      "[CV] bootstrap=False, criterion=entropy, max_depth=None, max_features=6, min_samples_leaf=6, min_samples_split=5 \n",
      "[CV]  bootstrap=False, criterion=entropy, max_depth=None, max_features=6, min_samples_leaf=6, min_samples_split=5, score=0.970109, total=   0.6s\n",
      "[CV] bootstrap=False, criterion=entropy, max_depth=None, max_features=6, min_samples_leaf=6, min_samples_split=5 \n",
      "[CV]  bootstrap=False, criterion=entropy, max_depth=None, max_features=6, min_samples_leaf=6, min_samples_split=5, score=0.964674, total=   0.6s\n",
      "[CV] bootstrap=False, criterion=entropy, max_depth=None, max_features=6, min_samples_leaf=6, min_samples_split=5 \n",
      "[CV]  bootstrap=False, criterion=entropy, max_depth=None, max_features=6, min_samples_leaf=6, min_samples_split=5, score=0.966304, total=   0.5s\n",
      "[CV] bootstrap=False, criterion=entropy, max_depth=None, max_features=6, min_samples_leaf=6, min_samples_split=5 \n",
      "[CV]  bootstrap=False, criterion=entropy, max_depth=None, max_features=6, min_samples_leaf=6, min_samples_split=5, score=0.966304, total=   0.6s\n",
      "[CV] bootstrap=False, criterion=gini, max_depth=3, max_features=2, min_samples_leaf=10, min_samples_split=3 \n",
      "[CV]  bootstrap=False, criterion=gini, max_depth=3, max_features=2, min_samples_leaf=10, min_samples_split=3, score=0.918478, total=   0.1s\n",
      "[CV] bootstrap=False, criterion=gini, max_depth=3, max_features=2, min_samples_leaf=10, min_samples_split=3 \n",
      "[CV]  bootstrap=False, criterion=gini, max_depth=3, max_features=2, min_samples_leaf=10, min_samples_split=3, score=0.924457, total=   0.1s\n",
      "[CV] bootstrap=False, criterion=gini, max_depth=3, max_features=2, min_samples_leaf=10, min_samples_split=3 \n",
      "[CV]  bootstrap=False, criterion=gini, max_depth=3, max_features=2, min_samples_leaf=10, min_samples_split=3, score=0.918478, total=   0.1s\n",
      "[CV] bootstrap=False, criterion=gini, max_depth=3, max_features=2, min_samples_leaf=10, min_samples_split=3 \n",
      "[CV]  bootstrap=False, criterion=gini, max_depth=3, max_features=2, min_samples_leaf=10, min_samples_split=3, score=0.921196, total=   0.1s\n",
      "[CV] bootstrap=False, criterion=gini, max_depth=3, max_features=2, min_samples_leaf=10, min_samples_split=3 \n",
      "[CV]  bootstrap=False, criterion=gini, max_depth=3, max_features=2, min_samples_leaf=10, min_samples_split=3, score=0.919022, total=   0.1s\n"
     ]
    },
    {
     "name": "stderr",
     "output_type": "stream",
     "text": [
      "[Parallel(n_jobs=1)]: Done  50 out of  50 | elapsed:   21.5s finished\n"
     ]
    },
    {
     "data": {
      "text/plain": [
       "RandomizedSearchCV(cv=5, error_score='raise',\n",
       "          estimator=RandomForestClassifier(bootstrap=True, class_weight=None, criterion='gini',\n",
       "            max_depth=None, max_features='auto', max_leaf_nodes=None,\n",
       "            min_impurity_split=1e-07, min_samples_leaf=1,\n",
       "            min_samples_split=2, min_weight_fraction_leaf=0.0,\n",
       "            n_estimators=10, n_jobs=1, oob_score=False, random_state=42,\n",
       "            verbose=0, warm_start=False),\n",
       "          fit_params={}, iid=True, n_iter=10, n_jobs=1,\n",
       "          param_distributions={'max_depth': [3, None], 'max_features': <scipy.stats._distn_infrastructure.rv_frozen object at 0x127b8a978>, 'min_samples_split': <scipy.stats._distn_infrastructure.rv_frozen object at 0x126b42748>, 'min_samples_leaf': <scipy.stats._distn_infrastructure.rv_frozen object at 0x126b427f0>, 'bootstrap': [True, False], 'criterion': ['gini', 'entropy']},\n",
       "          pre_dispatch='2*n_jobs', random_state=None, refit=True,\n",
       "          return_train_score=True, scoring=None, verbose=3)"
      ]
     },
     "execution_count": 52,
     "metadata": {},
     "output_type": "execute_result"
    }
   ],
   "source": [
    "from sklearn.model_selection import RandomizedSearchCV\n",
    "from time import time\n",
    "from scipy.stats import randint as sp_randint\n",
    "\n",
    "\n",
    "param_dist = {\"max_depth\": [3, None],\n",
    "              \"max_features\": sp_randint(1, 11),\n",
    "              \"min_samples_split\": sp_randint(2, 11),\n",
    "              \"min_samples_leaf\": sp_randint(1, 11),\n",
    "              \"bootstrap\": [True, False],\n",
    "              \"criterion\": [\"gini\", \"entropy\"]}\n",
    "\n",
    "forest_clf = RandomForestClassifier(random_state=42)\n",
    "random_search = RandomizedSearchCV(forest_clf, param_distributions = param_dist, cv=5, verbose=3)\n",
    "random_search.fit(X_train, y_train)"
   ]
  },
  {
   "cell_type": "code",
   "execution_count": 53,
   "metadata": {},
   "outputs": [
    {
     "data": {
      "text/plain": [
       "{'bootstrap': False,\n",
       " 'criterion': 'gini',\n",
       " 'max_depth': None,\n",
       " 'max_features': 9,\n",
       " 'min_samples_leaf': 3,\n",
       " 'min_samples_split': 6}"
      ]
     },
     "execution_count": 53,
     "metadata": {},
     "output_type": "execute_result"
    }
   ],
   "source": [
    "random_search.best_params_"
   ]
  },
  {
   "cell_type": "code",
   "execution_count": 54,
   "metadata": {},
   "outputs": [
    {
     "data": {
      "text/plain": [
       "0.96543478260869564"
      ]
     },
     "execution_count": 54,
     "metadata": {},
     "output_type": "execute_result"
    }
   ],
   "source": [
    "random_search.best_score_"
   ]
  },
  {
   "cell_type": "code",
   "execution_count": 55,
   "metadata": {},
   "outputs": [
    {
     "data": {
      "text/plain": [
       "0.97260869565217389"
      ]
     },
     "execution_count": 55,
     "metadata": {},
     "output_type": "execute_result"
    }
   ],
   "source": [
    "y_pred = random_search.predict(X_test)\n",
    "accuracy_score(y_test, y_pred)"
   ]
  },
  {
   "cell_type": "code",
   "execution_count": 72,
   "metadata": {
    "scrolled": false
   },
   "outputs": [
    {
     "name": "stdout",
     "output_type": "stream",
     "text": [
      "0.921840354767\n",
      "0.906267029973\n"
     ]
    }
   ],
   "source": [
    "y_train_pred = cross_val_predict(random_search.best_estimator_, X_train, y_train, cv=3)\n",
    "\n",
    "print(precision_score(y_train, y_train_pred))\n",
    "print(recall_score(y_train, y_train_pred))"
   ]
  },
  {
   "cell_type": "code",
   "execution_count": null,
   "metadata": {
    "collapsed": true
   },
   "outputs": [],
   "source": []
  },
  {
   "cell_type": "markdown",
   "metadata": {},
   "source": [
    "#### 9.3 GridSearchCV with RandomForest"
   ]
  },
  {
   "cell_type": "code",
   "execution_count": 59,
   "metadata": {},
   "outputs": [
    {
     "name": "stdout",
     "output_type": "stream",
     "text": [
      "Fitting 5 folds for each of 216 candidates, totalling 1080 fits\n",
      "[CV] bootstrap=True, criterion=gini, max_depth=3, max_features=1, min_samples_leaf=1, min_samples_split=2 \n",
      "[CV]  bootstrap=True, criterion=gini, max_depth=3, max_features=1, min_samples_leaf=1, min_samples_split=2, score=0.914674, total=   0.1s\n",
      "[CV] bootstrap=True, criterion=gini, max_depth=3, max_features=1, min_samples_leaf=1, min_samples_split=2 \n",
      "[CV]  bootstrap=True, criterion=gini, max_depth=3, max_features=1, min_samples_leaf=1, min_samples_split=2, score=0.923370, total=   0.0s\n",
      "[CV] bootstrap=True, criterion=gini, max_depth=3, max_features=1, min_samples_leaf=1, min_samples_split=2 \n",
      "[CV]  bootstrap=True, criterion=gini, max_depth=3, max_features=1, min_samples_leaf=1, min_samples_split=2, score=0.911413, total=   0.0s\n",
      "[CV] bootstrap=True, criterion=gini, max_depth=3, max_features=1, min_samples_leaf=1, min_samples_split=2 \n"
     ]
    },
    {
     "name": "stderr",
     "output_type": "stream",
     "text": [
      "[Parallel(n_jobs=1)]: Done   1 out of   1 | elapsed:    0.1s remaining:    0.0s\n",
      "[Parallel(n_jobs=1)]: Done   2 out of   2 | elapsed:    0.1s remaining:    0.0s\n"
     ]
    },
    {
     "name": "stdout",
     "output_type": "stream",
     "text": [
      "[CV]  bootstrap=True, criterion=gini, max_depth=3, max_features=1, min_samples_leaf=1, min_samples_split=2, score=0.920109, total=   0.0s\n",
      "[CV] bootstrap=True, criterion=gini, max_depth=3, max_features=1, min_samples_leaf=1, min_samples_split=2 \n",
      "[CV]  bootstrap=True, criterion=gini, max_depth=3, max_features=1, min_samples_leaf=1, min_samples_split=2, score=0.911957, total=   0.1s\n",
      "[CV] bootstrap=True, criterion=gini, max_depth=3, max_features=1, min_samples_leaf=1, min_samples_split=3 \n",
      "[CV]  bootstrap=True, criterion=gini, max_depth=3, max_features=1, min_samples_leaf=1, min_samples_split=3, score=0.914674, total=   0.0s\n",
      "[CV] bootstrap=True, criterion=gini, max_depth=3, max_features=1, min_samples_leaf=1, min_samples_split=3 \n",
      "[CV]  bootstrap=True, criterion=gini, max_depth=3, max_features=1, min_samples_leaf=1, min_samples_split=3, score=0.923370, total=   0.0s\n",
      "[CV] bootstrap=True, criterion=gini, max_depth=3, max_features=1, min_samples_leaf=1, min_samples_split=3 \n",
      "[CV]  bootstrap=True, criterion=gini, max_depth=3, max_features=1, min_samples_leaf=1, min_samples_split=3, score=0.911413, total=   0.1s\n",
      "[CV] bootstrap=True, criterion=gini, max_depth=3, max_features=1, min_samples_leaf=1, min_samples_split=3 \n",
      "[CV]  bootstrap=True, criterion=gini, max_depth=3, max_features=1, min_samples_leaf=1, min_samples_split=3, score=0.920109, total=   0.1s\n",
      "[CV] bootstrap=True, criterion=gini, max_depth=3, max_features=1, min_samples_leaf=1, min_samples_split=3 \n",
      "[CV]  bootstrap=True, criterion=gini, max_depth=3, max_features=1, min_samples_leaf=1, min_samples_split=3, score=0.911957, total=   0.1s\n",
      "[CV] bootstrap=True, criterion=gini, max_depth=3, max_features=1, min_samples_leaf=1, min_samples_split=10 \n",
      "[CV]  bootstrap=True, criterion=gini, max_depth=3, max_features=1, min_samples_leaf=1, min_samples_split=10, score=0.914674, total=   0.0s\n",
      "[CV] bootstrap=True, criterion=gini, max_depth=3, max_features=1, min_samples_leaf=1, min_samples_split=10 \n",
      "[CV]  bootstrap=True, criterion=gini, max_depth=3, max_features=1, min_samples_leaf=1, min_samples_split=10, score=0.923370, total=   0.0s\n",
      "[CV] bootstrap=True, criterion=gini, max_depth=3, max_features=1, min_samples_leaf=1, min_samples_split=10 \n",
      "[CV]  bootstrap=True, criterion=gini, max_depth=3, max_features=1, min_samples_leaf=1, min_samples_split=10, score=0.911413, total=   0.1s\n",
      "[CV] bootstrap=True, criterion=gini, max_depth=3, max_features=1, min_samples_leaf=1, min_samples_split=10 \n",
      "[CV]  bootstrap=True, criterion=gini, max_depth=3, max_features=1, min_samples_leaf=1, min_samples_split=10, score=0.920109, total=   0.1s\n",
      "[CV] bootstrap=True, criterion=gini, max_depth=3, max_features=1, min_samples_leaf=1, min_samples_split=10 \n",
      "[CV]  bootstrap=True, criterion=gini, max_depth=3, max_features=1, min_samples_leaf=1, min_samples_split=10, score=0.911957, total=   0.1s\n",
      "[CV] bootstrap=True, criterion=gini, max_depth=3, max_features=1, min_samples_leaf=3, min_samples_split=2 \n",
      "[CV]  bootstrap=True, criterion=gini, max_depth=3, max_features=1, min_samples_leaf=3, min_samples_split=2, score=0.914674, total=   0.1s\n",
      "[CV] bootstrap=True, criterion=gini, max_depth=3, max_features=1, min_samples_leaf=3, min_samples_split=2 \n",
      "[CV]  bootstrap=True, criterion=gini, max_depth=3, max_features=1, min_samples_leaf=3, min_samples_split=2, score=0.923913, total=   0.0s\n",
      "[CV] bootstrap=True, criterion=gini, max_depth=3, max_features=1, min_samples_leaf=3, min_samples_split=2 \n",
      "[CV]  bootstrap=True, criterion=gini, max_depth=3, max_features=1, min_samples_leaf=3, min_samples_split=2, score=0.911413, total=   0.1s\n",
      "[CV] bootstrap=True, criterion=gini, max_depth=3, max_features=1, min_samples_leaf=3, min_samples_split=2 \n",
      "[CV]  bootstrap=True, criterion=gini, max_depth=3, max_features=1, min_samples_leaf=3, min_samples_split=2, score=0.920109, total=   0.1s\n",
      "[CV] bootstrap=True, criterion=gini, max_depth=3, max_features=1, min_samples_leaf=3, min_samples_split=2 \n",
      "[CV]  bootstrap=True, criterion=gini, max_depth=3, max_features=1, min_samples_leaf=3, min_samples_split=2, score=0.911957, total=   0.1s\n",
      "[CV] bootstrap=True, criterion=gini, max_depth=3, max_features=1, min_samples_leaf=3, min_samples_split=3 \n",
      "[CV]  bootstrap=True, criterion=gini, max_depth=3, max_features=1, min_samples_leaf=3, min_samples_split=3, score=0.914674, total=   0.1s\n",
      "[CV] bootstrap=True, criterion=gini, max_depth=3, max_features=1, min_samples_leaf=3, min_samples_split=3 \n",
      "[CV]  bootstrap=True, criterion=gini, max_depth=3, max_features=1, min_samples_leaf=3, min_samples_split=3, score=0.923913, total=   0.1s\n",
      "[CV] bootstrap=True, criterion=gini, max_depth=3, max_features=1, min_samples_leaf=3, min_samples_split=3 \n",
      "[CV]  bootstrap=True, criterion=gini, max_depth=3, max_features=1, min_samples_leaf=3, min_samples_split=3, score=0.911413, total=   0.1s\n",
      "[CV] bootstrap=True, criterion=gini, max_depth=3, max_features=1, min_samples_leaf=3, min_samples_split=3 \n",
      "[CV]  bootstrap=True, criterion=gini, max_depth=3, max_features=1, min_samples_leaf=3, min_samples_split=3, score=0.920109, total=   0.0s\n",
      "[CV] bootstrap=True, criterion=gini, max_depth=3, max_features=1, min_samples_leaf=3, min_samples_split=3 \n",
      "[CV]  bootstrap=True, criterion=gini, max_depth=3, max_features=1, min_samples_leaf=3, min_samples_split=3, score=0.911957, total=   0.0s\n",
      "[CV] bootstrap=True, criterion=gini, max_depth=3, max_features=1, min_samples_leaf=3, min_samples_split=10 \n",
      "[CV]  bootstrap=True, criterion=gini, max_depth=3, max_features=1, min_samples_leaf=3, min_samples_split=10, score=0.914674, total=   0.1s\n",
      "[CV] bootstrap=True, criterion=gini, max_depth=3, max_features=1, min_samples_leaf=3, min_samples_split=10 \n",
      "[CV]  bootstrap=True, criterion=gini, max_depth=3, max_features=1, min_samples_leaf=3, min_samples_split=10, score=0.923913, total=   0.1s\n",
      "[CV] bootstrap=True, criterion=gini, max_depth=3, max_features=1, min_samples_leaf=3, min_samples_split=10 \n",
      "[CV]  bootstrap=True, criterion=gini, max_depth=3, max_features=1, min_samples_leaf=3, min_samples_split=10, score=0.911413, total=   0.1s\n",
      "[CV] bootstrap=True, criterion=gini, max_depth=3, max_features=1, min_samples_leaf=3, min_samples_split=10 \n",
      "[CV]  bootstrap=True, criterion=gini, max_depth=3, max_features=1, min_samples_leaf=3, min_samples_split=10, score=0.920109, total=   0.0s\n",
      "[CV] bootstrap=True, criterion=gini, max_depth=3, max_features=1, min_samples_leaf=3, min_samples_split=10 \n",
      "[CV]  bootstrap=True, criterion=gini, max_depth=3, max_features=1, min_samples_leaf=3, min_samples_split=10, score=0.911957, total=   0.0s\n",
      "[CV] bootstrap=True, criterion=gini, max_depth=3, max_features=1, min_samples_leaf=10, min_samples_split=2 \n",
      "[CV]  bootstrap=True, criterion=gini, max_depth=3, max_features=1, min_samples_leaf=10, min_samples_split=2, score=0.914674, total=   0.0s\n",
      "[CV] bootstrap=True, criterion=gini, max_depth=3, max_features=1, min_samples_leaf=10, min_samples_split=2 \n",
      "[CV]  bootstrap=True, criterion=gini, max_depth=3, max_features=1, min_samples_leaf=10, min_samples_split=2, score=0.923913, total=   0.0s\n",
      "[CV] bootstrap=True, criterion=gini, max_depth=3, max_features=1, min_samples_leaf=10, min_samples_split=2 \n",
      "[CV]  bootstrap=True, criterion=gini, max_depth=3, max_features=1, min_samples_leaf=10, min_samples_split=2, score=0.911413, total=   0.0s\n",
      "[CV] bootstrap=True, criterion=gini, max_depth=3, max_features=1, min_samples_leaf=10, min_samples_split=2 \n",
      "[CV]  bootstrap=True, criterion=gini, max_depth=3, max_features=1, min_samples_leaf=10, min_samples_split=2, score=0.920109, total=   0.0s\n",
      "[CV] bootstrap=True, criterion=gini, max_depth=3, max_features=1, min_samples_leaf=10, min_samples_split=2 \n",
      "[CV]  bootstrap=True, criterion=gini, max_depth=3, max_features=1, min_samples_leaf=10, min_samples_split=2, score=0.911957, total=   0.1s\n",
      "[CV] bootstrap=True, criterion=gini, max_depth=3, max_features=1, min_samples_leaf=10, min_samples_split=3 \n",
      "[CV]  bootstrap=True, criterion=gini, max_depth=3, max_features=1, min_samples_leaf=10, min_samples_split=3, score=0.914674, total=   0.1s\n",
      "[CV] bootstrap=True, criterion=gini, max_depth=3, max_features=1, min_samples_leaf=10, min_samples_split=3 \n",
      "[CV]  bootstrap=True, criterion=gini, max_depth=3, max_features=1, min_samples_leaf=10, min_samples_split=3, score=0.923913, total=   0.0s\n",
      "[CV] bootstrap=True, criterion=gini, max_depth=3, max_features=1, min_samples_leaf=10, min_samples_split=3 \n",
      "[CV]  bootstrap=True, criterion=gini, max_depth=3, max_features=1, min_samples_leaf=10, min_samples_split=3, score=0.911413, total=   0.0s\n",
      "[CV] bootstrap=True, criterion=gini, max_depth=3, max_features=1, min_samples_leaf=10, min_samples_split=3 \n"
     ]
    },
    {
     "name": "stdout",
     "output_type": "stream",
     "text": [
      "[CV]  bootstrap=True, criterion=gini, max_depth=3, max_features=1, min_samples_leaf=10, min_samples_split=3, score=0.920109, total=   0.0s\n",
      "[CV] bootstrap=True, criterion=gini, max_depth=3, max_features=1, min_samples_leaf=10, min_samples_split=3 \n",
      "[CV]  bootstrap=True, criterion=gini, max_depth=3, max_features=1, min_samples_leaf=10, min_samples_split=3, score=0.911957, total=   0.0s\n",
      "[CV] bootstrap=True, criterion=gini, max_depth=3, max_features=1, min_samples_leaf=10, min_samples_split=10 \n",
      "[CV]  bootstrap=True, criterion=gini, max_depth=3, max_features=1, min_samples_leaf=10, min_samples_split=10, score=0.914674, total=   0.1s\n",
      "[CV] bootstrap=True, criterion=gini, max_depth=3, max_features=1, min_samples_leaf=10, min_samples_split=10 \n",
      "[CV]  bootstrap=True, criterion=gini, max_depth=3, max_features=1, min_samples_leaf=10, min_samples_split=10, score=0.923913, total=   0.0s\n",
      "[CV] bootstrap=True, criterion=gini, max_depth=3, max_features=1, min_samples_leaf=10, min_samples_split=10 \n",
      "[CV]  bootstrap=True, criterion=gini, max_depth=3, max_features=1, min_samples_leaf=10, min_samples_split=10, score=0.911413, total=   0.0s\n",
      "[CV] bootstrap=True, criterion=gini, max_depth=3, max_features=1, min_samples_leaf=10, min_samples_split=10 \n",
      "[CV]  bootstrap=True, criterion=gini, max_depth=3, max_features=1, min_samples_leaf=10, min_samples_split=10, score=0.920109, total=   0.1s\n",
      "[CV] bootstrap=True, criterion=gini, max_depth=3, max_features=1, min_samples_leaf=10, min_samples_split=10 \n",
      "[CV]  bootstrap=True, criterion=gini, max_depth=3, max_features=1, min_samples_leaf=10, min_samples_split=10, score=0.911957, total=   0.0s\n",
      "[CV] bootstrap=True, criterion=gini, max_depth=3, max_features=3, min_samples_leaf=1, min_samples_split=2 \n",
      "[CV]  bootstrap=True, criterion=gini, max_depth=3, max_features=3, min_samples_leaf=1, min_samples_split=2, score=0.914130, total=   0.1s\n",
      "[CV] bootstrap=True, criterion=gini, max_depth=3, max_features=3, min_samples_leaf=1, min_samples_split=2 \n",
      "[CV]  bootstrap=True, criterion=gini, max_depth=3, max_features=3, min_samples_leaf=1, min_samples_split=2, score=0.917935, total=   0.1s\n",
      "[CV] bootstrap=True, criterion=gini, max_depth=3, max_features=3, min_samples_leaf=1, min_samples_split=2 \n",
      "[CV]  bootstrap=True, criterion=gini, max_depth=3, max_features=3, min_samples_leaf=1, min_samples_split=2, score=0.916304, total=   0.1s\n",
      "[CV] bootstrap=True, criterion=gini, max_depth=3, max_features=3, min_samples_leaf=1, min_samples_split=2 \n",
      "[CV]  bootstrap=True, criterion=gini, max_depth=3, max_features=3, min_samples_leaf=1, min_samples_split=2, score=0.923913, total=   0.1s\n",
      "[CV] bootstrap=True, criterion=gini, max_depth=3, max_features=3, min_samples_leaf=1, min_samples_split=2 \n",
      "[CV]  bootstrap=True, criterion=gini, max_depth=3, max_features=3, min_samples_leaf=1, min_samples_split=2, score=0.908696, total=   0.1s\n",
      "[CV] bootstrap=True, criterion=gini, max_depth=3, max_features=3, min_samples_leaf=1, min_samples_split=3 \n",
      "[CV]  bootstrap=True, criterion=gini, max_depth=3, max_features=3, min_samples_leaf=1, min_samples_split=3, score=0.914130, total=   0.1s\n",
      "[CV] bootstrap=True, criterion=gini, max_depth=3, max_features=3, min_samples_leaf=1, min_samples_split=3 \n",
      "[CV]  bootstrap=True, criterion=gini, max_depth=3, max_features=3, min_samples_leaf=1, min_samples_split=3, score=0.917935, total=   0.1s\n",
      "[CV] bootstrap=True, criterion=gini, max_depth=3, max_features=3, min_samples_leaf=1, min_samples_split=3 \n",
      "[CV]  bootstrap=True, criterion=gini, max_depth=3, max_features=3, min_samples_leaf=1, min_samples_split=3, score=0.916304, total=   0.1s\n",
      "[CV] bootstrap=True, criterion=gini, max_depth=3, max_features=3, min_samples_leaf=1, min_samples_split=3 \n",
      "[CV]  bootstrap=True, criterion=gini, max_depth=3, max_features=3, min_samples_leaf=1, min_samples_split=3, score=0.923913, total=   0.1s\n",
      "[CV] bootstrap=True, criterion=gini, max_depth=3, max_features=3, min_samples_leaf=1, min_samples_split=3 \n",
      "[CV]  bootstrap=True, criterion=gini, max_depth=3, max_features=3, min_samples_leaf=1, min_samples_split=3, score=0.908696, total=   0.1s\n",
      "[CV] bootstrap=True, criterion=gini, max_depth=3, max_features=3, min_samples_leaf=1, min_samples_split=10 \n",
      "[CV]  bootstrap=True, criterion=gini, max_depth=3, max_features=3, min_samples_leaf=1, min_samples_split=10, score=0.914130, total=   0.1s\n",
      "[CV] bootstrap=True, criterion=gini, max_depth=3, max_features=3, min_samples_leaf=1, min_samples_split=10 \n",
      "[CV]  bootstrap=True, criterion=gini, max_depth=3, max_features=3, min_samples_leaf=1, min_samples_split=10, score=0.917935, total=   0.1s\n",
      "[CV] bootstrap=True, criterion=gini, max_depth=3, max_features=3, min_samples_leaf=1, min_samples_split=10 \n",
      "[CV]  bootstrap=True, criterion=gini, max_depth=3, max_features=3, min_samples_leaf=1, min_samples_split=10, score=0.916304, total=   0.1s\n",
      "[CV] bootstrap=True, criterion=gini, max_depth=3, max_features=3, min_samples_leaf=1, min_samples_split=10 \n",
      "[CV]  bootstrap=True, criterion=gini, max_depth=3, max_features=3, min_samples_leaf=1, min_samples_split=10, score=0.923913, total=   0.1s\n",
      "[CV] bootstrap=True, criterion=gini, max_depth=3, max_features=3, min_samples_leaf=1, min_samples_split=10 \n",
      "[CV]  bootstrap=True, criterion=gini, max_depth=3, max_features=3, min_samples_leaf=1, min_samples_split=10, score=0.908696, total=   0.1s\n",
      "[CV] bootstrap=True, criterion=gini, max_depth=3, max_features=3, min_samples_leaf=3, min_samples_split=2 \n",
      "[CV]  bootstrap=True, criterion=gini, max_depth=3, max_features=3, min_samples_leaf=3, min_samples_split=2, score=0.914130, total=   0.1s\n",
      "[CV] bootstrap=True, criterion=gini, max_depth=3, max_features=3, min_samples_leaf=3, min_samples_split=2 \n",
      "[CV]  bootstrap=True, criterion=gini, max_depth=3, max_features=3, min_samples_leaf=3, min_samples_split=2, score=0.917935, total=   0.1s\n",
      "[CV] bootstrap=True, criterion=gini, max_depth=3, max_features=3, min_samples_leaf=3, min_samples_split=2 \n",
      "[CV]  bootstrap=True, criterion=gini, max_depth=3, max_features=3, min_samples_leaf=3, min_samples_split=2, score=0.916304, total=   0.1s\n",
      "[CV] bootstrap=True, criterion=gini, max_depth=3, max_features=3, min_samples_leaf=3, min_samples_split=2 \n",
      "[CV]  bootstrap=True, criterion=gini, max_depth=3, max_features=3, min_samples_leaf=3, min_samples_split=2, score=0.923913, total=   0.1s\n",
      "[CV] bootstrap=True, criterion=gini, max_depth=3, max_features=3, min_samples_leaf=3, min_samples_split=2 \n",
      "[CV]  bootstrap=True, criterion=gini, max_depth=3, max_features=3, min_samples_leaf=3, min_samples_split=2, score=0.908152, total=   0.1s\n",
      "[CV] bootstrap=True, criterion=gini, max_depth=3, max_features=3, min_samples_leaf=3, min_samples_split=3 \n",
      "[CV]  bootstrap=True, criterion=gini, max_depth=3, max_features=3, min_samples_leaf=3, min_samples_split=3, score=0.914130, total=   0.1s\n",
      "[CV] bootstrap=True, criterion=gini, max_depth=3, max_features=3, min_samples_leaf=3, min_samples_split=3 \n",
      "[CV]  bootstrap=True, criterion=gini, max_depth=3, max_features=3, min_samples_leaf=3, min_samples_split=3, score=0.917935, total=   0.1s\n",
      "[CV] bootstrap=True, criterion=gini, max_depth=3, max_features=3, min_samples_leaf=3, min_samples_split=3 \n",
      "[CV]  bootstrap=True, criterion=gini, max_depth=3, max_features=3, min_samples_leaf=3, min_samples_split=3, score=0.916304, total=   0.1s\n",
      "[CV] bootstrap=True, criterion=gini, max_depth=3, max_features=3, min_samples_leaf=3, min_samples_split=3 \n",
      "[CV]  bootstrap=True, criterion=gini, max_depth=3, max_features=3, min_samples_leaf=3, min_samples_split=3, score=0.923913, total=   0.1s\n",
      "[CV] bootstrap=True, criterion=gini, max_depth=3, max_features=3, min_samples_leaf=3, min_samples_split=3 \n",
      "[CV]  bootstrap=True, criterion=gini, max_depth=3, max_features=3, min_samples_leaf=3, min_samples_split=3, score=0.908152, total=   0.1s\n",
      "[CV] bootstrap=True, criterion=gini, max_depth=3, max_features=3, min_samples_leaf=3, min_samples_split=10 \n",
      "[CV]  bootstrap=True, criterion=gini, max_depth=3, max_features=3, min_samples_leaf=3, min_samples_split=10, score=0.914130, total=   0.1s\n",
      "[CV] bootstrap=True, criterion=gini, max_depth=3, max_features=3, min_samples_leaf=3, min_samples_split=10 \n",
      "[CV]  bootstrap=True, criterion=gini, max_depth=3, max_features=3, min_samples_leaf=3, min_samples_split=10, score=0.917935, total=   0.1s\n",
      "[CV] bootstrap=True, criterion=gini, max_depth=3, max_features=3, min_samples_leaf=3, min_samples_split=10 \n",
      "[CV]  bootstrap=True, criterion=gini, max_depth=3, max_features=3, min_samples_leaf=3, min_samples_split=10, score=0.916304, total=   0.1s\n",
      "[CV] bootstrap=True, criterion=gini, max_depth=3, max_features=3, min_samples_leaf=3, min_samples_split=10 \n"
     ]
    },
    {
     "name": "stdout",
     "output_type": "stream",
     "text": [
      "[CV]  bootstrap=True, criterion=gini, max_depth=3, max_features=3, min_samples_leaf=3, min_samples_split=10, score=0.923913, total=   0.1s\n",
      "[CV] bootstrap=True, criterion=gini, max_depth=3, max_features=3, min_samples_leaf=3, min_samples_split=10 \n",
      "[CV]  bootstrap=True, criterion=gini, max_depth=3, max_features=3, min_samples_leaf=3, min_samples_split=10, score=0.908152, total=   0.1s\n",
      "[CV] bootstrap=True, criterion=gini, max_depth=3, max_features=3, min_samples_leaf=10, min_samples_split=2 \n",
      "[CV]  bootstrap=True, criterion=gini, max_depth=3, max_features=3, min_samples_leaf=10, min_samples_split=2, score=0.914130, total=   0.1s\n",
      "[CV] bootstrap=True, criterion=gini, max_depth=3, max_features=3, min_samples_leaf=10, min_samples_split=2 \n",
      "[CV]  bootstrap=True, criterion=gini, max_depth=3, max_features=3, min_samples_leaf=10, min_samples_split=2, score=0.917935, total=   0.1s\n",
      "[CV] bootstrap=True, criterion=gini, max_depth=3, max_features=3, min_samples_leaf=10, min_samples_split=2 \n",
      "[CV]  bootstrap=True, criterion=gini, max_depth=3, max_features=3, min_samples_leaf=10, min_samples_split=2, score=0.916304, total=   0.1s\n",
      "[CV] bootstrap=True, criterion=gini, max_depth=3, max_features=3, min_samples_leaf=10, min_samples_split=2 \n",
      "[CV]  bootstrap=True, criterion=gini, max_depth=3, max_features=3, min_samples_leaf=10, min_samples_split=2, score=0.923913, total=   0.1s\n",
      "[CV] bootstrap=True, criterion=gini, max_depth=3, max_features=3, min_samples_leaf=10, min_samples_split=2 \n",
      "[CV]  bootstrap=True, criterion=gini, max_depth=3, max_features=3, min_samples_leaf=10, min_samples_split=2, score=0.907609, total=   0.1s\n",
      "[CV] bootstrap=True, criterion=gini, max_depth=3, max_features=3, min_samples_leaf=10, min_samples_split=3 \n",
      "[CV]  bootstrap=True, criterion=gini, max_depth=3, max_features=3, min_samples_leaf=10, min_samples_split=3, score=0.914130, total=   0.1s\n",
      "[CV] bootstrap=True, criterion=gini, max_depth=3, max_features=3, min_samples_leaf=10, min_samples_split=3 \n",
      "[CV]  bootstrap=True, criterion=gini, max_depth=3, max_features=3, min_samples_leaf=10, min_samples_split=3, score=0.917935, total=   0.1s\n",
      "[CV] bootstrap=True, criterion=gini, max_depth=3, max_features=3, min_samples_leaf=10, min_samples_split=3 \n",
      "[CV]  bootstrap=True, criterion=gini, max_depth=3, max_features=3, min_samples_leaf=10, min_samples_split=3, score=0.916304, total=   0.1s\n",
      "[CV] bootstrap=True, criterion=gini, max_depth=3, max_features=3, min_samples_leaf=10, min_samples_split=3 \n",
      "[CV]  bootstrap=True, criterion=gini, max_depth=3, max_features=3, min_samples_leaf=10, min_samples_split=3, score=0.923913, total=   0.1s\n",
      "[CV] bootstrap=True, criterion=gini, max_depth=3, max_features=3, min_samples_leaf=10, min_samples_split=3 \n",
      "[CV]  bootstrap=True, criterion=gini, max_depth=3, max_features=3, min_samples_leaf=10, min_samples_split=3, score=0.907609, total=   0.1s\n",
      "[CV] bootstrap=True, criterion=gini, max_depth=3, max_features=3, min_samples_leaf=10, min_samples_split=10 \n",
      "[CV]  bootstrap=True, criterion=gini, max_depth=3, max_features=3, min_samples_leaf=10, min_samples_split=10, score=0.914130, total=   0.1s\n",
      "[CV] bootstrap=True, criterion=gini, max_depth=3, max_features=3, min_samples_leaf=10, min_samples_split=10 \n",
      "[CV]  bootstrap=True, criterion=gini, max_depth=3, max_features=3, min_samples_leaf=10, min_samples_split=10, score=0.917935, total=   0.1s\n",
      "[CV] bootstrap=True, criterion=gini, max_depth=3, max_features=3, min_samples_leaf=10, min_samples_split=10 \n",
      "[CV]  bootstrap=True, criterion=gini, max_depth=3, max_features=3, min_samples_leaf=10, min_samples_split=10, score=0.916304, total=   0.1s\n",
      "[CV] bootstrap=True, criterion=gini, max_depth=3, max_features=3, min_samples_leaf=10, min_samples_split=10 \n",
      "[CV]  bootstrap=True, criterion=gini, max_depth=3, max_features=3, min_samples_leaf=10, min_samples_split=10, score=0.923913, total=   0.1s\n",
      "[CV] bootstrap=True, criterion=gini, max_depth=3, max_features=3, min_samples_leaf=10, min_samples_split=10 \n",
      "[CV]  bootstrap=True, criterion=gini, max_depth=3, max_features=3, min_samples_leaf=10, min_samples_split=10, score=0.907609, total=   0.1s\n",
      "[CV] bootstrap=True, criterion=gini, max_depth=3, max_features=10, min_samples_leaf=1, min_samples_split=2 \n",
      "[CV]  bootstrap=True, criterion=gini, max_depth=3, max_features=10, min_samples_leaf=1, min_samples_split=2, score=0.922826, total=   0.1s\n",
      "[CV] bootstrap=True, criterion=gini, max_depth=3, max_features=10, min_samples_leaf=1, min_samples_split=2 \n",
      "[CV]  bootstrap=True, criterion=gini, max_depth=3, max_features=10, min_samples_leaf=1, min_samples_split=2, score=0.922283, total=   0.1s\n",
      "[CV] bootstrap=True, criterion=gini, max_depth=3, max_features=10, min_samples_leaf=1, min_samples_split=2 \n",
      "[CV]  bootstrap=True, criterion=gini, max_depth=3, max_features=10, min_samples_leaf=1, min_samples_split=2, score=0.919565, total=   0.1s\n",
      "[CV] bootstrap=True, criterion=gini, max_depth=3, max_features=10, min_samples_leaf=1, min_samples_split=2 \n",
      "[CV]  bootstrap=True, criterion=gini, max_depth=3, max_features=10, min_samples_leaf=1, min_samples_split=2, score=0.918478, total=   0.1s\n",
      "[CV] bootstrap=True, criterion=gini, max_depth=3, max_features=10, min_samples_leaf=1, min_samples_split=2 \n",
      "[CV]  bootstrap=True, criterion=gini, max_depth=3, max_features=10, min_samples_leaf=1, min_samples_split=2, score=0.929891, total=   0.1s\n",
      "[CV] bootstrap=True, criterion=gini, max_depth=3, max_features=10, min_samples_leaf=1, min_samples_split=3 \n",
      "[CV]  bootstrap=True, criterion=gini, max_depth=3, max_features=10, min_samples_leaf=1, min_samples_split=3, score=0.922826, total=   0.1s\n",
      "[CV] bootstrap=True, criterion=gini, max_depth=3, max_features=10, min_samples_leaf=1, min_samples_split=3 \n",
      "[CV]  bootstrap=True, criterion=gini, max_depth=3, max_features=10, min_samples_leaf=1, min_samples_split=3, score=0.922283, total=   0.1s\n",
      "[CV] bootstrap=True, criterion=gini, max_depth=3, max_features=10, min_samples_leaf=1, min_samples_split=3 \n",
      "[CV]  bootstrap=True, criterion=gini, max_depth=3, max_features=10, min_samples_leaf=1, min_samples_split=3, score=0.919565, total=   0.1s\n",
      "[CV] bootstrap=True, criterion=gini, max_depth=3, max_features=10, min_samples_leaf=1, min_samples_split=3 \n",
      "[CV]  bootstrap=True, criterion=gini, max_depth=3, max_features=10, min_samples_leaf=1, min_samples_split=3, score=0.918478, total=   0.1s\n",
      "[CV] bootstrap=True, criterion=gini, max_depth=3, max_features=10, min_samples_leaf=1, min_samples_split=3 \n",
      "[CV]  bootstrap=True, criterion=gini, max_depth=3, max_features=10, min_samples_leaf=1, min_samples_split=3, score=0.929891, total=   0.1s\n",
      "[CV] bootstrap=True, criterion=gini, max_depth=3, max_features=10, min_samples_leaf=1, min_samples_split=10 \n",
      "[CV]  bootstrap=True, criterion=gini, max_depth=3, max_features=10, min_samples_leaf=1, min_samples_split=10, score=0.922826, total=   0.1s\n",
      "[CV] bootstrap=True, criterion=gini, max_depth=3, max_features=10, min_samples_leaf=1, min_samples_split=10 \n",
      "[CV]  bootstrap=True, criterion=gini, max_depth=3, max_features=10, min_samples_leaf=1, min_samples_split=10, score=0.922283, total=   0.1s\n",
      "[CV] bootstrap=True, criterion=gini, max_depth=3, max_features=10, min_samples_leaf=1, min_samples_split=10 \n",
      "[CV]  bootstrap=True, criterion=gini, max_depth=3, max_features=10, min_samples_leaf=1, min_samples_split=10, score=0.919565, total=   0.1s\n",
      "[CV] bootstrap=True, criterion=gini, max_depth=3, max_features=10, min_samples_leaf=1, min_samples_split=10 \n",
      "[CV]  bootstrap=True, criterion=gini, max_depth=3, max_features=10, min_samples_leaf=1, min_samples_split=10, score=0.918478, total=   0.1s\n",
      "[CV] bootstrap=True, criterion=gini, max_depth=3, max_features=10, min_samples_leaf=1, min_samples_split=10 \n",
      "[CV]  bootstrap=True, criterion=gini, max_depth=3, max_features=10, min_samples_leaf=1, min_samples_split=10, score=0.929891, total=   0.1s\n",
      "[CV] bootstrap=True, criterion=gini, max_depth=3, max_features=10, min_samples_leaf=3, min_samples_split=2 \n",
      "[CV]  bootstrap=True, criterion=gini, max_depth=3, max_features=10, min_samples_leaf=3, min_samples_split=2, score=0.922826, total=   0.1s\n",
      "[CV] bootstrap=True, criterion=gini, max_depth=3, max_features=10, min_samples_leaf=3, min_samples_split=2 \n",
      "[CV]  bootstrap=True, criterion=gini, max_depth=3, max_features=10, min_samples_leaf=3, min_samples_split=2, score=0.922283, total=   0.1s\n",
      "[CV] bootstrap=True, criterion=gini, max_depth=3, max_features=10, min_samples_leaf=3, min_samples_split=2 \n",
      "[CV]  bootstrap=True, criterion=gini, max_depth=3, max_features=10, min_samples_leaf=3, min_samples_split=2, score=0.919565, total=   0.1s\n",
      "[CV] bootstrap=True, criterion=gini, max_depth=3, max_features=10, min_samples_leaf=3, min_samples_split=2 \n"
     ]
    },
    {
     "name": "stdout",
     "output_type": "stream",
     "text": [
      "[CV]  bootstrap=True, criterion=gini, max_depth=3, max_features=10, min_samples_leaf=3, min_samples_split=2, score=0.918478, total=   0.1s\n",
      "[CV] bootstrap=True, criterion=gini, max_depth=3, max_features=10, min_samples_leaf=3, min_samples_split=2 \n",
      "[CV]  bootstrap=True, criterion=gini, max_depth=3, max_features=10, min_samples_leaf=3, min_samples_split=2, score=0.929891, total=   0.1s\n",
      "[CV] bootstrap=True, criterion=gini, max_depth=3, max_features=10, min_samples_leaf=3, min_samples_split=3 \n",
      "[CV]  bootstrap=True, criterion=gini, max_depth=3, max_features=10, min_samples_leaf=3, min_samples_split=3, score=0.922826, total=   0.1s\n",
      "[CV] bootstrap=True, criterion=gini, max_depth=3, max_features=10, min_samples_leaf=3, min_samples_split=3 \n",
      "[CV]  bootstrap=True, criterion=gini, max_depth=3, max_features=10, min_samples_leaf=3, min_samples_split=3, score=0.922283, total=   0.1s\n",
      "[CV] bootstrap=True, criterion=gini, max_depth=3, max_features=10, min_samples_leaf=3, min_samples_split=3 \n",
      "[CV]  bootstrap=True, criterion=gini, max_depth=3, max_features=10, min_samples_leaf=3, min_samples_split=3, score=0.919565, total=   0.1s\n",
      "[CV] bootstrap=True, criterion=gini, max_depth=3, max_features=10, min_samples_leaf=3, min_samples_split=3 \n",
      "[CV]  bootstrap=True, criterion=gini, max_depth=3, max_features=10, min_samples_leaf=3, min_samples_split=3, score=0.918478, total=   0.1s\n",
      "[CV] bootstrap=True, criterion=gini, max_depth=3, max_features=10, min_samples_leaf=3, min_samples_split=3 \n",
      "[CV]  bootstrap=True, criterion=gini, max_depth=3, max_features=10, min_samples_leaf=3, min_samples_split=3, score=0.929891, total=   0.1s\n",
      "[CV] bootstrap=True, criterion=gini, max_depth=3, max_features=10, min_samples_leaf=3, min_samples_split=10 \n",
      "[CV]  bootstrap=True, criterion=gini, max_depth=3, max_features=10, min_samples_leaf=3, min_samples_split=10, score=0.922826, total=   0.1s\n",
      "[CV] bootstrap=True, criterion=gini, max_depth=3, max_features=10, min_samples_leaf=3, min_samples_split=10 \n",
      "[CV]  bootstrap=True, criterion=gini, max_depth=3, max_features=10, min_samples_leaf=3, min_samples_split=10, score=0.922283, total=   0.1s\n",
      "[CV] bootstrap=True, criterion=gini, max_depth=3, max_features=10, min_samples_leaf=3, min_samples_split=10 \n",
      "[CV]  bootstrap=True, criterion=gini, max_depth=3, max_features=10, min_samples_leaf=3, min_samples_split=10, score=0.919565, total=   0.1s\n",
      "[CV] bootstrap=True, criterion=gini, max_depth=3, max_features=10, min_samples_leaf=3, min_samples_split=10 \n",
      "[CV]  bootstrap=True, criterion=gini, max_depth=3, max_features=10, min_samples_leaf=3, min_samples_split=10, score=0.918478, total=   0.1s\n",
      "[CV] bootstrap=True, criterion=gini, max_depth=3, max_features=10, min_samples_leaf=3, min_samples_split=10 \n",
      "[CV]  bootstrap=True, criterion=gini, max_depth=3, max_features=10, min_samples_leaf=3, min_samples_split=10, score=0.929891, total=   0.1s\n",
      "[CV] bootstrap=True, criterion=gini, max_depth=3, max_features=10, min_samples_leaf=10, min_samples_split=2 \n",
      "[CV]  bootstrap=True, criterion=gini, max_depth=3, max_features=10, min_samples_leaf=10, min_samples_split=2, score=0.922826, total=   0.1s\n",
      "[CV] bootstrap=True, criterion=gini, max_depth=3, max_features=10, min_samples_leaf=10, min_samples_split=2 \n",
      "[CV]  bootstrap=True, criterion=gini, max_depth=3, max_features=10, min_samples_leaf=10, min_samples_split=2, score=0.922283, total=   0.1s\n",
      "[CV] bootstrap=True, criterion=gini, max_depth=3, max_features=10, min_samples_leaf=10, min_samples_split=2 \n",
      "[CV]  bootstrap=True, criterion=gini, max_depth=3, max_features=10, min_samples_leaf=10, min_samples_split=2, score=0.919565, total=   0.1s\n",
      "[CV] bootstrap=True, criterion=gini, max_depth=3, max_features=10, min_samples_leaf=10, min_samples_split=2 \n",
      "[CV]  bootstrap=True, criterion=gini, max_depth=3, max_features=10, min_samples_leaf=10, min_samples_split=2, score=0.918478, total=   0.1s\n",
      "[CV] bootstrap=True, criterion=gini, max_depth=3, max_features=10, min_samples_leaf=10, min_samples_split=2 \n",
      "[CV]  bootstrap=True, criterion=gini, max_depth=3, max_features=10, min_samples_leaf=10, min_samples_split=2, score=0.929891, total=   0.1s\n",
      "[CV] bootstrap=True, criterion=gini, max_depth=3, max_features=10, min_samples_leaf=10, min_samples_split=3 \n",
      "[CV]  bootstrap=True, criterion=gini, max_depth=3, max_features=10, min_samples_leaf=10, min_samples_split=3, score=0.922826, total=   0.1s\n",
      "[CV] bootstrap=True, criterion=gini, max_depth=3, max_features=10, min_samples_leaf=10, min_samples_split=3 \n",
      "[CV]  bootstrap=True, criterion=gini, max_depth=3, max_features=10, min_samples_leaf=10, min_samples_split=3, score=0.922283, total=   0.1s\n",
      "[CV] bootstrap=True, criterion=gini, max_depth=3, max_features=10, min_samples_leaf=10, min_samples_split=3 \n",
      "[CV]  bootstrap=True, criterion=gini, max_depth=3, max_features=10, min_samples_leaf=10, min_samples_split=3, score=0.919565, total=   0.1s\n",
      "[CV] bootstrap=True, criterion=gini, max_depth=3, max_features=10, min_samples_leaf=10, min_samples_split=3 \n",
      "[CV]  bootstrap=True, criterion=gini, max_depth=3, max_features=10, min_samples_leaf=10, min_samples_split=3, score=0.918478, total=   0.1s\n",
      "[CV] bootstrap=True, criterion=gini, max_depth=3, max_features=10, min_samples_leaf=10, min_samples_split=3 \n",
      "[CV]  bootstrap=True, criterion=gini, max_depth=3, max_features=10, min_samples_leaf=10, min_samples_split=3, score=0.929891, total=   0.1s\n",
      "[CV] bootstrap=True, criterion=gini, max_depth=3, max_features=10, min_samples_leaf=10, min_samples_split=10 \n",
      "[CV]  bootstrap=True, criterion=gini, max_depth=3, max_features=10, min_samples_leaf=10, min_samples_split=10, score=0.922826, total=   0.1s\n",
      "[CV] bootstrap=True, criterion=gini, max_depth=3, max_features=10, min_samples_leaf=10, min_samples_split=10 \n",
      "[CV]  bootstrap=True, criterion=gini, max_depth=3, max_features=10, min_samples_leaf=10, min_samples_split=10, score=0.922283, total=   0.1s\n",
      "[CV] bootstrap=True, criterion=gini, max_depth=3, max_features=10, min_samples_leaf=10, min_samples_split=10 \n",
      "[CV]  bootstrap=True, criterion=gini, max_depth=3, max_features=10, min_samples_leaf=10, min_samples_split=10, score=0.919565, total=   0.1s\n",
      "[CV] bootstrap=True, criterion=gini, max_depth=3, max_features=10, min_samples_leaf=10, min_samples_split=10 \n",
      "[CV]  bootstrap=True, criterion=gini, max_depth=3, max_features=10, min_samples_leaf=10, min_samples_split=10, score=0.918478, total=   0.1s\n",
      "[CV] bootstrap=True, criterion=gini, max_depth=3, max_features=10, min_samples_leaf=10, min_samples_split=10 \n",
      "[CV]  bootstrap=True, criterion=gini, max_depth=3, max_features=10, min_samples_leaf=10, min_samples_split=10, score=0.929891, total=   0.1s\n",
      "[CV] bootstrap=True, criterion=gini, max_depth=None, max_features=1, min_samples_leaf=1, min_samples_split=2 \n",
      "[CV]  bootstrap=True, criterion=gini, max_depth=None, max_features=1, min_samples_leaf=1, min_samples_split=2, score=0.953261, total=   0.2s\n",
      "[CV] bootstrap=True, criterion=gini, max_depth=None, max_features=1, min_samples_leaf=1, min_samples_split=2 \n",
      "[CV]  bootstrap=True, criterion=gini, max_depth=None, max_features=1, min_samples_leaf=1, min_samples_split=2, score=0.959783, total=   0.1s\n",
      "[CV] bootstrap=True, criterion=gini, max_depth=None, max_features=1, min_samples_leaf=1, min_samples_split=2 \n",
      "[CV]  bootstrap=True, criterion=gini, max_depth=None, max_features=1, min_samples_leaf=1, min_samples_split=2, score=0.953804, total=   0.1s\n",
      "[CV] bootstrap=True, criterion=gini, max_depth=None, max_features=1, min_samples_leaf=1, min_samples_split=2 \n",
      "[CV]  bootstrap=True, criterion=gini, max_depth=None, max_features=1, min_samples_leaf=1, min_samples_split=2, score=0.958696, total=   0.1s\n",
      "[CV] bootstrap=True, criterion=gini, max_depth=None, max_features=1, min_samples_leaf=1, min_samples_split=2 \n",
      "[CV]  bootstrap=True, criterion=gini, max_depth=None, max_features=1, min_samples_leaf=1, min_samples_split=2, score=0.964130, total=   0.1s\n",
      "[CV] bootstrap=True, criterion=gini, max_depth=None, max_features=1, min_samples_leaf=1, min_samples_split=3 \n",
      "[CV]  bootstrap=True, criterion=gini, max_depth=None, max_features=1, min_samples_leaf=1, min_samples_split=3, score=0.958696, total=   0.1s\n",
      "[CV] bootstrap=True, criterion=gini, max_depth=None, max_features=1, min_samples_leaf=1, min_samples_split=3 \n",
      "[CV]  bootstrap=True, criterion=gini, max_depth=None, max_features=1, min_samples_leaf=1, min_samples_split=3, score=0.960870, total=   0.1s\n",
      "[CV] bootstrap=True, criterion=gini, max_depth=None, max_features=1, min_samples_leaf=1, min_samples_split=3 \n"
     ]
    },
    {
     "name": "stdout",
     "output_type": "stream",
     "text": [
      "[CV]  bootstrap=True, criterion=gini, max_depth=None, max_features=1, min_samples_leaf=1, min_samples_split=3, score=0.962500, total=   0.1s\n",
      "[CV] bootstrap=True, criterion=gini, max_depth=None, max_features=1, min_samples_leaf=1, min_samples_split=3 \n",
      "[CV]  bootstrap=True, criterion=gini, max_depth=None, max_features=1, min_samples_leaf=1, min_samples_split=3, score=0.957065, total=   0.1s\n",
      "[CV] bootstrap=True, criterion=gini, max_depth=None, max_features=1, min_samples_leaf=1, min_samples_split=3 \n",
      "[CV]  bootstrap=True, criterion=gini, max_depth=None, max_features=1, min_samples_leaf=1, min_samples_split=3, score=0.964130, total=   0.1s\n",
      "[CV] bootstrap=True, criterion=gini, max_depth=None, max_features=1, min_samples_leaf=1, min_samples_split=10 \n",
      "[CV]  bootstrap=True, criterion=gini, max_depth=None, max_features=1, min_samples_leaf=1, min_samples_split=10, score=0.952174, total=   0.1s\n",
      "[CV] bootstrap=True, criterion=gini, max_depth=None, max_features=1, min_samples_leaf=1, min_samples_split=10 \n",
      "[CV]  bootstrap=True, criterion=gini, max_depth=None, max_features=1, min_samples_leaf=1, min_samples_split=10, score=0.961957, total=   0.1s\n",
      "[CV] bootstrap=True, criterion=gini, max_depth=None, max_features=1, min_samples_leaf=1, min_samples_split=10 \n",
      "[CV]  bootstrap=True, criterion=gini, max_depth=None, max_features=1, min_samples_leaf=1, min_samples_split=10, score=0.958696, total=   0.1s\n",
      "[CV] bootstrap=True, criterion=gini, max_depth=None, max_features=1, min_samples_leaf=1, min_samples_split=10 \n",
      "[CV]  bootstrap=True, criterion=gini, max_depth=None, max_features=1, min_samples_leaf=1, min_samples_split=10, score=0.961413, total=   0.1s\n",
      "[CV] bootstrap=True, criterion=gini, max_depth=None, max_features=1, min_samples_leaf=1, min_samples_split=10 \n",
      "[CV]  bootstrap=True, criterion=gini, max_depth=None, max_features=1, min_samples_leaf=1, min_samples_split=10, score=0.958696, total=   0.1s\n",
      "[CV] bootstrap=True, criterion=gini, max_depth=None, max_features=1, min_samples_leaf=3, min_samples_split=2 \n",
      "[CV]  bootstrap=True, criterion=gini, max_depth=None, max_features=1, min_samples_leaf=3, min_samples_split=2, score=0.954348, total=   0.1s\n",
      "[CV] bootstrap=True, criterion=gini, max_depth=None, max_features=1, min_samples_leaf=3, min_samples_split=2 \n",
      "[CV]  bootstrap=True, criterion=gini, max_depth=None, max_features=1, min_samples_leaf=3, min_samples_split=2, score=0.960870, total=   0.1s\n",
      "[CV] bootstrap=True, criterion=gini, max_depth=None, max_features=1, min_samples_leaf=3, min_samples_split=2 \n",
      "[CV]  bootstrap=True, criterion=gini, max_depth=None, max_features=1, min_samples_leaf=3, min_samples_split=2, score=0.953804, total=   0.1s\n",
      "[CV] bootstrap=True, criterion=gini, max_depth=None, max_features=1, min_samples_leaf=3, min_samples_split=2 \n",
      "[CV]  bootstrap=True, criterion=gini, max_depth=None, max_features=1, min_samples_leaf=3, min_samples_split=2, score=0.958152, total=   0.1s\n",
      "[CV] bootstrap=True, criterion=gini, max_depth=None, max_features=1, min_samples_leaf=3, min_samples_split=2 \n",
      "[CV]  bootstrap=True, criterion=gini, max_depth=None, max_features=1, min_samples_leaf=3, min_samples_split=2, score=0.963587, total=   0.1s\n",
      "[CV] bootstrap=True, criterion=gini, max_depth=None, max_features=1, min_samples_leaf=3, min_samples_split=3 \n",
      "[CV]  bootstrap=True, criterion=gini, max_depth=None, max_features=1, min_samples_leaf=3, min_samples_split=3, score=0.954348, total=   0.1s\n",
      "[CV] bootstrap=True, criterion=gini, max_depth=None, max_features=1, min_samples_leaf=3, min_samples_split=3 \n",
      "[CV]  bootstrap=True, criterion=gini, max_depth=None, max_features=1, min_samples_leaf=3, min_samples_split=3, score=0.960870, total=   0.1s\n",
      "[CV] bootstrap=True, criterion=gini, max_depth=None, max_features=1, min_samples_leaf=3, min_samples_split=3 \n",
      "[CV]  bootstrap=True, criterion=gini, max_depth=None, max_features=1, min_samples_leaf=3, min_samples_split=3, score=0.953804, total=   0.1s\n",
      "[CV] bootstrap=True, criterion=gini, max_depth=None, max_features=1, min_samples_leaf=3, min_samples_split=3 \n",
      "[CV]  bootstrap=True, criterion=gini, max_depth=None, max_features=1, min_samples_leaf=3, min_samples_split=3, score=0.958152, total=   0.1s\n",
      "[CV] bootstrap=True, criterion=gini, max_depth=None, max_features=1, min_samples_leaf=3, min_samples_split=3 \n",
      "[CV]  bootstrap=True, criterion=gini, max_depth=None, max_features=1, min_samples_leaf=3, min_samples_split=3, score=0.963587, total=   0.1s\n",
      "[CV] bootstrap=True, criterion=gini, max_depth=None, max_features=1, min_samples_leaf=3, min_samples_split=10 \n",
      "[CV]  bootstrap=True, criterion=gini, max_depth=None, max_features=1, min_samples_leaf=3, min_samples_split=10, score=0.953804, total=   0.1s\n",
      "[CV] bootstrap=True, criterion=gini, max_depth=None, max_features=1, min_samples_leaf=3, min_samples_split=10 \n",
      "[CV]  bootstrap=True, criterion=gini, max_depth=None, max_features=1, min_samples_leaf=3, min_samples_split=10, score=0.963587, total=   0.1s\n",
      "[CV] bootstrap=True, criterion=gini, max_depth=None, max_features=1, min_samples_leaf=3, min_samples_split=10 \n",
      "[CV]  bootstrap=True, criterion=gini, max_depth=None, max_features=1, min_samples_leaf=3, min_samples_split=10, score=0.957609, total=   0.1s\n",
      "[CV] bootstrap=True, criterion=gini, max_depth=None, max_features=1, min_samples_leaf=3, min_samples_split=10 \n",
      "[CV]  bootstrap=True, criterion=gini, max_depth=None, max_features=1, min_samples_leaf=3, min_samples_split=10, score=0.960870, total=   0.1s\n",
      "[CV] bootstrap=True, criterion=gini, max_depth=None, max_features=1, min_samples_leaf=3, min_samples_split=10 \n",
      "[CV]  bootstrap=True, criterion=gini, max_depth=None, max_features=1, min_samples_leaf=3, min_samples_split=10, score=0.958696, total=   0.1s\n",
      "[CV] bootstrap=True, criterion=gini, max_depth=None, max_features=1, min_samples_leaf=10, min_samples_split=2 \n",
      "[CV]  bootstrap=True, criterion=gini, max_depth=None, max_features=1, min_samples_leaf=10, min_samples_split=2, score=0.946196, total=   0.1s\n",
      "[CV] bootstrap=True, criterion=gini, max_depth=None, max_features=1, min_samples_leaf=10, min_samples_split=2 \n",
      "[CV]  bootstrap=True, criterion=gini, max_depth=None, max_features=1, min_samples_leaf=10, min_samples_split=2, score=0.963043, total=   0.1s\n",
      "[CV] bootstrap=True, criterion=gini, max_depth=None, max_features=1, min_samples_leaf=10, min_samples_split=2 \n",
      "[CV]  bootstrap=True, criterion=gini, max_depth=None, max_features=1, min_samples_leaf=10, min_samples_split=2, score=0.951087, total=   0.1s\n",
      "[CV] bootstrap=True, criterion=gini, max_depth=None, max_features=1, min_samples_leaf=10, min_samples_split=2 \n",
      "[CV]  bootstrap=True, criterion=gini, max_depth=None, max_features=1, min_samples_leaf=10, min_samples_split=2, score=0.957065, total=   0.1s\n",
      "[CV] bootstrap=True, criterion=gini, max_depth=None, max_features=1, min_samples_leaf=10, min_samples_split=2 \n",
      "[CV]  bootstrap=True, criterion=gini, max_depth=None, max_features=1, min_samples_leaf=10, min_samples_split=2, score=0.960326, total=   0.1s\n",
      "[CV] bootstrap=True, criterion=gini, max_depth=None, max_features=1, min_samples_leaf=10, min_samples_split=3 \n",
      "[CV]  bootstrap=True, criterion=gini, max_depth=None, max_features=1, min_samples_leaf=10, min_samples_split=3, score=0.946196, total=   0.1s\n",
      "[CV] bootstrap=True, criterion=gini, max_depth=None, max_features=1, min_samples_leaf=10, min_samples_split=3 \n",
      "[CV]  bootstrap=True, criterion=gini, max_depth=None, max_features=1, min_samples_leaf=10, min_samples_split=3, score=0.963043, total=   0.1s\n",
      "[CV] bootstrap=True, criterion=gini, max_depth=None, max_features=1, min_samples_leaf=10, min_samples_split=3 \n",
      "[CV]  bootstrap=True, criterion=gini, max_depth=None, max_features=1, min_samples_leaf=10, min_samples_split=3, score=0.951087, total=   0.1s\n",
      "[CV] bootstrap=True, criterion=gini, max_depth=None, max_features=1, min_samples_leaf=10, min_samples_split=3 \n",
      "[CV]  bootstrap=True, criterion=gini, max_depth=None, max_features=1, min_samples_leaf=10, min_samples_split=3, score=0.957065, total=   0.1s\n",
      "[CV] bootstrap=True, criterion=gini, max_depth=None, max_features=1, min_samples_leaf=10, min_samples_split=3 \n",
      "[CV]  bootstrap=True, criterion=gini, max_depth=None, max_features=1, min_samples_leaf=10, min_samples_split=3, score=0.960326, total=   0.1s\n",
      "[CV] bootstrap=True, criterion=gini, max_depth=None, max_features=1, min_samples_leaf=10, min_samples_split=10 \n",
      "[CV]  bootstrap=True, criterion=gini, max_depth=None, max_features=1, min_samples_leaf=10, min_samples_split=10, score=0.946196, total=   0.1s\n",
      "[CV] bootstrap=True, criterion=gini, max_depth=None, max_features=1, min_samples_leaf=10, min_samples_split=10 \n"
     ]
    },
    {
     "name": "stdout",
     "output_type": "stream",
     "text": [
      "[CV]  bootstrap=True, criterion=gini, max_depth=None, max_features=1, min_samples_leaf=10, min_samples_split=10, score=0.963043, total=   0.1s\n",
      "[CV] bootstrap=True, criterion=gini, max_depth=None, max_features=1, min_samples_leaf=10, min_samples_split=10 \n",
      "[CV]  bootstrap=True, criterion=gini, max_depth=None, max_features=1, min_samples_leaf=10, min_samples_split=10, score=0.951087, total=   0.1s\n",
      "[CV] bootstrap=True, criterion=gini, max_depth=None, max_features=1, min_samples_leaf=10, min_samples_split=10 \n",
      "[CV]  bootstrap=True, criterion=gini, max_depth=None, max_features=1, min_samples_leaf=10, min_samples_split=10, score=0.957065, total=   0.1s\n",
      "[CV] bootstrap=True, criterion=gini, max_depth=None, max_features=1, min_samples_leaf=10, min_samples_split=10 \n",
      "[CV]  bootstrap=True, criterion=gini, max_depth=None, max_features=1, min_samples_leaf=10, min_samples_split=10, score=0.960326, total=   0.1s\n",
      "[CV] bootstrap=True, criterion=gini, max_depth=None, max_features=3, min_samples_leaf=1, min_samples_split=2 \n",
      "[CV]  bootstrap=True, criterion=gini, max_depth=None, max_features=3, min_samples_leaf=1, min_samples_split=2, score=0.960326, total=   0.3s\n",
      "[CV] bootstrap=True, criterion=gini, max_depth=None, max_features=3, min_samples_leaf=1, min_samples_split=2 \n",
      "[CV]  bootstrap=True, criterion=gini, max_depth=None, max_features=3, min_samples_leaf=1, min_samples_split=2, score=0.959783, total=   0.3s\n",
      "[CV] bootstrap=True, criterion=gini, max_depth=None, max_features=3, min_samples_leaf=1, min_samples_split=2 \n",
      "[CV]  bootstrap=True, criterion=gini, max_depth=None, max_features=3, min_samples_leaf=1, min_samples_split=2, score=0.959783, total=   0.3s\n",
      "[CV] bootstrap=True, criterion=gini, max_depth=None, max_features=3, min_samples_leaf=1, min_samples_split=2 \n",
      "[CV]  bootstrap=True, criterion=gini, max_depth=None, max_features=3, min_samples_leaf=1, min_samples_split=2, score=0.963043, total=   0.3s\n",
      "[CV] bootstrap=True, criterion=gini, max_depth=None, max_features=3, min_samples_leaf=1, min_samples_split=2 \n",
      "[CV]  bootstrap=True, criterion=gini, max_depth=None, max_features=3, min_samples_leaf=1, min_samples_split=2, score=0.969565, total=   0.3s\n",
      "[CV] bootstrap=True, criterion=gini, max_depth=None, max_features=3, min_samples_leaf=1, min_samples_split=3 \n",
      "[CV]  bootstrap=True, criterion=gini, max_depth=None, max_features=3, min_samples_leaf=1, min_samples_split=3, score=0.962500, total=   0.3s\n",
      "[CV] bootstrap=True, criterion=gini, max_depth=None, max_features=3, min_samples_leaf=1, min_samples_split=3 \n",
      "[CV]  bootstrap=True, criterion=gini, max_depth=None, max_features=3, min_samples_leaf=1, min_samples_split=3, score=0.962500, total=   0.3s\n",
      "[CV] bootstrap=True, criterion=gini, max_depth=None, max_features=3, min_samples_leaf=1, min_samples_split=3 \n",
      "[CV]  bootstrap=True, criterion=gini, max_depth=None, max_features=3, min_samples_leaf=1, min_samples_split=3, score=0.957609, total=   0.3s\n",
      "[CV] bootstrap=True, criterion=gini, max_depth=None, max_features=3, min_samples_leaf=1, min_samples_split=3 \n",
      "[CV]  bootstrap=True, criterion=gini, max_depth=None, max_features=3, min_samples_leaf=1, min_samples_split=3, score=0.964674, total=   0.3s\n",
      "[CV] bootstrap=True, criterion=gini, max_depth=None, max_features=3, min_samples_leaf=1, min_samples_split=3 \n",
      "[CV]  bootstrap=True, criterion=gini, max_depth=None, max_features=3, min_samples_leaf=1, min_samples_split=3, score=0.967391, total=   0.3s\n",
      "[CV] bootstrap=True, criterion=gini, max_depth=None, max_features=3, min_samples_leaf=1, min_samples_split=10 \n",
      "[CV]  bootstrap=True, criterion=gini, max_depth=None, max_features=3, min_samples_leaf=1, min_samples_split=10, score=0.959239, total=   0.3s\n",
      "[CV] bootstrap=True, criterion=gini, max_depth=None, max_features=3, min_samples_leaf=1, min_samples_split=10 \n",
      "[CV]  bootstrap=True, criterion=gini, max_depth=None, max_features=3, min_samples_leaf=1, min_samples_split=10, score=0.964674, total=   0.3s\n",
      "[CV] bootstrap=True, criterion=gini, max_depth=None, max_features=3, min_samples_leaf=1, min_samples_split=10 \n",
      "[CV]  bootstrap=True, criterion=gini, max_depth=None, max_features=3, min_samples_leaf=1, min_samples_split=10, score=0.962500, total=   0.3s\n",
      "[CV] bootstrap=True, criterion=gini, max_depth=None, max_features=3, min_samples_leaf=1, min_samples_split=10 \n",
      "[CV]  bootstrap=True, criterion=gini, max_depth=None, max_features=3, min_samples_leaf=1, min_samples_split=10, score=0.963587, total=   0.3s\n",
      "[CV] bootstrap=True, criterion=gini, max_depth=None, max_features=3, min_samples_leaf=1, min_samples_split=10 \n",
      "[CV]  bootstrap=True, criterion=gini, max_depth=None, max_features=3, min_samples_leaf=1, min_samples_split=10, score=0.963043, total=   0.3s\n",
      "[CV] bootstrap=True, criterion=gini, max_depth=None, max_features=3, min_samples_leaf=3, min_samples_split=2 \n",
      "[CV]  bootstrap=True, criterion=gini, max_depth=None, max_features=3, min_samples_leaf=3, min_samples_split=2, score=0.961413, total=   0.3s\n",
      "[CV] bootstrap=True, criterion=gini, max_depth=None, max_features=3, min_samples_leaf=3, min_samples_split=2 \n",
      "[CV]  bootstrap=True, criterion=gini, max_depth=None, max_features=3, min_samples_leaf=3, min_samples_split=2, score=0.964674, total=   0.3s\n",
      "[CV] bootstrap=True, criterion=gini, max_depth=None, max_features=3, min_samples_leaf=3, min_samples_split=2 \n",
      "[CV]  bootstrap=True, criterion=gini, max_depth=None, max_features=3, min_samples_leaf=3, min_samples_split=2, score=0.958696, total=   0.3s\n",
      "[CV] bootstrap=True, criterion=gini, max_depth=None, max_features=3, min_samples_leaf=3, min_samples_split=2 \n",
      "[CV]  bootstrap=True, criterion=gini, max_depth=None, max_features=3, min_samples_leaf=3, min_samples_split=2, score=0.960326, total=   0.3s\n",
      "[CV] bootstrap=True, criterion=gini, max_depth=None, max_features=3, min_samples_leaf=3, min_samples_split=2 \n",
      "[CV]  bootstrap=True, criterion=gini, max_depth=None, max_features=3, min_samples_leaf=3, min_samples_split=2, score=0.964674, total=   0.3s\n",
      "[CV] bootstrap=True, criterion=gini, max_depth=None, max_features=3, min_samples_leaf=3, min_samples_split=3 \n",
      "[CV]  bootstrap=True, criterion=gini, max_depth=None, max_features=3, min_samples_leaf=3, min_samples_split=3, score=0.961413, total=   0.3s\n",
      "[CV] bootstrap=True, criterion=gini, max_depth=None, max_features=3, min_samples_leaf=3, min_samples_split=3 \n",
      "[CV]  bootstrap=True, criterion=gini, max_depth=None, max_features=3, min_samples_leaf=3, min_samples_split=3, score=0.964674, total=   0.3s\n",
      "[CV] bootstrap=True, criterion=gini, max_depth=None, max_features=3, min_samples_leaf=3, min_samples_split=3 \n",
      "[CV]  bootstrap=True, criterion=gini, max_depth=None, max_features=3, min_samples_leaf=3, min_samples_split=3, score=0.958696, total=   0.3s\n",
      "[CV] bootstrap=True, criterion=gini, max_depth=None, max_features=3, min_samples_leaf=3, min_samples_split=3 \n",
      "[CV]  bootstrap=True, criterion=gini, max_depth=None, max_features=3, min_samples_leaf=3, min_samples_split=3, score=0.960326, total=   0.3s\n",
      "[CV] bootstrap=True, criterion=gini, max_depth=None, max_features=3, min_samples_leaf=3, min_samples_split=3 \n",
      "[CV]  bootstrap=True, criterion=gini, max_depth=None, max_features=3, min_samples_leaf=3, min_samples_split=3, score=0.964674, total=   0.3s\n",
      "[CV] bootstrap=True, criterion=gini, max_depth=None, max_features=3, min_samples_leaf=3, min_samples_split=10 \n",
      "[CV]  bootstrap=True, criterion=gini, max_depth=None, max_features=3, min_samples_leaf=3, min_samples_split=10, score=0.958152, total=   0.3s\n",
      "[CV] bootstrap=True, criterion=gini, max_depth=None, max_features=3, min_samples_leaf=3, min_samples_split=10 \n",
      "[CV]  bootstrap=True, criterion=gini, max_depth=None, max_features=3, min_samples_leaf=3, min_samples_split=10, score=0.961957, total=   0.3s\n",
      "[CV] bootstrap=True, criterion=gini, max_depth=None, max_features=3, min_samples_leaf=3, min_samples_split=10 \n",
      "[CV]  bootstrap=True, criterion=gini, max_depth=None, max_features=3, min_samples_leaf=3, min_samples_split=10, score=0.958696, total=   0.3s\n",
      "[CV] bootstrap=True, criterion=gini, max_depth=None, max_features=3, min_samples_leaf=3, min_samples_split=10 \n",
      "[CV]  bootstrap=True, criterion=gini, max_depth=None, max_features=3, min_samples_leaf=3, min_samples_split=10, score=0.964130, total=   0.3s\n",
      "[CV] bootstrap=True, criterion=gini, max_depth=None, max_features=3, min_samples_leaf=3, min_samples_split=10 \n"
     ]
    },
    {
     "name": "stdout",
     "output_type": "stream",
     "text": [
      "[CV]  bootstrap=True, criterion=gini, max_depth=None, max_features=3, min_samples_leaf=3, min_samples_split=10, score=0.959783, total=   0.3s\n",
      "[CV] bootstrap=True, criterion=gini, max_depth=None, max_features=3, min_samples_leaf=10, min_samples_split=2 \n",
      "[CV]  bootstrap=True, criterion=gini, max_depth=None, max_features=3, min_samples_leaf=10, min_samples_split=2, score=0.957609, total=   0.3s\n",
      "[CV] bootstrap=True, criterion=gini, max_depth=None, max_features=3, min_samples_leaf=10, min_samples_split=2 \n",
      "[CV]  bootstrap=True, criterion=gini, max_depth=None, max_features=3, min_samples_leaf=10, min_samples_split=2, score=0.964130, total=   0.2s\n",
      "[CV] bootstrap=True, criterion=gini, max_depth=None, max_features=3, min_samples_leaf=10, min_samples_split=2 \n",
      "[CV]  bootstrap=True, criterion=gini, max_depth=None, max_features=3, min_samples_leaf=10, min_samples_split=2, score=0.955978, total=   0.3s\n",
      "[CV] bootstrap=True, criterion=gini, max_depth=None, max_features=3, min_samples_leaf=10, min_samples_split=2 \n",
      "[CV]  bootstrap=True, criterion=gini, max_depth=None, max_features=3, min_samples_leaf=10, min_samples_split=2, score=0.958696, total=   0.3s\n",
      "[CV] bootstrap=True, criterion=gini, max_depth=None, max_features=3, min_samples_leaf=10, min_samples_split=2 \n",
      "[CV]  bootstrap=True, criterion=gini, max_depth=None, max_features=3, min_samples_leaf=10, min_samples_split=2, score=0.957065, total=   0.3s\n",
      "[CV] bootstrap=True, criterion=gini, max_depth=None, max_features=3, min_samples_leaf=10, min_samples_split=3 \n",
      "[CV]  bootstrap=True, criterion=gini, max_depth=None, max_features=3, min_samples_leaf=10, min_samples_split=3, score=0.957609, total=   0.2s\n",
      "[CV] bootstrap=True, criterion=gini, max_depth=None, max_features=3, min_samples_leaf=10, min_samples_split=3 \n",
      "[CV]  bootstrap=True, criterion=gini, max_depth=None, max_features=3, min_samples_leaf=10, min_samples_split=3, score=0.964130, total=   0.3s\n",
      "[CV] bootstrap=True, criterion=gini, max_depth=None, max_features=3, min_samples_leaf=10, min_samples_split=3 \n",
      "[CV]  bootstrap=True, criterion=gini, max_depth=None, max_features=3, min_samples_leaf=10, min_samples_split=3, score=0.955978, total=   0.4s\n",
      "[CV] bootstrap=True, criterion=gini, max_depth=None, max_features=3, min_samples_leaf=10, min_samples_split=3 \n",
      "[CV]  bootstrap=True, criterion=gini, max_depth=None, max_features=3, min_samples_leaf=10, min_samples_split=3, score=0.958696, total=   0.4s\n",
      "[CV] bootstrap=True, criterion=gini, max_depth=None, max_features=3, min_samples_leaf=10, min_samples_split=3 \n",
      "[CV]  bootstrap=True, criterion=gini, max_depth=None, max_features=3, min_samples_leaf=10, min_samples_split=3, score=0.957065, total=   0.3s\n",
      "[CV] bootstrap=True, criterion=gini, max_depth=None, max_features=3, min_samples_leaf=10, min_samples_split=10 \n",
      "[CV]  bootstrap=True, criterion=gini, max_depth=None, max_features=3, min_samples_leaf=10, min_samples_split=10, score=0.957609, total=   0.3s\n",
      "[CV] bootstrap=True, criterion=gini, max_depth=None, max_features=3, min_samples_leaf=10, min_samples_split=10 \n",
      "[CV]  bootstrap=True, criterion=gini, max_depth=None, max_features=3, min_samples_leaf=10, min_samples_split=10, score=0.964130, total=   0.3s\n",
      "[CV] bootstrap=True, criterion=gini, max_depth=None, max_features=3, min_samples_leaf=10, min_samples_split=10 \n",
      "[CV]  bootstrap=True, criterion=gini, max_depth=None, max_features=3, min_samples_leaf=10, min_samples_split=10, score=0.955978, total=   0.2s\n",
      "[CV] bootstrap=True, criterion=gini, max_depth=None, max_features=3, min_samples_leaf=10, min_samples_split=10 \n",
      "[CV]  bootstrap=True, criterion=gini, max_depth=None, max_features=3, min_samples_leaf=10, min_samples_split=10, score=0.958696, total=   0.2s\n",
      "[CV] bootstrap=True, criterion=gini, max_depth=None, max_features=3, min_samples_leaf=10, min_samples_split=10 \n",
      "[CV]  bootstrap=True, criterion=gini, max_depth=None, max_features=3, min_samples_leaf=10, min_samples_split=10, score=0.957065, total=   0.2s\n",
      "[CV] bootstrap=True, criterion=gini, max_depth=None, max_features=10, min_samples_leaf=1, min_samples_split=2 \n",
      "[CV]  bootstrap=True, criterion=gini, max_depth=None, max_features=10, min_samples_leaf=1, min_samples_split=2, score=0.964130, total=   1.0s\n",
      "[CV] bootstrap=True, criterion=gini, max_depth=None, max_features=10, min_samples_leaf=1, min_samples_split=2 \n",
      "[CV]  bootstrap=True, criterion=gini, max_depth=None, max_features=10, min_samples_leaf=1, min_samples_split=2, score=0.965217, total=   0.9s\n",
      "[CV] bootstrap=True, criterion=gini, max_depth=None, max_features=10, min_samples_leaf=1, min_samples_split=2 \n",
      "[CV]  bootstrap=True, criterion=gini, max_depth=None, max_features=10, min_samples_leaf=1, min_samples_split=2, score=0.964674, total=   0.9s\n",
      "[CV] bootstrap=True, criterion=gini, max_depth=None, max_features=10, min_samples_leaf=1, min_samples_split=2 \n",
      "[CV]  bootstrap=True, criterion=gini, max_depth=None, max_features=10, min_samples_leaf=1, min_samples_split=2, score=0.957609, total=   0.9s\n",
      "[CV] bootstrap=True, criterion=gini, max_depth=None, max_features=10, min_samples_leaf=1, min_samples_split=2 \n",
      "[CV]  bootstrap=True, criterion=gini, max_depth=None, max_features=10, min_samples_leaf=1, min_samples_split=2, score=0.960326, total=   0.9s\n",
      "[CV] bootstrap=True, criterion=gini, max_depth=None, max_features=10, min_samples_leaf=1, min_samples_split=3 \n",
      "[CV]  bootstrap=True, criterion=gini, max_depth=None, max_features=10, min_samples_leaf=1, min_samples_split=3, score=0.965217, total=   1.0s\n",
      "[CV] bootstrap=True, criterion=gini, max_depth=None, max_features=10, min_samples_leaf=1, min_samples_split=3 \n",
      "[CV]  bootstrap=True, criterion=gini, max_depth=None, max_features=10, min_samples_leaf=1, min_samples_split=3, score=0.961957, total=   0.9s\n",
      "[CV] bootstrap=True, criterion=gini, max_depth=None, max_features=10, min_samples_leaf=1, min_samples_split=3 \n",
      "[CV]  bootstrap=True, criterion=gini, max_depth=None, max_features=10, min_samples_leaf=1, min_samples_split=3, score=0.957065, total=   1.0s\n",
      "[CV] bootstrap=True, criterion=gini, max_depth=None, max_features=10, min_samples_leaf=1, min_samples_split=3 \n",
      "[CV]  bootstrap=True, criterion=gini, max_depth=None, max_features=10, min_samples_leaf=1, min_samples_split=3, score=0.964674, total=   0.9s\n",
      "[CV] bootstrap=True, criterion=gini, max_depth=None, max_features=10, min_samples_leaf=1, min_samples_split=3 \n",
      "[CV]  bootstrap=True, criterion=gini, max_depth=None, max_features=10, min_samples_leaf=1, min_samples_split=3, score=0.965761, total=   0.9s\n",
      "[CV] bootstrap=True, criterion=gini, max_depth=None, max_features=10, min_samples_leaf=1, min_samples_split=10 \n",
      "[CV]  bootstrap=True, criterion=gini, max_depth=None, max_features=10, min_samples_leaf=1, min_samples_split=10, score=0.963043, total=   0.9s\n",
      "[CV] bootstrap=True, criterion=gini, max_depth=None, max_features=10, min_samples_leaf=1, min_samples_split=10 \n",
      "[CV]  bootstrap=True, criterion=gini, max_depth=None, max_features=10, min_samples_leaf=1, min_samples_split=10, score=0.966848, total=   0.9s\n",
      "[CV] bootstrap=True, criterion=gini, max_depth=None, max_features=10, min_samples_leaf=1, min_samples_split=10 \n",
      "[CV]  bootstrap=True, criterion=gini, max_depth=None, max_features=10, min_samples_leaf=1, min_samples_split=10, score=0.960870, total=   0.9s\n",
      "[CV] bootstrap=True, criterion=gini, max_depth=None, max_features=10, min_samples_leaf=1, min_samples_split=10 \n",
      "[CV]  bootstrap=True, criterion=gini, max_depth=None, max_features=10, min_samples_leaf=1, min_samples_split=10, score=0.965761, total=   0.9s\n",
      "[CV] bootstrap=True, criterion=gini, max_depth=None, max_features=10, min_samples_leaf=1, min_samples_split=10 \n",
      "[CV]  bootstrap=True, criterion=gini, max_depth=None, max_features=10, min_samples_leaf=1, min_samples_split=10, score=0.969022, total=   0.9s\n",
      "[CV] bootstrap=True, criterion=gini, max_depth=None, max_features=10, min_samples_leaf=3, min_samples_split=2 \n",
      "[CV]  bootstrap=True, criterion=gini, max_depth=None, max_features=10, min_samples_leaf=3, min_samples_split=2, score=0.960870, total=   0.8s\n",
      "[CV] bootstrap=True, criterion=gini, max_depth=None, max_features=10, min_samples_leaf=3, min_samples_split=2 \n",
      "[CV]  bootstrap=True, criterion=gini, max_depth=None, max_features=10, min_samples_leaf=3, min_samples_split=2, score=0.964674, total=   0.8s\n",
      "[CV] bootstrap=True, criterion=gini, max_depth=None, max_features=10, min_samples_leaf=3, min_samples_split=2 \n"
     ]
    },
    {
     "name": "stdout",
     "output_type": "stream",
     "text": [
      "[CV]  bootstrap=True, criterion=gini, max_depth=None, max_features=10, min_samples_leaf=3, min_samples_split=2, score=0.963587, total=   0.8s\n",
      "[CV] bootstrap=True, criterion=gini, max_depth=None, max_features=10, min_samples_leaf=3, min_samples_split=2 \n",
      "[CV]  bootstrap=True, criterion=gini, max_depth=None, max_features=10, min_samples_leaf=3, min_samples_split=2, score=0.966304, total=   0.8s\n",
      "[CV] bootstrap=True, criterion=gini, max_depth=None, max_features=10, min_samples_leaf=3, min_samples_split=2 \n",
      "[CV]  bootstrap=True, criterion=gini, max_depth=None, max_features=10, min_samples_leaf=3, min_samples_split=2, score=0.969022, total=   0.8s\n",
      "[CV] bootstrap=True, criterion=gini, max_depth=None, max_features=10, min_samples_leaf=3, min_samples_split=3 \n",
      "[CV]  bootstrap=True, criterion=gini, max_depth=None, max_features=10, min_samples_leaf=3, min_samples_split=3, score=0.960870, total=   0.8s\n",
      "[CV] bootstrap=True, criterion=gini, max_depth=None, max_features=10, min_samples_leaf=3, min_samples_split=3 \n",
      "[CV]  bootstrap=True, criterion=gini, max_depth=None, max_features=10, min_samples_leaf=3, min_samples_split=3, score=0.964674, total=   0.9s\n",
      "[CV] bootstrap=True, criterion=gini, max_depth=None, max_features=10, min_samples_leaf=3, min_samples_split=3 \n",
      "[CV]  bootstrap=True, criterion=gini, max_depth=None, max_features=10, min_samples_leaf=3, min_samples_split=3, score=0.963587, total=   0.8s\n",
      "[CV] bootstrap=True, criterion=gini, max_depth=None, max_features=10, min_samples_leaf=3, min_samples_split=3 \n",
      "[CV]  bootstrap=True, criterion=gini, max_depth=None, max_features=10, min_samples_leaf=3, min_samples_split=3, score=0.966304, total=   0.9s\n",
      "[CV] bootstrap=True, criterion=gini, max_depth=None, max_features=10, min_samples_leaf=3, min_samples_split=3 \n",
      "[CV]  bootstrap=True, criterion=gini, max_depth=None, max_features=10, min_samples_leaf=3, min_samples_split=3, score=0.969022, total=   0.8s\n",
      "[CV] bootstrap=True, criterion=gini, max_depth=None, max_features=10, min_samples_leaf=3, min_samples_split=10 \n",
      "[CV]  bootstrap=True, criterion=gini, max_depth=None, max_features=10, min_samples_leaf=3, min_samples_split=10, score=0.957065, total=   0.9s\n",
      "[CV] bootstrap=True, criterion=gini, max_depth=None, max_features=10, min_samples_leaf=3, min_samples_split=10 \n",
      "[CV]  bootstrap=True, criterion=gini, max_depth=None, max_features=10, min_samples_leaf=3, min_samples_split=10, score=0.960870, total=   0.9s\n",
      "[CV] bootstrap=True, criterion=gini, max_depth=None, max_features=10, min_samples_leaf=3, min_samples_split=10 \n",
      "[CV]  bootstrap=True, criterion=gini, max_depth=None, max_features=10, min_samples_leaf=3, min_samples_split=10, score=0.964130, total=   0.9s\n",
      "[CV] bootstrap=True, criterion=gini, max_depth=None, max_features=10, min_samples_leaf=3, min_samples_split=10 \n",
      "[CV]  bootstrap=True, criterion=gini, max_depth=None, max_features=10, min_samples_leaf=3, min_samples_split=10, score=0.964130, total=   0.8s\n",
      "[CV] bootstrap=True, criterion=gini, max_depth=None, max_features=10, min_samples_leaf=3, min_samples_split=10 \n",
      "[CV]  bootstrap=True, criterion=gini, max_depth=None, max_features=10, min_samples_leaf=3, min_samples_split=10, score=0.967391, total=   0.8s\n",
      "[CV] bootstrap=True, criterion=gini, max_depth=None, max_features=10, min_samples_leaf=10, min_samples_split=2 \n",
      "[CV]  bootstrap=True, criterion=gini, max_depth=None, max_features=10, min_samples_leaf=10, min_samples_split=2, score=0.957609, total=   0.7s\n",
      "[CV] bootstrap=True, criterion=gini, max_depth=None, max_features=10, min_samples_leaf=10, min_samples_split=2 \n",
      "[CV]  bootstrap=True, criterion=gini, max_depth=None, max_features=10, min_samples_leaf=10, min_samples_split=2, score=0.963587, total=   0.7s\n",
      "[CV] bootstrap=True, criterion=gini, max_depth=None, max_features=10, min_samples_leaf=10, min_samples_split=2 \n",
      "[CV]  bootstrap=True, criterion=gini, max_depth=None, max_features=10, min_samples_leaf=10, min_samples_split=2, score=0.963587, total=   0.7s\n",
      "[CV] bootstrap=True, criterion=gini, max_depth=None, max_features=10, min_samples_leaf=10, min_samples_split=2 \n",
      "[CV]  bootstrap=True, criterion=gini, max_depth=None, max_features=10, min_samples_leaf=10, min_samples_split=2, score=0.965761, total=   0.7s\n",
      "[CV] bootstrap=True, criterion=gini, max_depth=None, max_features=10, min_samples_leaf=10, min_samples_split=2 \n",
      "[CV]  bootstrap=True, criterion=gini, max_depth=None, max_features=10, min_samples_leaf=10, min_samples_split=2, score=0.965217, total=   0.7s\n",
      "[CV] bootstrap=True, criterion=gini, max_depth=None, max_features=10, min_samples_leaf=10, min_samples_split=3 \n",
      "[CV]  bootstrap=True, criterion=gini, max_depth=None, max_features=10, min_samples_leaf=10, min_samples_split=3, score=0.957609, total=   0.7s\n",
      "[CV] bootstrap=True, criterion=gini, max_depth=None, max_features=10, min_samples_leaf=10, min_samples_split=3 \n",
      "[CV]  bootstrap=True, criterion=gini, max_depth=None, max_features=10, min_samples_leaf=10, min_samples_split=3, score=0.963587, total=   0.7s\n",
      "[CV] bootstrap=True, criterion=gini, max_depth=None, max_features=10, min_samples_leaf=10, min_samples_split=3 \n",
      "[CV]  bootstrap=True, criterion=gini, max_depth=None, max_features=10, min_samples_leaf=10, min_samples_split=3, score=0.963587, total=   0.7s\n",
      "[CV] bootstrap=True, criterion=gini, max_depth=None, max_features=10, min_samples_leaf=10, min_samples_split=3 \n",
      "[CV]  bootstrap=True, criterion=gini, max_depth=None, max_features=10, min_samples_leaf=10, min_samples_split=3, score=0.965761, total=   0.7s\n",
      "[CV] bootstrap=True, criterion=gini, max_depth=None, max_features=10, min_samples_leaf=10, min_samples_split=3 \n",
      "[CV]  bootstrap=True, criterion=gini, max_depth=None, max_features=10, min_samples_leaf=10, min_samples_split=3, score=0.965217, total=   0.7s\n",
      "[CV] bootstrap=True, criterion=gini, max_depth=None, max_features=10, min_samples_leaf=10, min_samples_split=10 \n",
      "[CV]  bootstrap=True, criterion=gini, max_depth=None, max_features=10, min_samples_leaf=10, min_samples_split=10, score=0.957609, total=   0.7s\n",
      "[CV] bootstrap=True, criterion=gini, max_depth=None, max_features=10, min_samples_leaf=10, min_samples_split=10 \n",
      "[CV]  bootstrap=True, criterion=gini, max_depth=None, max_features=10, min_samples_leaf=10, min_samples_split=10, score=0.963587, total=   0.7s\n",
      "[CV] bootstrap=True, criterion=gini, max_depth=None, max_features=10, min_samples_leaf=10, min_samples_split=10 \n",
      "[CV]  bootstrap=True, criterion=gini, max_depth=None, max_features=10, min_samples_leaf=10, min_samples_split=10, score=0.963587, total=   0.7s\n",
      "[CV] bootstrap=True, criterion=gini, max_depth=None, max_features=10, min_samples_leaf=10, min_samples_split=10 \n",
      "[CV]  bootstrap=True, criterion=gini, max_depth=None, max_features=10, min_samples_leaf=10, min_samples_split=10, score=0.965761, total=   0.7s\n",
      "[CV] bootstrap=True, criterion=gini, max_depth=None, max_features=10, min_samples_leaf=10, min_samples_split=10 \n",
      "[CV]  bootstrap=True, criterion=gini, max_depth=None, max_features=10, min_samples_leaf=10, min_samples_split=10, score=0.965217, total=   0.7s\n",
      "[CV] bootstrap=True, criterion=entropy, max_depth=3, max_features=1, min_samples_leaf=1, min_samples_split=2 \n",
      "[CV]  bootstrap=True, criterion=entropy, max_depth=3, max_features=1, min_samples_leaf=1, min_samples_split=2, score=0.911413, total=   0.0s\n",
      "[CV] bootstrap=True, criterion=entropy, max_depth=3, max_features=1, min_samples_leaf=1, min_samples_split=2 \n",
      "[CV]  bootstrap=True, criterion=entropy, max_depth=3, max_features=1, min_samples_leaf=1, min_samples_split=2, score=0.921739, total=   0.1s\n",
      "[CV] bootstrap=True, criterion=entropy, max_depth=3, max_features=1, min_samples_leaf=1, min_samples_split=2 \n",
      "[CV]  bootstrap=True, criterion=entropy, max_depth=3, max_features=1, min_samples_leaf=1, min_samples_split=2, score=0.914674, total=   0.0s\n",
      "[CV] bootstrap=True, criterion=entropy, max_depth=3, max_features=1, min_samples_leaf=1, min_samples_split=2 \n",
      "[CV]  bootstrap=True, criterion=entropy, max_depth=3, max_features=1, min_samples_leaf=1, min_samples_split=2, score=0.919022, total=   0.0s\n",
      "[CV] bootstrap=True, criterion=entropy, max_depth=3, max_features=1, min_samples_leaf=1, min_samples_split=2 \n",
      "[CV]  bootstrap=True, criterion=entropy, max_depth=3, max_features=1, min_samples_leaf=1, min_samples_split=2, score=0.910870, total=   0.0s\n",
      "[CV] bootstrap=True, criterion=entropy, max_depth=3, max_features=1, min_samples_leaf=1, min_samples_split=3 \n",
      "[CV]  bootstrap=True, criterion=entropy, max_depth=3, max_features=1, min_samples_leaf=1, min_samples_split=3, score=0.911413, total=   0.0s\n",
      "[CV] bootstrap=True, criterion=entropy, max_depth=3, max_features=1, min_samples_leaf=1, min_samples_split=3 \n",
      "[CV]  bootstrap=True, criterion=entropy, max_depth=3, max_features=1, min_samples_leaf=1, min_samples_split=3, score=0.921739, total=   0.0s\n",
      "[CV] bootstrap=True, criterion=entropy, max_depth=3, max_features=1, min_samples_leaf=1, min_samples_split=3 \n"
     ]
    },
    {
     "name": "stdout",
     "output_type": "stream",
     "text": [
      "[CV]  bootstrap=True, criterion=entropy, max_depth=3, max_features=1, min_samples_leaf=1, min_samples_split=3, score=0.914674, total=   0.1s\n",
      "[CV] bootstrap=True, criterion=entropy, max_depth=3, max_features=1, min_samples_leaf=1, min_samples_split=3 \n",
      "[CV]  bootstrap=True, criterion=entropy, max_depth=3, max_features=1, min_samples_leaf=1, min_samples_split=3, score=0.919022, total=   0.0s\n",
      "[CV] bootstrap=True, criterion=entropy, max_depth=3, max_features=1, min_samples_leaf=1, min_samples_split=3 \n",
      "[CV]  bootstrap=True, criterion=entropy, max_depth=3, max_features=1, min_samples_leaf=1, min_samples_split=3, score=0.910870, total=   0.0s\n",
      "[CV] bootstrap=True, criterion=entropy, max_depth=3, max_features=1, min_samples_leaf=1, min_samples_split=10 \n",
      "[CV]  bootstrap=True, criterion=entropy, max_depth=3, max_features=1, min_samples_leaf=1, min_samples_split=10, score=0.911413, total=   0.1s\n",
      "[CV] bootstrap=True, criterion=entropy, max_depth=3, max_features=1, min_samples_leaf=1, min_samples_split=10 \n",
      "[CV]  bootstrap=True, criterion=entropy, max_depth=3, max_features=1, min_samples_leaf=1, min_samples_split=10, score=0.921739, total=   0.0s\n",
      "[CV] bootstrap=True, criterion=entropy, max_depth=3, max_features=1, min_samples_leaf=1, min_samples_split=10 \n",
      "[CV]  bootstrap=True, criterion=entropy, max_depth=3, max_features=1, min_samples_leaf=1, min_samples_split=10, score=0.914674, total=   0.0s\n",
      "[CV] bootstrap=True, criterion=entropy, max_depth=3, max_features=1, min_samples_leaf=1, min_samples_split=10 \n",
      "[CV]  bootstrap=True, criterion=entropy, max_depth=3, max_features=1, min_samples_leaf=1, min_samples_split=10, score=0.919022, total=   0.0s\n",
      "[CV] bootstrap=True, criterion=entropy, max_depth=3, max_features=1, min_samples_leaf=1, min_samples_split=10 \n",
      "[CV]  bootstrap=True, criterion=entropy, max_depth=3, max_features=1, min_samples_leaf=1, min_samples_split=10, score=0.910870, total=   0.0s\n",
      "[CV] bootstrap=True, criterion=entropy, max_depth=3, max_features=1, min_samples_leaf=3, min_samples_split=2 \n",
      "[CV]  bootstrap=True, criterion=entropy, max_depth=3, max_features=1, min_samples_leaf=3, min_samples_split=2, score=0.911413, total=   0.0s\n",
      "[CV] bootstrap=True, criterion=entropy, max_depth=3, max_features=1, min_samples_leaf=3, min_samples_split=2 \n",
      "[CV]  bootstrap=True, criterion=entropy, max_depth=3, max_features=1, min_samples_leaf=3, min_samples_split=2, score=0.921739, total=   0.0s\n",
      "[CV] bootstrap=True, criterion=entropy, max_depth=3, max_features=1, min_samples_leaf=3, min_samples_split=2 \n",
      "[CV]  bootstrap=True, criterion=entropy, max_depth=3, max_features=1, min_samples_leaf=3, min_samples_split=2, score=0.914674, total=   0.0s\n",
      "[CV] bootstrap=True, criterion=entropy, max_depth=3, max_features=1, min_samples_leaf=3, min_samples_split=2 \n",
      "[CV]  bootstrap=True, criterion=entropy, max_depth=3, max_features=1, min_samples_leaf=3, min_samples_split=2, score=0.919022, total=   0.0s\n",
      "[CV] bootstrap=True, criterion=entropy, max_depth=3, max_features=1, min_samples_leaf=3, min_samples_split=2 \n",
      "[CV]  bootstrap=True, criterion=entropy, max_depth=3, max_features=1, min_samples_leaf=3, min_samples_split=2, score=0.910870, total=   0.0s\n",
      "[CV] bootstrap=True, criterion=entropy, max_depth=3, max_features=1, min_samples_leaf=3, min_samples_split=3 \n",
      "[CV]  bootstrap=True, criterion=entropy, max_depth=3, max_features=1, min_samples_leaf=3, min_samples_split=3, score=0.911413, total=   0.0s\n",
      "[CV] bootstrap=True, criterion=entropy, max_depth=3, max_features=1, min_samples_leaf=3, min_samples_split=3 \n",
      "[CV]  bootstrap=True, criterion=entropy, max_depth=3, max_features=1, min_samples_leaf=3, min_samples_split=3, score=0.921739, total=   0.0s\n",
      "[CV] bootstrap=True, criterion=entropy, max_depth=3, max_features=1, min_samples_leaf=3, min_samples_split=3 \n",
      "[CV]  bootstrap=True, criterion=entropy, max_depth=3, max_features=1, min_samples_leaf=3, min_samples_split=3, score=0.914674, total=   0.0s\n",
      "[CV] bootstrap=True, criterion=entropy, max_depth=3, max_features=1, min_samples_leaf=3, min_samples_split=3 \n",
      "[CV]  bootstrap=True, criterion=entropy, max_depth=3, max_features=1, min_samples_leaf=3, min_samples_split=3, score=0.919022, total=   0.0s\n",
      "[CV] bootstrap=True, criterion=entropy, max_depth=3, max_features=1, min_samples_leaf=3, min_samples_split=3 \n",
      "[CV]  bootstrap=True, criterion=entropy, max_depth=3, max_features=1, min_samples_leaf=3, min_samples_split=3, score=0.910870, total=   0.0s\n",
      "[CV] bootstrap=True, criterion=entropy, max_depth=3, max_features=1, min_samples_leaf=3, min_samples_split=10 \n",
      "[CV]  bootstrap=True, criterion=entropy, max_depth=3, max_features=1, min_samples_leaf=3, min_samples_split=10, score=0.911413, total=   0.0s\n",
      "[CV] bootstrap=True, criterion=entropy, max_depth=3, max_features=1, min_samples_leaf=3, min_samples_split=10 \n",
      "[CV]  bootstrap=True, criterion=entropy, max_depth=3, max_features=1, min_samples_leaf=3, min_samples_split=10, score=0.921739, total=   0.0s\n",
      "[CV] bootstrap=True, criterion=entropy, max_depth=3, max_features=1, min_samples_leaf=3, min_samples_split=10 \n",
      "[CV]  bootstrap=True, criterion=entropy, max_depth=3, max_features=1, min_samples_leaf=3, min_samples_split=10, score=0.914674, total=   0.0s\n",
      "[CV] bootstrap=True, criterion=entropy, max_depth=3, max_features=1, min_samples_leaf=3, min_samples_split=10 \n",
      "[CV]  bootstrap=True, criterion=entropy, max_depth=3, max_features=1, min_samples_leaf=3, min_samples_split=10, score=0.919022, total=   0.0s\n",
      "[CV] bootstrap=True, criterion=entropy, max_depth=3, max_features=1, min_samples_leaf=3, min_samples_split=10 \n",
      "[CV]  bootstrap=True, criterion=entropy, max_depth=3, max_features=1, min_samples_leaf=3, min_samples_split=10, score=0.910870, total=   0.1s\n",
      "[CV] bootstrap=True, criterion=entropy, max_depth=3, max_features=1, min_samples_leaf=10, min_samples_split=2 \n",
      "[CV]  bootstrap=True, criterion=entropy, max_depth=3, max_features=1, min_samples_leaf=10, min_samples_split=2, score=0.911413, total=   0.0s\n",
      "[CV] bootstrap=True, criterion=entropy, max_depth=3, max_features=1, min_samples_leaf=10, min_samples_split=2 \n",
      "[CV]  bootstrap=True, criterion=entropy, max_depth=3, max_features=1, min_samples_leaf=10, min_samples_split=2, score=0.921739, total=   0.0s\n",
      "[CV] bootstrap=True, criterion=entropy, max_depth=3, max_features=1, min_samples_leaf=10, min_samples_split=2 \n",
      "[CV]  bootstrap=True, criterion=entropy, max_depth=3, max_features=1, min_samples_leaf=10, min_samples_split=2, score=0.914674, total=   0.0s\n",
      "[CV] bootstrap=True, criterion=entropy, max_depth=3, max_features=1, min_samples_leaf=10, min_samples_split=2 \n",
      "[CV]  bootstrap=True, criterion=entropy, max_depth=3, max_features=1, min_samples_leaf=10, min_samples_split=2, score=0.919022, total=   0.0s\n",
      "[CV] bootstrap=True, criterion=entropy, max_depth=3, max_features=1, min_samples_leaf=10, min_samples_split=2 \n",
      "[CV]  bootstrap=True, criterion=entropy, max_depth=3, max_features=1, min_samples_leaf=10, min_samples_split=2, score=0.910870, total=   0.0s\n",
      "[CV] bootstrap=True, criterion=entropy, max_depth=3, max_features=1, min_samples_leaf=10, min_samples_split=3 \n",
      "[CV]  bootstrap=True, criterion=entropy, max_depth=3, max_features=1, min_samples_leaf=10, min_samples_split=3, score=0.911413, total=   0.0s\n",
      "[CV] bootstrap=True, criterion=entropy, max_depth=3, max_features=1, min_samples_leaf=10, min_samples_split=3 \n",
      "[CV]  bootstrap=True, criterion=entropy, max_depth=3, max_features=1, min_samples_leaf=10, min_samples_split=3, score=0.921739, total=   0.0s\n",
      "[CV] bootstrap=True, criterion=entropy, max_depth=3, max_features=1, min_samples_leaf=10, min_samples_split=3 \n",
      "[CV]  bootstrap=True, criterion=entropy, max_depth=3, max_features=1, min_samples_leaf=10, min_samples_split=3, score=0.914674, total=   0.0s\n",
      "[CV] bootstrap=True, criterion=entropy, max_depth=3, max_features=1, min_samples_leaf=10, min_samples_split=3 \n",
      "[CV]  bootstrap=True, criterion=entropy, max_depth=3, max_features=1, min_samples_leaf=10, min_samples_split=3, score=0.919022, total=   0.0s\n",
      "[CV] bootstrap=True, criterion=entropy, max_depth=3, max_features=1, min_samples_leaf=10, min_samples_split=3 \n",
      "[CV]  bootstrap=True, criterion=entropy, max_depth=3, max_features=1, min_samples_leaf=10, min_samples_split=3, score=0.910870, total=   0.0s\n",
      "[CV] bootstrap=True, criterion=entropy, max_depth=3, max_features=1, min_samples_leaf=10, min_samples_split=10 \n",
      "[CV]  bootstrap=True, criterion=entropy, max_depth=3, max_features=1, min_samples_leaf=10, min_samples_split=10, score=0.911413, total=   0.0s\n",
      "[CV] bootstrap=True, criterion=entropy, max_depth=3, max_features=1, min_samples_leaf=10, min_samples_split=10 \n",
      "[CV]  bootstrap=True, criterion=entropy, max_depth=3, max_features=1, min_samples_leaf=10, min_samples_split=10, score=0.921739, total=   0.0s\n",
      "[CV] bootstrap=True, criterion=entropy, max_depth=3, max_features=1, min_samples_leaf=10, min_samples_split=10 \n",
      "[CV]  bootstrap=True, criterion=entropy, max_depth=3, max_features=1, min_samples_leaf=10, min_samples_split=10, score=0.914674, total=   0.0s\n",
      "[CV] bootstrap=True, criterion=entropy, max_depth=3, max_features=1, min_samples_leaf=10, min_samples_split=10 \n"
     ]
    },
    {
     "name": "stdout",
     "output_type": "stream",
     "text": [
      "[CV]  bootstrap=True, criterion=entropy, max_depth=3, max_features=1, min_samples_leaf=10, min_samples_split=10, score=0.919022, total=   0.0s\n",
      "[CV] bootstrap=True, criterion=entropy, max_depth=3, max_features=1, min_samples_leaf=10, min_samples_split=10 \n",
      "[CV]  bootstrap=True, criterion=entropy, max_depth=3, max_features=1, min_samples_leaf=10, min_samples_split=10, score=0.910870, total=   0.0s\n",
      "[CV] bootstrap=True, criterion=entropy, max_depth=3, max_features=3, min_samples_leaf=1, min_samples_split=2 \n",
      "[CV]  bootstrap=True, criterion=entropy, max_depth=3, max_features=3, min_samples_leaf=1, min_samples_split=2, score=0.915217, total=   0.1s\n",
      "[CV] bootstrap=True, criterion=entropy, max_depth=3, max_features=3, min_samples_leaf=1, min_samples_split=2 \n",
      "[CV]  bootstrap=True, criterion=entropy, max_depth=3, max_features=3, min_samples_leaf=1, min_samples_split=2, score=0.917391, total=   0.1s\n",
      "[CV] bootstrap=True, criterion=entropy, max_depth=3, max_features=3, min_samples_leaf=1, min_samples_split=2 \n",
      "[CV]  bootstrap=True, criterion=entropy, max_depth=3, max_features=3, min_samples_leaf=1, min_samples_split=2, score=0.919565, total=   0.1s\n",
      "[CV] bootstrap=True, criterion=entropy, max_depth=3, max_features=3, min_samples_leaf=1, min_samples_split=2 \n",
      "[CV]  bootstrap=True, criterion=entropy, max_depth=3, max_features=3, min_samples_leaf=1, min_samples_split=2, score=0.922283, total=   0.1s\n",
      "[CV] bootstrap=True, criterion=entropy, max_depth=3, max_features=3, min_samples_leaf=1, min_samples_split=2 \n",
      "[CV]  bootstrap=True, criterion=entropy, max_depth=3, max_features=3, min_samples_leaf=1, min_samples_split=2, score=0.913043, total=   0.1s\n",
      "[CV] bootstrap=True, criterion=entropy, max_depth=3, max_features=3, min_samples_leaf=1, min_samples_split=3 \n",
      "[CV]  bootstrap=True, criterion=entropy, max_depth=3, max_features=3, min_samples_leaf=1, min_samples_split=3, score=0.915217, total=   0.1s\n",
      "[CV] bootstrap=True, criterion=entropy, max_depth=3, max_features=3, min_samples_leaf=1, min_samples_split=3 \n",
      "[CV]  bootstrap=True, criterion=entropy, max_depth=3, max_features=3, min_samples_leaf=1, min_samples_split=3, score=0.917391, total=   0.1s\n",
      "[CV] bootstrap=True, criterion=entropy, max_depth=3, max_features=3, min_samples_leaf=1, min_samples_split=3 \n",
      "[CV]  bootstrap=True, criterion=entropy, max_depth=3, max_features=3, min_samples_leaf=1, min_samples_split=3, score=0.919565, total=   0.1s\n",
      "[CV] bootstrap=True, criterion=entropy, max_depth=3, max_features=3, min_samples_leaf=1, min_samples_split=3 \n",
      "[CV]  bootstrap=True, criterion=entropy, max_depth=3, max_features=3, min_samples_leaf=1, min_samples_split=3, score=0.922283, total=   0.1s\n",
      "[CV] bootstrap=True, criterion=entropy, max_depth=3, max_features=3, min_samples_leaf=1, min_samples_split=3 \n",
      "[CV]  bootstrap=True, criterion=entropy, max_depth=3, max_features=3, min_samples_leaf=1, min_samples_split=3, score=0.913043, total=   0.1s\n",
      "[CV] bootstrap=True, criterion=entropy, max_depth=3, max_features=3, min_samples_leaf=1, min_samples_split=10 \n",
      "[CV]  bootstrap=True, criterion=entropy, max_depth=3, max_features=3, min_samples_leaf=1, min_samples_split=10, score=0.915217, total=   0.1s\n",
      "[CV] bootstrap=True, criterion=entropy, max_depth=3, max_features=3, min_samples_leaf=1, min_samples_split=10 \n",
      "[CV]  bootstrap=True, criterion=entropy, max_depth=3, max_features=3, min_samples_leaf=1, min_samples_split=10, score=0.917391, total=   0.1s\n",
      "[CV] bootstrap=True, criterion=entropy, max_depth=3, max_features=3, min_samples_leaf=1, min_samples_split=10 \n",
      "[CV]  bootstrap=True, criterion=entropy, max_depth=3, max_features=3, min_samples_leaf=1, min_samples_split=10, score=0.919565, total=   0.1s\n",
      "[CV] bootstrap=True, criterion=entropy, max_depth=3, max_features=3, min_samples_leaf=1, min_samples_split=10 \n",
      "[CV]  bootstrap=True, criterion=entropy, max_depth=3, max_features=3, min_samples_leaf=1, min_samples_split=10, score=0.922283, total=   0.1s\n",
      "[CV] bootstrap=True, criterion=entropy, max_depth=3, max_features=3, min_samples_leaf=1, min_samples_split=10 \n",
      "[CV]  bootstrap=True, criterion=entropy, max_depth=3, max_features=3, min_samples_leaf=1, min_samples_split=10, score=0.913043, total=   0.1s\n",
      "[CV] bootstrap=True, criterion=entropy, max_depth=3, max_features=3, min_samples_leaf=3, min_samples_split=2 \n",
      "[CV]  bootstrap=True, criterion=entropy, max_depth=3, max_features=3, min_samples_leaf=3, min_samples_split=2, score=0.915217, total=   0.1s\n",
      "[CV] bootstrap=True, criterion=entropy, max_depth=3, max_features=3, min_samples_leaf=3, min_samples_split=2 \n",
      "[CV]  bootstrap=True, criterion=entropy, max_depth=3, max_features=3, min_samples_leaf=3, min_samples_split=2, score=0.917391, total=   0.1s\n",
      "[CV] bootstrap=True, criterion=entropy, max_depth=3, max_features=3, min_samples_leaf=3, min_samples_split=2 \n",
      "[CV]  bootstrap=True, criterion=entropy, max_depth=3, max_features=3, min_samples_leaf=3, min_samples_split=2, score=0.919565, total=   0.1s\n",
      "[CV] bootstrap=True, criterion=entropy, max_depth=3, max_features=3, min_samples_leaf=3, min_samples_split=2 \n",
      "[CV]  bootstrap=True, criterion=entropy, max_depth=3, max_features=3, min_samples_leaf=3, min_samples_split=2, score=0.922283, total=   0.1s\n",
      "[CV] bootstrap=True, criterion=entropy, max_depth=3, max_features=3, min_samples_leaf=3, min_samples_split=2 \n",
      "[CV]  bootstrap=True, criterion=entropy, max_depth=3, max_features=3, min_samples_leaf=3, min_samples_split=2, score=0.913043, total=   0.1s\n",
      "[CV] bootstrap=True, criterion=entropy, max_depth=3, max_features=3, min_samples_leaf=3, min_samples_split=3 \n",
      "[CV]  bootstrap=True, criterion=entropy, max_depth=3, max_features=3, min_samples_leaf=3, min_samples_split=3, score=0.915217, total=   0.1s\n",
      "[CV] bootstrap=True, criterion=entropy, max_depth=3, max_features=3, min_samples_leaf=3, min_samples_split=3 \n",
      "[CV]  bootstrap=True, criterion=entropy, max_depth=3, max_features=3, min_samples_leaf=3, min_samples_split=3, score=0.917391, total=   0.1s\n",
      "[CV] bootstrap=True, criterion=entropy, max_depth=3, max_features=3, min_samples_leaf=3, min_samples_split=3 \n",
      "[CV]  bootstrap=True, criterion=entropy, max_depth=3, max_features=3, min_samples_leaf=3, min_samples_split=3, score=0.919565, total=   0.1s\n",
      "[CV] bootstrap=True, criterion=entropy, max_depth=3, max_features=3, min_samples_leaf=3, min_samples_split=3 \n",
      "[CV]  bootstrap=True, criterion=entropy, max_depth=3, max_features=3, min_samples_leaf=3, min_samples_split=3, score=0.922283, total=   0.1s\n",
      "[CV] bootstrap=True, criterion=entropy, max_depth=3, max_features=3, min_samples_leaf=3, min_samples_split=3 \n",
      "[CV]  bootstrap=True, criterion=entropy, max_depth=3, max_features=3, min_samples_leaf=3, min_samples_split=3, score=0.913043, total=   0.1s\n",
      "[CV] bootstrap=True, criterion=entropy, max_depth=3, max_features=3, min_samples_leaf=3, min_samples_split=10 \n",
      "[CV]  bootstrap=True, criterion=entropy, max_depth=3, max_features=3, min_samples_leaf=3, min_samples_split=10, score=0.915217, total=   0.1s\n",
      "[CV] bootstrap=True, criterion=entropy, max_depth=3, max_features=3, min_samples_leaf=3, min_samples_split=10 \n",
      "[CV]  bootstrap=True, criterion=entropy, max_depth=3, max_features=3, min_samples_leaf=3, min_samples_split=10, score=0.917391, total=   0.1s\n",
      "[CV] bootstrap=True, criterion=entropy, max_depth=3, max_features=3, min_samples_leaf=3, min_samples_split=10 \n",
      "[CV]  bootstrap=True, criterion=entropy, max_depth=3, max_features=3, min_samples_leaf=3, min_samples_split=10, score=0.919565, total=   0.1s\n",
      "[CV] bootstrap=True, criterion=entropy, max_depth=3, max_features=3, min_samples_leaf=3, min_samples_split=10 \n",
      "[CV]  bootstrap=True, criterion=entropy, max_depth=3, max_features=3, min_samples_leaf=3, min_samples_split=10, score=0.922283, total=   0.1s\n",
      "[CV] bootstrap=True, criterion=entropy, max_depth=3, max_features=3, min_samples_leaf=3, min_samples_split=10 \n",
      "[CV]  bootstrap=True, criterion=entropy, max_depth=3, max_features=3, min_samples_leaf=3, min_samples_split=10, score=0.913043, total=   0.1s\n",
      "[CV] bootstrap=True, criterion=entropy, max_depth=3, max_features=3, min_samples_leaf=10, min_samples_split=2 \n",
      "[CV]  bootstrap=True, criterion=entropy, max_depth=3, max_features=3, min_samples_leaf=10, min_samples_split=2, score=0.915217, total=   0.1s\n",
      "[CV] bootstrap=True, criterion=entropy, max_depth=3, max_features=3, min_samples_leaf=10, min_samples_split=2 \n"
     ]
    },
    {
     "name": "stdout",
     "output_type": "stream",
     "text": [
      "[CV]  bootstrap=True, criterion=entropy, max_depth=3, max_features=3, min_samples_leaf=10, min_samples_split=2, score=0.917391, total=   0.1s\n",
      "[CV] bootstrap=True, criterion=entropy, max_depth=3, max_features=3, min_samples_leaf=10, min_samples_split=2 \n",
      "[CV]  bootstrap=True, criterion=entropy, max_depth=3, max_features=3, min_samples_leaf=10, min_samples_split=2, score=0.919565, total=   0.1s\n",
      "[CV] bootstrap=True, criterion=entropy, max_depth=3, max_features=3, min_samples_leaf=10, min_samples_split=2 \n",
      "[CV]  bootstrap=True, criterion=entropy, max_depth=3, max_features=3, min_samples_leaf=10, min_samples_split=2, score=0.922283, total=   0.1s\n",
      "[CV] bootstrap=True, criterion=entropy, max_depth=3, max_features=3, min_samples_leaf=10, min_samples_split=2 \n",
      "[CV]  bootstrap=True, criterion=entropy, max_depth=3, max_features=3, min_samples_leaf=10, min_samples_split=2, score=0.913043, total=   0.1s\n",
      "[CV] bootstrap=True, criterion=entropy, max_depth=3, max_features=3, min_samples_leaf=10, min_samples_split=3 \n",
      "[CV]  bootstrap=True, criterion=entropy, max_depth=3, max_features=3, min_samples_leaf=10, min_samples_split=3, score=0.915217, total=   0.1s\n",
      "[CV] bootstrap=True, criterion=entropy, max_depth=3, max_features=3, min_samples_leaf=10, min_samples_split=3 \n",
      "[CV]  bootstrap=True, criterion=entropy, max_depth=3, max_features=3, min_samples_leaf=10, min_samples_split=3, score=0.917391, total=   0.1s\n",
      "[CV] bootstrap=True, criterion=entropy, max_depth=3, max_features=3, min_samples_leaf=10, min_samples_split=3 \n",
      "[CV]  bootstrap=True, criterion=entropy, max_depth=3, max_features=3, min_samples_leaf=10, min_samples_split=3, score=0.919565, total=   0.1s\n",
      "[CV] bootstrap=True, criterion=entropy, max_depth=3, max_features=3, min_samples_leaf=10, min_samples_split=3 \n",
      "[CV]  bootstrap=True, criterion=entropy, max_depth=3, max_features=3, min_samples_leaf=10, min_samples_split=3, score=0.922283, total=   0.1s\n",
      "[CV] bootstrap=True, criterion=entropy, max_depth=3, max_features=3, min_samples_leaf=10, min_samples_split=3 \n",
      "[CV]  bootstrap=True, criterion=entropy, max_depth=3, max_features=3, min_samples_leaf=10, min_samples_split=3, score=0.913043, total=   0.1s\n",
      "[CV] bootstrap=True, criterion=entropy, max_depth=3, max_features=3, min_samples_leaf=10, min_samples_split=10 \n",
      "[CV]  bootstrap=True, criterion=entropy, max_depth=3, max_features=3, min_samples_leaf=10, min_samples_split=10, score=0.915217, total=   0.1s\n",
      "[CV] bootstrap=True, criterion=entropy, max_depth=3, max_features=3, min_samples_leaf=10, min_samples_split=10 \n",
      "[CV]  bootstrap=True, criterion=entropy, max_depth=3, max_features=3, min_samples_leaf=10, min_samples_split=10, score=0.917391, total=   0.1s\n",
      "[CV] bootstrap=True, criterion=entropy, max_depth=3, max_features=3, min_samples_leaf=10, min_samples_split=10 \n",
      "[CV]  bootstrap=True, criterion=entropy, max_depth=3, max_features=3, min_samples_leaf=10, min_samples_split=10, score=0.919565, total=   0.1s\n",
      "[CV] bootstrap=True, criterion=entropy, max_depth=3, max_features=3, min_samples_leaf=10, min_samples_split=10 \n",
      "[CV]  bootstrap=True, criterion=entropy, max_depth=3, max_features=3, min_samples_leaf=10, min_samples_split=10, score=0.922283, total=   0.1s\n",
      "[CV] bootstrap=True, criterion=entropy, max_depth=3, max_features=3, min_samples_leaf=10, min_samples_split=10 \n",
      "[CV]  bootstrap=True, criterion=entropy, max_depth=3, max_features=3, min_samples_leaf=10, min_samples_split=10, score=0.913043, total=   0.1s\n",
      "[CV] bootstrap=True, criterion=entropy, max_depth=3, max_features=10, min_samples_leaf=1, min_samples_split=2 \n",
      "[CV]  bootstrap=True, criterion=entropy, max_depth=3, max_features=10, min_samples_leaf=1, min_samples_split=2, score=0.921196, total=   0.2s\n",
      "[CV] bootstrap=True, criterion=entropy, max_depth=3, max_features=10, min_samples_leaf=1, min_samples_split=2 \n",
      "[CV]  bootstrap=True, criterion=entropy, max_depth=3, max_features=10, min_samples_leaf=1, min_samples_split=2, score=0.922826, total=   0.2s\n",
      "[CV] bootstrap=True, criterion=entropy, max_depth=3, max_features=10, min_samples_leaf=1, min_samples_split=2 \n",
      "[CV]  bootstrap=True, criterion=entropy, max_depth=3, max_features=10, min_samples_leaf=1, min_samples_split=2, score=0.920109, total=   0.2s\n",
      "[CV] bootstrap=True, criterion=entropy, max_depth=3, max_features=10, min_samples_leaf=1, min_samples_split=2 \n",
      "[CV]  bootstrap=True, criterion=entropy, max_depth=3, max_features=10, min_samples_leaf=1, min_samples_split=2, score=0.921739, total=   0.2s\n",
      "[CV] bootstrap=True, criterion=entropy, max_depth=3, max_features=10, min_samples_leaf=1, min_samples_split=2 \n",
      "[CV]  bootstrap=True, criterion=entropy, max_depth=3, max_features=10, min_samples_leaf=1, min_samples_split=2, score=0.926630, total=   0.1s\n",
      "[CV] bootstrap=True, criterion=entropy, max_depth=3, max_features=10, min_samples_leaf=1, min_samples_split=3 \n",
      "[CV]  bootstrap=True, criterion=entropy, max_depth=3, max_features=10, min_samples_leaf=1, min_samples_split=3, score=0.921196, total=   0.1s\n",
      "[CV] bootstrap=True, criterion=entropy, max_depth=3, max_features=10, min_samples_leaf=1, min_samples_split=3 \n",
      "[CV]  bootstrap=True, criterion=entropy, max_depth=3, max_features=10, min_samples_leaf=1, min_samples_split=3, score=0.922826, total=   0.1s\n",
      "[CV] bootstrap=True, criterion=entropy, max_depth=3, max_features=10, min_samples_leaf=1, min_samples_split=3 \n",
      "[CV]  bootstrap=True, criterion=entropy, max_depth=3, max_features=10, min_samples_leaf=1, min_samples_split=3, score=0.920109, total=   0.1s\n",
      "[CV] bootstrap=True, criterion=entropy, max_depth=3, max_features=10, min_samples_leaf=1, min_samples_split=3 \n",
      "[CV]  bootstrap=True, criterion=entropy, max_depth=3, max_features=10, min_samples_leaf=1, min_samples_split=3, score=0.921739, total=   0.2s\n",
      "[CV] bootstrap=True, criterion=entropy, max_depth=3, max_features=10, min_samples_leaf=1, min_samples_split=3 \n",
      "[CV]  bootstrap=True, criterion=entropy, max_depth=3, max_features=10, min_samples_leaf=1, min_samples_split=3, score=0.926630, total=   0.1s\n",
      "[CV] bootstrap=True, criterion=entropy, max_depth=3, max_features=10, min_samples_leaf=1, min_samples_split=10 \n",
      "[CV]  bootstrap=True, criterion=entropy, max_depth=3, max_features=10, min_samples_leaf=1, min_samples_split=10, score=0.921196, total=   0.2s\n",
      "[CV] bootstrap=True, criterion=entropy, max_depth=3, max_features=10, min_samples_leaf=1, min_samples_split=10 \n",
      "[CV]  bootstrap=True, criterion=entropy, max_depth=3, max_features=10, min_samples_leaf=1, min_samples_split=10, score=0.922826, total=   0.2s\n",
      "[CV] bootstrap=True, criterion=entropy, max_depth=3, max_features=10, min_samples_leaf=1, min_samples_split=10 \n",
      "[CV]  bootstrap=True, criterion=entropy, max_depth=3, max_features=10, min_samples_leaf=1, min_samples_split=10, score=0.920109, total=   0.2s\n",
      "[CV] bootstrap=True, criterion=entropy, max_depth=3, max_features=10, min_samples_leaf=1, min_samples_split=10 \n",
      "[CV]  bootstrap=True, criterion=entropy, max_depth=3, max_features=10, min_samples_leaf=1, min_samples_split=10, score=0.921739, total=   0.1s\n",
      "[CV] bootstrap=True, criterion=entropy, max_depth=3, max_features=10, min_samples_leaf=1, min_samples_split=10 \n",
      "[CV]  bootstrap=True, criterion=entropy, max_depth=3, max_features=10, min_samples_leaf=1, min_samples_split=10, score=0.926630, total=   0.2s\n",
      "[CV] bootstrap=True, criterion=entropy, max_depth=3, max_features=10, min_samples_leaf=3, min_samples_split=2 \n",
      "[CV]  bootstrap=True, criterion=entropy, max_depth=3, max_features=10, min_samples_leaf=3, min_samples_split=2, score=0.921196, total=   0.2s\n",
      "[CV] bootstrap=True, criterion=entropy, max_depth=3, max_features=10, min_samples_leaf=3, min_samples_split=2 \n",
      "[CV]  bootstrap=True, criterion=entropy, max_depth=3, max_features=10, min_samples_leaf=3, min_samples_split=2, score=0.922826, total=   0.1s\n",
      "[CV] bootstrap=True, criterion=entropy, max_depth=3, max_features=10, min_samples_leaf=3, min_samples_split=2 \n",
      "[CV]  bootstrap=True, criterion=entropy, max_depth=3, max_features=10, min_samples_leaf=3, min_samples_split=2, score=0.920109, total=   0.1s\n",
      "[CV] bootstrap=True, criterion=entropy, max_depth=3, max_features=10, min_samples_leaf=3, min_samples_split=2 \n",
      "[CV]  bootstrap=True, criterion=entropy, max_depth=3, max_features=10, min_samples_leaf=3, min_samples_split=2, score=0.921739, total=   0.2s\n",
      "[CV] bootstrap=True, criterion=entropy, max_depth=3, max_features=10, min_samples_leaf=3, min_samples_split=2 \n",
      "[CV]  bootstrap=True, criterion=entropy, max_depth=3, max_features=10, min_samples_leaf=3, min_samples_split=2, score=0.926630, total=   0.1s\n",
      "[CV] bootstrap=True, criterion=entropy, max_depth=3, max_features=10, min_samples_leaf=3, min_samples_split=3 \n"
     ]
    },
    {
     "name": "stdout",
     "output_type": "stream",
     "text": [
      "[CV]  bootstrap=True, criterion=entropy, max_depth=3, max_features=10, min_samples_leaf=3, min_samples_split=3, score=0.921196, total=   0.1s\n",
      "[CV] bootstrap=True, criterion=entropy, max_depth=3, max_features=10, min_samples_leaf=3, min_samples_split=3 \n",
      "[CV]  bootstrap=True, criterion=entropy, max_depth=3, max_features=10, min_samples_leaf=3, min_samples_split=3, score=0.922826, total=   0.2s\n",
      "[CV] bootstrap=True, criterion=entropy, max_depth=3, max_features=10, min_samples_leaf=3, min_samples_split=3 \n",
      "[CV]  bootstrap=True, criterion=entropy, max_depth=3, max_features=10, min_samples_leaf=3, min_samples_split=3, score=0.920109, total=   0.1s\n",
      "[CV] bootstrap=True, criterion=entropy, max_depth=3, max_features=10, min_samples_leaf=3, min_samples_split=3 \n",
      "[CV]  bootstrap=True, criterion=entropy, max_depth=3, max_features=10, min_samples_leaf=3, min_samples_split=3, score=0.921739, total=   0.1s\n",
      "[CV] bootstrap=True, criterion=entropy, max_depth=3, max_features=10, min_samples_leaf=3, min_samples_split=3 \n",
      "[CV]  bootstrap=True, criterion=entropy, max_depth=3, max_features=10, min_samples_leaf=3, min_samples_split=3, score=0.926630, total=   0.2s\n",
      "[CV] bootstrap=True, criterion=entropy, max_depth=3, max_features=10, min_samples_leaf=3, min_samples_split=10 \n",
      "[CV]  bootstrap=True, criterion=entropy, max_depth=3, max_features=10, min_samples_leaf=3, min_samples_split=10, score=0.921196, total=   0.2s\n",
      "[CV] bootstrap=True, criterion=entropy, max_depth=3, max_features=10, min_samples_leaf=3, min_samples_split=10 \n",
      "[CV]  bootstrap=True, criterion=entropy, max_depth=3, max_features=10, min_samples_leaf=3, min_samples_split=10, score=0.922826, total=   0.2s\n",
      "[CV] bootstrap=True, criterion=entropy, max_depth=3, max_features=10, min_samples_leaf=3, min_samples_split=10 \n",
      "[CV]  bootstrap=True, criterion=entropy, max_depth=3, max_features=10, min_samples_leaf=3, min_samples_split=10, score=0.920109, total=   0.1s\n",
      "[CV] bootstrap=True, criterion=entropy, max_depth=3, max_features=10, min_samples_leaf=3, min_samples_split=10 \n",
      "[CV]  bootstrap=True, criterion=entropy, max_depth=3, max_features=10, min_samples_leaf=3, min_samples_split=10, score=0.921739, total=   0.2s\n",
      "[CV] bootstrap=True, criterion=entropy, max_depth=3, max_features=10, min_samples_leaf=3, min_samples_split=10 \n",
      "[CV]  bootstrap=True, criterion=entropy, max_depth=3, max_features=10, min_samples_leaf=3, min_samples_split=10, score=0.926630, total=   0.1s\n",
      "[CV] bootstrap=True, criterion=entropy, max_depth=3, max_features=10, min_samples_leaf=10, min_samples_split=2 \n",
      "[CV]  bootstrap=True, criterion=entropy, max_depth=3, max_features=10, min_samples_leaf=10, min_samples_split=2, score=0.921196, total=   0.1s\n",
      "[CV] bootstrap=True, criterion=entropy, max_depth=3, max_features=10, min_samples_leaf=10, min_samples_split=2 \n",
      "[CV]  bootstrap=True, criterion=entropy, max_depth=3, max_features=10, min_samples_leaf=10, min_samples_split=2, score=0.922826, total=   0.1s\n",
      "[CV] bootstrap=True, criterion=entropy, max_depth=3, max_features=10, min_samples_leaf=10, min_samples_split=2 \n",
      "[CV]  bootstrap=True, criterion=entropy, max_depth=3, max_features=10, min_samples_leaf=10, min_samples_split=2, score=0.920109, total=   0.1s\n",
      "[CV] bootstrap=True, criterion=entropy, max_depth=3, max_features=10, min_samples_leaf=10, min_samples_split=2 \n",
      "[CV]  bootstrap=True, criterion=entropy, max_depth=3, max_features=10, min_samples_leaf=10, min_samples_split=2, score=0.921739, total=   0.2s\n",
      "[CV] bootstrap=True, criterion=entropy, max_depth=3, max_features=10, min_samples_leaf=10, min_samples_split=2 \n",
      "[CV]  bootstrap=True, criterion=entropy, max_depth=3, max_features=10, min_samples_leaf=10, min_samples_split=2, score=0.926630, total=   0.2s\n",
      "[CV] bootstrap=True, criterion=entropy, max_depth=3, max_features=10, min_samples_leaf=10, min_samples_split=3 \n",
      "[CV]  bootstrap=True, criterion=entropy, max_depth=3, max_features=10, min_samples_leaf=10, min_samples_split=3, score=0.921196, total=   0.2s\n",
      "[CV] bootstrap=True, criterion=entropy, max_depth=3, max_features=10, min_samples_leaf=10, min_samples_split=3 \n",
      "[CV]  bootstrap=True, criterion=entropy, max_depth=3, max_features=10, min_samples_leaf=10, min_samples_split=3, score=0.922826, total=   0.2s\n",
      "[CV] bootstrap=True, criterion=entropy, max_depth=3, max_features=10, min_samples_leaf=10, min_samples_split=3 \n",
      "[CV]  bootstrap=True, criterion=entropy, max_depth=3, max_features=10, min_samples_leaf=10, min_samples_split=3, score=0.920109, total=   0.2s\n",
      "[CV] bootstrap=True, criterion=entropy, max_depth=3, max_features=10, min_samples_leaf=10, min_samples_split=3 \n",
      "[CV]  bootstrap=True, criterion=entropy, max_depth=3, max_features=10, min_samples_leaf=10, min_samples_split=3, score=0.921739, total=   0.2s\n",
      "[CV] bootstrap=True, criterion=entropy, max_depth=3, max_features=10, min_samples_leaf=10, min_samples_split=3 \n",
      "[CV]  bootstrap=True, criterion=entropy, max_depth=3, max_features=10, min_samples_leaf=10, min_samples_split=3, score=0.926630, total=   0.2s\n",
      "[CV] bootstrap=True, criterion=entropy, max_depth=3, max_features=10, min_samples_leaf=10, min_samples_split=10 \n",
      "[CV]  bootstrap=True, criterion=entropy, max_depth=3, max_features=10, min_samples_leaf=10, min_samples_split=10, score=0.921196, total=   0.2s\n",
      "[CV] bootstrap=True, criterion=entropy, max_depth=3, max_features=10, min_samples_leaf=10, min_samples_split=10 \n",
      "[CV]  bootstrap=True, criterion=entropy, max_depth=3, max_features=10, min_samples_leaf=10, min_samples_split=10, score=0.922826, total=   0.2s\n",
      "[CV] bootstrap=True, criterion=entropy, max_depth=3, max_features=10, min_samples_leaf=10, min_samples_split=10 \n",
      "[CV]  bootstrap=True, criterion=entropy, max_depth=3, max_features=10, min_samples_leaf=10, min_samples_split=10, score=0.920109, total=   0.2s\n",
      "[CV] bootstrap=True, criterion=entropy, max_depth=3, max_features=10, min_samples_leaf=10, min_samples_split=10 \n",
      "[CV]  bootstrap=True, criterion=entropy, max_depth=3, max_features=10, min_samples_leaf=10, min_samples_split=10, score=0.921739, total=   0.2s\n",
      "[CV] bootstrap=True, criterion=entropy, max_depth=3, max_features=10, min_samples_leaf=10, min_samples_split=10 \n",
      "[CV]  bootstrap=True, criterion=entropy, max_depth=3, max_features=10, min_samples_leaf=10, min_samples_split=10, score=0.926630, total=   0.2s\n",
      "[CV] bootstrap=True, criterion=entropy, max_depth=None, max_features=1, min_samples_leaf=1, min_samples_split=2 \n",
      "[CV]  bootstrap=True, criterion=entropy, max_depth=None, max_features=1, min_samples_leaf=1, min_samples_split=2, score=0.951630, total=   0.1s\n",
      "[CV] bootstrap=True, criterion=entropy, max_depth=None, max_features=1, min_samples_leaf=1, min_samples_split=2 \n",
      "[CV]  bootstrap=True, criterion=entropy, max_depth=None, max_features=1, min_samples_leaf=1, min_samples_split=2, score=0.958152, total=   0.1s\n",
      "[CV] bootstrap=True, criterion=entropy, max_depth=None, max_features=1, min_samples_leaf=1, min_samples_split=2 \n",
      "[CV]  bootstrap=True, criterion=entropy, max_depth=None, max_features=1, min_samples_leaf=1, min_samples_split=2, score=0.954891, total=   0.1s\n",
      "[CV] bootstrap=True, criterion=entropy, max_depth=None, max_features=1, min_samples_leaf=1, min_samples_split=2 \n",
      "[CV]  bootstrap=True, criterion=entropy, max_depth=None, max_features=1, min_samples_leaf=1, min_samples_split=2, score=0.953804, total=   0.1s\n",
      "[CV] bootstrap=True, criterion=entropy, max_depth=None, max_features=1, min_samples_leaf=1, min_samples_split=2 \n",
      "[CV]  bootstrap=True, criterion=entropy, max_depth=None, max_features=1, min_samples_leaf=1, min_samples_split=2, score=0.960326, total=   0.1s\n",
      "[CV] bootstrap=True, criterion=entropy, max_depth=None, max_features=1, min_samples_leaf=1, min_samples_split=3 \n",
      "[CV]  bootstrap=True, criterion=entropy, max_depth=None, max_features=1, min_samples_leaf=1, min_samples_split=3, score=0.951630, total=   0.1s\n",
      "[CV] bootstrap=True, criterion=entropy, max_depth=None, max_features=1, min_samples_leaf=1, min_samples_split=3 \n",
      "[CV]  bootstrap=True, criterion=entropy, max_depth=None, max_features=1, min_samples_leaf=1, min_samples_split=3, score=0.960870, total=   0.1s\n",
      "[CV] bootstrap=True, criterion=entropy, max_depth=None, max_features=1, min_samples_leaf=1, min_samples_split=3 \n",
      "[CV]  bootstrap=True, criterion=entropy, max_depth=None, max_features=1, min_samples_leaf=1, min_samples_split=3, score=0.950543, total=   0.1s\n",
      "[CV] bootstrap=True, criterion=entropy, max_depth=None, max_features=1, min_samples_leaf=1, min_samples_split=3 \n",
      "[CV]  bootstrap=True, criterion=entropy, max_depth=None, max_features=1, min_samples_leaf=1, min_samples_split=3, score=0.956522, total=   0.1s\n",
      "[CV] bootstrap=True, criterion=entropy, max_depth=None, max_features=1, min_samples_leaf=1, min_samples_split=3 \n"
     ]
    },
    {
     "name": "stdout",
     "output_type": "stream",
     "text": [
      "[CV]  bootstrap=True, criterion=entropy, max_depth=None, max_features=1, min_samples_leaf=1, min_samples_split=3, score=0.959783, total=   0.1s\n",
      "[CV] bootstrap=True, criterion=entropy, max_depth=None, max_features=1, min_samples_leaf=1, min_samples_split=10 \n",
      "[CV]  bootstrap=True, criterion=entropy, max_depth=None, max_features=1, min_samples_leaf=1, min_samples_split=10, score=0.955435, total=   0.1s\n",
      "[CV] bootstrap=True, criterion=entropy, max_depth=None, max_features=1, min_samples_leaf=1, min_samples_split=10 \n",
      "[CV]  bootstrap=True, criterion=entropy, max_depth=None, max_features=1, min_samples_leaf=1, min_samples_split=10, score=0.960326, total=   0.1s\n",
      "[CV] bootstrap=True, criterion=entropy, max_depth=None, max_features=1, min_samples_leaf=1, min_samples_split=10 \n",
      "[CV]  bootstrap=True, criterion=entropy, max_depth=None, max_features=1, min_samples_leaf=1, min_samples_split=10, score=0.955435, total=   0.1s\n",
      "[CV] bootstrap=True, criterion=entropy, max_depth=None, max_features=1, min_samples_leaf=1, min_samples_split=10 \n",
      "[CV]  bootstrap=True, criterion=entropy, max_depth=None, max_features=1, min_samples_leaf=1, min_samples_split=10, score=0.962500, total=   0.1s\n",
      "[CV] bootstrap=True, criterion=entropy, max_depth=None, max_features=1, min_samples_leaf=1, min_samples_split=10 \n",
      "[CV]  bootstrap=True, criterion=entropy, max_depth=None, max_features=1, min_samples_leaf=1, min_samples_split=10, score=0.958696, total=   0.1s\n",
      "[CV] bootstrap=True, criterion=entropy, max_depth=None, max_features=1, min_samples_leaf=3, min_samples_split=2 \n",
      "[CV]  bootstrap=True, criterion=entropy, max_depth=None, max_features=1, min_samples_leaf=3, min_samples_split=2, score=0.951630, total=   0.1s\n",
      "[CV] bootstrap=True, criterion=entropy, max_depth=None, max_features=1, min_samples_leaf=3, min_samples_split=2 \n",
      "[CV]  bootstrap=True, criterion=entropy, max_depth=None, max_features=1, min_samples_leaf=3, min_samples_split=2, score=0.966848, total=   0.1s\n",
      "[CV] bootstrap=True, criterion=entropy, max_depth=None, max_features=1, min_samples_leaf=3, min_samples_split=2 \n",
      "[CV]  bootstrap=True, criterion=entropy, max_depth=None, max_features=1, min_samples_leaf=3, min_samples_split=2, score=0.953804, total=   0.1s\n",
      "[CV] bootstrap=True, criterion=entropy, max_depth=None, max_features=1, min_samples_leaf=3, min_samples_split=2 \n",
      "[CV]  bootstrap=True, criterion=entropy, max_depth=None, max_features=1, min_samples_leaf=3, min_samples_split=2, score=0.954891, total=   0.1s\n",
      "[CV] bootstrap=True, criterion=entropy, max_depth=None, max_features=1, min_samples_leaf=3, min_samples_split=2 \n",
      "[CV]  bootstrap=True, criterion=entropy, max_depth=None, max_features=1, min_samples_leaf=3, min_samples_split=2, score=0.958696, total=   0.1s\n",
      "[CV] bootstrap=True, criterion=entropy, max_depth=None, max_features=1, min_samples_leaf=3, min_samples_split=3 \n",
      "[CV]  bootstrap=True, criterion=entropy, max_depth=None, max_features=1, min_samples_leaf=3, min_samples_split=3, score=0.951630, total=   0.1s\n",
      "[CV] bootstrap=True, criterion=entropy, max_depth=None, max_features=1, min_samples_leaf=3, min_samples_split=3 \n",
      "[CV]  bootstrap=True, criterion=entropy, max_depth=None, max_features=1, min_samples_leaf=3, min_samples_split=3, score=0.966848, total=   0.1s\n",
      "[CV] bootstrap=True, criterion=entropy, max_depth=None, max_features=1, min_samples_leaf=3, min_samples_split=3 \n",
      "[CV]  bootstrap=True, criterion=entropy, max_depth=None, max_features=1, min_samples_leaf=3, min_samples_split=3, score=0.953804, total=   0.1s\n",
      "[CV] bootstrap=True, criterion=entropy, max_depth=None, max_features=1, min_samples_leaf=3, min_samples_split=3 \n",
      "[CV]  bootstrap=True, criterion=entropy, max_depth=None, max_features=1, min_samples_leaf=3, min_samples_split=3, score=0.954891, total=   0.1s\n",
      "[CV] bootstrap=True, criterion=entropy, max_depth=None, max_features=1, min_samples_leaf=3, min_samples_split=3 \n",
      "[CV]  bootstrap=True, criterion=entropy, max_depth=None, max_features=1, min_samples_leaf=3, min_samples_split=3, score=0.958696, total=   0.1s\n",
      "[CV] bootstrap=True, criterion=entropy, max_depth=None, max_features=1, min_samples_leaf=3, min_samples_split=10 \n",
      "[CV]  bootstrap=True, criterion=entropy, max_depth=None, max_features=1, min_samples_leaf=3, min_samples_split=10, score=0.953804, total=   0.1s\n",
      "[CV] bootstrap=True, criterion=entropy, max_depth=None, max_features=1, min_samples_leaf=3, min_samples_split=10 \n",
      "[CV]  bootstrap=True, criterion=entropy, max_depth=None, max_features=1, min_samples_leaf=3, min_samples_split=10, score=0.961957, total=   0.1s\n",
      "[CV] bootstrap=True, criterion=entropy, max_depth=None, max_features=1, min_samples_leaf=3, min_samples_split=10 \n",
      "[CV]  bootstrap=True, criterion=entropy, max_depth=None, max_features=1, min_samples_leaf=3, min_samples_split=10, score=0.957065, total=   0.1s\n",
      "[CV] bootstrap=True, criterion=entropy, max_depth=None, max_features=1, min_samples_leaf=3, min_samples_split=10 \n",
      "[CV]  bootstrap=True, criterion=entropy, max_depth=None, max_features=1, min_samples_leaf=3, min_samples_split=10, score=0.950000, total=   0.1s\n",
      "[CV] bootstrap=True, criterion=entropy, max_depth=None, max_features=1, min_samples_leaf=3, min_samples_split=10 \n",
      "[CV]  bootstrap=True, criterion=entropy, max_depth=None, max_features=1, min_samples_leaf=3, min_samples_split=10, score=0.965217, total=   0.1s\n",
      "[CV] bootstrap=True, criterion=entropy, max_depth=None, max_features=1, min_samples_leaf=10, min_samples_split=2 \n",
      "[CV]  bootstrap=True, criterion=entropy, max_depth=None, max_features=1, min_samples_leaf=10, min_samples_split=2, score=0.952174, total=   0.1s\n",
      "[CV] bootstrap=True, criterion=entropy, max_depth=None, max_features=1, min_samples_leaf=10, min_samples_split=2 \n",
      "[CV]  bootstrap=True, criterion=entropy, max_depth=None, max_features=1, min_samples_leaf=10, min_samples_split=2, score=0.957609, total=   0.1s\n",
      "[CV] bootstrap=True, criterion=entropy, max_depth=None, max_features=1, min_samples_leaf=10, min_samples_split=2 \n",
      "[CV]  bootstrap=True, criterion=entropy, max_depth=None, max_features=1, min_samples_leaf=10, min_samples_split=2, score=0.954348, total=   0.1s\n",
      "[CV] bootstrap=True, criterion=entropy, max_depth=None, max_features=1, min_samples_leaf=10, min_samples_split=2 \n",
      "[CV]  bootstrap=True, criterion=entropy, max_depth=None, max_features=1, min_samples_leaf=10, min_samples_split=2, score=0.951630, total=   0.1s\n",
      "[CV] bootstrap=True, criterion=entropy, max_depth=None, max_features=1, min_samples_leaf=10, min_samples_split=2 \n",
      "[CV]  bootstrap=True, criterion=entropy, max_depth=None, max_features=1, min_samples_leaf=10, min_samples_split=2, score=0.963043, total=   0.1s\n",
      "[CV] bootstrap=True, criterion=entropy, max_depth=None, max_features=1, min_samples_leaf=10, min_samples_split=3 \n",
      "[CV]  bootstrap=True, criterion=entropy, max_depth=None, max_features=1, min_samples_leaf=10, min_samples_split=3, score=0.952174, total=   0.1s\n",
      "[CV] bootstrap=True, criterion=entropy, max_depth=None, max_features=1, min_samples_leaf=10, min_samples_split=3 \n",
      "[CV]  bootstrap=True, criterion=entropy, max_depth=None, max_features=1, min_samples_leaf=10, min_samples_split=3, score=0.957609, total=   0.1s\n",
      "[CV] bootstrap=True, criterion=entropy, max_depth=None, max_features=1, min_samples_leaf=10, min_samples_split=3 \n",
      "[CV]  bootstrap=True, criterion=entropy, max_depth=None, max_features=1, min_samples_leaf=10, min_samples_split=3, score=0.954348, total=   0.1s\n",
      "[CV] bootstrap=True, criterion=entropy, max_depth=None, max_features=1, min_samples_leaf=10, min_samples_split=3 \n",
      "[CV]  bootstrap=True, criterion=entropy, max_depth=None, max_features=1, min_samples_leaf=10, min_samples_split=3, score=0.951630, total=   0.1s\n",
      "[CV] bootstrap=True, criterion=entropy, max_depth=None, max_features=1, min_samples_leaf=10, min_samples_split=3 \n",
      "[CV]  bootstrap=True, criterion=entropy, max_depth=None, max_features=1, min_samples_leaf=10, min_samples_split=3, score=0.963043, total=   0.1s\n",
      "[CV] bootstrap=True, criterion=entropy, max_depth=None, max_features=1, min_samples_leaf=10, min_samples_split=10 \n",
      "[CV]  bootstrap=True, criterion=entropy, max_depth=None, max_features=1, min_samples_leaf=10, min_samples_split=10, score=0.952174, total=   0.1s\n",
      "[CV] bootstrap=True, criterion=entropy, max_depth=None, max_features=1, min_samples_leaf=10, min_samples_split=10 \n"
     ]
    },
    {
     "name": "stdout",
     "output_type": "stream",
     "text": [
      "[CV]  bootstrap=True, criterion=entropy, max_depth=None, max_features=1, min_samples_leaf=10, min_samples_split=10, score=0.957609, total=   0.1s\n",
      "[CV] bootstrap=True, criterion=entropy, max_depth=None, max_features=1, min_samples_leaf=10, min_samples_split=10 \n",
      "[CV]  bootstrap=True, criterion=entropy, max_depth=None, max_features=1, min_samples_leaf=10, min_samples_split=10, score=0.954348, total=   0.1s\n",
      "[CV] bootstrap=True, criterion=entropy, max_depth=None, max_features=1, min_samples_leaf=10, min_samples_split=10 \n",
      "[CV]  bootstrap=True, criterion=entropy, max_depth=None, max_features=1, min_samples_leaf=10, min_samples_split=10, score=0.951630, total=   0.1s\n",
      "[CV] bootstrap=True, criterion=entropy, max_depth=None, max_features=1, min_samples_leaf=10, min_samples_split=10 \n",
      "[CV]  bootstrap=True, criterion=entropy, max_depth=None, max_features=1, min_samples_leaf=10, min_samples_split=10, score=0.963043, total=   0.1s\n",
      "[CV] bootstrap=True, criterion=entropy, max_depth=None, max_features=3, min_samples_leaf=1, min_samples_split=2 \n",
      "[CV]  bootstrap=True, criterion=entropy, max_depth=None, max_features=3, min_samples_leaf=1, min_samples_split=2, score=0.958152, total=   0.2s\n",
      "[CV] bootstrap=True, criterion=entropy, max_depth=None, max_features=3, min_samples_leaf=1, min_samples_split=2 \n",
      "[CV]  bootstrap=True, criterion=entropy, max_depth=None, max_features=3, min_samples_leaf=1, min_samples_split=2, score=0.963587, total=   0.2s\n",
      "[CV] bootstrap=True, criterion=entropy, max_depth=None, max_features=3, min_samples_leaf=1, min_samples_split=2 \n",
      "[CV]  bootstrap=True, criterion=entropy, max_depth=None, max_features=3, min_samples_leaf=1, min_samples_split=2, score=0.958696, total=   0.2s\n",
      "[CV] bootstrap=True, criterion=entropy, max_depth=None, max_features=3, min_samples_leaf=1, min_samples_split=2 \n",
      "[CV]  bootstrap=True, criterion=entropy, max_depth=None, max_features=3, min_samples_leaf=1, min_samples_split=2, score=0.959783, total=   0.2s\n",
      "[CV] bootstrap=True, criterion=entropy, max_depth=None, max_features=3, min_samples_leaf=1, min_samples_split=2 \n",
      "[CV]  bootstrap=True, criterion=entropy, max_depth=None, max_features=3, min_samples_leaf=1, min_samples_split=2, score=0.961957, total=   0.2s\n",
      "[CV] bootstrap=True, criterion=entropy, max_depth=None, max_features=3, min_samples_leaf=1, min_samples_split=3 \n",
      "[CV]  bootstrap=True, criterion=entropy, max_depth=None, max_features=3, min_samples_leaf=1, min_samples_split=3, score=0.963043, total=   0.2s\n",
      "[CV] bootstrap=True, criterion=entropy, max_depth=None, max_features=3, min_samples_leaf=1, min_samples_split=3 \n",
      "[CV]  bootstrap=True, criterion=entropy, max_depth=None, max_features=3, min_samples_leaf=1, min_samples_split=3, score=0.959783, total=   0.2s\n",
      "[CV] bootstrap=True, criterion=entropy, max_depth=None, max_features=3, min_samples_leaf=1, min_samples_split=3 \n",
      "[CV]  bootstrap=True, criterion=entropy, max_depth=None, max_features=3, min_samples_leaf=1, min_samples_split=3, score=0.957609, total=   0.2s\n",
      "[CV] bootstrap=True, criterion=entropy, max_depth=None, max_features=3, min_samples_leaf=1, min_samples_split=3 \n",
      "[CV]  bootstrap=True, criterion=entropy, max_depth=None, max_features=3, min_samples_leaf=1, min_samples_split=3, score=0.958696, total=   0.2s\n",
      "[CV] bootstrap=True, criterion=entropy, max_depth=None, max_features=3, min_samples_leaf=1, min_samples_split=3 \n",
      "[CV]  bootstrap=True, criterion=entropy, max_depth=None, max_features=3, min_samples_leaf=1, min_samples_split=3, score=0.959239, total=   0.2s\n",
      "[CV] bootstrap=True, criterion=entropy, max_depth=None, max_features=3, min_samples_leaf=1, min_samples_split=10 \n",
      "[CV]  bootstrap=True, criterion=entropy, max_depth=None, max_features=3, min_samples_leaf=1, min_samples_split=10, score=0.960326, total=   0.2s\n",
      "[CV] bootstrap=True, criterion=entropy, max_depth=None, max_features=3, min_samples_leaf=1, min_samples_split=10 \n",
      "[CV]  bootstrap=True, criterion=entropy, max_depth=None, max_features=3, min_samples_leaf=1, min_samples_split=10, score=0.965217, total=   0.2s\n",
      "[CV] bootstrap=True, criterion=entropy, max_depth=None, max_features=3, min_samples_leaf=1, min_samples_split=10 \n",
      "[CV]  bootstrap=True, criterion=entropy, max_depth=None, max_features=3, min_samples_leaf=1, min_samples_split=10, score=0.958696, total=   0.2s\n",
      "[CV] bootstrap=True, criterion=entropy, max_depth=None, max_features=3, min_samples_leaf=1, min_samples_split=10 \n",
      "[CV]  bootstrap=True, criterion=entropy, max_depth=None, max_features=3, min_samples_leaf=1, min_samples_split=10, score=0.961957, total=   0.2s\n",
      "[CV] bootstrap=True, criterion=entropy, max_depth=None, max_features=3, min_samples_leaf=1, min_samples_split=10 \n",
      "[CV]  bootstrap=True, criterion=entropy, max_depth=None, max_features=3, min_samples_leaf=1, min_samples_split=10, score=0.960870, total=   0.2s\n",
      "[CV] bootstrap=True, criterion=entropy, max_depth=None, max_features=3, min_samples_leaf=3, min_samples_split=2 \n",
      "[CV]  bootstrap=True, criterion=entropy, max_depth=None, max_features=3, min_samples_leaf=3, min_samples_split=2, score=0.953804, total=   0.2s\n",
      "[CV] bootstrap=True, criterion=entropy, max_depth=None, max_features=3, min_samples_leaf=3, min_samples_split=2 \n",
      "[CV]  bootstrap=True, criterion=entropy, max_depth=None, max_features=3, min_samples_leaf=3, min_samples_split=2, score=0.961413, total=   0.2s\n",
      "[CV] bootstrap=True, criterion=entropy, max_depth=None, max_features=3, min_samples_leaf=3, min_samples_split=2 \n",
      "[CV]  bootstrap=True, criterion=entropy, max_depth=None, max_features=3, min_samples_leaf=3, min_samples_split=2, score=0.960870, total=   0.2s\n",
      "[CV] bootstrap=True, criterion=entropy, max_depth=None, max_features=3, min_samples_leaf=3, min_samples_split=2 \n",
      "[CV]  bootstrap=True, criterion=entropy, max_depth=None, max_features=3, min_samples_leaf=3, min_samples_split=2, score=0.954348, total=   0.2s\n",
      "[CV] bootstrap=True, criterion=entropy, max_depth=None, max_features=3, min_samples_leaf=3, min_samples_split=2 \n",
      "[CV]  bootstrap=True, criterion=entropy, max_depth=None, max_features=3, min_samples_leaf=3, min_samples_split=2, score=0.961413, total=   0.2s\n",
      "[CV] bootstrap=True, criterion=entropy, max_depth=None, max_features=3, min_samples_leaf=3, min_samples_split=3 \n",
      "[CV]  bootstrap=True, criterion=entropy, max_depth=None, max_features=3, min_samples_leaf=3, min_samples_split=3, score=0.953804, total=   0.2s\n",
      "[CV] bootstrap=True, criterion=entropy, max_depth=None, max_features=3, min_samples_leaf=3, min_samples_split=3 \n",
      "[CV]  bootstrap=True, criterion=entropy, max_depth=None, max_features=3, min_samples_leaf=3, min_samples_split=3, score=0.961413, total=   0.2s\n",
      "[CV] bootstrap=True, criterion=entropy, max_depth=None, max_features=3, min_samples_leaf=3, min_samples_split=3 \n",
      "[CV]  bootstrap=True, criterion=entropy, max_depth=None, max_features=3, min_samples_leaf=3, min_samples_split=3, score=0.960870, total=   0.2s\n",
      "[CV] bootstrap=True, criterion=entropy, max_depth=None, max_features=3, min_samples_leaf=3, min_samples_split=3 \n",
      "[CV]  bootstrap=True, criterion=entropy, max_depth=None, max_features=3, min_samples_leaf=3, min_samples_split=3, score=0.954348, total=   0.2s\n",
      "[CV] bootstrap=True, criterion=entropy, max_depth=None, max_features=3, min_samples_leaf=3, min_samples_split=3 \n",
      "[CV]  bootstrap=True, criterion=entropy, max_depth=None, max_features=3, min_samples_leaf=3, min_samples_split=3, score=0.961413, total=   0.2s\n",
      "[CV] bootstrap=True, criterion=entropy, max_depth=None, max_features=3, min_samples_leaf=3, min_samples_split=10 \n",
      "[CV]  bootstrap=True, criterion=entropy, max_depth=None, max_features=3, min_samples_leaf=3, min_samples_split=10, score=0.954348, total=   0.2s\n",
      "[CV] bootstrap=True, criterion=entropy, max_depth=None, max_features=3, min_samples_leaf=3, min_samples_split=10 \n",
      "[CV]  bootstrap=True, criterion=entropy, max_depth=None, max_features=3, min_samples_leaf=3, min_samples_split=10, score=0.964130, total=   0.2s\n",
      "[CV] bootstrap=True, criterion=entropy, max_depth=None, max_features=3, min_samples_leaf=3, min_samples_split=10 \n",
      "[CV]  bootstrap=True, criterion=entropy, max_depth=None, max_features=3, min_samples_leaf=3, min_samples_split=10, score=0.954348, total=   0.2s\n",
      "[CV] bootstrap=True, criterion=entropy, max_depth=None, max_features=3, min_samples_leaf=3, min_samples_split=10 \n"
     ]
    },
    {
     "name": "stdout",
     "output_type": "stream",
     "text": [
      "[CV]  bootstrap=True, criterion=entropy, max_depth=None, max_features=3, min_samples_leaf=3, min_samples_split=10, score=0.952717, total=   0.2s\n",
      "[CV] bootstrap=True, criterion=entropy, max_depth=None, max_features=3, min_samples_leaf=3, min_samples_split=10 \n",
      "[CV]  bootstrap=True, criterion=entropy, max_depth=None, max_features=3, min_samples_leaf=3, min_samples_split=10, score=0.961957, total=   0.2s\n",
      "[CV] bootstrap=True, criterion=entropy, max_depth=None, max_features=3, min_samples_leaf=10, min_samples_split=2 \n",
      "[CV]  bootstrap=True, criterion=entropy, max_depth=None, max_features=3, min_samples_leaf=10, min_samples_split=2, score=0.955978, total=   0.2s\n",
      "[CV] bootstrap=True, criterion=entropy, max_depth=None, max_features=3, min_samples_leaf=10, min_samples_split=2 \n",
      "[CV]  bootstrap=True, criterion=entropy, max_depth=None, max_features=3, min_samples_leaf=10, min_samples_split=2, score=0.960870, total=   0.2s\n",
      "[CV] bootstrap=True, criterion=entropy, max_depth=None, max_features=3, min_samples_leaf=10, min_samples_split=2 \n",
      "[CV]  bootstrap=True, criterion=entropy, max_depth=None, max_features=3, min_samples_leaf=10, min_samples_split=2, score=0.952717, total=   0.2s\n",
      "[CV] bootstrap=True, criterion=entropy, max_depth=None, max_features=3, min_samples_leaf=10, min_samples_split=2 \n",
      "[CV]  bootstrap=True, criterion=entropy, max_depth=None, max_features=3, min_samples_leaf=10, min_samples_split=2, score=0.957609, total=   0.2s\n",
      "[CV] bootstrap=True, criterion=entropy, max_depth=None, max_features=3, min_samples_leaf=10, min_samples_split=2 \n",
      "[CV]  bootstrap=True, criterion=entropy, max_depth=None, max_features=3, min_samples_leaf=10, min_samples_split=2, score=0.958696, total=   0.2s\n",
      "[CV] bootstrap=True, criterion=entropy, max_depth=None, max_features=3, min_samples_leaf=10, min_samples_split=3 \n",
      "[CV]  bootstrap=True, criterion=entropy, max_depth=None, max_features=3, min_samples_leaf=10, min_samples_split=3, score=0.955978, total=   0.2s\n",
      "[CV] bootstrap=True, criterion=entropy, max_depth=None, max_features=3, min_samples_leaf=10, min_samples_split=3 \n",
      "[CV]  bootstrap=True, criterion=entropy, max_depth=None, max_features=3, min_samples_leaf=10, min_samples_split=3, score=0.960870, total=   0.2s\n",
      "[CV] bootstrap=True, criterion=entropy, max_depth=None, max_features=3, min_samples_leaf=10, min_samples_split=3 \n",
      "[CV]  bootstrap=True, criterion=entropy, max_depth=None, max_features=3, min_samples_leaf=10, min_samples_split=3, score=0.952717, total=   0.2s\n",
      "[CV] bootstrap=True, criterion=entropy, max_depth=None, max_features=3, min_samples_leaf=10, min_samples_split=3 \n",
      "[CV]  bootstrap=True, criterion=entropy, max_depth=None, max_features=3, min_samples_leaf=10, min_samples_split=3, score=0.957609, total=   0.2s\n",
      "[CV] bootstrap=True, criterion=entropy, max_depth=None, max_features=3, min_samples_leaf=10, min_samples_split=3 \n",
      "[CV]  bootstrap=True, criterion=entropy, max_depth=None, max_features=3, min_samples_leaf=10, min_samples_split=3, score=0.958696, total=   0.2s\n",
      "[CV] bootstrap=True, criterion=entropy, max_depth=None, max_features=3, min_samples_leaf=10, min_samples_split=10 \n",
      "[CV]  bootstrap=True, criterion=entropy, max_depth=None, max_features=3, min_samples_leaf=10, min_samples_split=10, score=0.955978, total=   0.2s\n",
      "[CV] bootstrap=True, criterion=entropy, max_depth=None, max_features=3, min_samples_leaf=10, min_samples_split=10 \n",
      "[CV]  bootstrap=True, criterion=entropy, max_depth=None, max_features=3, min_samples_leaf=10, min_samples_split=10, score=0.960870, total=   0.2s\n",
      "[CV] bootstrap=True, criterion=entropy, max_depth=None, max_features=3, min_samples_leaf=10, min_samples_split=10 \n",
      "[CV]  bootstrap=True, criterion=entropy, max_depth=None, max_features=3, min_samples_leaf=10, min_samples_split=10, score=0.952717, total=   0.2s\n",
      "[CV] bootstrap=True, criterion=entropy, max_depth=None, max_features=3, min_samples_leaf=10, min_samples_split=10 \n",
      "[CV]  bootstrap=True, criterion=entropy, max_depth=None, max_features=3, min_samples_leaf=10, min_samples_split=10, score=0.957609, total=   0.2s\n",
      "[CV] bootstrap=True, criterion=entropy, max_depth=None, max_features=3, min_samples_leaf=10, min_samples_split=10 \n",
      "[CV]  bootstrap=True, criterion=entropy, max_depth=None, max_features=3, min_samples_leaf=10, min_samples_split=10, score=0.958696, total=   0.2s\n",
      "[CV] bootstrap=True, criterion=entropy, max_depth=None, max_features=10, min_samples_leaf=1, min_samples_split=2 \n",
      "[CV]  bootstrap=True, criterion=entropy, max_depth=None, max_features=10, min_samples_leaf=1, min_samples_split=2, score=0.959239, total=   0.6s\n",
      "[CV] bootstrap=True, criterion=entropy, max_depth=None, max_features=10, min_samples_leaf=1, min_samples_split=2 \n",
      "[CV]  bootstrap=True, criterion=entropy, max_depth=None, max_features=10, min_samples_leaf=1, min_samples_split=2, score=0.959783, total=   0.5s\n",
      "[CV] bootstrap=True, criterion=entropy, max_depth=None, max_features=10, min_samples_leaf=1, min_samples_split=2 \n",
      "[CV]  bootstrap=True, criterion=entropy, max_depth=None, max_features=10, min_samples_leaf=1, min_samples_split=2, score=0.956522, total=   0.6s\n",
      "[CV] bootstrap=True, criterion=entropy, max_depth=None, max_features=10, min_samples_leaf=1, min_samples_split=2 \n",
      "[CV]  bootstrap=True, criterion=entropy, max_depth=None, max_features=10, min_samples_leaf=1, min_samples_split=2, score=0.959783, total=   0.6s\n",
      "[CV] bootstrap=True, criterion=entropy, max_depth=None, max_features=10, min_samples_leaf=1, min_samples_split=2 \n",
      "[CV]  bootstrap=True, criterion=entropy, max_depth=None, max_features=10, min_samples_leaf=1, min_samples_split=2, score=0.958696, total=   0.6s\n",
      "[CV] bootstrap=True, criterion=entropy, max_depth=None, max_features=10, min_samples_leaf=1, min_samples_split=3 \n",
      "[CV]  bootstrap=True, criterion=entropy, max_depth=None, max_features=10, min_samples_leaf=1, min_samples_split=3, score=0.957065, total=   0.6s\n",
      "[CV] bootstrap=True, criterion=entropy, max_depth=None, max_features=10, min_samples_leaf=1, min_samples_split=3 \n",
      "[CV]  bootstrap=True, criterion=entropy, max_depth=None, max_features=10, min_samples_leaf=1, min_samples_split=3, score=0.964130, total=   0.6s\n",
      "[CV] bootstrap=True, criterion=entropy, max_depth=None, max_features=10, min_samples_leaf=1, min_samples_split=3 \n",
      "[CV]  bootstrap=True, criterion=entropy, max_depth=None, max_features=10, min_samples_leaf=1, min_samples_split=3, score=0.958696, total=   0.6s\n",
      "[CV] bootstrap=True, criterion=entropy, max_depth=None, max_features=10, min_samples_leaf=1, min_samples_split=3 \n",
      "[CV]  bootstrap=True, criterion=entropy, max_depth=None, max_features=10, min_samples_leaf=1, min_samples_split=3, score=0.957065, total=   0.6s\n",
      "[CV] bootstrap=True, criterion=entropy, max_depth=None, max_features=10, min_samples_leaf=1, min_samples_split=3 \n",
      "[CV]  bootstrap=True, criterion=entropy, max_depth=None, max_features=10, min_samples_leaf=1, min_samples_split=3, score=0.961957, total=   0.6s\n",
      "[CV] bootstrap=True, criterion=entropy, max_depth=None, max_features=10, min_samples_leaf=1, min_samples_split=10 \n",
      "[CV]  bootstrap=True, criterion=entropy, max_depth=None, max_features=10, min_samples_leaf=1, min_samples_split=10, score=0.958152, total=   0.6s\n",
      "[CV] bootstrap=True, criterion=entropy, max_depth=None, max_features=10, min_samples_leaf=1, min_samples_split=10 \n",
      "[CV]  bootstrap=True, criterion=entropy, max_depth=None, max_features=10, min_samples_leaf=1, min_samples_split=10, score=0.961413, total=   0.6s\n",
      "[CV] bootstrap=True, criterion=entropy, max_depth=None, max_features=10, min_samples_leaf=1, min_samples_split=10 \n",
      "[CV]  bootstrap=True, criterion=entropy, max_depth=None, max_features=10, min_samples_leaf=1, min_samples_split=10, score=0.961957, total=   0.6s\n",
      "[CV] bootstrap=True, criterion=entropy, max_depth=None, max_features=10, min_samples_leaf=1, min_samples_split=10 \n",
      "[CV]  bootstrap=True, criterion=entropy, max_depth=None, max_features=10, min_samples_leaf=1, min_samples_split=10, score=0.964130, total=   0.5s\n",
      "[CV] bootstrap=True, criterion=entropy, max_depth=None, max_features=10, min_samples_leaf=1, min_samples_split=10 \n",
      "[CV]  bootstrap=True, criterion=entropy, max_depth=None, max_features=10, min_samples_leaf=1, min_samples_split=10, score=0.964674, total=   0.5s\n",
      "[CV] bootstrap=True, criterion=entropy, max_depth=None, max_features=10, min_samples_leaf=3, min_samples_split=2 \n"
     ]
    },
    {
     "name": "stdout",
     "output_type": "stream",
     "text": [
      "[CV]  bootstrap=True, criterion=entropy, max_depth=None, max_features=10, min_samples_leaf=3, min_samples_split=2, score=0.964130, total=   0.6s\n",
      "[CV] bootstrap=True, criterion=entropy, max_depth=None, max_features=10, min_samples_leaf=3, min_samples_split=2 \n",
      "[CV]  bootstrap=True, criterion=entropy, max_depth=None, max_features=10, min_samples_leaf=3, min_samples_split=2, score=0.964674, total=   0.6s\n",
      "[CV] bootstrap=True, criterion=entropy, max_depth=None, max_features=10, min_samples_leaf=3, min_samples_split=2 \n",
      "[CV]  bootstrap=True, criterion=entropy, max_depth=None, max_features=10, min_samples_leaf=3, min_samples_split=2, score=0.958152, total=   0.6s\n",
      "[CV] bootstrap=True, criterion=entropy, max_depth=None, max_features=10, min_samples_leaf=3, min_samples_split=2 \n",
      "[CV]  bootstrap=True, criterion=entropy, max_depth=None, max_features=10, min_samples_leaf=3, min_samples_split=2, score=0.963043, total=   0.6s\n",
      "[CV] bootstrap=True, criterion=entropy, max_depth=None, max_features=10, min_samples_leaf=3, min_samples_split=2 \n",
      "[CV]  bootstrap=True, criterion=entropy, max_depth=None, max_features=10, min_samples_leaf=3, min_samples_split=2, score=0.966304, total=   0.5s\n",
      "[CV] bootstrap=True, criterion=entropy, max_depth=None, max_features=10, min_samples_leaf=3, min_samples_split=3 \n",
      "[CV]  bootstrap=True, criterion=entropy, max_depth=None, max_features=10, min_samples_leaf=3, min_samples_split=3, score=0.964130, total=   0.5s\n",
      "[CV] bootstrap=True, criterion=entropy, max_depth=None, max_features=10, min_samples_leaf=3, min_samples_split=3 \n",
      "[CV]  bootstrap=True, criterion=entropy, max_depth=None, max_features=10, min_samples_leaf=3, min_samples_split=3, score=0.964674, total=   0.5s\n",
      "[CV] bootstrap=True, criterion=entropy, max_depth=None, max_features=10, min_samples_leaf=3, min_samples_split=3 \n",
      "[CV]  bootstrap=True, criterion=entropy, max_depth=None, max_features=10, min_samples_leaf=3, min_samples_split=3, score=0.958152, total=   0.5s\n",
      "[CV] bootstrap=True, criterion=entropy, max_depth=None, max_features=10, min_samples_leaf=3, min_samples_split=3 \n",
      "[CV]  bootstrap=True, criterion=entropy, max_depth=None, max_features=10, min_samples_leaf=3, min_samples_split=3, score=0.963043, total=   0.6s\n",
      "[CV] bootstrap=True, criterion=entropy, max_depth=None, max_features=10, min_samples_leaf=3, min_samples_split=3 \n",
      "[CV]  bootstrap=True, criterion=entropy, max_depth=None, max_features=10, min_samples_leaf=3, min_samples_split=3, score=0.966304, total=   0.5s\n",
      "[CV] bootstrap=True, criterion=entropy, max_depth=None, max_features=10, min_samples_leaf=3, min_samples_split=10 \n",
      "[CV]  bootstrap=True, criterion=entropy, max_depth=None, max_features=10, min_samples_leaf=3, min_samples_split=10, score=0.964130, total=   0.5s\n",
      "[CV] bootstrap=True, criterion=entropy, max_depth=None, max_features=10, min_samples_leaf=3, min_samples_split=10 \n",
      "[CV]  bootstrap=True, criterion=entropy, max_depth=None, max_features=10, min_samples_leaf=3, min_samples_split=10, score=0.964130, total=   0.5s\n",
      "[CV] bootstrap=True, criterion=entropy, max_depth=None, max_features=10, min_samples_leaf=3, min_samples_split=10 \n",
      "[CV]  bootstrap=True, criterion=entropy, max_depth=None, max_features=10, min_samples_leaf=3, min_samples_split=10, score=0.959783, total=   0.5s\n",
      "[CV] bootstrap=True, criterion=entropy, max_depth=None, max_features=10, min_samples_leaf=3, min_samples_split=10 \n",
      "[CV]  bootstrap=True, criterion=entropy, max_depth=None, max_features=10, min_samples_leaf=3, min_samples_split=10, score=0.961413, total=   0.6s\n",
      "[CV] bootstrap=True, criterion=entropy, max_depth=None, max_features=10, min_samples_leaf=3, min_samples_split=10 \n",
      "[CV]  bootstrap=True, criterion=entropy, max_depth=None, max_features=10, min_samples_leaf=3, min_samples_split=10, score=0.964130, total=   0.5s\n",
      "[CV] bootstrap=True, criterion=entropy, max_depth=None, max_features=10, min_samples_leaf=10, min_samples_split=2 \n",
      "[CV]  bootstrap=True, criterion=entropy, max_depth=None, max_features=10, min_samples_leaf=10, min_samples_split=2, score=0.955435, total=   0.5s\n",
      "[CV] bootstrap=True, criterion=entropy, max_depth=None, max_features=10, min_samples_leaf=10, min_samples_split=2 \n",
      "[CV]  bootstrap=True, criterion=entropy, max_depth=None, max_features=10, min_samples_leaf=10, min_samples_split=2, score=0.963043, total=   0.5s\n",
      "[CV] bootstrap=True, criterion=entropy, max_depth=None, max_features=10, min_samples_leaf=10, min_samples_split=2 \n",
      "[CV]  bootstrap=True, criterion=entropy, max_depth=None, max_features=10, min_samples_leaf=10, min_samples_split=2, score=0.955978, total=   0.5s\n",
      "[CV] bootstrap=True, criterion=entropy, max_depth=None, max_features=10, min_samples_leaf=10, min_samples_split=2 \n",
      "[CV]  bootstrap=True, criterion=entropy, max_depth=None, max_features=10, min_samples_leaf=10, min_samples_split=2, score=0.958152, total=   0.5s\n",
      "[CV] bootstrap=True, criterion=entropy, max_depth=None, max_features=10, min_samples_leaf=10, min_samples_split=2 \n",
      "[CV]  bootstrap=True, criterion=entropy, max_depth=None, max_features=10, min_samples_leaf=10, min_samples_split=2, score=0.964674, total=   0.5s\n",
      "[CV] bootstrap=True, criterion=entropy, max_depth=None, max_features=10, min_samples_leaf=10, min_samples_split=3 \n",
      "[CV]  bootstrap=True, criterion=entropy, max_depth=None, max_features=10, min_samples_leaf=10, min_samples_split=3, score=0.955435, total=   0.5s\n",
      "[CV] bootstrap=True, criterion=entropy, max_depth=None, max_features=10, min_samples_leaf=10, min_samples_split=3 \n",
      "[CV]  bootstrap=True, criterion=entropy, max_depth=None, max_features=10, min_samples_leaf=10, min_samples_split=3, score=0.963043, total=   0.5s\n",
      "[CV] bootstrap=True, criterion=entropy, max_depth=None, max_features=10, min_samples_leaf=10, min_samples_split=3 \n",
      "[CV]  bootstrap=True, criterion=entropy, max_depth=None, max_features=10, min_samples_leaf=10, min_samples_split=3, score=0.955978, total=   0.5s\n",
      "[CV] bootstrap=True, criterion=entropy, max_depth=None, max_features=10, min_samples_leaf=10, min_samples_split=3 \n",
      "[CV]  bootstrap=True, criterion=entropy, max_depth=None, max_features=10, min_samples_leaf=10, min_samples_split=3, score=0.958152, total=   0.5s\n",
      "[CV] bootstrap=True, criterion=entropy, max_depth=None, max_features=10, min_samples_leaf=10, min_samples_split=3 \n",
      "[CV]  bootstrap=True, criterion=entropy, max_depth=None, max_features=10, min_samples_leaf=10, min_samples_split=3, score=0.964674, total=   0.5s\n",
      "[CV] bootstrap=True, criterion=entropy, max_depth=None, max_features=10, min_samples_leaf=10, min_samples_split=10 \n",
      "[CV]  bootstrap=True, criterion=entropy, max_depth=None, max_features=10, min_samples_leaf=10, min_samples_split=10, score=0.955435, total=   0.5s\n",
      "[CV] bootstrap=True, criterion=entropy, max_depth=None, max_features=10, min_samples_leaf=10, min_samples_split=10 \n",
      "[CV]  bootstrap=True, criterion=entropy, max_depth=None, max_features=10, min_samples_leaf=10, min_samples_split=10, score=0.963043, total=   0.5s\n",
      "[CV] bootstrap=True, criterion=entropy, max_depth=None, max_features=10, min_samples_leaf=10, min_samples_split=10 \n",
      "[CV]  bootstrap=True, criterion=entropy, max_depth=None, max_features=10, min_samples_leaf=10, min_samples_split=10, score=0.955978, total=   0.5s\n",
      "[CV] bootstrap=True, criterion=entropy, max_depth=None, max_features=10, min_samples_leaf=10, min_samples_split=10 \n",
      "[CV]  bootstrap=True, criterion=entropy, max_depth=None, max_features=10, min_samples_leaf=10, min_samples_split=10, score=0.958152, total=   0.5s\n",
      "[CV] bootstrap=True, criterion=entropy, max_depth=None, max_features=10, min_samples_leaf=10, min_samples_split=10 \n",
      "[CV]  bootstrap=True, criterion=entropy, max_depth=None, max_features=10, min_samples_leaf=10, min_samples_split=10, score=0.964674, total=   0.5s\n",
      "[CV] bootstrap=False, criterion=gini, max_depth=3, max_features=1, min_samples_leaf=1, min_samples_split=2 \n",
      "[CV]  bootstrap=False, criterion=gini, max_depth=3, max_features=1, min_samples_leaf=1, min_samples_split=2, score=0.914674, total=   0.0s\n",
      "[CV] bootstrap=False, criterion=gini, max_depth=3, max_features=1, min_samples_leaf=1, min_samples_split=2 \n",
      "[CV]  bootstrap=False, criterion=gini, max_depth=3, max_features=1, min_samples_leaf=1, min_samples_split=2, score=0.919022, total=   0.0s\n",
      "[CV] bootstrap=False, criterion=gini, max_depth=3, max_features=1, min_samples_leaf=1, min_samples_split=2 \n",
      "[CV]  bootstrap=False, criterion=gini, max_depth=3, max_features=1, min_samples_leaf=1, min_samples_split=2, score=0.917391, total=   0.0s\n",
      "[CV] bootstrap=False, criterion=gini, max_depth=3, max_features=1, min_samples_leaf=1, min_samples_split=2 \n"
     ]
    },
    {
     "name": "stdout",
     "output_type": "stream",
     "text": [
      "[CV]  bootstrap=False, criterion=gini, max_depth=3, max_features=1, min_samples_leaf=1, min_samples_split=2, score=0.911957, total=   0.0s\n",
      "[CV] bootstrap=False, criterion=gini, max_depth=3, max_features=1, min_samples_leaf=1, min_samples_split=2 \n",
      "[CV]  bootstrap=False, criterion=gini, max_depth=3, max_features=1, min_samples_leaf=1, min_samples_split=2, score=0.911957, total=   0.1s\n",
      "[CV] bootstrap=False, criterion=gini, max_depth=3, max_features=1, min_samples_leaf=1, min_samples_split=3 \n",
      "[CV]  bootstrap=False, criterion=gini, max_depth=3, max_features=1, min_samples_leaf=1, min_samples_split=3, score=0.914674, total=   0.0s\n",
      "[CV] bootstrap=False, criterion=gini, max_depth=3, max_features=1, min_samples_leaf=1, min_samples_split=3 \n",
      "[CV]  bootstrap=False, criterion=gini, max_depth=3, max_features=1, min_samples_leaf=1, min_samples_split=3, score=0.919022, total=   0.0s\n",
      "[CV] bootstrap=False, criterion=gini, max_depth=3, max_features=1, min_samples_leaf=1, min_samples_split=3 \n",
      "[CV]  bootstrap=False, criterion=gini, max_depth=3, max_features=1, min_samples_leaf=1, min_samples_split=3, score=0.917391, total=   0.0s\n",
      "[CV] bootstrap=False, criterion=gini, max_depth=3, max_features=1, min_samples_leaf=1, min_samples_split=3 \n",
      "[CV]  bootstrap=False, criterion=gini, max_depth=3, max_features=1, min_samples_leaf=1, min_samples_split=3, score=0.911957, total=   0.0s\n",
      "[CV] bootstrap=False, criterion=gini, max_depth=3, max_features=1, min_samples_leaf=1, min_samples_split=3 \n",
      "[CV]  bootstrap=False, criterion=gini, max_depth=3, max_features=1, min_samples_leaf=1, min_samples_split=3, score=0.911957, total=   0.0s\n",
      "[CV] bootstrap=False, criterion=gini, max_depth=3, max_features=1, min_samples_leaf=1, min_samples_split=10 \n",
      "[CV]  bootstrap=False, criterion=gini, max_depth=3, max_features=1, min_samples_leaf=1, min_samples_split=10, score=0.914674, total=   0.0s\n",
      "[CV] bootstrap=False, criterion=gini, max_depth=3, max_features=1, min_samples_leaf=1, min_samples_split=10 \n",
      "[CV]  bootstrap=False, criterion=gini, max_depth=3, max_features=1, min_samples_leaf=1, min_samples_split=10, score=0.919022, total=   0.0s\n",
      "[CV] bootstrap=False, criterion=gini, max_depth=3, max_features=1, min_samples_leaf=1, min_samples_split=10 \n",
      "[CV]  bootstrap=False, criterion=gini, max_depth=3, max_features=1, min_samples_leaf=1, min_samples_split=10, score=0.917391, total=   0.0s\n",
      "[CV] bootstrap=False, criterion=gini, max_depth=3, max_features=1, min_samples_leaf=1, min_samples_split=10 \n",
      "[CV]  bootstrap=False, criterion=gini, max_depth=3, max_features=1, min_samples_leaf=1, min_samples_split=10, score=0.911957, total=   0.0s\n",
      "[CV] bootstrap=False, criterion=gini, max_depth=3, max_features=1, min_samples_leaf=1, min_samples_split=10 \n",
      "[CV]  bootstrap=False, criterion=gini, max_depth=3, max_features=1, min_samples_leaf=1, min_samples_split=10, score=0.911957, total=   0.0s\n",
      "[CV] bootstrap=False, criterion=gini, max_depth=3, max_features=1, min_samples_leaf=3, min_samples_split=2 \n",
      "[CV]  bootstrap=False, criterion=gini, max_depth=3, max_features=1, min_samples_leaf=3, min_samples_split=2, score=0.914674, total=   0.0s\n",
      "[CV] bootstrap=False, criterion=gini, max_depth=3, max_features=1, min_samples_leaf=3, min_samples_split=2 \n",
      "[CV]  bootstrap=False, criterion=gini, max_depth=3, max_features=1, min_samples_leaf=3, min_samples_split=2, score=0.919022, total=   0.0s\n",
      "[CV] bootstrap=False, criterion=gini, max_depth=3, max_features=1, min_samples_leaf=3, min_samples_split=2 \n",
      "[CV]  bootstrap=False, criterion=gini, max_depth=3, max_features=1, min_samples_leaf=3, min_samples_split=2, score=0.917391, total=   0.0s\n",
      "[CV] bootstrap=False, criterion=gini, max_depth=3, max_features=1, min_samples_leaf=3, min_samples_split=2 \n",
      "[CV]  bootstrap=False, criterion=gini, max_depth=3, max_features=1, min_samples_leaf=3, min_samples_split=2, score=0.911957, total=   0.0s\n",
      "[CV] bootstrap=False, criterion=gini, max_depth=3, max_features=1, min_samples_leaf=3, min_samples_split=2 \n",
      "[CV]  bootstrap=False, criterion=gini, max_depth=3, max_features=1, min_samples_leaf=3, min_samples_split=2, score=0.911957, total=   0.0s\n",
      "[CV] bootstrap=False, criterion=gini, max_depth=3, max_features=1, min_samples_leaf=3, min_samples_split=3 \n",
      "[CV]  bootstrap=False, criterion=gini, max_depth=3, max_features=1, min_samples_leaf=3, min_samples_split=3, score=0.914674, total=   0.0s\n",
      "[CV] bootstrap=False, criterion=gini, max_depth=3, max_features=1, min_samples_leaf=3, min_samples_split=3 \n",
      "[CV]  bootstrap=False, criterion=gini, max_depth=3, max_features=1, min_samples_leaf=3, min_samples_split=3, score=0.919022, total=   0.0s\n",
      "[CV] bootstrap=False, criterion=gini, max_depth=3, max_features=1, min_samples_leaf=3, min_samples_split=3 \n",
      "[CV]  bootstrap=False, criterion=gini, max_depth=3, max_features=1, min_samples_leaf=3, min_samples_split=3, score=0.917391, total=   0.0s\n",
      "[CV] bootstrap=False, criterion=gini, max_depth=3, max_features=1, min_samples_leaf=3, min_samples_split=3 \n",
      "[CV]  bootstrap=False, criterion=gini, max_depth=3, max_features=1, min_samples_leaf=3, min_samples_split=3, score=0.911957, total=   0.0s\n",
      "[CV] bootstrap=False, criterion=gini, max_depth=3, max_features=1, min_samples_leaf=3, min_samples_split=3 \n",
      "[CV]  bootstrap=False, criterion=gini, max_depth=3, max_features=1, min_samples_leaf=3, min_samples_split=3, score=0.911957, total=   0.0s\n",
      "[CV] bootstrap=False, criterion=gini, max_depth=3, max_features=1, min_samples_leaf=3, min_samples_split=10 \n",
      "[CV]  bootstrap=False, criterion=gini, max_depth=3, max_features=1, min_samples_leaf=3, min_samples_split=10, score=0.914674, total=   0.0s\n",
      "[CV] bootstrap=False, criterion=gini, max_depth=3, max_features=1, min_samples_leaf=3, min_samples_split=10 \n",
      "[CV]  bootstrap=False, criterion=gini, max_depth=3, max_features=1, min_samples_leaf=3, min_samples_split=10, score=0.919022, total=   0.0s\n",
      "[CV] bootstrap=False, criterion=gini, max_depth=3, max_features=1, min_samples_leaf=3, min_samples_split=10 \n",
      "[CV]  bootstrap=False, criterion=gini, max_depth=3, max_features=1, min_samples_leaf=3, min_samples_split=10, score=0.917391, total=   0.0s\n",
      "[CV] bootstrap=False, criterion=gini, max_depth=3, max_features=1, min_samples_leaf=3, min_samples_split=10 \n",
      "[CV]  bootstrap=False, criterion=gini, max_depth=3, max_features=1, min_samples_leaf=3, min_samples_split=10, score=0.911957, total=   0.0s\n",
      "[CV] bootstrap=False, criterion=gini, max_depth=3, max_features=1, min_samples_leaf=3, min_samples_split=10 \n",
      "[CV]  bootstrap=False, criterion=gini, max_depth=3, max_features=1, min_samples_leaf=3, min_samples_split=10, score=0.911957, total=   0.1s\n",
      "[CV] bootstrap=False, criterion=gini, max_depth=3, max_features=1, min_samples_leaf=10, min_samples_split=2 \n",
      "[CV]  bootstrap=False, criterion=gini, max_depth=3, max_features=1, min_samples_leaf=10, min_samples_split=2, score=0.914674, total=   0.0s\n",
      "[CV] bootstrap=False, criterion=gini, max_depth=3, max_features=1, min_samples_leaf=10, min_samples_split=2 \n",
      "[CV]  bootstrap=False, criterion=gini, max_depth=3, max_features=1, min_samples_leaf=10, min_samples_split=2, score=0.919022, total=   0.0s\n",
      "[CV] bootstrap=False, criterion=gini, max_depth=3, max_features=1, min_samples_leaf=10, min_samples_split=2 \n",
      "[CV]  bootstrap=False, criterion=gini, max_depth=3, max_features=1, min_samples_leaf=10, min_samples_split=2, score=0.917391, total=   0.0s\n",
      "[CV] bootstrap=False, criterion=gini, max_depth=3, max_features=1, min_samples_leaf=10, min_samples_split=2 \n",
      "[CV]  bootstrap=False, criterion=gini, max_depth=3, max_features=1, min_samples_leaf=10, min_samples_split=2, score=0.911957, total=   0.0s\n",
      "[CV] bootstrap=False, criterion=gini, max_depth=3, max_features=1, min_samples_leaf=10, min_samples_split=2 \n",
      "[CV]  bootstrap=False, criterion=gini, max_depth=3, max_features=1, min_samples_leaf=10, min_samples_split=2, score=0.911957, total=   0.0s\n",
      "[CV] bootstrap=False, criterion=gini, max_depth=3, max_features=1, min_samples_leaf=10, min_samples_split=3 \n",
      "[CV]  bootstrap=False, criterion=gini, max_depth=3, max_features=1, min_samples_leaf=10, min_samples_split=3, score=0.914674, total=   0.0s\n",
      "[CV] bootstrap=False, criterion=gini, max_depth=3, max_features=1, min_samples_leaf=10, min_samples_split=3 \n",
      "[CV]  bootstrap=False, criterion=gini, max_depth=3, max_features=1, min_samples_leaf=10, min_samples_split=3, score=0.919022, total=   0.0s\n",
      "[CV] bootstrap=False, criterion=gini, max_depth=3, max_features=1, min_samples_leaf=10, min_samples_split=3 \n",
      "[CV]  bootstrap=False, criterion=gini, max_depth=3, max_features=1, min_samples_leaf=10, min_samples_split=3, score=0.917391, total=   0.0s\n",
      "[CV] bootstrap=False, criterion=gini, max_depth=3, max_features=1, min_samples_leaf=10, min_samples_split=3 \n",
      "[CV]  bootstrap=False, criterion=gini, max_depth=3, max_features=1, min_samples_leaf=10, min_samples_split=3, score=0.911957, total=   0.0s\n",
      "[CV] bootstrap=False, criterion=gini, max_depth=3, max_features=1, min_samples_leaf=10, min_samples_split=3 \n"
     ]
    },
    {
     "name": "stdout",
     "output_type": "stream",
     "text": [
      "[CV]  bootstrap=False, criterion=gini, max_depth=3, max_features=1, min_samples_leaf=10, min_samples_split=3, score=0.911957, total=   0.0s\n",
      "[CV] bootstrap=False, criterion=gini, max_depth=3, max_features=1, min_samples_leaf=10, min_samples_split=10 \n",
      "[CV]  bootstrap=False, criterion=gini, max_depth=3, max_features=1, min_samples_leaf=10, min_samples_split=10, score=0.914674, total=   0.1s\n",
      "[CV] bootstrap=False, criterion=gini, max_depth=3, max_features=1, min_samples_leaf=10, min_samples_split=10 \n",
      "[CV]  bootstrap=False, criterion=gini, max_depth=3, max_features=1, min_samples_leaf=10, min_samples_split=10, score=0.919022, total=   0.0s\n",
      "[CV] bootstrap=False, criterion=gini, max_depth=3, max_features=1, min_samples_leaf=10, min_samples_split=10 \n",
      "[CV]  bootstrap=False, criterion=gini, max_depth=3, max_features=1, min_samples_leaf=10, min_samples_split=10, score=0.917391, total=   0.0s\n",
      "[CV] bootstrap=False, criterion=gini, max_depth=3, max_features=1, min_samples_leaf=10, min_samples_split=10 \n",
      "[CV]  bootstrap=False, criterion=gini, max_depth=3, max_features=1, min_samples_leaf=10, min_samples_split=10, score=0.911957, total=   0.0s\n",
      "[CV] bootstrap=False, criterion=gini, max_depth=3, max_features=1, min_samples_leaf=10, min_samples_split=10 \n",
      "[CV]  bootstrap=False, criterion=gini, max_depth=3, max_features=1, min_samples_leaf=10, min_samples_split=10, score=0.911957, total=   0.0s\n",
      "[CV] bootstrap=False, criterion=gini, max_depth=3, max_features=3, min_samples_leaf=1, min_samples_split=2 \n",
      "[CV]  bootstrap=False, criterion=gini, max_depth=3, max_features=3, min_samples_leaf=1, min_samples_split=2, score=0.906522, total=   0.1s\n",
      "[CV] bootstrap=False, criterion=gini, max_depth=3, max_features=3, min_samples_leaf=1, min_samples_split=2 \n",
      "[CV]  bootstrap=False, criterion=gini, max_depth=3, max_features=3, min_samples_leaf=1, min_samples_split=2, score=0.912500, total=   0.1s\n",
      "[CV] bootstrap=False, criterion=gini, max_depth=3, max_features=3, min_samples_leaf=1, min_samples_split=2 \n",
      "[CV]  bootstrap=False, criterion=gini, max_depth=3, max_features=3, min_samples_leaf=1, min_samples_split=2, score=0.914130, total=   0.1s\n",
      "[CV] bootstrap=False, criterion=gini, max_depth=3, max_features=3, min_samples_leaf=1, min_samples_split=2 \n",
      "[CV]  bootstrap=False, criterion=gini, max_depth=3, max_features=3, min_samples_leaf=1, min_samples_split=2, score=0.923913, total=   0.1s\n",
      "[CV] bootstrap=False, criterion=gini, max_depth=3, max_features=3, min_samples_leaf=1, min_samples_split=2 \n",
      "[CV]  bootstrap=False, criterion=gini, max_depth=3, max_features=3, min_samples_leaf=1, min_samples_split=2, score=0.914674, total=   0.1s\n",
      "[CV] bootstrap=False, criterion=gini, max_depth=3, max_features=3, min_samples_leaf=1, min_samples_split=3 \n",
      "[CV]  bootstrap=False, criterion=gini, max_depth=3, max_features=3, min_samples_leaf=1, min_samples_split=3, score=0.906522, total=   0.1s\n",
      "[CV] bootstrap=False, criterion=gini, max_depth=3, max_features=3, min_samples_leaf=1, min_samples_split=3 \n",
      "[CV]  bootstrap=False, criterion=gini, max_depth=3, max_features=3, min_samples_leaf=1, min_samples_split=3, score=0.912500, total=   0.1s\n",
      "[CV] bootstrap=False, criterion=gini, max_depth=3, max_features=3, min_samples_leaf=1, min_samples_split=3 \n",
      "[CV]  bootstrap=False, criterion=gini, max_depth=3, max_features=3, min_samples_leaf=1, min_samples_split=3, score=0.914130, total=   0.1s\n",
      "[CV] bootstrap=False, criterion=gini, max_depth=3, max_features=3, min_samples_leaf=1, min_samples_split=3 \n",
      "[CV]  bootstrap=False, criterion=gini, max_depth=3, max_features=3, min_samples_leaf=1, min_samples_split=3, score=0.923913, total=   0.1s\n",
      "[CV] bootstrap=False, criterion=gini, max_depth=3, max_features=3, min_samples_leaf=1, min_samples_split=3 \n",
      "[CV]  bootstrap=False, criterion=gini, max_depth=3, max_features=3, min_samples_leaf=1, min_samples_split=3, score=0.914674, total=   0.1s\n",
      "[CV] bootstrap=False, criterion=gini, max_depth=3, max_features=3, min_samples_leaf=1, min_samples_split=10 \n",
      "[CV]  bootstrap=False, criterion=gini, max_depth=3, max_features=3, min_samples_leaf=1, min_samples_split=10, score=0.906522, total=   0.1s\n",
      "[CV] bootstrap=False, criterion=gini, max_depth=3, max_features=3, min_samples_leaf=1, min_samples_split=10 \n",
      "[CV]  bootstrap=False, criterion=gini, max_depth=3, max_features=3, min_samples_leaf=1, min_samples_split=10, score=0.912500, total=   0.1s\n",
      "[CV] bootstrap=False, criterion=gini, max_depth=3, max_features=3, min_samples_leaf=1, min_samples_split=10 \n",
      "[CV]  bootstrap=False, criterion=gini, max_depth=3, max_features=3, min_samples_leaf=1, min_samples_split=10, score=0.914130, total=   0.1s\n",
      "[CV] bootstrap=False, criterion=gini, max_depth=3, max_features=3, min_samples_leaf=1, min_samples_split=10 \n",
      "[CV]  bootstrap=False, criterion=gini, max_depth=3, max_features=3, min_samples_leaf=1, min_samples_split=10, score=0.923913, total=   0.1s\n",
      "[CV] bootstrap=False, criterion=gini, max_depth=3, max_features=3, min_samples_leaf=1, min_samples_split=10 \n",
      "[CV]  bootstrap=False, criterion=gini, max_depth=3, max_features=3, min_samples_leaf=1, min_samples_split=10, score=0.914674, total=   0.1s\n",
      "[CV] bootstrap=False, criterion=gini, max_depth=3, max_features=3, min_samples_leaf=3, min_samples_split=2 \n",
      "[CV]  bootstrap=False, criterion=gini, max_depth=3, max_features=3, min_samples_leaf=3, min_samples_split=2, score=0.906522, total=   0.1s\n",
      "[CV] bootstrap=False, criterion=gini, max_depth=3, max_features=3, min_samples_leaf=3, min_samples_split=2 \n",
      "[CV]  bootstrap=False, criterion=gini, max_depth=3, max_features=3, min_samples_leaf=3, min_samples_split=2, score=0.912500, total=   0.1s\n",
      "[CV] bootstrap=False, criterion=gini, max_depth=3, max_features=3, min_samples_leaf=3, min_samples_split=2 \n",
      "[CV]  bootstrap=False, criterion=gini, max_depth=3, max_features=3, min_samples_leaf=3, min_samples_split=2, score=0.914130, total=   0.1s\n",
      "[CV] bootstrap=False, criterion=gini, max_depth=3, max_features=3, min_samples_leaf=3, min_samples_split=2 \n",
      "[CV]  bootstrap=False, criterion=gini, max_depth=3, max_features=3, min_samples_leaf=3, min_samples_split=2, score=0.923913, total=   0.1s\n",
      "[CV] bootstrap=False, criterion=gini, max_depth=3, max_features=3, min_samples_leaf=3, min_samples_split=2 \n",
      "[CV]  bootstrap=False, criterion=gini, max_depth=3, max_features=3, min_samples_leaf=3, min_samples_split=2, score=0.914674, total=   0.1s\n",
      "[CV] bootstrap=False, criterion=gini, max_depth=3, max_features=3, min_samples_leaf=3, min_samples_split=3 \n",
      "[CV]  bootstrap=False, criterion=gini, max_depth=3, max_features=3, min_samples_leaf=3, min_samples_split=3, score=0.906522, total=   0.1s\n",
      "[CV] bootstrap=False, criterion=gini, max_depth=3, max_features=3, min_samples_leaf=3, min_samples_split=3 \n",
      "[CV]  bootstrap=False, criterion=gini, max_depth=3, max_features=3, min_samples_leaf=3, min_samples_split=3, score=0.912500, total=   0.1s\n",
      "[CV] bootstrap=False, criterion=gini, max_depth=3, max_features=3, min_samples_leaf=3, min_samples_split=3 \n",
      "[CV]  bootstrap=False, criterion=gini, max_depth=3, max_features=3, min_samples_leaf=3, min_samples_split=3, score=0.914130, total=   0.1s\n",
      "[CV] bootstrap=False, criterion=gini, max_depth=3, max_features=3, min_samples_leaf=3, min_samples_split=3 \n",
      "[CV]  bootstrap=False, criterion=gini, max_depth=3, max_features=3, min_samples_leaf=3, min_samples_split=3, score=0.923913, total=   0.1s\n",
      "[CV] bootstrap=False, criterion=gini, max_depth=3, max_features=3, min_samples_leaf=3, min_samples_split=3 \n",
      "[CV]  bootstrap=False, criterion=gini, max_depth=3, max_features=3, min_samples_leaf=3, min_samples_split=3, score=0.914674, total=   0.1s\n",
      "[CV] bootstrap=False, criterion=gini, max_depth=3, max_features=3, min_samples_leaf=3, min_samples_split=10 \n",
      "[CV]  bootstrap=False, criterion=gini, max_depth=3, max_features=3, min_samples_leaf=3, min_samples_split=10, score=0.906522, total=   0.1s\n",
      "[CV] bootstrap=False, criterion=gini, max_depth=3, max_features=3, min_samples_leaf=3, min_samples_split=10 \n",
      "[CV]  bootstrap=False, criterion=gini, max_depth=3, max_features=3, min_samples_leaf=3, min_samples_split=10, score=0.912500, total=   0.1s\n",
      "[CV] bootstrap=False, criterion=gini, max_depth=3, max_features=3, min_samples_leaf=3, min_samples_split=10 \n",
      "[CV]  bootstrap=False, criterion=gini, max_depth=3, max_features=3, min_samples_leaf=3, min_samples_split=10, score=0.914130, total=   0.1s\n",
      "[CV] bootstrap=False, criterion=gini, max_depth=3, max_features=3, min_samples_leaf=3, min_samples_split=10 \n"
     ]
    },
    {
     "name": "stdout",
     "output_type": "stream",
     "text": [
      "[CV]  bootstrap=False, criterion=gini, max_depth=3, max_features=3, min_samples_leaf=3, min_samples_split=10, score=0.923913, total=   0.1s\n",
      "[CV] bootstrap=False, criterion=gini, max_depth=3, max_features=3, min_samples_leaf=3, min_samples_split=10 \n",
      "[CV]  bootstrap=False, criterion=gini, max_depth=3, max_features=3, min_samples_leaf=3, min_samples_split=10, score=0.914674, total=   0.1s\n",
      "[CV] bootstrap=False, criterion=gini, max_depth=3, max_features=3, min_samples_leaf=10, min_samples_split=2 \n",
      "[CV]  bootstrap=False, criterion=gini, max_depth=3, max_features=3, min_samples_leaf=10, min_samples_split=2, score=0.906522, total=   0.1s\n",
      "[CV] bootstrap=False, criterion=gini, max_depth=3, max_features=3, min_samples_leaf=10, min_samples_split=2 \n",
      "[CV]  bootstrap=False, criterion=gini, max_depth=3, max_features=3, min_samples_leaf=10, min_samples_split=2, score=0.912500, total=   0.1s\n",
      "[CV] bootstrap=False, criterion=gini, max_depth=3, max_features=3, min_samples_leaf=10, min_samples_split=2 \n",
      "[CV]  bootstrap=False, criterion=gini, max_depth=3, max_features=3, min_samples_leaf=10, min_samples_split=2, score=0.914130, total=   0.1s\n",
      "[CV] bootstrap=False, criterion=gini, max_depth=3, max_features=3, min_samples_leaf=10, min_samples_split=2 \n",
      "[CV]  bootstrap=False, criterion=gini, max_depth=3, max_features=3, min_samples_leaf=10, min_samples_split=2, score=0.923913, total=   0.1s\n",
      "[CV] bootstrap=False, criterion=gini, max_depth=3, max_features=3, min_samples_leaf=10, min_samples_split=2 \n",
      "[CV]  bootstrap=False, criterion=gini, max_depth=3, max_features=3, min_samples_leaf=10, min_samples_split=2, score=0.914674, total=   0.1s\n",
      "[CV] bootstrap=False, criterion=gini, max_depth=3, max_features=3, min_samples_leaf=10, min_samples_split=3 \n",
      "[CV]  bootstrap=False, criterion=gini, max_depth=3, max_features=3, min_samples_leaf=10, min_samples_split=3, score=0.906522, total=   0.1s\n",
      "[CV] bootstrap=False, criterion=gini, max_depth=3, max_features=3, min_samples_leaf=10, min_samples_split=3 \n",
      "[CV]  bootstrap=False, criterion=gini, max_depth=3, max_features=3, min_samples_leaf=10, min_samples_split=3, score=0.912500, total=   0.1s\n",
      "[CV] bootstrap=False, criterion=gini, max_depth=3, max_features=3, min_samples_leaf=10, min_samples_split=3 \n",
      "[CV]  bootstrap=False, criterion=gini, max_depth=3, max_features=3, min_samples_leaf=10, min_samples_split=3, score=0.914130, total=   0.1s\n",
      "[CV] bootstrap=False, criterion=gini, max_depth=3, max_features=3, min_samples_leaf=10, min_samples_split=3 \n",
      "[CV]  bootstrap=False, criterion=gini, max_depth=3, max_features=3, min_samples_leaf=10, min_samples_split=3, score=0.923913, total=   0.1s\n",
      "[CV] bootstrap=False, criterion=gini, max_depth=3, max_features=3, min_samples_leaf=10, min_samples_split=3 \n",
      "[CV]  bootstrap=False, criterion=gini, max_depth=3, max_features=3, min_samples_leaf=10, min_samples_split=3, score=0.914674, total=   0.1s\n",
      "[CV] bootstrap=False, criterion=gini, max_depth=3, max_features=3, min_samples_leaf=10, min_samples_split=10 \n",
      "[CV]  bootstrap=False, criterion=gini, max_depth=3, max_features=3, min_samples_leaf=10, min_samples_split=10, score=0.906522, total=   0.1s\n",
      "[CV] bootstrap=False, criterion=gini, max_depth=3, max_features=3, min_samples_leaf=10, min_samples_split=10 \n",
      "[CV]  bootstrap=False, criterion=gini, max_depth=3, max_features=3, min_samples_leaf=10, min_samples_split=10, score=0.912500, total=   0.1s\n",
      "[CV] bootstrap=False, criterion=gini, max_depth=3, max_features=3, min_samples_leaf=10, min_samples_split=10 \n",
      "[CV]  bootstrap=False, criterion=gini, max_depth=3, max_features=3, min_samples_leaf=10, min_samples_split=10, score=0.914130, total=   0.1s\n",
      "[CV] bootstrap=False, criterion=gini, max_depth=3, max_features=3, min_samples_leaf=10, min_samples_split=10 \n",
      "[CV]  bootstrap=False, criterion=gini, max_depth=3, max_features=3, min_samples_leaf=10, min_samples_split=10, score=0.923913, total=   0.1s\n",
      "[CV] bootstrap=False, criterion=gini, max_depth=3, max_features=3, min_samples_leaf=10, min_samples_split=10 \n",
      "[CV]  bootstrap=False, criterion=gini, max_depth=3, max_features=3, min_samples_leaf=10, min_samples_split=10, score=0.914674, total=   0.1s\n",
      "[CV] bootstrap=False, criterion=gini, max_depth=3, max_features=10, min_samples_leaf=1, min_samples_split=2 \n",
      "[CV]  bootstrap=False, criterion=gini, max_depth=3, max_features=10, min_samples_leaf=1, min_samples_split=2, score=0.916304, total=   0.2s\n",
      "[CV] bootstrap=False, criterion=gini, max_depth=3, max_features=10, min_samples_leaf=1, min_samples_split=2 \n",
      "[CV]  bootstrap=False, criterion=gini, max_depth=3, max_features=10, min_samples_leaf=1, min_samples_split=2, score=0.919565, total=   0.2s\n",
      "[CV] bootstrap=False, criterion=gini, max_depth=3, max_features=10, min_samples_leaf=1, min_samples_split=2 \n",
      "[CV]  bootstrap=False, criterion=gini, max_depth=3, max_features=10, min_samples_leaf=1, min_samples_split=2, score=0.918478, total=   0.2s\n",
      "[CV] bootstrap=False, criterion=gini, max_depth=3, max_features=10, min_samples_leaf=1, min_samples_split=2 \n",
      "[CV]  bootstrap=False, criterion=gini, max_depth=3, max_features=10, min_samples_leaf=1, min_samples_split=2, score=0.920652, total=   0.2s\n",
      "[CV] bootstrap=False, criterion=gini, max_depth=3, max_features=10, min_samples_leaf=1, min_samples_split=2 \n",
      "[CV]  bootstrap=False, criterion=gini, max_depth=3, max_features=10, min_samples_leaf=1, min_samples_split=2, score=0.913587, total=   0.2s\n",
      "[CV] bootstrap=False, criterion=gini, max_depth=3, max_features=10, min_samples_leaf=1, min_samples_split=3 \n",
      "[CV]  bootstrap=False, criterion=gini, max_depth=3, max_features=10, min_samples_leaf=1, min_samples_split=3, score=0.916304, total=   0.2s\n",
      "[CV] bootstrap=False, criterion=gini, max_depth=3, max_features=10, min_samples_leaf=1, min_samples_split=3 \n",
      "[CV]  bootstrap=False, criterion=gini, max_depth=3, max_features=10, min_samples_leaf=1, min_samples_split=3, score=0.919565, total=   0.2s\n",
      "[CV] bootstrap=False, criterion=gini, max_depth=3, max_features=10, min_samples_leaf=1, min_samples_split=3 \n",
      "[CV]  bootstrap=False, criterion=gini, max_depth=3, max_features=10, min_samples_leaf=1, min_samples_split=3, score=0.918478, total=   0.2s\n",
      "[CV] bootstrap=False, criterion=gini, max_depth=3, max_features=10, min_samples_leaf=1, min_samples_split=3 \n",
      "[CV]  bootstrap=False, criterion=gini, max_depth=3, max_features=10, min_samples_leaf=1, min_samples_split=3, score=0.920652, total=   0.2s\n",
      "[CV] bootstrap=False, criterion=gini, max_depth=3, max_features=10, min_samples_leaf=1, min_samples_split=3 \n",
      "[CV]  bootstrap=False, criterion=gini, max_depth=3, max_features=10, min_samples_leaf=1, min_samples_split=3, score=0.913587, total=   0.2s\n",
      "[CV] bootstrap=False, criterion=gini, max_depth=3, max_features=10, min_samples_leaf=1, min_samples_split=10 \n",
      "[CV]  bootstrap=False, criterion=gini, max_depth=3, max_features=10, min_samples_leaf=1, min_samples_split=10, score=0.916304, total=   0.2s\n",
      "[CV] bootstrap=False, criterion=gini, max_depth=3, max_features=10, min_samples_leaf=1, min_samples_split=10 \n",
      "[CV]  bootstrap=False, criterion=gini, max_depth=3, max_features=10, min_samples_leaf=1, min_samples_split=10, score=0.919565, total=   0.2s\n",
      "[CV] bootstrap=False, criterion=gini, max_depth=3, max_features=10, min_samples_leaf=1, min_samples_split=10 \n",
      "[CV]  bootstrap=False, criterion=gini, max_depth=3, max_features=10, min_samples_leaf=1, min_samples_split=10, score=0.918478, total=   0.2s\n",
      "[CV] bootstrap=False, criterion=gini, max_depth=3, max_features=10, min_samples_leaf=1, min_samples_split=10 \n",
      "[CV]  bootstrap=False, criterion=gini, max_depth=3, max_features=10, min_samples_leaf=1, min_samples_split=10, score=0.920652, total=   0.2s\n",
      "[CV] bootstrap=False, criterion=gini, max_depth=3, max_features=10, min_samples_leaf=1, min_samples_split=10 \n",
      "[CV]  bootstrap=False, criterion=gini, max_depth=3, max_features=10, min_samples_leaf=1, min_samples_split=10, score=0.913587, total=   0.2s\n",
      "[CV] bootstrap=False, criterion=gini, max_depth=3, max_features=10, min_samples_leaf=3, min_samples_split=2 \n",
      "[CV]  bootstrap=False, criterion=gini, max_depth=3, max_features=10, min_samples_leaf=3, min_samples_split=2, score=0.916304, total=   0.2s\n",
      "[CV] bootstrap=False, criterion=gini, max_depth=3, max_features=10, min_samples_leaf=3, min_samples_split=2 \n"
     ]
    },
    {
     "name": "stdout",
     "output_type": "stream",
     "text": [
      "[CV]  bootstrap=False, criterion=gini, max_depth=3, max_features=10, min_samples_leaf=3, min_samples_split=2, score=0.919565, total=   0.2s\n",
      "[CV] bootstrap=False, criterion=gini, max_depth=3, max_features=10, min_samples_leaf=3, min_samples_split=2 \n",
      "[CV]  bootstrap=False, criterion=gini, max_depth=3, max_features=10, min_samples_leaf=3, min_samples_split=2, score=0.918478, total=   0.2s\n",
      "[CV] bootstrap=False, criterion=gini, max_depth=3, max_features=10, min_samples_leaf=3, min_samples_split=2 \n",
      "[CV]  bootstrap=False, criterion=gini, max_depth=3, max_features=10, min_samples_leaf=3, min_samples_split=2, score=0.920652, total=   0.2s\n",
      "[CV] bootstrap=False, criterion=gini, max_depth=3, max_features=10, min_samples_leaf=3, min_samples_split=2 \n",
      "[CV]  bootstrap=False, criterion=gini, max_depth=3, max_features=10, min_samples_leaf=3, min_samples_split=2, score=0.913587, total=   0.2s\n",
      "[CV] bootstrap=False, criterion=gini, max_depth=3, max_features=10, min_samples_leaf=3, min_samples_split=3 \n",
      "[CV]  bootstrap=False, criterion=gini, max_depth=3, max_features=10, min_samples_leaf=3, min_samples_split=3, score=0.916304, total=   0.2s\n",
      "[CV] bootstrap=False, criterion=gini, max_depth=3, max_features=10, min_samples_leaf=3, min_samples_split=3 \n",
      "[CV]  bootstrap=False, criterion=gini, max_depth=3, max_features=10, min_samples_leaf=3, min_samples_split=3, score=0.919565, total=   0.2s\n",
      "[CV] bootstrap=False, criterion=gini, max_depth=3, max_features=10, min_samples_leaf=3, min_samples_split=3 \n",
      "[CV]  bootstrap=False, criterion=gini, max_depth=3, max_features=10, min_samples_leaf=3, min_samples_split=3, score=0.918478, total=   0.2s\n",
      "[CV] bootstrap=False, criterion=gini, max_depth=3, max_features=10, min_samples_leaf=3, min_samples_split=3 \n",
      "[CV]  bootstrap=False, criterion=gini, max_depth=3, max_features=10, min_samples_leaf=3, min_samples_split=3, score=0.920652, total=   0.2s\n",
      "[CV] bootstrap=False, criterion=gini, max_depth=3, max_features=10, min_samples_leaf=3, min_samples_split=3 \n",
      "[CV]  bootstrap=False, criterion=gini, max_depth=3, max_features=10, min_samples_leaf=3, min_samples_split=3, score=0.913587, total=   0.2s\n",
      "[CV] bootstrap=False, criterion=gini, max_depth=3, max_features=10, min_samples_leaf=3, min_samples_split=10 \n",
      "[CV]  bootstrap=False, criterion=gini, max_depth=3, max_features=10, min_samples_leaf=3, min_samples_split=10, score=0.916304, total=   0.2s\n",
      "[CV] bootstrap=False, criterion=gini, max_depth=3, max_features=10, min_samples_leaf=3, min_samples_split=10 \n",
      "[CV]  bootstrap=False, criterion=gini, max_depth=3, max_features=10, min_samples_leaf=3, min_samples_split=10, score=0.919565, total=   0.2s\n",
      "[CV] bootstrap=False, criterion=gini, max_depth=3, max_features=10, min_samples_leaf=3, min_samples_split=10 \n",
      "[CV]  bootstrap=False, criterion=gini, max_depth=3, max_features=10, min_samples_leaf=3, min_samples_split=10, score=0.918478, total=   0.2s\n",
      "[CV] bootstrap=False, criterion=gini, max_depth=3, max_features=10, min_samples_leaf=3, min_samples_split=10 \n",
      "[CV]  bootstrap=False, criterion=gini, max_depth=3, max_features=10, min_samples_leaf=3, min_samples_split=10, score=0.920652, total=   0.2s\n",
      "[CV] bootstrap=False, criterion=gini, max_depth=3, max_features=10, min_samples_leaf=3, min_samples_split=10 \n",
      "[CV]  bootstrap=False, criterion=gini, max_depth=3, max_features=10, min_samples_leaf=3, min_samples_split=10, score=0.913587, total=   0.2s\n",
      "[CV] bootstrap=False, criterion=gini, max_depth=3, max_features=10, min_samples_leaf=10, min_samples_split=2 \n",
      "[CV]  bootstrap=False, criterion=gini, max_depth=3, max_features=10, min_samples_leaf=10, min_samples_split=2, score=0.916304, total=   0.2s\n",
      "[CV] bootstrap=False, criterion=gini, max_depth=3, max_features=10, min_samples_leaf=10, min_samples_split=2 \n",
      "[CV]  bootstrap=False, criterion=gini, max_depth=3, max_features=10, min_samples_leaf=10, min_samples_split=2, score=0.919565, total=   0.2s\n",
      "[CV] bootstrap=False, criterion=gini, max_depth=3, max_features=10, min_samples_leaf=10, min_samples_split=2 \n",
      "[CV]  bootstrap=False, criterion=gini, max_depth=3, max_features=10, min_samples_leaf=10, min_samples_split=2, score=0.918478, total=   0.2s\n",
      "[CV] bootstrap=False, criterion=gini, max_depth=3, max_features=10, min_samples_leaf=10, min_samples_split=2 \n",
      "[CV]  bootstrap=False, criterion=gini, max_depth=3, max_features=10, min_samples_leaf=10, min_samples_split=2, score=0.920652, total=   0.2s\n",
      "[CV] bootstrap=False, criterion=gini, max_depth=3, max_features=10, min_samples_leaf=10, min_samples_split=2 \n",
      "[CV]  bootstrap=False, criterion=gini, max_depth=3, max_features=10, min_samples_leaf=10, min_samples_split=2, score=0.913587, total=   0.2s\n",
      "[CV] bootstrap=False, criterion=gini, max_depth=3, max_features=10, min_samples_leaf=10, min_samples_split=3 \n",
      "[CV]  bootstrap=False, criterion=gini, max_depth=3, max_features=10, min_samples_leaf=10, min_samples_split=3, score=0.916304, total=   0.2s\n",
      "[CV] bootstrap=False, criterion=gini, max_depth=3, max_features=10, min_samples_leaf=10, min_samples_split=3 \n",
      "[CV]  bootstrap=False, criterion=gini, max_depth=3, max_features=10, min_samples_leaf=10, min_samples_split=3, score=0.919565, total=   0.2s\n",
      "[CV] bootstrap=False, criterion=gini, max_depth=3, max_features=10, min_samples_leaf=10, min_samples_split=3 \n",
      "[CV]  bootstrap=False, criterion=gini, max_depth=3, max_features=10, min_samples_leaf=10, min_samples_split=3, score=0.918478, total=   0.2s\n",
      "[CV] bootstrap=False, criterion=gini, max_depth=3, max_features=10, min_samples_leaf=10, min_samples_split=3 \n",
      "[CV]  bootstrap=False, criterion=gini, max_depth=3, max_features=10, min_samples_leaf=10, min_samples_split=3, score=0.920652, total=   0.2s\n",
      "[CV] bootstrap=False, criterion=gini, max_depth=3, max_features=10, min_samples_leaf=10, min_samples_split=3 \n",
      "[CV]  bootstrap=False, criterion=gini, max_depth=3, max_features=10, min_samples_leaf=10, min_samples_split=3, score=0.913587, total=   0.2s\n",
      "[CV] bootstrap=False, criterion=gini, max_depth=3, max_features=10, min_samples_leaf=10, min_samples_split=10 \n",
      "[CV]  bootstrap=False, criterion=gini, max_depth=3, max_features=10, min_samples_leaf=10, min_samples_split=10, score=0.916304, total=   0.2s\n",
      "[CV] bootstrap=False, criterion=gini, max_depth=3, max_features=10, min_samples_leaf=10, min_samples_split=10 \n",
      "[CV]  bootstrap=False, criterion=gini, max_depth=3, max_features=10, min_samples_leaf=10, min_samples_split=10, score=0.919565, total=   0.2s\n",
      "[CV] bootstrap=False, criterion=gini, max_depth=3, max_features=10, min_samples_leaf=10, min_samples_split=10 \n",
      "[CV]  bootstrap=False, criterion=gini, max_depth=3, max_features=10, min_samples_leaf=10, min_samples_split=10, score=0.918478, total=   0.2s\n",
      "[CV] bootstrap=False, criterion=gini, max_depth=3, max_features=10, min_samples_leaf=10, min_samples_split=10 \n",
      "[CV]  bootstrap=False, criterion=gini, max_depth=3, max_features=10, min_samples_leaf=10, min_samples_split=10, score=0.920652, total=   0.2s\n",
      "[CV] bootstrap=False, criterion=gini, max_depth=3, max_features=10, min_samples_leaf=10, min_samples_split=10 \n",
      "[CV]  bootstrap=False, criterion=gini, max_depth=3, max_features=10, min_samples_leaf=10, min_samples_split=10, score=0.913587, total=   0.2s\n",
      "[CV] bootstrap=False, criterion=gini, max_depth=None, max_features=1, min_samples_leaf=1, min_samples_split=2 \n",
      "[CV]  bootstrap=False, criterion=gini, max_depth=None, max_features=1, min_samples_leaf=1, min_samples_split=2, score=0.960870, total=   0.2s\n",
      "[CV] bootstrap=False, criterion=gini, max_depth=None, max_features=1, min_samples_leaf=1, min_samples_split=2 \n",
      "[CV]  bootstrap=False, criterion=gini, max_depth=None, max_features=1, min_samples_leaf=1, min_samples_split=2, score=0.965217, total=   0.2s\n",
      "[CV] bootstrap=False, criterion=gini, max_depth=None, max_features=1, min_samples_leaf=1, min_samples_split=2 \n",
      "[CV]  bootstrap=False, criterion=gini, max_depth=None, max_features=1, min_samples_leaf=1, min_samples_split=2, score=0.961413, total=   0.2s\n",
      "[CV] bootstrap=False, criterion=gini, max_depth=None, max_features=1, min_samples_leaf=1, min_samples_split=2 \n",
      "[CV]  bootstrap=False, criterion=gini, max_depth=None, max_features=1, min_samples_leaf=1, min_samples_split=2, score=0.957065, total=   0.2s\n",
      "[CV] bootstrap=False, criterion=gini, max_depth=None, max_features=1, min_samples_leaf=1, min_samples_split=2 \n"
     ]
    },
    {
     "name": "stdout",
     "output_type": "stream",
     "text": [
      "[CV]  bootstrap=False, criterion=gini, max_depth=None, max_features=1, min_samples_leaf=1, min_samples_split=2, score=0.965761, total=   0.2s\n",
      "[CV] bootstrap=False, criterion=gini, max_depth=None, max_features=1, min_samples_leaf=1, min_samples_split=3 \n",
      "[CV]  bootstrap=False, criterion=gini, max_depth=None, max_features=1, min_samples_leaf=1, min_samples_split=3, score=0.961957, total=   0.2s\n",
      "[CV] bootstrap=False, criterion=gini, max_depth=None, max_features=1, min_samples_leaf=1, min_samples_split=3 \n",
      "[CV]  bootstrap=False, criterion=gini, max_depth=None, max_features=1, min_samples_leaf=1, min_samples_split=3, score=0.963043, total=   0.2s\n",
      "[CV] bootstrap=False, criterion=gini, max_depth=None, max_features=1, min_samples_leaf=1, min_samples_split=3 \n",
      "[CV]  bootstrap=False, criterion=gini, max_depth=None, max_features=1, min_samples_leaf=1, min_samples_split=3, score=0.957609, total=   0.2s\n",
      "[CV] bootstrap=False, criterion=gini, max_depth=None, max_features=1, min_samples_leaf=1, min_samples_split=3 \n",
      "[CV]  bootstrap=False, criterion=gini, max_depth=None, max_features=1, min_samples_leaf=1, min_samples_split=3, score=0.965761, total=   0.2s\n",
      "[CV] bootstrap=False, criterion=gini, max_depth=None, max_features=1, min_samples_leaf=1, min_samples_split=3 \n",
      "[CV]  bootstrap=False, criterion=gini, max_depth=None, max_features=1, min_samples_leaf=1, min_samples_split=3, score=0.961957, total=   0.2s\n",
      "[CV] bootstrap=False, criterion=gini, max_depth=None, max_features=1, min_samples_leaf=1, min_samples_split=10 \n",
      "[CV]  bootstrap=False, criterion=gini, max_depth=None, max_features=1, min_samples_leaf=1, min_samples_split=10, score=0.957609, total=   0.2s\n",
      "[CV] bootstrap=False, criterion=gini, max_depth=None, max_features=1, min_samples_leaf=1, min_samples_split=10 \n",
      "[CV]  bootstrap=False, criterion=gini, max_depth=None, max_features=1, min_samples_leaf=1, min_samples_split=10, score=0.962500, total=   0.2s\n",
      "[CV] bootstrap=False, criterion=gini, max_depth=None, max_features=1, min_samples_leaf=1, min_samples_split=10 \n",
      "[CV]  bootstrap=False, criterion=gini, max_depth=None, max_features=1, min_samples_leaf=1, min_samples_split=10, score=0.960326, total=   0.2s\n",
      "[CV] bootstrap=False, criterion=gini, max_depth=None, max_features=1, min_samples_leaf=1, min_samples_split=10 \n",
      "[CV]  bootstrap=False, criterion=gini, max_depth=None, max_features=1, min_samples_leaf=1, min_samples_split=10, score=0.969565, total=   0.2s\n",
      "[CV] bootstrap=False, criterion=gini, max_depth=None, max_features=1, min_samples_leaf=1, min_samples_split=10 \n",
      "[CV]  bootstrap=False, criterion=gini, max_depth=None, max_features=1, min_samples_leaf=1, min_samples_split=10, score=0.969565, total=   0.2s\n",
      "[CV] bootstrap=False, criterion=gini, max_depth=None, max_features=1, min_samples_leaf=3, min_samples_split=2 \n",
      "[CV]  bootstrap=False, criterion=gini, max_depth=None, max_features=1, min_samples_leaf=3, min_samples_split=2, score=0.957065, total=   0.2s\n",
      "[CV] bootstrap=False, criterion=gini, max_depth=None, max_features=1, min_samples_leaf=3, min_samples_split=2 \n",
      "[CV]  bootstrap=False, criterion=gini, max_depth=None, max_features=1, min_samples_leaf=3, min_samples_split=2, score=0.969565, total=   0.2s\n",
      "[CV] bootstrap=False, criterion=gini, max_depth=None, max_features=1, min_samples_leaf=3, min_samples_split=2 \n",
      "[CV]  bootstrap=False, criterion=gini, max_depth=None, max_features=1, min_samples_leaf=3, min_samples_split=2, score=0.958152, total=   0.2s\n",
      "[CV] bootstrap=False, criterion=gini, max_depth=None, max_features=1, min_samples_leaf=3, min_samples_split=2 \n",
      "[CV]  bootstrap=False, criterion=gini, max_depth=None, max_features=1, min_samples_leaf=3, min_samples_split=2, score=0.962500, total=   0.2s\n",
      "[CV] bootstrap=False, criterion=gini, max_depth=None, max_features=1, min_samples_leaf=3, min_samples_split=2 \n",
      "[CV]  bootstrap=False, criterion=gini, max_depth=None, max_features=1, min_samples_leaf=3, min_samples_split=2, score=0.965217, total=   0.2s\n",
      "[CV] bootstrap=False, criterion=gini, max_depth=None, max_features=1, min_samples_leaf=3, min_samples_split=3 \n",
      "[CV]  bootstrap=False, criterion=gini, max_depth=None, max_features=1, min_samples_leaf=3, min_samples_split=3, score=0.957065, total=   0.2s\n",
      "[CV] bootstrap=False, criterion=gini, max_depth=None, max_features=1, min_samples_leaf=3, min_samples_split=3 \n",
      "[CV]  bootstrap=False, criterion=gini, max_depth=None, max_features=1, min_samples_leaf=3, min_samples_split=3, score=0.969565, total=   0.2s\n",
      "[CV] bootstrap=False, criterion=gini, max_depth=None, max_features=1, min_samples_leaf=3, min_samples_split=3 \n",
      "[CV]  bootstrap=False, criterion=gini, max_depth=None, max_features=1, min_samples_leaf=3, min_samples_split=3, score=0.958152, total=   0.2s\n",
      "[CV] bootstrap=False, criterion=gini, max_depth=None, max_features=1, min_samples_leaf=3, min_samples_split=3 \n",
      "[CV]  bootstrap=False, criterion=gini, max_depth=None, max_features=1, min_samples_leaf=3, min_samples_split=3, score=0.962500, total=   0.2s\n",
      "[CV] bootstrap=False, criterion=gini, max_depth=None, max_features=1, min_samples_leaf=3, min_samples_split=3 \n",
      "[CV]  bootstrap=False, criterion=gini, max_depth=None, max_features=1, min_samples_leaf=3, min_samples_split=3, score=0.965217, total=   0.2s\n",
      "[CV] bootstrap=False, criterion=gini, max_depth=None, max_features=1, min_samples_leaf=3, min_samples_split=10 \n",
      "[CV]  bootstrap=False, criterion=gini, max_depth=None, max_features=1, min_samples_leaf=3, min_samples_split=10, score=0.954891, total=   0.2s\n",
      "[CV] bootstrap=False, criterion=gini, max_depth=None, max_features=1, min_samples_leaf=3, min_samples_split=10 \n",
      "[CV]  bootstrap=False, criterion=gini, max_depth=None, max_features=1, min_samples_leaf=3, min_samples_split=10, score=0.964674, total=   0.2s\n",
      "[CV] bootstrap=False, criterion=gini, max_depth=None, max_features=1, min_samples_leaf=3, min_samples_split=10 \n",
      "[CV]  bootstrap=False, criterion=gini, max_depth=None, max_features=1, min_samples_leaf=3, min_samples_split=10, score=0.958152, total=   0.2s\n",
      "[CV] bootstrap=False, criterion=gini, max_depth=None, max_features=1, min_samples_leaf=3, min_samples_split=10 \n",
      "[CV]  bootstrap=False, criterion=gini, max_depth=None, max_features=1, min_samples_leaf=3, min_samples_split=10, score=0.961957, total=   0.2s\n",
      "[CV] bootstrap=False, criterion=gini, max_depth=None, max_features=1, min_samples_leaf=3, min_samples_split=10 \n",
      "[CV]  bootstrap=False, criterion=gini, max_depth=None, max_features=1, min_samples_leaf=3, min_samples_split=10, score=0.964130, total=   0.2s\n",
      "[CV] bootstrap=False, criterion=gini, max_depth=None, max_features=1, min_samples_leaf=10, min_samples_split=2 \n",
      "[CV]  bootstrap=False, criterion=gini, max_depth=None, max_features=1, min_samples_leaf=10, min_samples_split=2, score=0.959239, total=   0.2s\n",
      "[CV] bootstrap=False, criterion=gini, max_depth=None, max_features=1, min_samples_leaf=10, min_samples_split=2 \n",
      "[CV]  bootstrap=False, criterion=gini, max_depth=None, max_features=1, min_samples_leaf=10, min_samples_split=2, score=0.962500, total=   0.2s\n",
      "[CV] bootstrap=False, criterion=gini, max_depth=None, max_features=1, min_samples_leaf=10, min_samples_split=2 \n",
      "[CV]  bootstrap=False, criterion=gini, max_depth=None, max_features=1, min_samples_leaf=10, min_samples_split=2, score=0.956522, total=   0.2s\n",
      "[CV] bootstrap=False, criterion=gini, max_depth=None, max_features=1, min_samples_leaf=10, min_samples_split=2 \n",
      "[CV]  bootstrap=False, criterion=gini, max_depth=None, max_features=1, min_samples_leaf=10, min_samples_split=2, score=0.955435, total=   0.2s\n",
      "[CV] bootstrap=False, criterion=gini, max_depth=None, max_features=1, min_samples_leaf=10, min_samples_split=2 \n",
      "[CV]  bootstrap=False, criterion=gini, max_depth=None, max_features=1, min_samples_leaf=10, min_samples_split=2, score=0.961413, total=   0.2s\n",
      "[CV] bootstrap=False, criterion=gini, max_depth=None, max_features=1, min_samples_leaf=10, min_samples_split=3 \n",
      "[CV]  bootstrap=False, criterion=gini, max_depth=None, max_features=1, min_samples_leaf=10, min_samples_split=3, score=0.959239, total=   0.2s\n",
      "[CV] bootstrap=False, criterion=gini, max_depth=None, max_features=1, min_samples_leaf=10, min_samples_split=3 \n",
      "[CV]  bootstrap=False, criterion=gini, max_depth=None, max_features=1, min_samples_leaf=10, min_samples_split=3, score=0.962500, total=   0.2s\n",
      "[CV] bootstrap=False, criterion=gini, max_depth=None, max_features=1, min_samples_leaf=10, min_samples_split=3 \n"
     ]
    },
    {
     "name": "stdout",
     "output_type": "stream",
     "text": [
      "[CV]  bootstrap=False, criterion=gini, max_depth=None, max_features=1, min_samples_leaf=10, min_samples_split=3, score=0.956522, total=   0.2s\n",
      "[CV] bootstrap=False, criterion=gini, max_depth=None, max_features=1, min_samples_leaf=10, min_samples_split=3 \n",
      "[CV]  bootstrap=False, criterion=gini, max_depth=None, max_features=1, min_samples_leaf=10, min_samples_split=3, score=0.955435, total=   0.2s\n",
      "[CV] bootstrap=False, criterion=gini, max_depth=None, max_features=1, min_samples_leaf=10, min_samples_split=3 \n",
      "[CV]  bootstrap=False, criterion=gini, max_depth=None, max_features=1, min_samples_leaf=10, min_samples_split=3, score=0.961413, total=   0.2s\n",
      "[CV] bootstrap=False, criterion=gini, max_depth=None, max_features=1, min_samples_leaf=10, min_samples_split=10 \n",
      "[CV]  bootstrap=False, criterion=gini, max_depth=None, max_features=1, min_samples_leaf=10, min_samples_split=10, score=0.959239, total=   0.2s\n",
      "[CV] bootstrap=False, criterion=gini, max_depth=None, max_features=1, min_samples_leaf=10, min_samples_split=10 \n",
      "[CV]  bootstrap=False, criterion=gini, max_depth=None, max_features=1, min_samples_leaf=10, min_samples_split=10, score=0.962500, total=   0.2s\n",
      "[CV] bootstrap=False, criterion=gini, max_depth=None, max_features=1, min_samples_leaf=10, min_samples_split=10 \n",
      "[CV]  bootstrap=False, criterion=gini, max_depth=None, max_features=1, min_samples_leaf=10, min_samples_split=10, score=0.956522, total=   0.2s\n",
      "[CV] bootstrap=False, criterion=gini, max_depth=None, max_features=1, min_samples_leaf=10, min_samples_split=10 \n",
      "[CV]  bootstrap=False, criterion=gini, max_depth=None, max_features=1, min_samples_leaf=10, min_samples_split=10, score=0.955435, total=   0.2s\n",
      "[CV] bootstrap=False, criterion=gini, max_depth=None, max_features=1, min_samples_leaf=10, min_samples_split=10 \n",
      "[CV]  bootstrap=False, criterion=gini, max_depth=None, max_features=1, min_samples_leaf=10, min_samples_split=10, score=0.961413, total=   0.2s\n",
      "[CV] bootstrap=False, criterion=gini, max_depth=None, max_features=3, min_samples_leaf=1, min_samples_split=2 \n",
      "[CV]  bootstrap=False, criterion=gini, max_depth=None, max_features=3, min_samples_leaf=1, min_samples_split=2, score=0.954891, total=   0.5s\n",
      "[CV] bootstrap=False, criterion=gini, max_depth=None, max_features=3, min_samples_leaf=1, min_samples_split=2 \n",
      "[CV]  bootstrap=False, criterion=gini, max_depth=None, max_features=3, min_samples_leaf=1, min_samples_split=2, score=0.964674, total=   0.5s\n",
      "[CV] bootstrap=False, criterion=gini, max_depth=None, max_features=3, min_samples_leaf=1, min_samples_split=2 \n",
      "[CV]  bootstrap=False, criterion=gini, max_depth=None, max_features=3, min_samples_leaf=1, min_samples_split=2, score=0.963587, total=   0.5s\n",
      "[CV] bootstrap=False, criterion=gini, max_depth=None, max_features=3, min_samples_leaf=1, min_samples_split=2 \n",
      "[CV]  bootstrap=False, criterion=gini, max_depth=None, max_features=3, min_samples_leaf=1, min_samples_split=2, score=0.964130, total=   0.5s\n",
      "[CV] bootstrap=False, criterion=gini, max_depth=None, max_features=3, min_samples_leaf=1, min_samples_split=2 \n",
      "[CV]  bootstrap=False, criterion=gini, max_depth=None, max_features=3, min_samples_leaf=1, min_samples_split=2, score=0.963587, total=   0.5s\n",
      "[CV] bootstrap=False, criterion=gini, max_depth=None, max_features=3, min_samples_leaf=1, min_samples_split=3 \n",
      "[CV]  bootstrap=False, criterion=gini, max_depth=None, max_features=3, min_samples_leaf=1, min_samples_split=3, score=0.955978, total=   0.5s\n",
      "[CV] bootstrap=False, criterion=gini, max_depth=None, max_features=3, min_samples_leaf=1, min_samples_split=3 \n",
      "[CV]  bootstrap=False, criterion=gini, max_depth=None, max_features=3, min_samples_leaf=1, min_samples_split=3, score=0.964674, total=   0.5s\n",
      "[CV] bootstrap=False, criterion=gini, max_depth=None, max_features=3, min_samples_leaf=1, min_samples_split=3 \n",
      "[CV]  bootstrap=False, criterion=gini, max_depth=None, max_features=3, min_samples_leaf=1, min_samples_split=3, score=0.959239, total=   0.5s\n",
      "[CV] bootstrap=False, criterion=gini, max_depth=None, max_features=3, min_samples_leaf=1, min_samples_split=3 \n",
      "[CV]  bootstrap=False, criterion=gini, max_depth=None, max_features=3, min_samples_leaf=1, min_samples_split=3, score=0.963043, total=   0.5s\n",
      "[CV] bootstrap=False, criterion=gini, max_depth=None, max_features=3, min_samples_leaf=1, min_samples_split=3 \n",
      "[CV]  bootstrap=False, criterion=gini, max_depth=None, max_features=3, min_samples_leaf=1, min_samples_split=3, score=0.969565, total=   0.5s\n",
      "[CV] bootstrap=False, criterion=gini, max_depth=None, max_features=3, min_samples_leaf=1, min_samples_split=10 \n",
      "[CV]  bootstrap=False, criterion=gini, max_depth=None, max_features=3, min_samples_leaf=1, min_samples_split=10, score=0.956522, total=   0.5s\n",
      "[CV] bootstrap=False, criterion=gini, max_depth=None, max_features=3, min_samples_leaf=1, min_samples_split=10 \n",
      "[CV]  bootstrap=False, criterion=gini, max_depth=None, max_features=3, min_samples_leaf=1, min_samples_split=10, score=0.967935, total=   0.5s\n",
      "[CV] bootstrap=False, criterion=gini, max_depth=None, max_features=3, min_samples_leaf=1, min_samples_split=10 \n",
      "[CV]  bootstrap=False, criterion=gini, max_depth=None, max_features=3, min_samples_leaf=1, min_samples_split=10, score=0.964130, total=   0.5s\n",
      "[CV] bootstrap=False, criterion=gini, max_depth=None, max_features=3, min_samples_leaf=1, min_samples_split=10 \n",
      "[CV]  bootstrap=False, criterion=gini, max_depth=None, max_features=3, min_samples_leaf=1, min_samples_split=10, score=0.961957, total=   0.5s\n",
      "[CV] bootstrap=False, criterion=gini, max_depth=None, max_features=3, min_samples_leaf=1, min_samples_split=10 \n",
      "[CV]  bootstrap=False, criterion=gini, max_depth=None, max_features=3, min_samples_leaf=1, min_samples_split=10, score=0.966848, total=   0.5s\n",
      "[CV] bootstrap=False, criterion=gini, max_depth=None, max_features=3, min_samples_leaf=3, min_samples_split=2 \n",
      "[CV]  bootstrap=False, criterion=gini, max_depth=None, max_features=3, min_samples_leaf=3, min_samples_split=2, score=0.959239, total=   0.5s\n",
      "[CV] bootstrap=False, criterion=gini, max_depth=None, max_features=3, min_samples_leaf=3, min_samples_split=2 \n",
      "[CV]  bootstrap=False, criterion=gini, max_depth=None, max_features=3, min_samples_leaf=3, min_samples_split=2, score=0.967935, total=   0.5s\n",
      "[CV] bootstrap=False, criterion=gini, max_depth=None, max_features=3, min_samples_leaf=3, min_samples_split=2 \n",
      "[CV]  bootstrap=False, criterion=gini, max_depth=None, max_features=3, min_samples_leaf=3, min_samples_split=2, score=0.970109, total=   0.5s\n",
      "[CV] bootstrap=False, criterion=gini, max_depth=None, max_features=3, min_samples_leaf=3, min_samples_split=2 \n",
      "[CV]  bootstrap=False, criterion=gini, max_depth=None, max_features=3, min_samples_leaf=3, min_samples_split=2, score=0.969565, total=   0.5s\n",
      "[CV] bootstrap=False, criterion=gini, max_depth=None, max_features=3, min_samples_leaf=3, min_samples_split=2 \n",
      "[CV]  bootstrap=False, criterion=gini, max_depth=None, max_features=3, min_samples_leaf=3, min_samples_split=2, score=0.961957, total=   0.4s\n",
      "[CV] bootstrap=False, criterion=gini, max_depth=None, max_features=3, min_samples_leaf=3, min_samples_split=3 \n",
      "[CV]  bootstrap=False, criterion=gini, max_depth=None, max_features=3, min_samples_leaf=3, min_samples_split=3, score=0.959239, total=   0.4s\n",
      "[CV] bootstrap=False, criterion=gini, max_depth=None, max_features=3, min_samples_leaf=3, min_samples_split=3 \n",
      "[CV]  bootstrap=False, criterion=gini, max_depth=None, max_features=3, min_samples_leaf=3, min_samples_split=3, score=0.967935, total=   0.4s\n",
      "[CV] bootstrap=False, criterion=gini, max_depth=None, max_features=3, min_samples_leaf=3, min_samples_split=3 \n",
      "[CV]  bootstrap=False, criterion=gini, max_depth=None, max_features=3, min_samples_leaf=3, min_samples_split=3, score=0.970109, total=   0.5s\n",
      "[CV] bootstrap=False, criterion=gini, max_depth=None, max_features=3, min_samples_leaf=3, min_samples_split=3 \n",
      "[CV]  bootstrap=False, criterion=gini, max_depth=None, max_features=3, min_samples_leaf=3, min_samples_split=3, score=0.969565, total=   0.4s\n",
      "[CV] bootstrap=False, criterion=gini, max_depth=None, max_features=3, min_samples_leaf=3, min_samples_split=3 \n",
      "[CV]  bootstrap=False, criterion=gini, max_depth=None, max_features=3, min_samples_leaf=3, min_samples_split=3, score=0.961957, total=   0.4s\n",
      "[CV] bootstrap=False, criterion=gini, max_depth=None, max_features=3, min_samples_leaf=3, min_samples_split=10 \n"
     ]
    },
    {
     "name": "stdout",
     "output_type": "stream",
     "text": [
      "[CV]  bootstrap=False, criterion=gini, max_depth=None, max_features=3, min_samples_leaf=3, min_samples_split=10, score=0.964674, total=   0.5s\n",
      "[CV] bootstrap=False, criterion=gini, max_depth=None, max_features=3, min_samples_leaf=3, min_samples_split=10 \n",
      "[CV]  bootstrap=False, criterion=gini, max_depth=None, max_features=3, min_samples_leaf=3, min_samples_split=10, score=0.967391, total=   0.5s\n",
      "[CV] bootstrap=False, criterion=gini, max_depth=None, max_features=3, min_samples_leaf=3, min_samples_split=10 \n",
      "[CV]  bootstrap=False, criterion=gini, max_depth=None, max_features=3, min_samples_leaf=3, min_samples_split=10, score=0.964130, total=   0.5s\n",
      "[CV] bootstrap=False, criterion=gini, max_depth=None, max_features=3, min_samples_leaf=3, min_samples_split=10 \n",
      "[CV]  bootstrap=False, criterion=gini, max_depth=None, max_features=3, min_samples_leaf=3, min_samples_split=10, score=0.961957, total=   0.5s\n",
      "[CV] bootstrap=False, criterion=gini, max_depth=None, max_features=3, min_samples_leaf=3, min_samples_split=10 \n",
      "[CV]  bootstrap=False, criterion=gini, max_depth=None, max_features=3, min_samples_leaf=3, min_samples_split=10, score=0.964674, total=   0.5s\n",
      "[CV] bootstrap=False, criterion=gini, max_depth=None, max_features=3, min_samples_leaf=10, min_samples_split=2 \n",
      "[CV]  bootstrap=False, criterion=gini, max_depth=None, max_features=3, min_samples_leaf=10, min_samples_split=2, score=0.958696, total=   0.4s\n",
      "[CV] bootstrap=False, criterion=gini, max_depth=None, max_features=3, min_samples_leaf=10, min_samples_split=2 \n",
      "[CV]  bootstrap=False, criterion=gini, max_depth=None, max_features=3, min_samples_leaf=10, min_samples_split=2, score=0.965761, total=   0.4s\n",
      "[CV] bootstrap=False, criterion=gini, max_depth=None, max_features=3, min_samples_leaf=10, min_samples_split=2 \n",
      "[CV]  bootstrap=False, criterion=gini, max_depth=None, max_features=3, min_samples_leaf=10, min_samples_split=2, score=0.958152, total=   0.4s\n",
      "[CV] bootstrap=False, criterion=gini, max_depth=None, max_features=3, min_samples_leaf=10, min_samples_split=2 \n",
      "[CV]  bootstrap=False, criterion=gini, max_depth=None, max_features=3, min_samples_leaf=10, min_samples_split=2, score=0.965761, total=   0.4s\n",
      "[CV] bootstrap=False, criterion=gini, max_depth=None, max_features=3, min_samples_leaf=10, min_samples_split=2 \n",
      "[CV]  bootstrap=False, criterion=gini, max_depth=None, max_features=3, min_samples_leaf=10, min_samples_split=2, score=0.965217, total=   0.4s\n",
      "[CV] bootstrap=False, criterion=gini, max_depth=None, max_features=3, min_samples_leaf=10, min_samples_split=3 \n",
      "[CV]  bootstrap=False, criterion=gini, max_depth=None, max_features=3, min_samples_leaf=10, min_samples_split=3, score=0.958696, total=   0.4s\n",
      "[CV] bootstrap=False, criterion=gini, max_depth=None, max_features=3, min_samples_leaf=10, min_samples_split=3 \n",
      "[CV]  bootstrap=False, criterion=gini, max_depth=None, max_features=3, min_samples_leaf=10, min_samples_split=3, score=0.965761, total=   0.4s\n",
      "[CV] bootstrap=False, criterion=gini, max_depth=None, max_features=3, min_samples_leaf=10, min_samples_split=3 \n",
      "[CV]  bootstrap=False, criterion=gini, max_depth=None, max_features=3, min_samples_leaf=10, min_samples_split=3, score=0.958152, total=   0.4s\n",
      "[CV] bootstrap=False, criterion=gini, max_depth=None, max_features=3, min_samples_leaf=10, min_samples_split=3 \n",
      "[CV]  bootstrap=False, criterion=gini, max_depth=None, max_features=3, min_samples_leaf=10, min_samples_split=3, score=0.965761, total=   0.4s\n",
      "[CV] bootstrap=False, criterion=gini, max_depth=None, max_features=3, min_samples_leaf=10, min_samples_split=3 \n",
      "[CV]  bootstrap=False, criterion=gini, max_depth=None, max_features=3, min_samples_leaf=10, min_samples_split=3, score=0.965217, total=   0.4s\n",
      "[CV] bootstrap=False, criterion=gini, max_depth=None, max_features=3, min_samples_leaf=10, min_samples_split=10 \n",
      "[CV]  bootstrap=False, criterion=gini, max_depth=None, max_features=3, min_samples_leaf=10, min_samples_split=10, score=0.958696, total=   0.4s\n",
      "[CV] bootstrap=False, criterion=gini, max_depth=None, max_features=3, min_samples_leaf=10, min_samples_split=10 \n",
      "[CV]  bootstrap=False, criterion=gini, max_depth=None, max_features=3, min_samples_leaf=10, min_samples_split=10, score=0.965761, total=   0.4s\n",
      "[CV] bootstrap=False, criterion=gini, max_depth=None, max_features=3, min_samples_leaf=10, min_samples_split=10 \n",
      "[CV]  bootstrap=False, criterion=gini, max_depth=None, max_features=3, min_samples_leaf=10, min_samples_split=10, score=0.958152, total=   0.4s\n",
      "[CV] bootstrap=False, criterion=gini, max_depth=None, max_features=3, min_samples_leaf=10, min_samples_split=10 \n",
      "[CV]  bootstrap=False, criterion=gini, max_depth=None, max_features=3, min_samples_leaf=10, min_samples_split=10, score=0.965761, total=   0.4s\n",
      "[CV] bootstrap=False, criterion=gini, max_depth=None, max_features=3, min_samples_leaf=10, min_samples_split=10 \n",
      "[CV]  bootstrap=False, criterion=gini, max_depth=None, max_features=3, min_samples_leaf=10, min_samples_split=10, score=0.965217, total=   0.4s\n",
      "[CV] bootstrap=False, criterion=gini, max_depth=None, max_features=10, min_samples_leaf=1, min_samples_split=2 \n",
      "[CV]  bootstrap=False, criterion=gini, max_depth=None, max_features=10, min_samples_leaf=1, min_samples_split=2, score=0.959783, total=   1.5s\n",
      "[CV] bootstrap=False, criterion=gini, max_depth=None, max_features=10, min_samples_leaf=1, min_samples_split=2 \n",
      "[CV]  bootstrap=False, criterion=gini, max_depth=None, max_features=10, min_samples_leaf=1, min_samples_split=2, score=0.969022, total=   1.5s\n",
      "[CV] bootstrap=False, criterion=gini, max_depth=None, max_features=10, min_samples_leaf=1, min_samples_split=2 \n",
      "[CV]  bootstrap=False, criterion=gini, max_depth=None, max_features=10, min_samples_leaf=1, min_samples_split=2, score=0.965761, total=   1.5s\n",
      "[CV] bootstrap=False, criterion=gini, max_depth=None, max_features=10, min_samples_leaf=1, min_samples_split=2 \n",
      "[CV]  bootstrap=False, criterion=gini, max_depth=None, max_features=10, min_samples_leaf=1, min_samples_split=2, score=0.960870, total=   1.5s\n",
      "[CV] bootstrap=False, criterion=gini, max_depth=None, max_features=10, min_samples_leaf=1, min_samples_split=2 \n",
      "[CV]  bootstrap=False, criterion=gini, max_depth=None, max_features=10, min_samples_leaf=1, min_samples_split=2, score=0.968478, total=   1.5s\n",
      "[CV] bootstrap=False, criterion=gini, max_depth=None, max_features=10, min_samples_leaf=1, min_samples_split=3 \n",
      "[CV]  bootstrap=False, criterion=gini, max_depth=None, max_features=10, min_samples_leaf=1, min_samples_split=3, score=0.965217, total=   1.5s\n",
      "[CV] bootstrap=False, criterion=gini, max_depth=None, max_features=10, min_samples_leaf=1, min_samples_split=3 \n",
      "[CV]  bootstrap=False, criterion=gini, max_depth=None, max_features=10, min_samples_leaf=1, min_samples_split=3, score=0.964130, total=   1.5s\n",
      "[CV] bootstrap=False, criterion=gini, max_depth=None, max_features=10, min_samples_leaf=1, min_samples_split=3 \n",
      "[CV]  bootstrap=False, criterion=gini, max_depth=None, max_features=10, min_samples_leaf=1, min_samples_split=3, score=0.965217, total=   1.5s\n",
      "[CV] bootstrap=False, criterion=gini, max_depth=None, max_features=10, min_samples_leaf=1, min_samples_split=3 \n",
      "[CV]  bootstrap=False, criterion=gini, max_depth=None, max_features=10, min_samples_leaf=1, min_samples_split=3, score=0.961413, total=   1.5s\n",
      "[CV] bootstrap=False, criterion=gini, max_depth=None, max_features=10, min_samples_leaf=1, min_samples_split=3 \n",
      "[CV]  bootstrap=False, criterion=gini, max_depth=None, max_features=10, min_samples_leaf=1, min_samples_split=3, score=0.966848, total=   1.4s\n",
      "[CV] bootstrap=False, criterion=gini, max_depth=None, max_features=10, min_samples_leaf=1, min_samples_split=10 \n",
      "[CV]  bootstrap=False, criterion=gini, max_depth=None, max_features=10, min_samples_leaf=1, min_samples_split=10, score=0.965217, total=   1.5s\n",
      "[CV] bootstrap=False, criterion=gini, max_depth=None, max_features=10, min_samples_leaf=1, min_samples_split=10 \n",
      "[CV]  bootstrap=False, criterion=gini, max_depth=None, max_features=10, min_samples_leaf=1, min_samples_split=10, score=0.966848, total=   1.5s\n",
      "[CV] bootstrap=False, criterion=gini, max_depth=None, max_features=10, min_samples_leaf=1, min_samples_split=10 \n",
      "[CV]  bootstrap=False, criterion=gini, max_depth=None, max_features=10, min_samples_leaf=1, min_samples_split=10, score=0.967391, total=   1.4s\n",
      "[CV] bootstrap=False, criterion=gini, max_depth=None, max_features=10, min_samples_leaf=1, min_samples_split=10 \n"
     ]
    },
    {
     "name": "stdout",
     "output_type": "stream",
     "text": [
      "[CV]  bootstrap=False, criterion=gini, max_depth=None, max_features=10, min_samples_leaf=1, min_samples_split=10, score=0.963043, total=   1.6s\n",
      "[CV] bootstrap=False, criterion=gini, max_depth=None, max_features=10, min_samples_leaf=1, min_samples_split=10 \n",
      "[CV]  bootstrap=False, criterion=gini, max_depth=None, max_features=10, min_samples_leaf=1, min_samples_split=10, score=0.969565, total=   1.5s\n",
      "[CV] bootstrap=False, criterion=gini, max_depth=None, max_features=10, min_samples_leaf=3, min_samples_split=2 \n",
      "[CV]  bootstrap=False, criterion=gini, max_depth=None, max_features=10, min_samples_leaf=3, min_samples_split=2, score=0.960870, total=   1.3s\n",
      "[CV] bootstrap=False, criterion=gini, max_depth=None, max_features=10, min_samples_leaf=3, min_samples_split=2 \n",
      "[CV]  bootstrap=False, criterion=gini, max_depth=None, max_features=10, min_samples_leaf=3, min_samples_split=2, score=0.970652, total=   1.4s\n",
      "[CV] bootstrap=False, criterion=gini, max_depth=None, max_features=10, min_samples_leaf=3, min_samples_split=2 \n",
      "[CV]  bootstrap=False, criterion=gini, max_depth=None, max_features=10, min_samples_leaf=3, min_samples_split=2, score=0.965761, total=   1.4s\n",
      "[CV] bootstrap=False, criterion=gini, max_depth=None, max_features=10, min_samples_leaf=3, min_samples_split=2 \n",
      "[CV]  bootstrap=False, criterion=gini, max_depth=None, max_features=10, min_samples_leaf=3, min_samples_split=2, score=0.967391, total=   1.4s\n",
      "[CV] bootstrap=False, criterion=gini, max_depth=None, max_features=10, min_samples_leaf=3, min_samples_split=2 \n",
      "[CV]  bootstrap=False, criterion=gini, max_depth=None, max_features=10, min_samples_leaf=3, min_samples_split=2, score=0.971196, total=   1.4s\n",
      "[CV] bootstrap=False, criterion=gini, max_depth=None, max_features=10, min_samples_leaf=3, min_samples_split=3 \n",
      "[CV]  bootstrap=False, criterion=gini, max_depth=None, max_features=10, min_samples_leaf=3, min_samples_split=3, score=0.960870, total=   1.3s\n",
      "[CV] bootstrap=False, criterion=gini, max_depth=None, max_features=10, min_samples_leaf=3, min_samples_split=3 \n",
      "[CV]  bootstrap=False, criterion=gini, max_depth=None, max_features=10, min_samples_leaf=3, min_samples_split=3, score=0.970652, total=   1.4s\n",
      "[CV] bootstrap=False, criterion=gini, max_depth=None, max_features=10, min_samples_leaf=3, min_samples_split=3 \n",
      "[CV]  bootstrap=False, criterion=gini, max_depth=None, max_features=10, min_samples_leaf=3, min_samples_split=3, score=0.965761, total=   1.4s\n",
      "[CV] bootstrap=False, criterion=gini, max_depth=None, max_features=10, min_samples_leaf=3, min_samples_split=3 \n",
      "[CV]  bootstrap=False, criterion=gini, max_depth=None, max_features=10, min_samples_leaf=3, min_samples_split=3, score=0.967391, total=   1.4s\n",
      "[CV] bootstrap=False, criterion=gini, max_depth=None, max_features=10, min_samples_leaf=3, min_samples_split=3 \n",
      "[CV]  bootstrap=False, criterion=gini, max_depth=None, max_features=10, min_samples_leaf=3, min_samples_split=3, score=0.971196, total=   1.3s\n",
      "[CV] bootstrap=False, criterion=gini, max_depth=None, max_features=10, min_samples_leaf=3, min_samples_split=10 \n",
      "[CV]  bootstrap=False, criterion=gini, max_depth=None, max_features=10, min_samples_leaf=3, min_samples_split=10, score=0.961957, total=   1.4s\n",
      "[CV] bootstrap=False, criterion=gini, max_depth=None, max_features=10, min_samples_leaf=3, min_samples_split=10 \n",
      "[CV]  bootstrap=False, criterion=gini, max_depth=None, max_features=10, min_samples_leaf=3, min_samples_split=10, score=0.968478, total=   1.5s\n",
      "[CV] bootstrap=False, criterion=gini, max_depth=None, max_features=10, min_samples_leaf=3, min_samples_split=10 \n",
      "[CV]  bootstrap=False, criterion=gini, max_depth=None, max_features=10, min_samples_leaf=3, min_samples_split=10, score=0.970109, total=   1.4s\n",
      "[CV] bootstrap=False, criterion=gini, max_depth=None, max_features=10, min_samples_leaf=3, min_samples_split=10 \n",
      "[CV]  bootstrap=False, criterion=gini, max_depth=None, max_features=10, min_samples_leaf=3, min_samples_split=10, score=0.967391, total=   1.4s\n",
      "[CV] bootstrap=False, criterion=gini, max_depth=None, max_features=10, min_samples_leaf=3, min_samples_split=10 \n",
      "[CV]  bootstrap=False, criterion=gini, max_depth=None, max_features=10, min_samples_leaf=3, min_samples_split=10, score=0.967935, total=   1.5s\n",
      "[CV] bootstrap=False, criterion=gini, max_depth=None, max_features=10, min_samples_leaf=10, min_samples_split=2 \n",
      "[CV]  bootstrap=False, criterion=gini, max_depth=None, max_features=10, min_samples_leaf=10, min_samples_split=2, score=0.961957, total=   1.2s\n",
      "[CV] bootstrap=False, criterion=gini, max_depth=None, max_features=10, min_samples_leaf=10, min_samples_split=2 \n",
      "[CV]  bootstrap=False, criterion=gini, max_depth=None, max_features=10, min_samples_leaf=10, min_samples_split=2, score=0.967935, total=   1.2s\n",
      "[CV] bootstrap=False, criterion=gini, max_depth=None, max_features=10, min_samples_leaf=10, min_samples_split=2 \n",
      "[CV]  bootstrap=False, criterion=gini, max_depth=None, max_features=10, min_samples_leaf=10, min_samples_split=2, score=0.962500, total=   1.2s\n",
      "[CV] bootstrap=False, criterion=gini, max_depth=None, max_features=10, min_samples_leaf=10, min_samples_split=2 \n",
      "[CV]  bootstrap=False, criterion=gini, max_depth=None, max_features=10, min_samples_leaf=10, min_samples_split=2, score=0.966304, total=   1.2s\n",
      "[CV] bootstrap=False, criterion=gini, max_depth=None, max_features=10, min_samples_leaf=10, min_samples_split=2 \n",
      "[CV]  bootstrap=False, criterion=gini, max_depth=None, max_features=10, min_samples_leaf=10, min_samples_split=2, score=0.965217, total=   1.2s\n",
      "[CV] bootstrap=False, criterion=gini, max_depth=None, max_features=10, min_samples_leaf=10, min_samples_split=3 \n",
      "[CV]  bootstrap=False, criterion=gini, max_depth=None, max_features=10, min_samples_leaf=10, min_samples_split=3, score=0.961957, total=   1.2s\n",
      "[CV] bootstrap=False, criterion=gini, max_depth=None, max_features=10, min_samples_leaf=10, min_samples_split=3 \n",
      "[CV]  bootstrap=False, criterion=gini, max_depth=None, max_features=10, min_samples_leaf=10, min_samples_split=3, score=0.967935, total=   1.2s\n",
      "[CV] bootstrap=False, criterion=gini, max_depth=None, max_features=10, min_samples_leaf=10, min_samples_split=3 \n",
      "[CV]  bootstrap=False, criterion=gini, max_depth=None, max_features=10, min_samples_leaf=10, min_samples_split=3, score=0.962500, total=   1.2s\n",
      "[CV] bootstrap=False, criterion=gini, max_depth=None, max_features=10, min_samples_leaf=10, min_samples_split=3 \n",
      "[CV]  bootstrap=False, criterion=gini, max_depth=None, max_features=10, min_samples_leaf=10, min_samples_split=3, score=0.966304, total=   1.2s\n",
      "[CV] bootstrap=False, criterion=gini, max_depth=None, max_features=10, min_samples_leaf=10, min_samples_split=3 \n",
      "[CV]  bootstrap=False, criterion=gini, max_depth=None, max_features=10, min_samples_leaf=10, min_samples_split=3, score=0.965217, total=   1.2s\n",
      "[CV] bootstrap=False, criterion=gini, max_depth=None, max_features=10, min_samples_leaf=10, min_samples_split=10 \n",
      "[CV]  bootstrap=False, criterion=gini, max_depth=None, max_features=10, min_samples_leaf=10, min_samples_split=10, score=0.961957, total=   1.2s\n",
      "[CV] bootstrap=False, criterion=gini, max_depth=None, max_features=10, min_samples_leaf=10, min_samples_split=10 \n",
      "[CV]  bootstrap=False, criterion=gini, max_depth=None, max_features=10, min_samples_leaf=10, min_samples_split=10, score=0.967935, total=   1.2s\n",
      "[CV] bootstrap=False, criterion=gini, max_depth=None, max_features=10, min_samples_leaf=10, min_samples_split=10 \n",
      "[CV]  bootstrap=False, criterion=gini, max_depth=None, max_features=10, min_samples_leaf=10, min_samples_split=10, score=0.962500, total=   1.2s\n",
      "[CV] bootstrap=False, criterion=gini, max_depth=None, max_features=10, min_samples_leaf=10, min_samples_split=10 \n",
      "[CV]  bootstrap=False, criterion=gini, max_depth=None, max_features=10, min_samples_leaf=10, min_samples_split=10, score=0.966304, total=   1.2s\n",
      "[CV] bootstrap=False, criterion=gini, max_depth=None, max_features=10, min_samples_leaf=10, min_samples_split=10 \n",
      "[CV]  bootstrap=False, criterion=gini, max_depth=None, max_features=10, min_samples_leaf=10, min_samples_split=10, score=0.965217, total=   1.2s\n",
      "[CV] bootstrap=False, criterion=entropy, max_depth=3, max_features=1, min_samples_leaf=1, min_samples_split=2 \n",
      "[CV]  bootstrap=False, criterion=entropy, max_depth=3, max_features=1, min_samples_leaf=1, min_samples_split=2, score=0.916848, total=   0.1s\n",
      "[CV] bootstrap=False, criterion=entropy, max_depth=3, max_features=1, min_samples_leaf=1, min_samples_split=2 \n",
      "[CV]  bootstrap=False, criterion=entropy, max_depth=3, max_features=1, min_samples_leaf=1, min_samples_split=2, score=0.916848, total=   0.1s\n",
      "[CV] bootstrap=False, criterion=entropy, max_depth=3, max_features=1, min_samples_leaf=1, min_samples_split=2 \n"
     ]
    },
    {
     "name": "stdout",
     "output_type": "stream",
     "text": [
      "[CV]  bootstrap=False, criterion=entropy, max_depth=3, max_features=1, min_samples_leaf=1, min_samples_split=2, score=0.913587, total=   0.1s\n",
      "[CV] bootstrap=False, criterion=entropy, max_depth=3, max_features=1, min_samples_leaf=1, min_samples_split=2 \n",
      "[CV]  bootstrap=False, criterion=entropy, max_depth=3, max_features=1, min_samples_leaf=1, min_samples_split=2, score=0.911413, total=   0.1s\n",
      "[CV] bootstrap=False, criterion=entropy, max_depth=3, max_features=1, min_samples_leaf=1, min_samples_split=2 \n",
      "[CV]  bootstrap=False, criterion=entropy, max_depth=3, max_features=1, min_samples_leaf=1, min_samples_split=2, score=0.913043, total=   0.0s\n",
      "[CV] bootstrap=False, criterion=entropy, max_depth=3, max_features=1, min_samples_leaf=1, min_samples_split=3 \n",
      "[CV]  bootstrap=False, criterion=entropy, max_depth=3, max_features=1, min_samples_leaf=1, min_samples_split=3, score=0.916848, total=   0.1s\n",
      "[CV] bootstrap=False, criterion=entropy, max_depth=3, max_features=1, min_samples_leaf=1, min_samples_split=3 \n",
      "[CV]  bootstrap=False, criterion=entropy, max_depth=3, max_features=1, min_samples_leaf=1, min_samples_split=3, score=0.916848, total=   0.1s\n",
      "[CV] bootstrap=False, criterion=entropy, max_depth=3, max_features=1, min_samples_leaf=1, min_samples_split=3 \n",
      "[CV]  bootstrap=False, criterion=entropy, max_depth=3, max_features=1, min_samples_leaf=1, min_samples_split=3, score=0.913587, total=   0.0s\n",
      "[CV] bootstrap=False, criterion=entropy, max_depth=3, max_features=1, min_samples_leaf=1, min_samples_split=3 \n",
      "[CV]  bootstrap=False, criterion=entropy, max_depth=3, max_features=1, min_samples_leaf=1, min_samples_split=3, score=0.911413, total=   0.0s\n",
      "[CV] bootstrap=False, criterion=entropy, max_depth=3, max_features=1, min_samples_leaf=1, min_samples_split=3 \n",
      "[CV]  bootstrap=False, criterion=entropy, max_depth=3, max_features=1, min_samples_leaf=1, min_samples_split=3, score=0.913043, total=   0.0s\n",
      "[CV] bootstrap=False, criterion=entropy, max_depth=3, max_features=1, min_samples_leaf=1, min_samples_split=10 \n",
      "[CV]  bootstrap=False, criterion=entropy, max_depth=3, max_features=1, min_samples_leaf=1, min_samples_split=10, score=0.916848, total=   0.0s\n",
      "[CV] bootstrap=False, criterion=entropy, max_depth=3, max_features=1, min_samples_leaf=1, min_samples_split=10 \n",
      "[CV]  bootstrap=False, criterion=entropy, max_depth=3, max_features=1, min_samples_leaf=1, min_samples_split=10, score=0.916848, total=   0.1s\n",
      "[CV] bootstrap=False, criterion=entropy, max_depth=3, max_features=1, min_samples_leaf=1, min_samples_split=10 \n",
      "[CV]  bootstrap=False, criterion=entropy, max_depth=3, max_features=1, min_samples_leaf=1, min_samples_split=10, score=0.913587, total=   0.0s\n",
      "[CV] bootstrap=False, criterion=entropy, max_depth=3, max_features=1, min_samples_leaf=1, min_samples_split=10 \n",
      "[CV]  bootstrap=False, criterion=entropy, max_depth=3, max_features=1, min_samples_leaf=1, min_samples_split=10, score=0.911413, total=   0.0s\n",
      "[CV] bootstrap=False, criterion=entropy, max_depth=3, max_features=1, min_samples_leaf=1, min_samples_split=10 \n",
      "[CV]  bootstrap=False, criterion=entropy, max_depth=3, max_features=1, min_samples_leaf=1, min_samples_split=10, score=0.913043, total=   0.1s\n",
      "[CV] bootstrap=False, criterion=entropy, max_depth=3, max_features=1, min_samples_leaf=3, min_samples_split=2 \n",
      "[CV]  bootstrap=False, criterion=entropy, max_depth=3, max_features=1, min_samples_leaf=3, min_samples_split=2, score=0.916848, total=   0.0s\n",
      "[CV] bootstrap=False, criterion=entropy, max_depth=3, max_features=1, min_samples_leaf=3, min_samples_split=2 \n",
      "[CV]  bootstrap=False, criterion=entropy, max_depth=3, max_features=1, min_samples_leaf=3, min_samples_split=2, score=0.916848, total=   0.0s\n",
      "[CV] bootstrap=False, criterion=entropy, max_depth=3, max_features=1, min_samples_leaf=3, min_samples_split=2 \n",
      "[CV]  bootstrap=False, criterion=entropy, max_depth=3, max_features=1, min_samples_leaf=3, min_samples_split=2, score=0.913587, total=   0.0s\n",
      "[CV] bootstrap=False, criterion=entropy, max_depth=3, max_features=1, min_samples_leaf=3, min_samples_split=2 \n",
      "[CV]  bootstrap=False, criterion=entropy, max_depth=3, max_features=1, min_samples_leaf=3, min_samples_split=2, score=0.911413, total=   0.0s\n",
      "[CV] bootstrap=False, criterion=entropy, max_depth=3, max_features=1, min_samples_leaf=3, min_samples_split=2 \n",
      "[CV]  bootstrap=False, criterion=entropy, max_depth=3, max_features=1, min_samples_leaf=3, min_samples_split=2, score=0.913043, total=   0.1s\n",
      "[CV] bootstrap=False, criterion=entropy, max_depth=3, max_features=1, min_samples_leaf=3, min_samples_split=3 \n",
      "[CV]  bootstrap=False, criterion=entropy, max_depth=3, max_features=1, min_samples_leaf=3, min_samples_split=3, score=0.916848, total=   0.0s\n",
      "[CV] bootstrap=False, criterion=entropy, max_depth=3, max_features=1, min_samples_leaf=3, min_samples_split=3 \n",
      "[CV]  bootstrap=False, criterion=entropy, max_depth=3, max_features=1, min_samples_leaf=3, min_samples_split=3, score=0.916848, total=   0.0s\n",
      "[CV] bootstrap=False, criterion=entropy, max_depth=3, max_features=1, min_samples_leaf=3, min_samples_split=3 \n",
      "[CV]  bootstrap=False, criterion=entropy, max_depth=3, max_features=1, min_samples_leaf=3, min_samples_split=3, score=0.913587, total=   0.0s\n",
      "[CV] bootstrap=False, criterion=entropy, max_depth=3, max_features=1, min_samples_leaf=3, min_samples_split=3 \n",
      "[CV]  bootstrap=False, criterion=entropy, max_depth=3, max_features=1, min_samples_leaf=3, min_samples_split=3, score=0.911413, total=   0.1s\n",
      "[CV] bootstrap=False, criterion=entropy, max_depth=3, max_features=1, min_samples_leaf=3, min_samples_split=3 \n",
      "[CV]  bootstrap=False, criterion=entropy, max_depth=3, max_features=1, min_samples_leaf=3, min_samples_split=3, score=0.913043, total=   0.0s\n",
      "[CV] bootstrap=False, criterion=entropy, max_depth=3, max_features=1, min_samples_leaf=3, min_samples_split=10 \n",
      "[CV]  bootstrap=False, criterion=entropy, max_depth=3, max_features=1, min_samples_leaf=3, min_samples_split=10, score=0.916848, total=   0.0s\n",
      "[CV] bootstrap=False, criterion=entropy, max_depth=3, max_features=1, min_samples_leaf=3, min_samples_split=10 \n",
      "[CV]  bootstrap=False, criterion=entropy, max_depth=3, max_features=1, min_samples_leaf=3, min_samples_split=10, score=0.916848, total=   0.0s\n",
      "[CV] bootstrap=False, criterion=entropy, max_depth=3, max_features=1, min_samples_leaf=3, min_samples_split=10 \n",
      "[CV]  bootstrap=False, criterion=entropy, max_depth=3, max_features=1, min_samples_leaf=3, min_samples_split=10, score=0.913587, total=   0.1s\n",
      "[CV] bootstrap=False, criterion=entropy, max_depth=3, max_features=1, min_samples_leaf=3, min_samples_split=10 \n",
      "[CV]  bootstrap=False, criterion=entropy, max_depth=3, max_features=1, min_samples_leaf=3, min_samples_split=10, score=0.911413, total=   0.0s\n",
      "[CV] bootstrap=False, criterion=entropy, max_depth=3, max_features=1, min_samples_leaf=3, min_samples_split=10 \n",
      "[CV]  bootstrap=False, criterion=entropy, max_depth=3, max_features=1, min_samples_leaf=3, min_samples_split=10, score=0.913043, total=   0.0s\n",
      "[CV] bootstrap=False, criterion=entropy, max_depth=3, max_features=1, min_samples_leaf=10, min_samples_split=2 \n",
      "[CV]  bootstrap=False, criterion=entropy, max_depth=3, max_features=1, min_samples_leaf=10, min_samples_split=2, score=0.916848, total=   0.0s\n",
      "[CV] bootstrap=False, criterion=entropy, max_depth=3, max_features=1, min_samples_leaf=10, min_samples_split=2 \n",
      "[CV]  bootstrap=False, criterion=entropy, max_depth=3, max_features=1, min_samples_leaf=10, min_samples_split=2, score=0.916848, total=   0.1s\n",
      "[CV] bootstrap=False, criterion=entropy, max_depth=3, max_features=1, min_samples_leaf=10, min_samples_split=2 \n",
      "[CV]  bootstrap=False, criterion=entropy, max_depth=3, max_features=1, min_samples_leaf=10, min_samples_split=2, score=0.913587, total=   0.0s\n",
      "[CV] bootstrap=False, criterion=entropy, max_depth=3, max_features=1, min_samples_leaf=10, min_samples_split=2 \n",
      "[CV]  bootstrap=False, criterion=entropy, max_depth=3, max_features=1, min_samples_leaf=10, min_samples_split=2, score=0.911413, total=   0.0s\n",
      "[CV] bootstrap=False, criterion=entropy, max_depth=3, max_features=1, min_samples_leaf=10, min_samples_split=2 \n",
      "[CV]  bootstrap=False, criterion=entropy, max_depth=3, max_features=1, min_samples_leaf=10, min_samples_split=2, score=0.913043, total=   0.0s\n",
      "[CV] bootstrap=False, criterion=entropy, max_depth=3, max_features=1, min_samples_leaf=10, min_samples_split=3 \n",
      "[CV]  bootstrap=False, criterion=entropy, max_depth=3, max_features=1, min_samples_leaf=10, min_samples_split=3, score=0.916848, total=   0.1s\n",
      "[CV] bootstrap=False, criterion=entropy, max_depth=3, max_features=1, min_samples_leaf=10, min_samples_split=3 \n",
      "[CV]  bootstrap=False, criterion=entropy, max_depth=3, max_features=1, min_samples_leaf=10, min_samples_split=3, score=0.916848, total=   0.0s\n",
      "[CV] bootstrap=False, criterion=entropy, max_depth=3, max_features=1, min_samples_leaf=10, min_samples_split=3 \n",
      "[CV]  bootstrap=False, criterion=entropy, max_depth=3, max_features=1, min_samples_leaf=10, min_samples_split=3, score=0.913587, total=   0.0s\n",
      "[CV] bootstrap=False, criterion=entropy, max_depth=3, max_features=1, min_samples_leaf=10, min_samples_split=3 \n"
     ]
    },
    {
     "name": "stdout",
     "output_type": "stream",
     "text": [
      "[CV]  bootstrap=False, criterion=entropy, max_depth=3, max_features=1, min_samples_leaf=10, min_samples_split=3, score=0.911413, total=   0.0s\n",
      "[CV] bootstrap=False, criterion=entropy, max_depth=3, max_features=1, min_samples_leaf=10, min_samples_split=3 \n",
      "[CV]  bootstrap=False, criterion=entropy, max_depth=3, max_features=1, min_samples_leaf=10, min_samples_split=3, score=0.913043, total=   0.1s\n",
      "[CV] bootstrap=False, criterion=entropy, max_depth=3, max_features=1, min_samples_leaf=10, min_samples_split=10 \n",
      "[CV]  bootstrap=False, criterion=entropy, max_depth=3, max_features=1, min_samples_leaf=10, min_samples_split=10, score=0.916848, total=   0.0s\n",
      "[CV] bootstrap=False, criterion=entropy, max_depth=3, max_features=1, min_samples_leaf=10, min_samples_split=10 \n",
      "[CV]  bootstrap=False, criterion=entropy, max_depth=3, max_features=1, min_samples_leaf=10, min_samples_split=10, score=0.916848, total=   0.0s\n",
      "[CV] bootstrap=False, criterion=entropy, max_depth=3, max_features=1, min_samples_leaf=10, min_samples_split=10 \n",
      "[CV]  bootstrap=False, criterion=entropy, max_depth=3, max_features=1, min_samples_leaf=10, min_samples_split=10, score=0.913587, total=   0.0s\n",
      "[CV] bootstrap=False, criterion=entropy, max_depth=3, max_features=1, min_samples_leaf=10, min_samples_split=10 \n",
      "[CV]  bootstrap=False, criterion=entropy, max_depth=3, max_features=1, min_samples_leaf=10, min_samples_split=10, score=0.911413, total=   0.0s\n",
      "[CV] bootstrap=False, criterion=entropy, max_depth=3, max_features=1, min_samples_leaf=10, min_samples_split=10 \n",
      "[CV]  bootstrap=False, criterion=entropy, max_depth=3, max_features=1, min_samples_leaf=10, min_samples_split=10, score=0.913043, total=   0.0s\n",
      "[CV] bootstrap=False, criterion=entropy, max_depth=3, max_features=3, min_samples_leaf=1, min_samples_split=2 \n",
      "[CV]  bootstrap=False, criterion=entropy, max_depth=3, max_features=3, min_samples_leaf=1, min_samples_split=2, score=0.910870, total=   0.1s\n",
      "[CV] bootstrap=False, criterion=entropy, max_depth=3, max_features=3, min_samples_leaf=1, min_samples_split=2 \n",
      "[CV]  bootstrap=False, criterion=entropy, max_depth=3, max_features=3, min_samples_leaf=1, min_samples_split=2, score=0.913587, total=   0.1s\n",
      "[CV] bootstrap=False, criterion=entropy, max_depth=3, max_features=3, min_samples_leaf=1, min_samples_split=2 \n",
      "[CV]  bootstrap=False, criterion=entropy, max_depth=3, max_features=3, min_samples_leaf=1, min_samples_split=2, score=0.919565, total=   0.1s\n",
      "[CV] bootstrap=False, criterion=entropy, max_depth=3, max_features=3, min_samples_leaf=1, min_samples_split=2 \n",
      "[CV]  bootstrap=False, criterion=entropy, max_depth=3, max_features=3, min_samples_leaf=1, min_samples_split=2, score=0.922283, total=   0.1s\n",
      "[CV] bootstrap=False, criterion=entropy, max_depth=3, max_features=3, min_samples_leaf=1, min_samples_split=2 \n",
      "[CV]  bootstrap=False, criterion=entropy, max_depth=3, max_features=3, min_samples_leaf=1, min_samples_split=2, score=0.916304, total=   0.1s\n",
      "[CV] bootstrap=False, criterion=entropy, max_depth=3, max_features=3, min_samples_leaf=1, min_samples_split=3 \n",
      "[CV]  bootstrap=False, criterion=entropy, max_depth=3, max_features=3, min_samples_leaf=1, min_samples_split=3, score=0.910870, total=   0.1s\n",
      "[CV] bootstrap=False, criterion=entropy, max_depth=3, max_features=3, min_samples_leaf=1, min_samples_split=3 \n",
      "[CV]  bootstrap=False, criterion=entropy, max_depth=3, max_features=3, min_samples_leaf=1, min_samples_split=3, score=0.913587, total=   0.1s\n",
      "[CV] bootstrap=False, criterion=entropy, max_depth=3, max_features=3, min_samples_leaf=1, min_samples_split=3 \n",
      "[CV]  bootstrap=False, criterion=entropy, max_depth=3, max_features=3, min_samples_leaf=1, min_samples_split=3, score=0.919565, total=   0.1s\n",
      "[CV] bootstrap=False, criterion=entropy, max_depth=3, max_features=3, min_samples_leaf=1, min_samples_split=3 \n",
      "[CV]  bootstrap=False, criterion=entropy, max_depth=3, max_features=3, min_samples_leaf=1, min_samples_split=3, score=0.922283, total=   0.1s\n",
      "[CV] bootstrap=False, criterion=entropy, max_depth=3, max_features=3, min_samples_leaf=1, min_samples_split=3 \n",
      "[CV]  bootstrap=False, criterion=entropy, max_depth=3, max_features=3, min_samples_leaf=1, min_samples_split=3, score=0.916304, total=   0.1s\n",
      "[CV] bootstrap=False, criterion=entropy, max_depth=3, max_features=3, min_samples_leaf=1, min_samples_split=10 \n",
      "[CV]  bootstrap=False, criterion=entropy, max_depth=3, max_features=3, min_samples_leaf=1, min_samples_split=10, score=0.910870, total=   0.1s\n",
      "[CV] bootstrap=False, criterion=entropy, max_depth=3, max_features=3, min_samples_leaf=1, min_samples_split=10 \n",
      "[CV]  bootstrap=False, criterion=entropy, max_depth=3, max_features=3, min_samples_leaf=1, min_samples_split=10, score=0.913587, total=   0.1s\n",
      "[CV] bootstrap=False, criterion=entropy, max_depth=3, max_features=3, min_samples_leaf=1, min_samples_split=10 \n",
      "[CV]  bootstrap=False, criterion=entropy, max_depth=3, max_features=3, min_samples_leaf=1, min_samples_split=10, score=0.919565, total=   0.1s\n",
      "[CV] bootstrap=False, criterion=entropy, max_depth=3, max_features=3, min_samples_leaf=1, min_samples_split=10 \n",
      "[CV]  bootstrap=False, criterion=entropy, max_depth=3, max_features=3, min_samples_leaf=1, min_samples_split=10, score=0.922283, total=   0.1s\n",
      "[CV] bootstrap=False, criterion=entropy, max_depth=3, max_features=3, min_samples_leaf=1, min_samples_split=10 \n",
      "[CV]  bootstrap=False, criterion=entropy, max_depth=3, max_features=3, min_samples_leaf=1, min_samples_split=10, score=0.916304, total=   0.1s\n",
      "[CV] bootstrap=False, criterion=entropy, max_depth=3, max_features=3, min_samples_leaf=3, min_samples_split=2 \n",
      "[CV]  bootstrap=False, criterion=entropy, max_depth=3, max_features=3, min_samples_leaf=3, min_samples_split=2, score=0.910870, total=   0.1s\n",
      "[CV] bootstrap=False, criterion=entropy, max_depth=3, max_features=3, min_samples_leaf=3, min_samples_split=2 \n",
      "[CV]  bootstrap=False, criterion=entropy, max_depth=3, max_features=3, min_samples_leaf=3, min_samples_split=2, score=0.913587, total=   0.1s\n",
      "[CV] bootstrap=False, criterion=entropy, max_depth=3, max_features=3, min_samples_leaf=3, min_samples_split=2 \n",
      "[CV]  bootstrap=False, criterion=entropy, max_depth=3, max_features=3, min_samples_leaf=3, min_samples_split=2, score=0.919565, total=   0.1s\n",
      "[CV] bootstrap=False, criterion=entropy, max_depth=3, max_features=3, min_samples_leaf=3, min_samples_split=2 \n",
      "[CV]  bootstrap=False, criterion=entropy, max_depth=3, max_features=3, min_samples_leaf=3, min_samples_split=2, score=0.922283, total=   0.1s\n",
      "[CV] bootstrap=False, criterion=entropy, max_depth=3, max_features=3, min_samples_leaf=3, min_samples_split=2 \n",
      "[CV]  bootstrap=False, criterion=entropy, max_depth=3, max_features=3, min_samples_leaf=3, min_samples_split=2, score=0.916304, total=   0.1s\n",
      "[CV] bootstrap=False, criterion=entropy, max_depth=3, max_features=3, min_samples_leaf=3, min_samples_split=3 \n",
      "[CV]  bootstrap=False, criterion=entropy, max_depth=3, max_features=3, min_samples_leaf=3, min_samples_split=3, score=0.910870, total=   0.1s\n",
      "[CV] bootstrap=False, criterion=entropy, max_depth=3, max_features=3, min_samples_leaf=3, min_samples_split=3 \n",
      "[CV]  bootstrap=False, criterion=entropy, max_depth=3, max_features=3, min_samples_leaf=3, min_samples_split=3, score=0.913587, total=   0.1s\n",
      "[CV] bootstrap=False, criterion=entropy, max_depth=3, max_features=3, min_samples_leaf=3, min_samples_split=3 \n",
      "[CV]  bootstrap=False, criterion=entropy, max_depth=3, max_features=3, min_samples_leaf=3, min_samples_split=3, score=0.919565, total=   0.1s\n",
      "[CV] bootstrap=False, criterion=entropy, max_depth=3, max_features=3, min_samples_leaf=3, min_samples_split=3 \n",
      "[CV]  bootstrap=False, criterion=entropy, max_depth=3, max_features=3, min_samples_leaf=3, min_samples_split=3, score=0.922283, total=   0.1s\n",
      "[CV] bootstrap=False, criterion=entropy, max_depth=3, max_features=3, min_samples_leaf=3, min_samples_split=3 \n",
      "[CV]  bootstrap=False, criterion=entropy, max_depth=3, max_features=3, min_samples_leaf=3, min_samples_split=3, score=0.916304, total=   0.1s\n",
      "[CV] bootstrap=False, criterion=entropy, max_depth=3, max_features=3, min_samples_leaf=3, min_samples_split=10 \n",
      "[CV]  bootstrap=False, criterion=entropy, max_depth=3, max_features=3, min_samples_leaf=3, min_samples_split=10, score=0.910870, total=   0.1s\n",
      "[CV] bootstrap=False, criterion=entropy, max_depth=3, max_features=3, min_samples_leaf=3, min_samples_split=10 \n"
     ]
    },
    {
     "name": "stdout",
     "output_type": "stream",
     "text": [
      "[CV]  bootstrap=False, criterion=entropy, max_depth=3, max_features=3, min_samples_leaf=3, min_samples_split=10, score=0.913587, total=   0.1s\n",
      "[CV] bootstrap=False, criterion=entropy, max_depth=3, max_features=3, min_samples_leaf=3, min_samples_split=10 \n",
      "[CV]  bootstrap=False, criterion=entropy, max_depth=3, max_features=3, min_samples_leaf=3, min_samples_split=10, score=0.919565, total=   0.1s\n",
      "[CV] bootstrap=False, criterion=entropy, max_depth=3, max_features=3, min_samples_leaf=3, min_samples_split=10 \n",
      "[CV]  bootstrap=False, criterion=entropy, max_depth=3, max_features=3, min_samples_leaf=3, min_samples_split=10, score=0.922283, total=   0.1s\n",
      "[CV] bootstrap=False, criterion=entropy, max_depth=3, max_features=3, min_samples_leaf=3, min_samples_split=10 \n",
      "[CV]  bootstrap=False, criterion=entropy, max_depth=3, max_features=3, min_samples_leaf=3, min_samples_split=10, score=0.916304, total=   0.1s\n",
      "[CV] bootstrap=False, criterion=entropy, max_depth=3, max_features=3, min_samples_leaf=10, min_samples_split=2 \n",
      "[CV]  bootstrap=False, criterion=entropy, max_depth=3, max_features=3, min_samples_leaf=10, min_samples_split=2, score=0.910870, total=   0.1s\n",
      "[CV] bootstrap=False, criterion=entropy, max_depth=3, max_features=3, min_samples_leaf=10, min_samples_split=2 \n",
      "[CV]  bootstrap=False, criterion=entropy, max_depth=3, max_features=3, min_samples_leaf=10, min_samples_split=2, score=0.913587, total=   0.1s\n",
      "[CV] bootstrap=False, criterion=entropy, max_depth=3, max_features=3, min_samples_leaf=10, min_samples_split=2 \n",
      "[CV]  bootstrap=False, criterion=entropy, max_depth=3, max_features=3, min_samples_leaf=10, min_samples_split=2, score=0.919565, total=   0.1s\n",
      "[CV] bootstrap=False, criterion=entropy, max_depth=3, max_features=3, min_samples_leaf=10, min_samples_split=2 \n",
      "[CV]  bootstrap=False, criterion=entropy, max_depth=3, max_features=3, min_samples_leaf=10, min_samples_split=2, score=0.922283, total=   0.1s\n",
      "[CV] bootstrap=False, criterion=entropy, max_depth=3, max_features=3, min_samples_leaf=10, min_samples_split=2 \n",
      "[CV]  bootstrap=False, criterion=entropy, max_depth=3, max_features=3, min_samples_leaf=10, min_samples_split=2, score=0.916304, total=   0.1s\n",
      "[CV] bootstrap=False, criterion=entropy, max_depth=3, max_features=3, min_samples_leaf=10, min_samples_split=3 \n",
      "[CV]  bootstrap=False, criterion=entropy, max_depth=3, max_features=3, min_samples_leaf=10, min_samples_split=3, score=0.910870, total=   0.1s\n",
      "[CV] bootstrap=False, criterion=entropy, max_depth=3, max_features=3, min_samples_leaf=10, min_samples_split=3 \n",
      "[CV]  bootstrap=False, criterion=entropy, max_depth=3, max_features=3, min_samples_leaf=10, min_samples_split=3, score=0.913587, total=   0.1s\n",
      "[CV] bootstrap=False, criterion=entropy, max_depth=3, max_features=3, min_samples_leaf=10, min_samples_split=3 \n",
      "[CV]  bootstrap=False, criterion=entropy, max_depth=3, max_features=3, min_samples_leaf=10, min_samples_split=3, score=0.919565, total=   0.1s\n",
      "[CV] bootstrap=False, criterion=entropy, max_depth=3, max_features=3, min_samples_leaf=10, min_samples_split=3 \n",
      "[CV]  bootstrap=False, criterion=entropy, max_depth=3, max_features=3, min_samples_leaf=10, min_samples_split=3, score=0.922283, total=   0.1s\n",
      "[CV] bootstrap=False, criterion=entropy, max_depth=3, max_features=3, min_samples_leaf=10, min_samples_split=3 \n",
      "[CV]  bootstrap=False, criterion=entropy, max_depth=3, max_features=3, min_samples_leaf=10, min_samples_split=3, score=0.916304, total=   0.1s\n",
      "[CV] bootstrap=False, criterion=entropy, max_depth=3, max_features=3, min_samples_leaf=10, min_samples_split=10 \n",
      "[CV]  bootstrap=False, criterion=entropy, max_depth=3, max_features=3, min_samples_leaf=10, min_samples_split=10, score=0.910870, total=   0.1s\n",
      "[CV] bootstrap=False, criterion=entropy, max_depth=3, max_features=3, min_samples_leaf=10, min_samples_split=10 \n",
      "[CV]  bootstrap=False, criterion=entropy, max_depth=3, max_features=3, min_samples_leaf=10, min_samples_split=10, score=0.913587, total=   0.1s\n",
      "[CV] bootstrap=False, criterion=entropy, max_depth=3, max_features=3, min_samples_leaf=10, min_samples_split=10 \n",
      "[CV]  bootstrap=False, criterion=entropy, max_depth=3, max_features=3, min_samples_leaf=10, min_samples_split=10, score=0.919565, total=   0.1s\n",
      "[CV] bootstrap=False, criterion=entropy, max_depth=3, max_features=3, min_samples_leaf=10, min_samples_split=10 \n",
      "[CV]  bootstrap=False, criterion=entropy, max_depth=3, max_features=3, min_samples_leaf=10, min_samples_split=10, score=0.922283, total=   0.1s\n",
      "[CV] bootstrap=False, criterion=entropy, max_depth=3, max_features=3, min_samples_leaf=10, min_samples_split=10 \n",
      "[CV]  bootstrap=False, criterion=entropy, max_depth=3, max_features=3, min_samples_leaf=10, min_samples_split=10, score=0.916304, total=   0.1s\n",
      "[CV] bootstrap=False, criterion=entropy, max_depth=3, max_features=10, min_samples_leaf=1, min_samples_split=2 \n",
      "[CV]  bootstrap=False, criterion=entropy, max_depth=3, max_features=10, min_samples_leaf=1, min_samples_split=2, score=0.914130, total=   0.3s\n",
      "[CV] bootstrap=False, criterion=entropy, max_depth=3, max_features=10, min_samples_leaf=1, min_samples_split=2 \n",
      "[CV]  bootstrap=False, criterion=entropy, max_depth=3, max_features=10, min_samples_leaf=1, min_samples_split=2, score=0.920652, total=   0.2s\n",
      "[CV] bootstrap=False, criterion=entropy, max_depth=3, max_features=10, min_samples_leaf=1, min_samples_split=2 \n",
      "[CV]  bootstrap=False, criterion=entropy, max_depth=3, max_features=10, min_samples_leaf=1, min_samples_split=2, score=0.922283, total=   0.2s\n",
      "[CV] bootstrap=False, criterion=entropy, max_depth=3, max_features=10, min_samples_leaf=1, min_samples_split=2 \n",
      "[CV]  bootstrap=False, criterion=entropy, max_depth=3, max_features=10, min_samples_leaf=1, min_samples_split=2, score=0.920109, total=   0.2s\n",
      "[CV] bootstrap=False, criterion=entropy, max_depth=3, max_features=10, min_samples_leaf=1, min_samples_split=2 \n",
      "[CV]  bootstrap=False, criterion=entropy, max_depth=3, max_features=10, min_samples_leaf=1, min_samples_split=2, score=0.917935, total=   0.2s\n",
      "[CV] bootstrap=False, criterion=entropy, max_depth=3, max_features=10, min_samples_leaf=1, min_samples_split=3 \n",
      "[CV]  bootstrap=False, criterion=entropy, max_depth=3, max_features=10, min_samples_leaf=1, min_samples_split=3, score=0.914130, total=   0.2s\n",
      "[CV] bootstrap=False, criterion=entropy, max_depth=3, max_features=10, min_samples_leaf=1, min_samples_split=3 \n",
      "[CV]  bootstrap=False, criterion=entropy, max_depth=3, max_features=10, min_samples_leaf=1, min_samples_split=3, score=0.920652, total=   0.2s\n",
      "[CV] bootstrap=False, criterion=entropy, max_depth=3, max_features=10, min_samples_leaf=1, min_samples_split=3 \n",
      "[CV]  bootstrap=False, criterion=entropy, max_depth=3, max_features=10, min_samples_leaf=1, min_samples_split=3, score=0.922283, total=   0.2s\n",
      "[CV] bootstrap=False, criterion=entropy, max_depth=3, max_features=10, min_samples_leaf=1, min_samples_split=3 \n",
      "[CV]  bootstrap=False, criterion=entropy, max_depth=3, max_features=10, min_samples_leaf=1, min_samples_split=3, score=0.920109, total=   0.2s\n",
      "[CV] bootstrap=False, criterion=entropy, max_depth=3, max_features=10, min_samples_leaf=1, min_samples_split=3 \n",
      "[CV]  bootstrap=False, criterion=entropy, max_depth=3, max_features=10, min_samples_leaf=1, min_samples_split=3, score=0.917935, total=   0.2s\n",
      "[CV] bootstrap=False, criterion=entropy, max_depth=3, max_features=10, min_samples_leaf=1, min_samples_split=10 \n",
      "[CV]  bootstrap=False, criterion=entropy, max_depth=3, max_features=10, min_samples_leaf=1, min_samples_split=10, score=0.914130, total=   0.2s\n",
      "[CV] bootstrap=False, criterion=entropy, max_depth=3, max_features=10, min_samples_leaf=1, min_samples_split=10 \n",
      "[CV]  bootstrap=False, criterion=entropy, max_depth=3, max_features=10, min_samples_leaf=1, min_samples_split=10, score=0.920652, total=   0.2s\n",
      "[CV] bootstrap=False, criterion=entropy, max_depth=3, max_features=10, min_samples_leaf=1, min_samples_split=10 \n",
      "[CV]  bootstrap=False, criterion=entropy, max_depth=3, max_features=10, min_samples_leaf=1, min_samples_split=10, score=0.922283, total=   0.2s\n",
      "[CV] bootstrap=False, criterion=entropy, max_depth=3, max_features=10, min_samples_leaf=1, min_samples_split=10 \n",
      "[CV]  bootstrap=False, criterion=entropy, max_depth=3, max_features=10, min_samples_leaf=1, min_samples_split=10, score=0.920109, total=   0.2s\n",
      "[CV] bootstrap=False, criterion=entropy, max_depth=3, max_features=10, min_samples_leaf=1, min_samples_split=10 \n",
      "[CV]  bootstrap=False, criterion=entropy, max_depth=3, max_features=10, min_samples_leaf=1, min_samples_split=10, score=0.917935, total=   0.2s\n",
      "[CV] bootstrap=False, criterion=entropy, max_depth=3, max_features=10, min_samples_leaf=3, min_samples_split=2 \n"
     ]
    },
    {
     "name": "stdout",
     "output_type": "stream",
     "text": [
      "[CV]  bootstrap=False, criterion=entropy, max_depth=3, max_features=10, min_samples_leaf=3, min_samples_split=2, score=0.914130, total=   0.2s\n",
      "[CV] bootstrap=False, criterion=entropy, max_depth=3, max_features=10, min_samples_leaf=3, min_samples_split=2 \n",
      "[CV]  bootstrap=False, criterion=entropy, max_depth=3, max_features=10, min_samples_leaf=3, min_samples_split=2, score=0.920652, total=   0.2s\n",
      "[CV] bootstrap=False, criterion=entropy, max_depth=3, max_features=10, min_samples_leaf=3, min_samples_split=2 \n",
      "[CV]  bootstrap=False, criterion=entropy, max_depth=3, max_features=10, min_samples_leaf=3, min_samples_split=2, score=0.922283, total=   0.2s\n",
      "[CV] bootstrap=False, criterion=entropy, max_depth=3, max_features=10, min_samples_leaf=3, min_samples_split=2 \n",
      "[CV]  bootstrap=False, criterion=entropy, max_depth=3, max_features=10, min_samples_leaf=3, min_samples_split=2, score=0.920109, total=   0.2s\n",
      "[CV] bootstrap=False, criterion=entropy, max_depth=3, max_features=10, min_samples_leaf=3, min_samples_split=2 \n",
      "[CV]  bootstrap=False, criterion=entropy, max_depth=3, max_features=10, min_samples_leaf=3, min_samples_split=2, score=0.917935, total=   0.2s\n",
      "[CV] bootstrap=False, criterion=entropy, max_depth=3, max_features=10, min_samples_leaf=3, min_samples_split=3 \n",
      "[CV]  bootstrap=False, criterion=entropy, max_depth=3, max_features=10, min_samples_leaf=3, min_samples_split=3, score=0.914130, total=   0.2s\n",
      "[CV] bootstrap=False, criterion=entropy, max_depth=3, max_features=10, min_samples_leaf=3, min_samples_split=3 \n",
      "[CV]  bootstrap=False, criterion=entropy, max_depth=3, max_features=10, min_samples_leaf=3, min_samples_split=3, score=0.920652, total=   0.2s\n",
      "[CV] bootstrap=False, criterion=entropy, max_depth=3, max_features=10, min_samples_leaf=3, min_samples_split=3 \n",
      "[CV]  bootstrap=False, criterion=entropy, max_depth=3, max_features=10, min_samples_leaf=3, min_samples_split=3, score=0.922283, total=   0.2s\n",
      "[CV] bootstrap=False, criterion=entropy, max_depth=3, max_features=10, min_samples_leaf=3, min_samples_split=3 \n",
      "[CV]  bootstrap=False, criterion=entropy, max_depth=3, max_features=10, min_samples_leaf=3, min_samples_split=3, score=0.920109, total=   0.2s\n",
      "[CV] bootstrap=False, criterion=entropy, max_depth=3, max_features=10, min_samples_leaf=3, min_samples_split=3 \n",
      "[CV]  bootstrap=False, criterion=entropy, max_depth=3, max_features=10, min_samples_leaf=3, min_samples_split=3, score=0.917935, total=   0.2s\n",
      "[CV] bootstrap=False, criterion=entropy, max_depth=3, max_features=10, min_samples_leaf=3, min_samples_split=10 \n",
      "[CV]  bootstrap=False, criterion=entropy, max_depth=3, max_features=10, min_samples_leaf=3, min_samples_split=10, score=0.914130, total=   0.2s\n",
      "[CV] bootstrap=False, criterion=entropy, max_depth=3, max_features=10, min_samples_leaf=3, min_samples_split=10 \n",
      "[CV]  bootstrap=False, criterion=entropy, max_depth=3, max_features=10, min_samples_leaf=3, min_samples_split=10, score=0.920652, total=   0.2s\n",
      "[CV] bootstrap=False, criterion=entropy, max_depth=3, max_features=10, min_samples_leaf=3, min_samples_split=10 \n",
      "[CV]  bootstrap=False, criterion=entropy, max_depth=3, max_features=10, min_samples_leaf=3, min_samples_split=10, score=0.922283, total=   0.2s\n",
      "[CV] bootstrap=False, criterion=entropy, max_depth=3, max_features=10, min_samples_leaf=3, min_samples_split=10 \n",
      "[CV]  bootstrap=False, criterion=entropy, max_depth=3, max_features=10, min_samples_leaf=3, min_samples_split=10, score=0.920109, total=   0.2s\n",
      "[CV] bootstrap=False, criterion=entropy, max_depth=3, max_features=10, min_samples_leaf=3, min_samples_split=10 \n",
      "[CV]  bootstrap=False, criterion=entropy, max_depth=3, max_features=10, min_samples_leaf=3, min_samples_split=10, score=0.917935, total=   0.2s\n",
      "[CV] bootstrap=False, criterion=entropy, max_depth=3, max_features=10, min_samples_leaf=10, min_samples_split=2 \n",
      "[CV]  bootstrap=False, criterion=entropy, max_depth=3, max_features=10, min_samples_leaf=10, min_samples_split=2, score=0.914130, total=   0.2s\n",
      "[CV] bootstrap=False, criterion=entropy, max_depth=3, max_features=10, min_samples_leaf=10, min_samples_split=2 \n",
      "[CV]  bootstrap=False, criterion=entropy, max_depth=3, max_features=10, min_samples_leaf=10, min_samples_split=2, score=0.920652, total=   0.2s\n",
      "[CV] bootstrap=False, criterion=entropy, max_depth=3, max_features=10, min_samples_leaf=10, min_samples_split=2 \n",
      "[CV]  bootstrap=False, criterion=entropy, max_depth=3, max_features=10, min_samples_leaf=10, min_samples_split=2, score=0.922283, total=   0.2s\n",
      "[CV] bootstrap=False, criterion=entropy, max_depth=3, max_features=10, min_samples_leaf=10, min_samples_split=2 \n",
      "[CV]  bootstrap=False, criterion=entropy, max_depth=3, max_features=10, min_samples_leaf=10, min_samples_split=2, score=0.920109, total=   0.2s\n",
      "[CV] bootstrap=False, criterion=entropy, max_depth=3, max_features=10, min_samples_leaf=10, min_samples_split=2 \n",
      "[CV]  bootstrap=False, criterion=entropy, max_depth=3, max_features=10, min_samples_leaf=10, min_samples_split=2, score=0.917935, total=   0.2s\n",
      "[CV] bootstrap=False, criterion=entropy, max_depth=3, max_features=10, min_samples_leaf=10, min_samples_split=3 \n",
      "[CV]  bootstrap=False, criterion=entropy, max_depth=3, max_features=10, min_samples_leaf=10, min_samples_split=3, score=0.914130, total=   0.2s\n",
      "[CV] bootstrap=False, criterion=entropy, max_depth=3, max_features=10, min_samples_leaf=10, min_samples_split=3 \n",
      "[CV]  bootstrap=False, criterion=entropy, max_depth=3, max_features=10, min_samples_leaf=10, min_samples_split=3, score=0.920652, total=   0.2s\n",
      "[CV] bootstrap=False, criterion=entropy, max_depth=3, max_features=10, min_samples_leaf=10, min_samples_split=3 \n",
      "[CV]  bootstrap=False, criterion=entropy, max_depth=3, max_features=10, min_samples_leaf=10, min_samples_split=3, score=0.922283, total=   0.2s\n",
      "[CV] bootstrap=False, criterion=entropy, max_depth=3, max_features=10, min_samples_leaf=10, min_samples_split=3 \n",
      "[CV]  bootstrap=False, criterion=entropy, max_depth=3, max_features=10, min_samples_leaf=10, min_samples_split=3, score=0.920109, total=   0.2s\n",
      "[CV] bootstrap=False, criterion=entropy, max_depth=3, max_features=10, min_samples_leaf=10, min_samples_split=3 \n",
      "[CV]  bootstrap=False, criterion=entropy, max_depth=3, max_features=10, min_samples_leaf=10, min_samples_split=3, score=0.917935, total=   0.2s\n",
      "[CV] bootstrap=False, criterion=entropy, max_depth=3, max_features=10, min_samples_leaf=10, min_samples_split=10 \n",
      "[CV]  bootstrap=False, criterion=entropy, max_depth=3, max_features=10, min_samples_leaf=10, min_samples_split=10, score=0.914130, total=   0.2s\n",
      "[CV] bootstrap=False, criterion=entropy, max_depth=3, max_features=10, min_samples_leaf=10, min_samples_split=10 \n",
      "[CV]  bootstrap=False, criterion=entropy, max_depth=3, max_features=10, min_samples_leaf=10, min_samples_split=10, score=0.920652, total=   0.2s\n",
      "[CV] bootstrap=False, criterion=entropy, max_depth=3, max_features=10, min_samples_leaf=10, min_samples_split=10 \n",
      "[CV]  bootstrap=False, criterion=entropy, max_depth=3, max_features=10, min_samples_leaf=10, min_samples_split=10, score=0.922283, total=   0.2s\n",
      "[CV] bootstrap=False, criterion=entropy, max_depth=3, max_features=10, min_samples_leaf=10, min_samples_split=10 \n",
      "[CV]  bootstrap=False, criterion=entropy, max_depth=3, max_features=10, min_samples_leaf=10, min_samples_split=10, score=0.920109, total=   0.2s\n",
      "[CV] bootstrap=False, criterion=entropy, max_depth=3, max_features=10, min_samples_leaf=10, min_samples_split=10 \n",
      "[CV]  bootstrap=False, criterion=entropy, max_depth=3, max_features=10, min_samples_leaf=10, min_samples_split=10, score=0.917935, total=   0.2s\n",
      "[CV] bootstrap=False, criterion=entropy, max_depth=None, max_features=1, min_samples_leaf=1, min_samples_split=2 \n",
      "[CV]  bootstrap=False, criterion=entropy, max_depth=None, max_features=1, min_samples_leaf=1, min_samples_split=2, score=0.951630, total=   0.2s\n",
      "[CV] bootstrap=False, criterion=entropy, max_depth=None, max_features=1, min_samples_leaf=1, min_samples_split=2 \n",
      "[CV]  bootstrap=False, criterion=entropy, max_depth=None, max_features=1, min_samples_leaf=1, min_samples_split=2, score=0.968478, total=   0.2s\n",
      "[CV] bootstrap=False, criterion=entropy, max_depth=None, max_features=1, min_samples_leaf=1, min_samples_split=2 \n",
      "[CV]  bootstrap=False, criterion=entropy, max_depth=None, max_features=1, min_samples_leaf=1, min_samples_split=2, score=0.957609, total=   0.1s\n",
      "[CV] bootstrap=False, criterion=entropy, max_depth=None, max_features=1, min_samples_leaf=1, min_samples_split=2 \n"
     ]
    },
    {
     "name": "stdout",
     "output_type": "stream",
     "text": [
      "[CV]  bootstrap=False, criterion=entropy, max_depth=None, max_features=1, min_samples_leaf=1, min_samples_split=2, score=0.952717, total=   0.2s\n",
      "[CV] bootstrap=False, criterion=entropy, max_depth=None, max_features=1, min_samples_leaf=1, min_samples_split=2 \n",
      "[CV]  bootstrap=False, criterion=entropy, max_depth=None, max_features=1, min_samples_leaf=1, min_samples_split=2, score=0.963587, total=   0.1s\n",
      "[CV] bootstrap=False, criterion=entropy, max_depth=None, max_features=1, min_samples_leaf=1, min_samples_split=3 \n",
      "[CV]  bootstrap=False, criterion=entropy, max_depth=None, max_features=1, min_samples_leaf=1, min_samples_split=3, score=0.956522, total=   0.2s\n",
      "[CV] bootstrap=False, criterion=entropy, max_depth=None, max_features=1, min_samples_leaf=1, min_samples_split=3 \n",
      "[CV]  bootstrap=False, criterion=entropy, max_depth=None, max_features=1, min_samples_leaf=1, min_samples_split=3, score=0.965761, total=   0.1s\n",
      "[CV] bootstrap=False, criterion=entropy, max_depth=None, max_features=1, min_samples_leaf=1, min_samples_split=3 \n",
      "[CV]  bootstrap=False, criterion=entropy, max_depth=None, max_features=1, min_samples_leaf=1, min_samples_split=3, score=0.958152, total=   0.2s\n",
      "[CV] bootstrap=False, criterion=entropy, max_depth=None, max_features=1, min_samples_leaf=1, min_samples_split=3 \n",
      "[CV]  bootstrap=False, criterion=entropy, max_depth=None, max_features=1, min_samples_leaf=1, min_samples_split=3, score=0.956522, total=   0.1s\n",
      "[CV] bootstrap=False, criterion=entropy, max_depth=None, max_features=1, min_samples_leaf=1, min_samples_split=3 \n",
      "[CV]  bootstrap=False, criterion=entropy, max_depth=None, max_features=1, min_samples_leaf=1, min_samples_split=3, score=0.961957, total=   0.1s\n",
      "[CV] bootstrap=False, criterion=entropy, max_depth=None, max_features=1, min_samples_leaf=1, min_samples_split=10 \n",
      "[CV]  bootstrap=False, criterion=entropy, max_depth=None, max_features=1, min_samples_leaf=1, min_samples_split=10, score=0.954891, total=   0.2s\n",
      "[CV] bootstrap=False, criterion=entropy, max_depth=None, max_features=1, min_samples_leaf=1, min_samples_split=10 \n",
      "[CV]  bootstrap=False, criterion=entropy, max_depth=None, max_features=1, min_samples_leaf=1, min_samples_split=10, score=0.960870, total=   0.1s\n",
      "[CV] bootstrap=False, criterion=entropy, max_depth=None, max_features=1, min_samples_leaf=1, min_samples_split=10 \n",
      "[CV]  bootstrap=False, criterion=entropy, max_depth=None, max_features=1, min_samples_leaf=1, min_samples_split=10, score=0.955978, total=   0.1s\n",
      "[CV] bootstrap=False, criterion=entropy, max_depth=None, max_features=1, min_samples_leaf=1, min_samples_split=10 \n",
      "[CV]  bootstrap=False, criterion=entropy, max_depth=None, max_features=1, min_samples_leaf=1, min_samples_split=10, score=0.954891, total=   0.2s\n",
      "[CV] bootstrap=False, criterion=entropy, max_depth=None, max_features=1, min_samples_leaf=1, min_samples_split=10 \n",
      "[CV]  bootstrap=False, criterion=entropy, max_depth=None, max_features=1, min_samples_leaf=1, min_samples_split=10, score=0.964674, total=   0.1s\n",
      "[CV] bootstrap=False, criterion=entropy, max_depth=None, max_features=1, min_samples_leaf=3, min_samples_split=2 \n",
      "[CV]  bootstrap=False, criterion=entropy, max_depth=None, max_features=1, min_samples_leaf=3, min_samples_split=2, score=0.958696, total=   0.1s\n",
      "[CV] bootstrap=False, criterion=entropy, max_depth=None, max_features=1, min_samples_leaf=3, min_samples_split=2 \n",
      "[CV]  bootstrap=False, criterion=entropy, max_depth=None, max_features=1, min_samples_leaf=3, min_samples_split=2, score=0.966304, total=   0.1s\n",
      "[CV] bootstrap=False, criterion=entropy, max_depth=None, max_features=1, min_samples_leaf=3, min_samples_split=2 \n",
      "[CV]  bootstrap=False, criterion=entropy, max_depth=None, max_features=1, min_samples_leaf=3, min_samples_split=2, score=0.958696, total=   0.1s\n",
      "[CV] bootstrap=False, criterion=entropy, max_depth=None, max_features=1, min_samples_leaf=3, min_samples_split=2 \n",
      "[CV]  bootstrap=False, criterion=entropy, max_depth=None, max_features=1, min_samples_leaf=3, min_samples_split=2, score=0.960326, total=   0.1s\n",
      "[CV] bootstrap=False, criterion=entropy, max_depth=None, max_features=1, min_samples_leaf=3, min_samples_split=2 \n",
      "[CV]  bootstrap=False, criterion=entropy, max_depth=None, max_features=1, min_samples_leaf=3, min_samples_split=2, score=0.964130, total=   0.1s\n",
      "[CV] bootstrap=False, criterion=entropy, max_depth=None, max_features=1, min_samples_leaf=3, min_samples_split=3 \n",
      "[CV]  bootstrap=False, criterion=entropy, max_depth=None, max_features=1, min_samples_leaf=3, min_samples_split=3, score=0.958696, total=   0.1s\n",
      "[CV] bootstrap=False, criterion=entropy, max_depth=None, max_features=1, min_samples_leaf=3, min_samples_split=3 \n",
      "[CV]  bootstrap=False, criterion=entropy, max_depth=None, max_features=1, min_samples_leaf=3, min_samples_split=3, score=0.966304, total=   0.1s\n",
      "[CV] bootstrap=False, criterion=entropy, max_depth=None, max_features=1, min_samples_leaf=3, min_samples_split=3 \n",
      "[CV]  bootstrap=False, criterion=entropy, max_depth=None, max_features=1, min_samples_leaf=3, min_samples_split=3, score=0.958696, total=   0.1s\n",
      "[CV] bootstrap=False, criterion=entropy, max_depth=None, max_features=1, min_samples_leaf=3, min_samples_split=3 \n",
      "[CV]  bootstrap=False, criterion=entropy, max_depth=None, max_features=1, min_samples_leaf=3, min_samples_split=3, score=0.960326, total=   0.1s\n",
      "[CV] bootstrap=False, criterion=entropy, max_depth=None, max_features=1, min_samples_leaf=3, min_samples_split=3 \n",
      "[CV]  bootstrap=False, criterion=entropy, max_depth=None, max_features=1, min_samples_leaf=3, min_samples_split=3, score=0.964130, total=   0.1s\n",
      "[CV] bootstrap=False, criterion=entropy, max_depth=None, max_features=1, min_samples_leaf=3, min_samples_split=10 \n",
      "[CV]  bootstrap=False, criterion=entropy, max_depth=None, max_features=1, min_samples_leaf=3, min_samples_split=10, score=0.956522, total=   0.1s\n",
      "[CV] bootstrap=False, criterion=entropy, max_depth=None, max_features=1, min_samples_leaf=3, min_samples_split=10 \n",
      "[CV]  bootstrap=False, criterion=entropy, max_depth=None, max_features=1, min_samples_leaf=3, min_samples_split=10, score=0.965217, total=   0.1s\n",
      "[CV] bootstrap=False, criterion=entropy, max_depth=None, max_features=1, min_samples_leaf=3, min_samples_split=10 \n",
      "[CV]  bootstrap=False, criterion=entropy, max_depth=None, max_features=1, min_samples_leaf=3, min_samples_split=10, score=0.955978, total=   0.1s\n",
      "[CV] bootstrap=False, criterion=entropy, max_depth=None, max_features=1, min_samples_leaf=3, min_samples_split=10 \n",
      "[CV]  bootstrap=False, criterion=entropy, max_depth=None, max_features=1, min_samples_leaf=3, min_samples_split=10, score=0.954891, total=   0.2s\n",
      "[CV] bootstrap=False, criterion=entropy, max_depth=None, max_features=1, min_samples_leaf=3, min_samples_split=10 \n",
      "[CV]  bootstrap=False, criterion=entropy, max_depth=None, max_features=1, min_samples_leaf=3, min_samples_split=10, score=0.960870, total=   0.2s\n",
      "[CV] bootstrap=False, criterion=entropy, max_depth=None, max_features=1, min_samples_leaf=10, min_samples_split=2 \n",
      "[CV]  bootstrap=False, criterion=entropy, max_depth=None, max_features=1, min_samples_leaf=10, min_samples_split=2, score=0.956522, total=   0.1s\n",
      "[CV] bootstrap=False, criterion=entropy, max_depth=None, max_features=1, min_samples_leaf=10, min_samples_split=2 \n",
      "[CV]  bootstrap=False, criterion=entropy, max_depth=None, max_features=1, min_samples_leaf=10, min_samples_split=2, score=0.965761, total=   0.1s\n",
      "[CV] bootstrap=False, criterion=entropy, max_depth=None, max_features=1, min_samples_leaf=10, min_samples_split=2 \n",
      "[CV]  bootstrap=False, criterion=entropy, max_depth=None, max_features=1, min_samples_leaf=10, min_samples_split=2, score=0.955435, total=   0.1s\n",
      "[CV] bootstrap=False, criterion=entropy, max_depth=None, max_features=1, min_samples_leaf=10, min_samples_split=2 \n",
      "[CV]  bootstrap=False, criterion=entropy, max_depth=None, max_features=1, min_samples_leaf=10, min_samples_split=2, score=0.958696, total=   0.2s\n",
      "[CV] bootstrap=False, criterion=entropy, max_depth=None, max_features=1, min_samples_leaf=10, min_samples_split=2 \n",
      "[CV]  bootstrap=False, criterion=entropy, max_depth=None, max_features=1, min_samples_leaf=10, min_samples_split=2, score=0.958152, total=   0.1s\n",
      "[CV] bootstrap=False, criterion=entropy, max_depth=None, max_features=1, min_samples_leaf=10, min_samples_split=3 \n"
     ]
    },
    {
     "name": "stdout",
     "output_type": "stream",
     "text": [
      "[CV]  bootstrap=False, criterion=entropy, max_depth=None, max_features=1, min_samples_leaf=10, min_samples_split=3, score=0.956522, total=   0.2s\n",
      "[CV] bootstrap=False, criterion=entropy, max_depth=None, max_features=1, min_samples_leaf=10, min_samples_split=3 \n",
      "[CV]  bootstrap=False, criterion=entropy, max_depth=None, max_features=1, min_samples_leaf=10, min_samples_split=3, score=0.965761, total=   0.1s\n",
      "[CV] bootstrap=False, criterion=entropy, max_depth=None, max_features=1, min_samples_leaf=10, min_samples_split=3 \n",
      "[CV]  bootstrap=False, criterion=entropy, max_depth=None, max_features=1, min_samples_leaf=10, min_samples_split=3, score=0.955435, total=   0.1s\n",
      "[CV] bootstrap=False, criterion=entropy, max_depth=None, max_features=1, min_samples_leaf=10, min_samples_split=3 \n",
      "[CV]  bootstrap=False, criterion=entropy, max_depth=None, max_features=1, min_samples_leaf=10, min_samples_split=3, score=0.958696, total=   0.1s\n",
      "[CV] bootstrap=False, criterion=entropy, max_depth=None, max_features=1, min_samples_leaf=10, min_samples_split=3 \n",
      "[CV]  bootstrap=False, criterion=entropy, max_depth=None, max_features=1, min_samples_leaf=10, min_samples_split=3, score=0.958152, total=   0.1s\n",
      "[CV] bootstrap=False, criterion=entropy, max_depth=None, max_features=1, min_samples_leaf=10, min_samples_split=10 \n",
      "[CV]  bootstrap=False, criterion=entropy, max_depth=None, max_features=1, min_samples_leaf=10, min_samples_split=10, score=0.956522, total=   0.1s\n",
      "[CV] bootstrap=False, criterion=entropy, max_depth=None, max_features=1, min_samples_leaf=10, min_samples_split=10 \n",
      "[CV]  bootstrap=False, criterion=entropy, max_depth=None, max_features=1, min_samples_leaf=10, min_samples_split=10, score=0.965761, total=   0.1s\n",
      "[CV] bootstrap=False, criterion=entropy, max_depth=None, max_features=1, min_samples_leaf=10, min_samples_split=10 \n",
      "[CV]  bootstrap=False, criterion=entropy, max_depth=None, max_features=1, min_samples_leaf=10, min_samples_split=10, score=0.955435, total=   0.1s\n",
      "[CV] bootstrap=False, criterion=entropy, max_depth=None, max_features=1, min_samples_leaf=10, min_samples_split=10 \n",
      "[CV]  bootstrap=False, criterion=entropy, max_depth=None, max_features=1, min_samples_leaf=10, min_samples_split=10, score=0.958696, total=   0.1s\n",
      "[CV] bootstrap=False, criterion=entropy, max_depth=None, max_features=1, min_samples_leaf=10, min_samples_split=10 \n",
      "[CV]  bootstrap=False, criterion=entropy, max_depth=None, max_features=1, min_samples_leaf=10, min_samples_split=10, score=0.958152, total=   0.1s\n",
      "[CV] bootstrap=False, criterion=entropy, max_depth=None, max_features=3, min_samples_leaf=1, min_samples_split=2 \n",
      "[CV]  bootstrap=False, criterion=entropy, max_depth=None, max_features=3, min_samples_leaf=1, min_samples_split=2, score=0.961413, total=   0.3s\n",
      "[CV] bootstrap=False, criterion=entropy, max_depth=None, max_features=3, min_samples_leaf=1, min_samples_split=2 \n",
      "[CV]  bootstrap=False, criterion=entropy, max_depth=None, max_features=3, min_samples_leaf=1, min_samples_split=2, score=0.964674, total=   0.3s\n",
      "[CV] bootstrap=False, criterion=entropy, max_depth=None, max_features=3, min_samples_leaf=1, min_samples_split=2 \n",
      "[CV]  bootstrap=False, criterion=entropy, max_depth=None, max_features=3, min_samples_leaf=1, min_samples_split=2, score=0.961413, total=   0.3s\n",
      "[CV] bootstrap=False, criterion=entropy, max_depth=None, max_features=3, min_samples_leaf=1, min_samples_split=2 \n",
      "[CV]  bootstrap=False, criterion=entropy, max_depth=None, max_features=3, min_samples_leaf=1, min_samples_split=2, score=0.959783, total=   0.3s\n",
      "[CV] bootstrap=False, criterion=entropy, max_depth=None, max_features=3, min_samples_leaf=1, min_samples_split=2 \n",
      "[CV]  bootstrap=False, criterion=entropy, max_depth=None, max_features=3, min_samples_leaf=1, min_samples_split=2, score=0.963587, total=   0.3s\n",
      "[CV] bootstrap=False, criterion=entropy, max_depth=None, max_features=3, min_samples_leaf=1, min_samples_split=3 \n",
      "[CV]  bootstrap=False, criterion=entropy, max_depth=None, max_features=3, min_samples_leaf=1, min_samples_split=3, score=0.959239, total=   0.3s\n",
      "[CV] bootstrap=False, criterion=entropy, max_depth=None, max_features=3, min_samples_leaf=1, min_samples_split=3 \n",
      "[CV]  bootstrap=False, criterion=entropy, max_depth=None, max_features=3, min_samples_leaf=1, min_samples_split=3, score=0.970652, total=   0.3s\n",
      "[CV] bootstrap=False, criterion=entropy, max_depth=None, max_features=3, min_samples_leaf=1, min_samples_split=3 \n",
      "[CV]  bootstrap=False, criterion=entropy, max_depth=None, max_features=3, min_samples_leaf=1, min_samples_split=3, score=0.958696, total=   0.3s\n",
      "[CV] bootstrap=False, criterion=entropy, max_depth=None, max_features=3, min_samples_leaf=1, min_samples_split=3 \n",
      "[CV]  bootstrap=False, criterion=entropy, max_depth=None, max_features=3, min_samples_leaf=1, min_samples_split=3, score=0.961413, total=   0.3s\n",
      "[CV] bootstrap=False, criterion=entropy, max_depth=None, max_features=3, min_samples_leaf=1, min_samples_split=3 \n",
      "[CV]  bootstrap=False, criterion=entropy, max_depth=None, max_features=3, min_samples_leaf=1, min_samples_split=3, score=0.961957, total=   0.3s\n",
      "[CV] bootstrap=False, criterion=entropy, max_depth=None, max_features=3, min_samples_leaf=1, min_samples_split=10 \n",
      "[CV]  bootstrap=False, criterion=entropy, max_depth=None, max_features=3, min_samples_leaf=1, min_samples_split=10, score=0.958696, total=   0.3s\n",
      "[CV] bootstrap=False, criterion=entropy, max_depth=None, max_features=3, min_samples_leaf=1, min_samples_split=10 \n",
      "[CV]  bootstrap=False, criterion=entropy, max_depth=None, max_features=3, min_samples_leaf=1, min_samples_split=10, score=0.967391, total=   0.3s\n",
      "[CV] bootstrap=False, criterion=entropy, max_depth=None, max_features=3, min_samples_leaf=1, min_samples_split=10 \n",
      "[CV]  bootstrap=False, criterion=entropy, max_depth=None, max_features=3, min_samples_leaf=1, min_samples_split=10, score=0.959783, total=   0.3s\n",
      "[CV] bootstrap=False, criterion=entropy, max_depth=None, max_features=3, min_samples_leaf=1, min_samples_split=10 \n",
      "[CV]  bootstrap=False, criterion=entropy, max_depth=None, max_features=3, min_samples_leaf=1, min_samples_split=10, score=0.960326, total=   0.3s\n",
      "[CV] bootstrap=False, criterion=entropy, max_depth=None, max_features=3, min_samples_leaf=1, min_samples_split=10 \n",
      "[CV]  bootstrap=False, criterion=entropy, max_depth=None, max_features=3, min_samples_leaf=1, min_samples_split=10, score=0.965217, total=   0.3s\n",
      "[CV] bootstrap=False, criterion=entropy, max_depth=None, max_features=3, min_samples_leaf=3, min_samples_split=2 \n",
      "[CV]  bootstrap=False, criterion=entropy, max_depth=None, max_features=3, min_samples_leaf=3, min_samples_split=2, score=0.957609, total=   0.3s\n",
      "[CV] bootstrap=False, criterion=entropy, max_depth=None, max_features=3, min_samples_leaf=3, min_samples_split=2 \n",
      "[CV]  bootstrap=False, criterion=entropy, max_depth=None, max_features=3, min_samples_leaf=3, min_samples_split=2, score=0.966304, total=   0.3s\n",
      "[CV] bootstrap=False, criterion=entropy, max_depth=None, max_features=3, min_samples_leaf=3, min_samples_split=2 \n",
      "[CV]  bootstrap=False, criterion=entropy, max_depth=None, max_features=3, min_samples_leaf=3, min_samples_split=2, score=0.960870, total=   0.3s\n",
      "[CV] bootstrap=False, criterion=entropy, max_depth=None, max_features=3, min_samples_leaf=3, min_samples_split=2 \n",
      "[CV]  bootstrap=False, criterion=entropy, max_depth=None, max_features=3, min_samples_leaf=3, min_samples_split=2, score=0.960326, total=   0.3s\n",
      "[CV] bootstrap=False, criterion=entropy, max_depth=None, max_features=3, min_samples_leaf=3, min_samples_split=2 \n",
      "[CV]  bootstrap=False, criterion=entropy, max_depth=None, max_features=3, min_samples_leaf=3, min_samples_split=2, score=0.966304, total=   0.3s\n",
      "[CV] bootstrap=False, criterion=entropy, max_depth=None, max_features=3, min_samples_leaf=3, min_samples_split=3 \n",
      "[CV]  bootstrap=False, criterion=entropy, max_depth=None, max_features=3, min_samples_leaf=3, min_samples_split=3, score=0.957609, total=   0.3s\n",
      "[CV] bootstrap=False, criterion=entropy, max_depth=None, max_features=3, min_samples_leaf=3, min_samples_split=3 \n",
      "[CV]  bootstrap=False, criterion=entropy, max_depth=None, max_features=3, min_samples_leaf=3, min_samples_split=3, score=0.966304, total=   0.3s\n",
      "[CV] bootstrap=False, criterion=entropy, max_depth=None, max_features=3, min_samples_leaf=3, min_samples_split=3 \n"
     ]
    },
    {
     "name": "stdout",
     "output_type": "stream",
     "text": [
      "[CV]  bootstrap=False, criterion=entropy, max_depth=None, max_features=3, min_samples_leaf=3, min_samples_split=3, score=0.960870, total=   0.3s\n",
      "[CV] bootstrap=False, criterion=entropy, max_depth=None, max_features=3, min_samples_leaf=3, min_samples_split=3 \n",
      "[CV]  bootstrap=False, criterion=entropy, max_depth=None, max_features=3, min_samples_leaf=3, min_samples_split=3, score=0.960326, total=   0.3s\n",
      "[CV] bootstrap=False, criterion=entropy, max_depth=None, max_features=3, min_samples_leaf=3, min_samples_split=3 \n",
      "[CV]  bootstrap=False, criterion=entropy, max_depth=None, max_features=3, min_samples_leaf=3, min_samples_split=3, score=0.966304, total=   0.3s\n",
      "[CV] bootstrap=False, criterion=entropy, max_depth=None, max_features=3, min_samples_leaf=3, min_samples_split=10 \n",
      "[CV]  bootstrap=False, criterion=entropy, max_depth=None, max_features=3, min_samples_leaf=3, min_samples_split=10, score=0.962500, total=   0.3s\n",
      "[CV] bootstrap=False, criterion=entropy, max_depth=None, max_features=3, min_samples_leaf=3, min_samples_split=10 \n",
      "[CV]  bootstrap=False, criterion=entropy, max_depth=None, max_features=3, min_samples_leaf=3, min_samples_split=10, score=0.962500, total=   0.3s\n",
      "[CV] bootstrap=False, criterion=entropy, max_depth=None, max_features=3, min_samples_leaf=3, min_samples_split=10 \n",
      "[CV]  bootstrap=False, criterion=entropy, max_depth=None, max_features=3, min_samples_leaf=3, min_samples_split=10, score=0.964674, total=   0.3s\n",
      "[CV] bootstrap=False, criterion=entropy, max_depth=None, max_features=3, min_samples_leaf=3, min_samples_split=10 \n",
      "[CV]  bootstrap=False, criterion=entropy, max_depth=None, max_features=3, min_samples_leaf=3, min_samples_split=10, score=0.962500, total=   0.3s\n",
      "[CV] bootstrap=False, criterion=entropy, max_depth=None, max_features=3, min_samples_leaf=3, min_samples_split=10 \n",
      "[CV]  bootstrap=False, criterion=entropy, max_depth=None, max_features=3, min_samples_leaf=3, min_samples_split=10, score=0.965761, total=   0.3s\n",
      "[CV] bootstrap=False, criterion=entropy, max_depth=None, max_features=3, min_samples_leaf=10, min_samples_split=2 \n",
      "[CV]  bootstrap=False, criterion=entropy, max_depth=None, max_features=3, min_samples_leaf=10, min_samples_split=2, score=0.958696, total=   0.3s\n",
      "[CV] bootstrap=False, criterion=entropy, max_depth=None, max_features=3, min_samples_leaf=10, min_samples_split=2 \n",
      "[CV]  bootstrap=False, criterion=entropy, max_depth=None, max_features=3, min_samples_leaf=10, min_samples_split=2, score=0.963043, total=   0.3s\n",
      "[CV] bootstrap=False, criterion=entropy, max_depth=None, max_features=3, min_samples_leaf=10, min_samples_split=2 \n",
      "[CV]  bootstrap=False, criterion=entropy, max_depth=None, max_features=3, min_samples_leaf=10, min_samples_split=2, score=0.959239, total=   0.3s\n",
      "[CV] bootstrap=False, criterion=entropy, max_depth=None, max_features=3, min_samples_leaf=10, min_samples_split=2 \n",
      "[CV]  bootstrap=False, criterion=entropy, max_depth=None, max_features=3, min_samples_leaf=10, min_samples_split=2, score=0.959239, total=   0.3s\n",
      "[CV] bootstrap=False, criterion=entropy, max_depth=None, max_features=3, min_samples_leaf=10, min_samples_split=2 \n",
      "[CV]  bootstrap=False, criterion=entropy, max_depth=None, max_features=3, min_samples_leaf=10, min_samples_split=2, score=0.968478, total=   0.3s\n",
      "[CV] bootstrap=False, criterion=entropy, max_depth=None, max_features=3, min_samples_leaf=10, min_samples_split=3 \n",
      "[CV]  bootstrap=False, criterion=entropy, max_depth=None, max_features=3, min_samples_leaf=10, min_samples_split=3, score=0.958696, total=   0.3s\n",
      "[CV] bootstrap=False, criterion=entropy, max_depth=None, max_features=3, min_samples_leaf=10, min_samples_split=3 \n",
      "[CV]  bootstrap=False, criterion=entropy, max_depth=None, max_features=3, min_samples_leaf=10, min_samples_split=3, score=0.963043, total=   0.3s\n",
      "[CV] bootstrap=False, criterion=entropy, max_depth=None, max_features=3, min_samples_leaf=10, min_samples_split=3 \n",
      "[CV]  bootstrap=False, criterion=entropy, max_depth=None, max_features=3, min_samples_leaf=10, min_samples_split=3, score=0.959239, total=   0.3s\n",
      "[CV] bootstrap=False, criterion=entropy, max_depth=None, max_features=3, min_samples_leaf=10, min_samples_split=3 \n",
      "[CV]  bootstrap=False, criterion=entropy, max_depth=None, max_features=3, min_samples_leaf=10, min_samples_split=3, score=0.959239, total=   0.3s\n",
      "[CV] bootstrap=False, criterion=entropy, max_depth=None, max_features=3, min_samples_leaf=10, min_samples_split=3 \n",
      "[CV]  bootstrap=False, criterion=entropy, max_depth=None, max_features=3, min_samples_leaf=10, min_samples_split=3, score=0.968478, total=   0.3s\n",
      "[CV] bootstrap=False, criterion=entropy, max_depth=None, max_features=3, min_samples_leaf=10, min_samples_split=10 \n",
      "[CV]  bootstrap=False, criterion=entropy, max_depth=None, max_features=3, min_samples_leaf=10, min_samples_split=10, score=0.958696, total=   0.3s\n",
      "[CV] bootstrap=False, criterion=entropy, max_depth=None, max_features=3, min_samples_leaf=10, min_samples_split=10 \n",
      "[CV]  bootstrap=False, criterion=entropy, max_depth=None, max_features=3, min_samples_leaf=10, min_samples_split=10, score=0.963043, total=   0.3s\n",
      "[CV] bootstrap=False, criterion=entropy, max_depth=None, max_features=3, min_samples_leaf=10, min_samples_split=10 \n",
      "[CV]  bootstrap=False, criterion=entropy, max_depth=None, max_features=3, min_samples_leaf=10, min_samples_split=10, score=0.959239, total=   0.3s\n",
      "[CV] bootstrap=False, criterion=entropy, max_depth=None, max_features=3, min_samples_leaf=10, min_samples_split=10 \n",
      "[CV]  bootstrap=False, criterion=entropy, max_depth=None, max_features=3, min_samples_leaf=10, min_samples_split=10, score=0.959239, total=   0.3s\n",
      "[CV] bootstrap=False, criterion=entropy, max_depth=None, max_features=3, min_samples_leaf=10, min_samples_split=10 \n",
      "[CV]  bootstrap=False, criterion=entropy, max_depth=None, max_features=3, min_samples_leaf=10, min_samples_split=10, score=0.968478, total=   0.3s\n",
      "[CV] bootstrap=False, criterion=entropy, max_depth=None, max_features=10, min_samples_leaf=1, min_samples_split=2 \n",
      "[CV]  bootstrap=False, criterion=entropy, max_depth=None, max_features=10, min_samples_leaf=1, min_samples_split=2, score=0.958152, total=   1.0s\n",
      "[CV] bootstrap=False, criterion=entropy, max_depth=None, max_features=10, min_samples_leaf=1, min_samples_split=2 \n",
      "[CV]  bootstrap=False, criterion=entropy, max_depth=None, max_features=10, min_samples_leaf=1, min_samples_split=2, score=0.968478, total=   0.9s\n",
      "[CV] bootstrap=False, criterion=entropy, max_depth=None, max_features=10, min_samples_leaf=1, min_samples_split=2 \n",
      "[CV]  bootstrap=False, criterion=entropy, max_depth=None, max_features=10, min_samples_leaf=1, min_samples_split=2, score=0.962500, total=   0.9s\n",
      "[CV] bootstrap=False, criterion=entropy, max_depth=None, max_features=10, min_samples_leaf=1, min_samples_split=2 \n",
      "[CV]  bootstrap=False, criterion=entropy, max_depth=None, max_features=10, min_samples_leaf=1, min_samples_split=2, score=0.964674, total=   0.9s\n",
      "[CV] bootstrap=False, criterion=entropy, max_depth=None, max_features=10, min_samples_leaf=1, min_samples_split=2 \n",
      "[CV]  bootstrap=False, criterion=entropy, max_depth=None, max_features=10, min_samples_leaf=1, min_samples_split=2, score=0.964130, total=   0.9s\n",
      "[CV] bootstrap=False, criterion=entropy, max_depth=None, max_features=10, min_samples_leaf=1, min_samples_split=3 \n",
      "[CV]  bootstrap=False, criterion=entropy, max_depth=None, max_features=10, min_samples_leaf=1, min_samples_split=3, score=0.962500, total=   0.9s\n",
      "[CV] bootstrap=False, criterion=entropy, max_depth=None, max_features=10, min_samples_leaf=1, min_samples_split=3 \n",
      "[CV]  bootstrap=False, criterion=entropy, max_depth=None, max_features=10, min_samples_leaf=1, min_samples_split=3, score=0.967935, total=   0.9s\n",
      "[CV] bootstrap=False, criterion=entropy, max_depth=None, max_features=10, min_samples_leaf=1, min_samples_split=3 \n",
      "[CV]  bootstrap=False, criterion=entropy, max_depth=None, max_features=10, min_samples_leaf=1, min_samples_split=3, score=0.959239, total=   0.9s\n",
      "[CV] bootstrap=False, criterion=entropy, max_depth=None, max_features=10, min_samples_leaf=1, min_samples_split=3 \n",
      "[CV]  bootstrap=False, criterion=entropy, max_depth=None, max_features=10, min_samples_leaf=1, min_samples_split=3, score=0.957609, total=   0.9s\n",
      "[CV] bootstrap=False, criterion=entropy, max_depth=None, max_features=10, min_samples_leaf=1, min_samples_split=3 \n"
     ]
    },
    {
     "name": "stdout",
     "output_type": "stream",
     "text": [
      "[CV]  bootstrap=False, criterion=entropy, max_depth=None, max_features=10, min_samples_leaf=1, min_samples_split=3, score=0.964674, total=   1.0s\n",
      "[CV] bootstrap=False, criterion=entropy, max_depth=None, max_features=10, min_samples_leaf=1, min_samples_split=10 \n",
      "[CV]  bootstrap=False, criterion=entropy, max_depth=None, max_features=10, min_samples_leaf=1, min_samples_split=10, score=0.963043, total=   0.9s\n",
      "[CV] bootstrap=False, criterion=entropy, max_depth=None, max_features=10, min_samples_leaf=1, min_samples_split=10 \n",
      "[CV]  bootstrap=False, criterion=entropy, max_depth=None, max_features=10, min_samples_leaf=1, min_samples_split=10, score=0.967391, total=   0.9s\n",
      "[CV] bootstrap=False, criterion=entropy, max_depth=None, max_features=10, min_samples_leaf=1, min_samples_split=10 \n",
      "[CV]  bootstrap=False, criterion=entropy, max_depth=None, max_features=10, min_samples_leaf=1, min_samples_split=10, score=0.960870, total=   0.8s\n",
      "[CV] bootstrap=False, criterion=entropy, max_depth=None, max_features=10, min_samples_leaf=1, min_samples_split=10 \n",
      "[CV]  bootstrap=False, criterion=entropy, max_depth=None, max_features=10, min_samples_leaf=1, min_samples_split=10, score=0.964130, total=   0.9s\n",
      "[CV] bootstrap=False, criterion=entropy, max_depth=None, max_features=10, min_samples_leaf=1, min_samples_split=10 \n",
      "[CV]  bootstrap=False, criterion=entropy, max_depth=None, max_features=10, min_samples_leaf=1, min_samples_split=10, score=0.964674, total=   0.9s\n",
      "[CV] bootstrap=False, criterion=entropy, max_depth=None, max_features=10, min_samples_leaf=3, min_samples_split=2 \n",
      "[CV]  bootstrap=False, criterion=entropy, max_depth=None, max_features=10, min_samples_leaf=3, min_samples_split=2, score=0.961413, total=   0.9s\n",
      "[CV] bootstrap=False, criterion=entropy, max_depth=None, max_features=10, min_samples_leaf=3, min_samples_split=2 \n",
      "[CV]  bootstrap=False, criterion=entropy, max_depth=None, max_features=10, min_samples_leaf=3, min_samples_split=2, score=0.968478, total=   0.8s\n",
      "[CV] bootstrap=False, criterion=entropy, max_depth=None, max_features=10, min_samples_leaf=3, min_samples_split=2 \n",
      "[CV]  bootstrap=False, criterion=entropy, max_depth=None, max_features=10, min_samples_leaf=3, min_samples_split=2, score=0.965217, total=   1.0s\n",
      "[CV] bootstrap=False, criterion=entropy, max_depth=None, max_features=10, min_samples_leaf=3, min_samples_split=2 \n",
      "[CV]  bootstrap=False, criterion=entropy, max_depth=None, max_features=10, min_samples_leaf=3, min_samples_split=2, score=0.965217, total=   1.0s\n",
      "[CV] bootstrap=False, criterion=entropy, max_depth=None, max_features=10, min_samples_leaf=3, min_samples_split=2 \n",
      "[CV]  bootstrap=False, criterion=entropy, max_depth=None, max_features=10, min_samples_leaf=3, min_samples_split=2, score=0.965217, total=   0.9s\n",
      "[CV] bootstrap=False, criterion=entropy, max_depth=None, max_features=10, min_samples_leaf=3, min_samples_split=3 \n",
      "[CV]  bootstrap=False, criterion=entropy, max_depth=None, max_features=10, min_samples_leaf=3, min_samples_split=3, score=0.961413, total=   1.0s\n",
      "[CV] bootstrap=False, criterion=entropy, max_depth=None, max_features=10, min_samples_leaf=3, min_samples_split=3 \n",
      "[CV]  bootstrap=False, criterion=entropy, max_depth=None, max_features=10, min_samples_leaf=3, min_samples_split=3, score=0.968478, total=   0.9s\n",
      "[CV] bootstrap=False, criterion=entropy, max_depth=None, max_features=10, min_samples_leaf=3, min_samples_split=3 \n",
      "[CV]  bootstrap=False, criterion=entropy, max_depth=None, max_features=10, min_samples_leaf=3, min_samples_split=3, score=0.965217, total=   0.9s\n",
      "[CV] bootstrap=False, criterion=entropy, max_depth=None, max_features=10, min_samples_leaf=3, min_samples_split=3 \n",
      "[CV]  bootstrap=False, criterion=entropy, max_depth=None, max_features=10, min_samples_leaf=3, min_samples_split=3, score=0.965217, total=   0.9s\n",
      "[CV] bootstrap=False, criterion=entropy, max_depth=None, max_features=10, min_samples_leaf=3, min_samples_split=3 \n",
      "[CV]  bootstrap=False, criterion=entropy, max_depth=None, max_features=10, min_samples_leaf=3, min_samples_split=3, score=0.965217, total=   0.9s\n",
      "[CV] bootstrap=False, criterion=entropy, max_depth=None, max_features=10, min_samples_leaf=3, min_samples_split=10 \n",
      "[CV]  bootstrap=False, criterion=entropy, max_depth=None, max_features=10, min_samples_leaf=3, min_samples_split=10, score=0.963043, total=   0.9s\n",
      "[CV] bootstrap=False, criterion=entropy, max_depth=None, max_features=10, min_samples_leaf=3, min_samples_split=10 \n",
      "[CV]  bootstrap=False, criterion=entropy, max_depth=None, max_features=10, min_samples_leaf=3, min_samples_split=10, score=0.967935, total=   0.9s\n",
      "[CV] bootstrap=False, criterion=entropy, max_depth=None, max_features=10, min_samples_leaf=3, min_samples_split=10 \n",
      "[CV]  bootstrap=False, criterion=entropy, max_depth=None, max_features=10, min_samples_leaf=3, min_samples_split=10, score=0.959783, total=   0.9s\n",
      "[CV] bootstrap=False, criterion=entropy, max_depth=None, max_features=10, min_samples_leaf=3, min_samples_split=10 \n",
      "[CV]  bootstrap=False, criterion=entropy, max_depth=None, max_features=10, min_samples_leaf=3, min_samples_split=10, score=0.966848, total=   0.9s\n",
      "[CV] bootstrap=False, criterion=entropy, max_depth=None, max_features=10, min_samples_leaf=3, min_samples_split=10 \n",
      "[CV]  bootstrap=False, criterion=entropy, max_depth=None, max_features=10, min_samples_leaf=3, min_samples_split=10, score=0.970109, total=   0.9s\n",
      "[CV] bootstrap=False, criterion=entropy, max_depth=None, max_features=10, min_samples_leaf=10, min_samples_split=2 \n",
      "[CV]  bootstrap=False, criterion=entropy, max_depth=None, max_features=10, min_samples_leaf=10, min_samples_split=2, score=0.960326, total=   0.9s\n",
      "[CV] bootstrap=False, criterion=entropy, max_depth=None, max_features=10, min_samples_leaf=10, min_samples_split=2 \n",
      "[CV]  bootstrap=False, criterion=entropy, max_depth=None, max_features=10, min_samples_leaf=10, min_samples_split=2, score=0.965761, total=   0.9s\n",
      "[CV] bootstrap=False, criterion=entropy, max_depth=None, max_features=10, min_samples_leaf=10, min_samples_split=2 \n",
      "[CV]  bootstrap=False, criterion=entropy, max_depth=None, max_features=10, min_samples_leaf=10, min_samples_split=2, score=0.960870, total=   0.9s\n",
      "[CV] bootstrap=False, criterion=entropy, max_depth=None, max_features=10, min_samples_leaf=10, min_samples_split=2 \n",
      "[CV]  bootstrap=False, criterion=entropy, max_depth=None, max_features=10, min_samples_leaf=10, min_samples_split=2, score=0.960326, total=   0.8s\n",
      "[CV] bootstrap=False, criterion=entropy, max_depth=None, max_features=10, min_samples_leaf=10, min_samples_split=2 \n",
      "[CV]  bootstrap=False, criterion=entropy, max_depth=None, max_features=10, min_samples_leaf=10, min_samples_split=2, score=0.958696, total=   0.9s\n",
      "[CV] bootstrap=False, criterion=entropy, max_depth=None, max_features=10, min_samples_leaf=10, min_samples_split=3 \n",
      "[CV]  bootstrap=False, criterion=entropy, max_depth=None, max_features=10, min_samples_leaf=10, min_samples_split=3, score=0.960326, total=   0.8s\n",
      "[CV] bootstrap=False, criterion=entropy, max_depth=None, max_features=10, min_samples_leaf=10, min_samples_split=3 \n",
      "[CV]  bootstrap=False, criterion=entropy, max_depth=None, max_features=10, min_samples_leaf=10, min_samples_split=3, score=0.965761, total=   0.8s\n",
      "[CV] bootstrap=False, criterion=entropy, max_depth=None, max_features=10, min_samples_leaf=10, min_samples_split=3 \n",
      "[CV]  bootstrap=False, criterion=entropy, max_depth=None, max_features=10, min_samples_leaf=10, min_samples_split=3, score=0.960870, total=   0.8s\n",
      "[CV] bootstrap=False, criterion=entropy, max_depth=None, max_features=10, min_samples_leaf=10, min_samples_split=3 \n",
      "[CV]  bootstrap=False, criterion=entropy, max_depth=None, max_features=10, min_samples_leaf=10, min_samples_split=3, score=0.960326, total=   0.8s\n",
      "[CV] bootstrap=False, criterion=entropy, max_depth=None, max_features=10, min_samples_leaf=10, min_samples_split=3 \n",
      "[CV]  bootstrap=False, criterion=entropy, max_depth=None, max_features=10, min_samples_leaf=10, min_samples_split=3, score=0.958696, total=   0.8s\n",
      "[CV] bootstrap=False, criterion=entropy, max_depth=None, max_features=10, min_samples_leaf=10, min_samples_split=10 \n",
      "[CV]  bootstrap=False, criterion=entropy, max_depth=None, max_features=10, min_samples_leaf=10, min_samples_split=10, score=0.960326, total=   0.9s\n",
      "[CV] bootstrap=False, criterion=entropy, max_depth=None, max_features=10, min_samples_leaf=10, min_samples_split=10 \n"
     ]
    },
    {
     "name": "stdout",
     "output_type": "stream",
     "text": [
      "[CV]  bootstrap=False, criterion=entropy, max_depth=None, max_features=10, min_samples_leaf=10, min_samples_split=10, score=0.965761, total=   0.9s\n",
      "[CV] bootstrap=False, criterion=entropy, max_depth=None, max_features=10, min_samples_leaf=10, min_samples_split=10 \n",
      "[CV]  bootstrap=False, criterion=entropy, max_depth=None, max_features=10, min_samples_leaf=10, min_samples_split=10, score=0.960870, total=   0.9s\n",
      "[CV] bootstrap=False, criterion=entropy, max_depth=None, max_features=10, min_samples_leaf=10, min_samples_split=10 \n",
      "[CV]  bootstrap=False, criterion=entropy, max_depth=None, max_features=10, min_samples_leaf=10, min_samples_split=10, score=0.960326, total=   0.8s\n",
      "[CV] bootstrap=False, criterion=entropy, max_depth=None, max_features=10, min_samples_leaf=10, min_samples_split=10 \n",
      "[CV]  bootstrap=False, criterion=entropy, max_depth=None, max_features=10, min_samples_leaf=10, min_samples_split=10, score=0.958696, total=   0.8s\n"
     ]
    },
    {
     "name": "stderr",
     "output_type": "stream",
     "text": [
      "[Parallel(n_jobs=1)]: Done 1080 out of 1080 | elapsed:  5.2min finished\n"
     ]
    },
    {
     "data": {
      "text/plain": [
       "GridSearchCV(cv=5, error_score='raise',\n",
       "       estimator=RandomForestClassifier(bootstrap=True, class_weight=None, criterion='gini',\n",
       "            max_depth=None, max_features='auto', max_leaf_nodes=None,\n",
       "            min_impurity_split=1e-07, min_samples_leaf=1,\n",
       "            min_samples_split=2, min_weight_fraction_leaf=0.0,\n",
       "            n_estimators=10, n_jobs=1, oob_score=False, random_state=42,\n",
       "            verbose=0, warm_start=False),\n",
       "       fit_params={}, iid=True, n_jobs=1,\n",
       "       param_grid={'max_depth': [3, None], 'max_features': [1, 3, 10], 'min_samples_split': [2, 3, 10], 'min_samples_leaf': [1, 3, 10], 'bootstrap': [True, False], 'criterion': ['gini', 'entropy']},\n",
       "       pre_dispatch='2*n_jobs', refit=True, return_train_score=True,\n",
       "       scoring=None, verbose=3)"
      ]
     },
     "execution_count": 59,
     "metadata": {},
     "output_type": "execute_result"
    }
   ],
   "source": [
    "forest_clf = RandomForestClassifier(random_state=42)\n",
    "param_grid = {\"max_depth\": [3, None],\n",
    "              \"max_features\": [1, 3, 10],\n",
    "              \"min_samples_split\": [2, 3, 10],\n",
    "              \"min_samples_leaf\": [1, 3, 10],\n",
    "              \"bootstrap\": [True, False],\n",
    "              \"criterion\": [\"gini\", \"entropy\"]}\n",
    "\n",
    "\n",
    "grid_search_forest = GridSearchCV(forest_clf, param_grid=param_grid, cv=5, verbose=3)\n",
    "grid_search_forest.fit(X_train, y_train)\n"
   ]
  },
  {
   "cell_type": "code",
   "execution_count": 61,
   "metadata": {},
   "outputs": [
    {
     "data": {
      "text/plain": [
       "{'bootstrap': False,\n",
       " 'criterion': 'gini',\n",
       " 'max_depth': None,\n",
       " 'max_features': 10,\n",
       " 'min_samples_leaf': 3,\n",
       " 'min_samples_split': 2}"
      ]
     },
     "execution_count": 61,
     "metadata": {},
     "output_type": "execute_result"
    }
   ],
   "source": [
    "grid_search_forest.best_params_"
   ]
  },
  {
   "cell_type": "code",
   "execution_count": 62,
   "metadata": {},
   "outputs": [
    {
     "data": {
      "text/plain": [
       "0.96717391304347822"
      ]
     },
     "execution_count": 62,
     "metadata": {},
     "output_type": "execute_result"
    }
   ],
   "source": [
    "grid_search_forest.best_score_"
   ]
  },
  {
   "cell_type": "code",
   "execution_count": 63,
   "metadata": {},
   "outputs": [
    {
     "data": {
      "text/plain": [
       "0.97521739130434781"
      ]
     },
     "execution_count": 63,
     "metadata": {},
     "output_type": "execute_result"
    }
   ],
   "source": [
    "y_pred = grid_search_forest.predict(X_test)\n",
    "accuracy_score(y_test, y_pred)"
   ]
  },
  {
   "cell_type": "code",
   "execution_count": 68,
   "metadata": {
    "scrolled": true
   },
   "outputs": [
    {
     "name": "stdout",
     "output_type": "stream",
     "text": [
      "0.920687742651\n",
      "0.904632152589\n"
     ]
    }
   ],
   "source": [
    "y_train_pred = cross_val_predict(grid_search_forest.best_estimator_, X_train, y_train, cv=3)\n",
    "print(precision_score(y_train, y_train_pred))\n",
    "print(recall_score(y_train, y_train_pred))"
   ]
  },
  {
   "cell_type": "markdown",
   "metadata": {},
   "source": [
    "##### Plot the ROC curve"
   ]
  },
  {
   "cell_type": "code",
   "execution_count": 69,
   "metadata": {
    "collapsed": true
   },
   "outputs": [],
   "source": [
    "y_probas_gs_forest = cross_val_predict(grid_search_forest.best_estimator_, X_train, y_train, cv=3,\n",
    "                                    method=\"predict_proba\")"
   ]
  },
  {
   "cell_type": "code",
   "execution_count": 70,
   "metadata": {
    "collapsed": true
   },
   "outputs": [],
   "source": [
    "y_scores_gs_forest = y_probas_gs_forest[:, 1] \n",
    "fpr_gs_forest, tpr_gs_forest, thresholds_gs_forest = roc_curve(y_train, y_scores_gs_forest)\n"
   ]
  },
  {
   "cell_type": "code",
   "execution_count": 71,
   "metadata": {},
   "outputs": [
    {
     "data": {
      "image/png": "[encoded data removed]",
      "text/plain": [
       "<matplotlib.figure.Figure at 0x126a87a90>"
      ]
     },
     "metadata": {},
     "output_type": "display_data"
    }
   ],
   "source": [
    "plt.figure(figsize=(8, 6))\n",
    "\n",
    "plot_roc_curve(fpr_gs_forest, tpr_gs_forest)\n",
    "plt.show()"
   ]
  },
  {
   "cell_type": "markdown",
   "metadata": {},
   "source": [
    "## VII. Summary"
   ]
  },
  {
   "cell_type": "code",
   "execution_count": 65,
   "metadata": {},
   "outputs": [
    {
     "data": {
      "text/plain": [
       "RandomForestClassifier(bootstrap=False, class_weight=None, criterion='gini',\n",
       "            max_depth=None, max_features=10, max_leaf_nodes=None,\n",
       "            min_impurity_split=1e-07, min_samples_leaf=3,\n",
       "            min_samples_split=2, min_weight_fraction_leaf=0.0,\n",
       "            n_estimators=10, n_jobs=1, oob_score=False, random_state=42,\n",
       "            verbose=0, warm_start=False)"
      ]
     },
     "execution_count": 65,
     "metadata": {},
     "output_type": "execute_result"
    }
   ],
   "source": [
    "grid_search_forest.best_estimator_"
   ]
  },
  {
   "cell_type": "code",
   "execution_count": null,
   "metadata": {
    "collapsed": true
   },
   "outputs": [],
   "source": []
  }
 ],
 "metadata": {
  "kernelspec": {
   "display_name": "Python 3",
   "language": "python",
   "name": "python3"
  },
  "language_info": {
   "codemirror_mode": {
    "name": "ipython",
    "version": 3
   },
   "file_extension": ".py",
   "mimetype": "text/x-python",
   "name": "python",
   "nbconvert_exporter": "python",
   "pygments_lexer": "ipython3",
   "version": "3.6.1"
  }
 },
 "nbformat": 4,
 "nbformat_minor": 2
}
